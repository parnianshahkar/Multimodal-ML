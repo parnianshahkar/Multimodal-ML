{
 "cells": [
  {
   "cell_type": "code",
   "execution_count": 1,
   "id": "4e00a8e4-f0fd-440f-bcb0-c3caad819c09",
   "metadata": {},
   "outputs": [],
   "source": [
    "%matplotlib inline\n",
    "%reload_ext autoreload\n",
    "%autoreload 2\n",
    "    \n",
    "import numpy as np\n",
    "import os\n",
    "import sys\n",
    "from pathlib import Path\n",
    "\n",
    "sys.path.append('../')\n",
    "from meta_fusion.benchmarks import *\n",
    "from meta_fusion.methods import *\n",
    "from meta_fusion.models import *\n",
    "from meta_fusion.utils import *\n",
    "from meta_fusion.third_party import *\n",
    "from meta_fusion.config import load_config\n",
    "from meta_fusion.real_data import PrepareNeuronData"
   ]
  },
  {
   "cell_type": "code",
   "execution_count": 2,
   "id": "61e53bf4-4cda-486e-8105-d2bf84af8980",
   "metadata": {},
   "outputs": [],
   "source": [
    "data_name = \"Neuron\"\n",
    "rat_name = \"Mitt\"\n",
    "output_dim = 4\n",
    "seed = 1\n",
    "\n",
    "# Model parameters\n",
    "num_modalities = 2\n",
    "if rat_name == \"Stella\":\n",
    "    mod_outs = [[300, 250, 200, 0],[20, 15, 10, 5, 0]]\n",
    "elif rat_name ==  \"Superchris\":\n",
    "    mod_outs = [[100, 0],[40, 35, 30, 25, 20, 0]]\n",
    "elif rat_name ==  \"Mitt\":\n",
    "    mod_outs = [[100, 0],[70, 65, 60, 55, 50, 40, 0]]\n",
    "elif rat_name ==  \"Barat\":\n",
    "    mod_outs = [[300, 250, 200, 0],[40, 30, 20, 15, 0]]\n",
    "elif rat_name ==  \"Buchanan\":\n",
    "    mod_outs = [[250, 200, 150, 0],[38, 35, 30, 25, 0]]\n",
    "combined_hiddens = [64, 32]\n",
    "mod_hiddens = [[], []]\n",
    "\n",
    "extractor_type = 'PCA'\n",
    "if extractor_type == 'encoder':\n",
    "    separate=False\n",
    "    is_mod_static=[False]*num_modalities\n",
    "    freeze_mod_extractors=[False]*num_modalities\n",
    "elif extractor_type == \"separate\":\n",
    "    separate=True\n",
    "    is_mod_static=[False]*num_modalities\n",
    "    freeze_mod_extractors=[False]*num_modalities\n",
    "elif extractor_type == 'PCA':\n",
    "    separate=False\n",
    "    is_mod_static=[True]*num_modalities\n",
    "    freeze_mod_extractors=[False]*num_modalities\n",
    "\n",
    "# Load default model configurations \n",
    "config = load_config('../experiments_real/config.json')\n",
    "extractor_config = load_config('../experiments_real/config_extractor.json')\n",
    "\n",
    "# Model files directory\n",
    "ckpt_dir = f\"./checkpoints/{data_name}/{rat_name}/{extractor_type}_seed{seed}/\"\n",
    "config['ckpt_dir'] = extractor_config['ckpt_dir'] = ckpt_dir\n",
    "\n",
    "# Update other training parameters\n",
    "config['output_dim'] = extractor_config['output_dim'] = output_dim\n",
    "config[\"init_lr\"] = 0.001\n",
    "config[\"epochs\"] = 100\n",
    "config[\"rho_list\"] = [0, 0.99]\n",
    "#config[\"epochs\"] = 2\n",
    "config[\"ensemble_methods\"] = [\n",
    "        \"simple_average\",\n",
    "        \"weighted_average\",\n",
    "        \"majority_voting\",\n",
    "        \"weighted_voting\",\n",
    "#        \"meta_learner\",\n",
    "        \"greedy_ensemble\"\n",
    "        ]\n",
    "extractor_config[\"init_lr\"] = [0.0001, 0.001]\n",
    "extractor_config[\"weight_decay\"] = [0,0]\n",
    "extractor_config[\"epochs\"] = 50\n",
    "extractor_config[\"verbose\"] = True"
   ]
  },
  {
   "cell_type": "code",
   "execution_count": 3,
   "id": "d5f809ec-76b1-4acc-a529-9b47c7a7860e",
   "metadata": {},
   "outputs": [
    {
     "name": "stdout",
     "output_type": "stream",
     "text": [
      "Original multiclass class distribution:\n",
      "  Class 0: 66 trials\n",
      "  Class 1: 57 trials\n",
      "  Class 2: 47 trials\n",
      "  Class 3: 37 trials\n",
      "  Class 4: 23 trials\n",
      "Performing dimension reduction...\n",
      "  LFP data reduced to shape: (230, 21, 15)\n",
      "  Spike data reduced to average firing rates\n",
      "  Kept 72 active neurons out of 104 total neurons\n",
      "  Spike data reduced to shape: (230, 72, 1)\n",
      "Removing classes: [4]\n",
      "Filtered 23 trials\n",
      "Remaining trials: 207\n",
      "Class distribution after filtering:\n",
      "  Class 0: 66 trials\n",
      "  Class 1: 57 trials\n",
      "  Class 2: 47 trials\n",
      "  Class 3: 37 trials\n",
      "\n",
      "Class distribution:\n",
      "  Train: {0: 43, 1: 37, 2: 30, 3: 24}\n",
      "  Validation: {0: 17, 1: 14, 2: 12, 3: 9}\n",
      "  Test: {0: 6, 1: 6, 2: 5, 3: 4}\n"
     ]
    }
   ],
   "source": [
    "random_state = seed\n",
    "data_preparer = PrepareNeuronData(rat_name,test_size = 0.1, val_size = 0.25, task_type=\"multiclass\", classes_to_remove=[4], oversample=False, is_graph=False,reduce_dim=True, n_lfp_features=15)\n",
    "train_loader, val_loader, test_loader = data_preparer.get_dataloaders(random_state=random_state)"
   ]
  },
  {
   "cell_type": "code",
   "execution_count": 4,
   "id": "93abd0e2-853e-4544-931d-d69d103dce0f",
   "metadata": {
    "scrolled": true
   },
   "outputs": [
    {
     "name": "stdout",
     "output_type": "stream",
     "text": [
      "rat_name: Mitt\n",
      "dim_modalities: [315, 72]\n",
      "is_graph: False\n",
      "n_trials: 207\n",
      "train_num: 134\n",
      "val_num: 52\n",
      "test_num: 21\n",
      "n_nodes_lfp: 21\n",
      "dim_lfp: 15\n",
      "n_nodes_spk: 72\n",
      "dim_spk: 1\n",
      "n_classes: 4\n",
      "class_distribution: {0: 66, 1: 57, 2: 47, 3: 37}\n",
      "task_type: multiclass\n",
      "oversample: False\n",
      "time_range: (200, 250)\n",
      "adjacency_threshold: [0.4, 0.2]\n"
     ]
    }
   ],
   "source": [
    "data_info = data_preparer.get_data_info()\n",
    "for key, value in data_info.items():\n",
    "    print(f\"{key}: {value}\")\n",
    "dim_modalities = data_info['dim_modalities']"
   ]
  },
  {
   "cell_type": "code",
   "execution_count": 5,
   "id": "52a0b6e3-0083-4606-a124-6f3973ba7d19",
   "metadata": {},
   "outputs": [],
   "source": [
    "# set_random_seed(random_state)\n",
    "\n",
    "# meta_extractor = GraphExtractors(mod_layers, input_dim, output_dim, train_loader, val_loader, \n",
    "#                                  latent_dim = latent_dim, hidden_dim=hidden_dim, pooling='topK', model_type=\"GCN\", dropout=[0,0])\n",
    "# _ = meta_extractor.get_extractors(config=extractor_config)\n",
    "set_random_seed(0)\n",
    "\n",
    "# extractor_type='PCA'\n",
    "# separate=False\n",
    "# is_mod_static=[True]*num_modalities\n",
    "# freeze_mod_extractors=[False]*num_modalities\n",
    "\n",
    "meta_extractor = Extractors(mod_outs, dim_modalities, train_loader, val_loader)"
   ]
  },
  {
   "cell_type": "code",
   "execution_count": 6,
   "id": "c1b3ba87-164f-418f-b341-77caf5bcf2ba",
   "metadata": {},
   "outputs": [
    {
     "name": "stdout",
     "output_type": "stream",
     "text": [
      "\n",
      "Epoch: 1/50 - LR: [0.0001, 0.001]\n"
     ]
    },
    {
     "name": "stderr",
     "output_type": "stream",
     "text": [
      "100%|███████████████████████████████████████████████████████████████████████████████| 134/134 [00:00<00:00, 199.89it/s]\n"
     ]
    },
    {
     "name": "stdout",
     "output_type": "stream",
     "text": [
      "mod1_encoder: train loss: 1.379 - val loss: 1.378 [*] Best so far\n",
      "mod2_encoder: train loss: 1.392 - val loss: 1.385 [*] Best so far\n",
      "\n",
      "Epoch: 2/50 - LR: [0.0001, 0.001]\n"
     ]
    },
    {
     "name": "stderr",
     "output_type": "stream",
     "text": [
      "100%|███████████████████████████████████████████████████████████████████████████████| 134/134 [00:00<00:00, 200.66it/s]\n"
     ]
    },
    {
     "name": "stdout",
     "output_type": "stream",
     "text": [
      "mod1_encoder: train loss: 1.373 - val loss: 1.377 [*] Best so far\n",
      "mod2_encoder: train loss: 1.383 - val loss: 1.378 [*] Best so far\n",
      "\n",
      "Epoch: 3/50 - LR: [0.0001, 0.001]\n"
     ]
    },
    {
     "name": "stderr",
     "output_type": "stream",
     "text": [
      "100%|███████████████████████████████████████████████████████████████████████████████| 134/134 [00:00<00:00, 185.25it/s]\n"
     ]
    },
    {
     "name": "stdout",
     "output_type": "stream",
     "text": [
      "mod1_encoder: train loss: 1.367 - val loss: 1.377 [*] Best so far\n",
      "mod2_encoder: train loss: 1.376 - val loss: 1.373 [*] Best so far\n",
      "\n",
      "Epoch: 4/50 - LR: [0.0001, 0.001]\n"
     ]
    },
    {
     "name": "stderr",
     "output_type": "stream",
     "text": [
      "100%|███████████████████████████████████████████████████████████████████████████████| 134/134 [00:00<00:00, 168.25it/s]\n"
     ]
    },
    {
     "name": "stdout",
     "output_type": "stream",
     "text": [
      "mod1_encoder: train loss: 1.362 - val loss: 1.376 [*] Best so far\n",
      "mod2_encoder: train loss: 1.371 - val loss: 1.367 [*] Best so far\n",
      "\n",
      "Epoch: 5/50 - LR: [0.0001, 0.001]\n"
     ]
    },
    {
     "name": "stderr",
     "output_type": "stream",
     "text": [
      "100%|███████████████████████████████████████████████████████████████████████████████| 134/134 [00:00<00:00, 184.92it/s]\n"
     ]
    },
    {
     "name": "stdout",
     "output_type": "stream",
     "text": [
      "mod1_encoder: train loss: 1.357 - val loss: 1.375 [*] Best so far\n",
      "mod2_encoder: train loss: 1.368 - val loss: 1.364 [*] Best so far\n",
      "\n",
      "Epoch: 6/50 - LR: [0.0001, 0.001]\n"
     ]
    },
    {
     "name": "stderr",
     "output_type": "stream",
     "text": [
      "100%|███████████████████████████████████████████████████████████████████████████████| 134/134 [00:00<00:00, 187.08it/s]\n"
     ]
    },
    {
     "name": "stdout",
     "output_type": "stream",
     "text": [
      "mod1_encoder: train loss: 1.352 - val loss: 1.374 [*] Best so far\n",
      "mod2_encoder: train loss: 1.365 - val loss: 1.363 [*] Best so far\n",
      "\n",
      "Epoch: 7/50 - LR: [0.0001, 0.001]\n"
     ]
    },
    {
     "name": "stderr",
     "output_type": "stream",
     "text": [
      "100%|███████████████████████████████████████████████████████████████████████████████| 134/134 [00:00<00:00, 182.03it/s]\n"
     ]
    },
    {
     "name": "stdout",
     "output_type": "stream",
     "text": [
      "mod1_encoder: train loss: 1.347 - val loss: 1.374 [*] Best so far\n",
      "mod2_encoder: train loss: 1.365 - val loss: 1.362 [*] Best so far\n",
      "\n",
      "Epoch: 8/50 - LR: [0.0001, 0.001]\n"
     ]
    },
    {
     "name": "stderr",
     "output_type": "stream",
     "text": [
      "100%|███████████████████████████████████████████████████████████████████████████████| 134/134 [00:00<00:00, 192.19it/s]\n"
     ]
    },
    {
     "name": "stdout",
     "output_type": "stream",
     "text": [
      "mod1_encoder: train loss: 1.342 - val loss: 1.373 [*] Best so far\n",
      "mod2_encoder: train loss: 1.364 - val loss: 1.361 [*] Best so far\n",
      "\n",
      "Epoch: 9/50 - LR: [0.0001, 0.001]\n"
     ]
    },
    {
     "name": "stderr",
     "output_type": "stream",
     "text": [
      "100%|███████████████████████████████████████████████████████████████████████████████| 134/134 [00:00<00:00, 162.26it/s]\n"
     ]
    },
    {
     "name": "stdout",
     "output_type": "stream",
     "text": [
      "mod1_encoder: train loss: 1.337 - val loss: 1.373 [*] Best so far\n",
      "mod2_encoder: train loss: 1.365 - val loss: 1.361 [*] Best so far\n",
      "\n",
      "Epoch: 10/50 - LR: [0.0001, 0.001]\n"
     ]
    },
    {
     "name": "stderr",
     "output_type": "stream",
     "text": [
      "100%|███████████████████████████████████████████████████████████████████████████████| 134/134 [00:00<00:00, 179.34it/s]\n"
     ]
    },
    {
     "name": "stdout",
     "output_type": "stream",
     "text": [
      "mod1_encoder: train loss: 1.332 - val loss: 1.372 [*] Best so far\n",
      "mod2_encoder: train loss: 1.365 - val loss: 1.362\n",
      "\n",
      "Epoch: 11/50 - LR: [0.0001, 0.001]\n"
     ]
    },
    {
     "name": "stderr",
     "output_type": "stream",
     "text": [
      "100%|███████████████████████████████████████████████████████████████████████████████| 134/134 [00:00<00:00, 181.67it/s]\n"
     ]
    },
    {
     "name": "stdout",
     "output_type": "stream",
     "text": [
      "mod1_encoder: train loss: 1.328 - val loss: 1.371 [*] Best so far\n",
      "mod2_encoder: train loss: 1.363 - val loss: 1.361 [*] Best so far\n",
      "\n",
      "Epoch: 12/50 - LR: [0.0001, 0.001]\n"
     ]
    },
    {
     "name": "stderr",
     "output_type": "stream",
     "text": [
      "100%|███████████████████████████████████████████████████████████████████████████████| 134/134 [00:00<00:00, 199.49it/s]\n"
     ]
    },
    {
     "name": "stdout",
     "output_type": "stream",
     "text": [
      "mod1_encoder: train loss: 1.323 - val loss: 1.370 [*] Best so far\n",
      "mod2_encoder: train loss: 1.363 - val loss: 1.361\n",
      "\n",
      "Epoch: 13/50 - LR: [0.0001, 0.001]\n"
     ]
    },
    {
     "name": "stderr",
     "output_type": "stream",
     "text": [
      "100%|███████████████████████████████████████████████████████████████████████████████| 134/134 [00:00<00:00, 215.03it/s]\n"
     ]
    },
    {
     "name": "stdout",
     "output_type": "stream",
     "text": [
      "mod1_encoder: train loss: 1.318 - val loss: 1.370 [*] Best so far\n",
      "mod2_encoder: train loss: 1.363 - val loss: 1.361 [*] Best so far\n",
      "\n",
      "Epoch: 14/50 - LR: [0.0001, 0.001]\n"
     ]
    },
    {
     "name": "stderr",
     "output_type": "stream",
     "text": [
      "100%|███████████████████████████████████████████████████████████████████████████████| 134/134 [00:00<00:00, 186.59it/s]\n"
     ]
    },
    {
     "name": "stdout",
     "output_type": "stream",
     "text": [
      "mod1_encoder: train loss: 1.314 - val loss: 1.369 [*] Best so far\n",
      "mod2_encoder: train loss: 1.363 - val loss: 1.361 [*] Best so far\n",
      "\n",
      "Epoch: 15/50 - LR: [0.0001, 0.001]\n"
     ]
    },
    {
     "name": "stderr",
     "output_type": "stream",
     "text": [
      "100%|███████████████████████████████████████████████████████████████████████████████| 134/134 [00:00<00:00, 191.33it/s]\n"
     ]
    },
    {
     "name": "stdout",
     "output_type": "stream",
     "text": [
      "mod1_encoder: train loss: 1.309 - val loss: 1.368 [*] Best so far\n",
      "mod2_encoder: train loss: 1.364 - val loss: 1.361\n",
      "\n",
      "Epoch: 16/50 - LR: [0.0001, 0.001]\n"
     ]
    },
    {
     "name": "stderr",
     "output_type": "stream",
     "text": [
      "100%|███████████████████████████████████████████████████████████████████████████████| 134/134 [00:00<00:00, 179.19it/s]\n"
     ]
    },
    {
     "name": "stdout",
     "output_type": "stream",
     "text": [
      "mod1_encoder: train loss: 1.304 - val loss: 1.368 [*] Best so far\n",
      "mod2_encoder: train loss: 1.363 - val loss: 1.361 [*] Best so far\n",
      "\n",
      "Epoch: 17/50 - LR: [0.0001, 0.001]\n"
     ]
    },
    {
     "name": "stderr",
     "output_type": "stream",
     "text": [
      "100%|███████████████████████████████████████████████████████████████████████████████| 134/134 [00:00<00:00, 182.03it/s]\n"
     ]
    },
    {
     "name": "stdout",
     "output_type": "stream",
     "text": [
      "mod1_encoder: train loss: 1.299 - val loss: 1.367 [*] Best so far\n",
      "mod2_encoder: train loss: 1.364 - val loss: 1.361 [*] Best so far\n",
      "\n",
      "Epoch: 18/50 - LR: [0.0001, 0.001]\n"
     ]
    },
    {
     "name": "stderr",
     "output_type": "stream",
     "text": [
      "100%|███████████████████████████████████████████████████████████████████████████████| 134/134 [00:00<00:00, 164.38it/s]\n"
     ]
    },
    {
     "name": "stdout",
     "output_type": "stream",
     "text": [
      "mod1_encoder: train loss: 1.294 - val loss: 1.367 [*] Best so far\n",
      "mod2_encoder: train loss: 1.363 - val loss: 1.361\n",
      "\n",
      "Epoch: 19/50 - LR: [0.0001, 0.001]\n"
     ]
    },
    {
     "name": "stderr",
     "output_type": "stream",
     "text": [
      "100%|███████████████████████████████████████████████████████████████████████████████| 134/134 [00:00<00:00, 168.61it/s]\n"
     ]
    },
    {
     "name": "stdout",
     "output_type": "stream",
     "text": [
      "mod1_encoder: train loss: 1.290 - val loss: 1.366 [*] Best so far\n",
      "mod2_encoder: train loss: 1.364 - val loss: 1.361\n",
      "\n",
      "Epoch: 20/50 - LR: [0.0001, 0.001]\n"
     ]
    },
    {
     "name": "stderr",
     "output_type": "stream",
     "text": [
      "100%|███████████████████████████████████████████████████████████████████████████████| 134/134 [00:00<00:00, 179.65it/s]\n"
     ]
    },
    {
     "name": "stdout",
     "output_type": "stream",
     "text": [
      "mod1_encoder: train loss: 1.285 - val loss: 1.366 [*] Best so far\n",
      "mod2_encoder: train loss: 1.363 - val loss: 1.361\n",
      "\n",
      "Epoch: 21/50 - LR: [0.0001, 0.001]\n"
     ]
    },
    {
     "name": "stderr",
     "output_type": "stream",
     "text": [
      "100%|███████████████████████████████████████████████████████████████████████████████| 134/134 [00:00<00:00, 208.42it/s]\n"
     ]
    },
    {
     "name": "stdout",
     "output_type": "stream",
     "text": [
      "mod1_encoder: train loss: 1.280 - val loss: 1.365 [*] Best so far\n",
      "mod2_encoder: train loss: 1.363 - val loss: 1.360 [*] Best so far\n",
      "\n",
      "Epoch: 22/50 - LR: [0.0001, 0.001]\n"
     ]
    },
    {
     "name": "stderr",
     "output_type": "stream",
     "text": [
      "100%|███████████████████████████████████████████████████████████████████████████████| 134/134 [00:00<00:00, 182.69it/s]\n"
     ]
    },
    {
     "name": "stdout",
     "output_type": "stream",
     "text": [
      "mod1_encoder: train loss: 1.275 - val loss: 1.365 [*] Best so far\n",
      "mod2_encoder: train loss: 1.363 - val loss: 1.360 [*] Best so far\n",
      "\n",
      "Epoch: 23/50 - LR: [0.0001, 0.001]\n"
     ]
    },
    {
     "name": "stderr",
     "output_type": "stream",
     "text": [
      "100%|███████████████████████████████████████████████████████████████████████████████| 134/134 [00:00<00:00, 160.72it/s]\n"
     ]
    },
    {
     "name": "stdout",
     "output_type": "stream",
     "text": [
      "mod1_encoder: train loss: 1.270 - val loss: 1.365 [*] Best so far\n",
      "mod2_encoder: train loss: 1.363 - val loss: 1.360 [*] Best so far\n",
      "\n",
      "Epoch: 24/50 - LR: [0.0001, 0.001]\n"
     ]
    },
    {
     "name": "stderr",
     "output_type": "stream",
     "text": [
      "100%|███████████████████████████████████████████████████████████████████████████████| 134/134 [00:00<00:00, 160.72it/s]\n"
     ]
    },
    {
     "name": "stdout",
     "output_type": "stream",
     "text": [
      "mod1_encoder: train loss: 1.265 - val loss: 1.364 [*] Best so far\n",
      "mod2_encoder: train loss: 1.362 - val loss: 1.359 [*] Best so far\n",
      "\n",
      "Epoch: 25/50 - LR: [0.0001, 0.001]\n"
     ]
    },
    {
     "name": "stderr",
     "output_type": "stream",
     "text": [
      "100%|███████████████████████████████████████████████████████████████████████████████| 134/134 [00:00<00:00, 180.01it/s]\n"
     ]
    },
    {
     "name": "stdout",
     "output_type": "stream",
     "text": [
      "mod1_encoder: train loss: 1.260 - val loss: 1.363 [*] Best so far\n",
      "mod2_encoder: train loss: 1.362 - val loss: 1.359 [*] Best so far\n",
      "\n",
      "Epoch: 26/50 - LR: [0.0001, 0.001]\n"
     ]
    },
    {
     "name": "stderr",
     "output_type": "stream",
     "text": [
      "100%|███████████████████████████████████████████████████████████████████████████████| 134/134 [00:00<00:00, 192.00it/s]\n"
     ]
    },
    {
     "name": "stdout",
     "output_type": "stream",
     "text": [
      "mod1_encoder: train loss: 1.255 - val loss: 1.363 [*] Best so far\n",
      "mod2_encoder: train loss: 1.361 - val loss: 1.359 [*] Best so far\n",
      "\n",
      "Epoch: 27/50 - LR: [0.0001, 0.001]\n"
     ]
    },
    {
     "name": "stderr",
     "output_type": "stream",
     "text": [
      "100%|███████████████████████████████████████████████████████████████████████████████| 134/134 [00:00<00:00, 194.14it/s]\n"
     ]
    },
    {
     "name": "stdout",
     "output_type": "stream",
     "text": [
      "mod1_encoder: train loss: 1.250 - val loss: 1.362 [*] Best so far\n",
      "mod2_encoder: train loss: 1.362 - val loss: 1.358 [*] Best so far\n",
      "\n",
      "Epoch: 28/50 - LR: [0.0001, 0.001]\n"
     ]
    },
    {
     "name": "stderr",
     "output_type": "stream",
     "text": [
      "100%|███████████████████████████████████████████████████████████████████████████████| 134/134 [00:00<00:00, 167.42it/s]\n"
     ]
    },
    {
     "name": "stdout",
     "output_type": "stream",
     "text": [
      "mod1_encoder: train loss: 1.245 - val loss: 1.362 [*] Best so far\n",
      "mod2_encoder: train loss: 1.360 - val loss: 1.357 [*] Best so far\n",
      "\n",
      "Epoch: 29/50 - LR: [0.0001, 0.001]\n"
     ]
    },
    {
     "name": "stderr",
     "output_type": "stream",
     "text": [
      "100%|███████████████████████████████████████████████████████████████████████████████| 134/134 [00:01<00:00, 125.80it/s]\n"
     ]
    },
    {
     "name": "stdout",
     "output_type": "stream",
     "text": [
      "mod1_encoder: train loss: 1.240 - val loss: 1.361 [*] Best so far\n",
      "mod2_encoder: train loss: 1.360 - val loss: 1.356 [*] Best so far\n",
      "\n",
      "Epoch: 30/50 - LR: [0.0001, 0.001]\n"
     ]
    },
    {
     "name": "stderr",
     "output_type": "stream",
     "text": [
      "100%|███████████████████████████████████████████████████████████████████████████████| 134/134 [00:00<00:00, 169.72it/s]\n"
     ]
    },
    {
     "name": "stdout",
     "output_type": "stream",
     "text": [
      "mod1_encoder: train loss: 1.234 - val loss: 1.360 [*] Best so far\n",
      "mod2_encoder: train loss: 1.358 - val loss: 1.355 [*] Best so far\n",
      "\n",
      "Epoch: 31/50 - LR: [0.0001, 0.001]\n"
     ]
    },
    {
     "name": "stderr",
     "output_type": "stream",
     "text": [
      "100%|███████████████████████████████████████████████████████████████████████████████| 134/134 [00:00<00:00, 195.30it/s]\n"
     ]
    },
    {
     "name": "stdout",
     "output_type": "stream",
     "text": [
      "mod1_encoder: train loss: 1.229 - val loss: 1.360 [*] Best so far\n",
      "mod2_encoder: train loss: 1.356 - val loss: 1.353 [*] Best so far\n",
      "\n",
      "Epoch: 32/50 - LR: [0.0001, 0.001]\n"
     ]
    },
    {
     "name": "stderr",
     "output_type": "stream",
     "text": [
      "100%|███████████████████████████████████████████████████████████████████████████████| 134/134 [00:00<00:00, 209.98it/s]\n"
     ]
    },
    {
     "name": "stdout",
     "output_type": "stream",
     "text": [
      "mod1_encoder: train loss: 1.223 - val loss: 1.360 [*] Best so far\n",
      "mod2_encoder: train loss: 1.354 - val loss: 1.351 [*] Best so far\n",
      "\n",
      "Epoch: 33/50 - LR: [0.0001, 0.001]\n"
     ]
    },
    {
     "name": "stderr",
     "output_type": "stream",
     "text": [
      "100%|███████████████████████████████████████████████████████████████████████████████| 134/134 [00:00<00:00, 189.68it/s]\n"
     ]
    },
    {
     "name": "stdout",
     "output_type": "stream",
     "text": [
      "mod1_encoder: train loss: 1.218 - val loss: 1.359 [*] Best so far\n",
      "mod2_encoder: train loss: 1.351 - val loss: 1.347 [*] Best so far\n",
      "\n",
      "Epoch: 34/50 - LR: [0.0001, 0.001]\n"
     ]
    },
    {
     "name": "stderr",
     "output_type": "stream",
     "text": [
      "100%|███████████████████████████████████████████████████████████████████████████████| 134/134 [00:00<00:00, 175.83it/s]\n"
     ]
    },
    {
     "name": "stdout",
     "output_type": "stream",
     "text": [
      "mod1_encoder: train loss: 1.213 - val loss: 1.359 [*] Best so far\n",
      "mod2_encoder: train loss: 1.345 - val loss: 1.340 [*] Best so far\n",
      "\n",
      "Epoch: 35/50 - LR: [0.0001, 0.001]\n"
     ]
    },
    {
     "name": "stderr",
     "output_type": "stream",
     "text": [
      "100%|███████████████████████████████████████████████████████████████████████████████| 134/134 [00:00<00:00, 173.21it/s]\n"
     ]
    },
    {
     "name": "stdout",
     "output_type": "stream",
     "text": [
      "mod1_encoder: train loss: 1.207 - val loss: 1.359 [*] Best so far\n",
      "mod2_encoder: train loss: 1.331 - val loss: 1.325 [*] Best so far\n",
      "\n",
      "Epoch: 36/50 - LR: [0.0001, 0.001]\n"
     ]
    },
    {
     "name": "stderr",
     "output_type": "stream",
     "text": [
      "100%|███████████████████████████████████████████████████████████████████████████████| 134/134 [00:00<00:00, 184.69it/s]\n"
     ]
    },
    {
     "name": "stdout",
     "output_type": "stream",
     "text": [
      "mod1_encoder: train loss: 1.201 - val loss: 1.359 [*] Best so far\n",
      "mod2_encoder: train loss: 1.305 - val loss: 1.295 [*] Best so far\n",
      "\n",
      "Epoch: 37/50 - LR: [0.0001, 0.001]\n"
     ]
    },
    {
     "name": "stderr",
     "output_type": "stream",
     "text": [
      "100%|███████████████████████████████████████████████████████████████████████████████| 134/134 [00:00<00:00, 184.15it/s]\n"
     ]
    },
    {
     "name": "stdout",
     "output_type": "stream",
     "text": [
      "mod1_encoder: train loss: 1.196 - val loss: 1.358 [*] Best so far\n",
      "mod2_encoder: train loss: 1.254 - val loss: 1.242 [*] Best so far\n",
      "\n",
      "Epoch: 38/50 - LR: [0.0001, 0.001]\n"
     ]
    },
    {
     "name": "stderr",
     "output_type": "stream",
     "text": [
      "100%|███████████████████████████████████████████████████████████████████████████████| 134/134 [00:00<00:00, 177.77it/s]\n"
     ]
    },
    {
     "name": "stdout",
     "output_type": "stream",
     "text": [
      "mod1_encoder: train loss: 1.191 - val loss: 1.359\n",
      "mod2_encoder: train loss: 1.172 - val loss: 1.174 [*] Best so far\n",
      "\n",
      "Epoch: 39/50 - LR: [0.0001, 0.001]\n"
     ]
    },
    {
     "name": "stderr",
     "output_type": "stream",
     "text": [
      "100%|███████████████████████████████████████████████████████████████████████████████| 134/134 [00:00<00:00, 187.38it/s]\n"
     ]
    },
    {
     "name": "stdout",
     "output_type": "stream",
     "text": [
      "mod1_encoder: train loss: 1.185 - val loss: 1.359\n",
      "mod2_encoder: train loss: 1.078 - val loss: 1.134 [*] Best so far\n",
      "\n",
      "Epoch: 40/50 - LR: [0.0001, 0.001]\n"
     ]
    },
    {
     "name": "stderr",
     "output_type": "stream",
     "text": [
      "100%|███████████████████████████████████████████████████████████████████████████████| 134/134 [00:00<00:00, 194.99it/s]\n"
     ]
    },
    {
     "name": "stdout",
     "output_type": "stream",
     "text": [
      "mod1_encoder: train loss: 1.179 - val loss: 1.358 [*] Best so far\n",
      "mod2_encoder: train loss: 1.047 - val loss: 1.123 [*] Best so far\n",
      "\n",
      "Epoch: 41/50 - LR: [0.0001, 0.001]\n"
     ]
    },
    {
     "name": "stderr",
     "output_type": "stream",
     "text": [
      "100%|███████████████████████████████████████████████████████████████████████████████| 134/134 [00:00<00:00, 174.04it/s]\n"
     ]
    },
    {
     "name": "stdout",
     "output_type": "stream",
     "text": [
      "mod1_encoder: train loss: 1.174 - val loss: 1.358 [*] Best so far\n",
      "mod2_encoder: train loss: 1.015 - val loss: 1.119 [*] Best so far\n",
      "\n",
      "Epoch: 42/50 - LR: [0.0001, 0.001]\n"
     ]
    },
    {
     "name": "stderr",
     "output_type": "stream",
     "text": [
      "100%|███████████████████████████████████████████████████████████████████████████████| 134/134 [00:00<00:00, 188.74it/s]\n"
     ]
    },
    {
     "name": "stdout",
     "output_type": "stream",
     "text": [
      "mod1_encoder: train loss: 1.168 - val loss: 1.358 [*] Best so far\n",
      "mod2_encoder: train loss: 0.990 - val loss: 1.108 [*] Best so far\n",
      "\n",
      "Epoch: 43/50 - LR: [0.0001, 0.001]\n"
     ]
    },
    {
     "name": "stderr",
     "output_type": "stream",
     "text": [
      "100%|███████████████████████████████████████████████████████████████████████████████| 134/134 [00:00<00:00, 195.22it/s]\n"
     ]
    },
    {
     "name": "stdout",
     "output_type": "stream",
     "text": [
      "mod1_encoder: train loss: 1.162 - val loss: 1.358\n",
      "mod2_encoder: train loss: 0.966 - val loss: 1.104 [*] Best so far\n",
      "\n",
      "Epoch: 44/50 - LR: [0.0001, 0.001]\n"
     ]
    },
    {
     "name": "stderr",
     "output_type": "stream",
     "text": [
      "100%|███████████████████████████████████████████████████████████████████████████████| 134/134 [00:00<00:00, 193.53it/s]\n"
     ]
    },
    {
     "name": "stdout",
     "output_type": "stream",
     "text": [
      "mod1_encoder: train loss: 1.156 - val loss: 1.358\n",
      "mod2_encoder: train loss: 0.930 - val loss: 1.111\n",
      "\n",
      "Epoch: 45/50 - LR: [0.0001, 0.001]\n"
     ]
    },
    {
     "name": "stderr",
     "output_type": "stream",
     "text": [
      "100%|███████████████████████████████████████████████████████████████████████████████| 134/134 [00:00<00:00, 203.54it/s]\n"
     ]
    },
    {
     "name": "stdout",
     "output_type": "stream",
     "text": [
      "mod1_encoder: train loss: 1.150 - val loss: 1.358\n",
      "mod2_encoder: train loss: 0.963 - val loss: 1.208\n",
      "\n",
      "Epoch: 46/50 - LR: [0.0001, 0.001]\n"
     ]
    },
    {
     "name": "stderr",
     "output_type": "stream",
     "text": [
      "100%|███████████████████████████████████████████████████████████████████████████████| 134/134 [00:00<00:00, 174.45it/s]\n"
     ]
    },
    {
     "name": "stdout",
     "output_type": "stream",
     "text": [
      "mod1_encoder: train loss: 1.145 - val loss: 1.358\n",
      "mod2_encoder: train loss: 1.037 - val loss: 1.230\n",
      "\n",
      "Epoch: 47/50 - LR: [0.0001, 0.001]\n"
     ]
    },
    {
     "name": "stderr",
     "output_type": "stream",
     "text": [
      "100%|███████████████████████████████████████████████████████████████████████████████| 134/134 [00:00<00:00, 191.35it/s]\n"
     ]
    },
    {
     "name": "stdout",
     "output_type": "stream",
     "text": [
      "mod1_encoder: train loss: 1.139 - val loss: 1.358\n",
      "mod2_encoder: train loss: 0.937 - val loss: 1.185\n",
      "\n",
      "Epoch: 48/50 - LR: [0.0001, 0.001]\n"
     ]
    },
    {
     "name": "stderr",
     "output_type": "stream",
     "text": [
      "100%|███████████████████████████████████████████████████████████████████████████████| 134/134 [00:00<00:00, 199.76it/s]\n"
     ]
    },
    {
     "name": "stdout",
     "output_type": "stream",
     "text": [
      "mod1_encoder: train loss: 1.133 - val loss: 1.358\n",
      "mod2_encoder: train loss: 0.947 - val loss: 1.150\n",
      "\n",
      "Epoch: 49/50 - LR: [0.0001, 0.001]\n"
     ]
    },
    {
     "name": "stderr",
     "output_type": "stream",
     "text": [
      "100%|███████████████████████████████████████████████████████████████████████████████| 134/134 [00:00<00:00, 239.86it/s]\n"
     ]
    },
    {
     "name": "stdout",
     "output_type": "stream",
     "text": [
      "mod1_encoder: train loss: 1.127 - val loss: 1.358 [*] Best so far\n",
      "mod2_encoder: train loss: 0.882 - val loss: 1.151\n",
      "\n",
      "Epoch: 50/50 - LR: [0.0001, 0.001]\n"
     ]
    },
    {
     "name": "stderr",
     "output_type": "stream",
     "text": [
      "100%|███████████████████████████████████████████████████████████████████████████████| 134/134 [00:00<00:00, 188.85it/s]\n"
     ]
    },
    {
     "name": "stdout",
     "output_type": "stream",
     "text": [
      "mod1_encoder: train loss: 1.121 - val loss: 1.358\n",
      "mod2_encoder: train loss: 0.883 - val loss: 1.156\n"
     ]
    }
   ],
   "source": [
    "#_ = meta_extractor.get_PCA_extractors()\n",
    "_ = meta_extractor.get_encoder_extractors(mod_hiddens, separate=separate, config=extractor_config)"
   ]
  },
  {
   "cell_type": "code",
   "execution_count": 7,
   "id": "ad79c92a-7ad9-4d66-b1b0-d6d4b6cecc64",
   "metadata": {},
   "outputs": [],
   "source": [
    "meta_cohort = Cohorts(extractors=meta_extractor, combined_hidden_layers=combined_hiddens, output_dim=output_dim,\n",
    "                          is_mod_static=is_mod_static, freeze_mod_extractors=freeze_mod_extractors)"
   ]
  },
  {
   "cell_type": "code",
   "execution_count": 8,
   "id": "5f2715fa-6a55-4aca-9c3f-11d5f2e827ac",
   "metadata": {},
   "outputs": [
    {
     "data": {
      "text/plain": [
       "[(100, 70),\n",
       " (100, 65),\n",
       " (100, 60),\n",
       " (100, 55),\n",
       " (100, 50),\n",
       " (100, 40),\n",
       " (100, 0),\n",
       " (0, 70),\n",
       " (0, 65),\n",
       " (0, 60),\n",
       " (0, 55),\n",
       " (0, 50),\n",
       " (0, 40)]"
      ]
     },
     "execution_count": 8,
     "metadata": {},
     "output_type": "execute_result"
    }
   ],
   "source": [
    "cohort_models = meta_cohort.get_cohort_models()\n",
    "_, dim_pairs = meta_cohort.get_cohort_info()\n",
    "dim_pairs"
   ]
  },
  {
   "cell_type": "code",
   "execution_count": 9,
   "id": "42e0fa19-7738-4e8d-8445-384287071fcd",
   "metadata": {},
   "outputs": [
    {
     "data": {
      "text/plain": [
       "[Fuse_Net(\n",
       "   (combined_model): MLP_Net(\n",
       "     (model): Sequential(\n",
       "       (0): Linear(in_features=170, out_features=64, bias=True)\n",
       "       (1): ReLU()\n",
       "       (2): Linear(in_features=64, out_features=32, bias=True)\n",
       "       (3): ReLU()\n",
       "       (4): Linear(in_features=32, out_features=4, bias=True)\n",
       "     )\n",
       "   )\n",
       " ),\n",
       " Fuse_Net(\n",
       "   (combined_model): MLP_Net(\n",
       "     (model): Sequential(\n",
       "       (0): Linear(in_features=165, out_features=64, bias=True)\n",
       "       (1): ReLU()\n",
       "       (2): Linear(in_features=64, out_features=32, bias=True)\n",
       "       (3): ReLU()\n",
       "       (4): Linear(in_features=32, out_features=4, bias=True)\n",
       "     )\n",
       "   )\n",
       " ),\n",
       " Fuse_Net(\n",
       "   (combined_model): MLP_Net(\n",
       "     (model): Sequential(\n",
       "       (0): Linear(in_features=160, out_features=64, bias=True)\n",
       "       (1): ReLU()\n",
       "       (2): Linear(in_features=64, out_features=32, bias=True)\n",
       "       (3): ReLU()\n",
       "       (4): Linear(in_features=32, out_features=4, bias=True)\n",
       "     )\n",
       "   )\n",
       " ),\n",
       " Fuse_Net(\n",
       "   (combined_model): MLP_Net(\n",
       "     (model): Sequential(\n",
       "       (0): Linear(in_features=155, out_features=64, bias=True)\n",
       "       (1): ReLU()\n",
       "       (2): Linear(in_features=64, out_features=32, bias=True)\n",
       "       (3): ReLU()\n",
       "       (4): Linear(in_features=32, out_features=4, bias=True)\n",
       "     )\n",
       "   )\n",
       " ),\n",
       " Fuse_Net(\n",
       "   (combined_model): MLP_Net(\n",
       "     (model): Sequential(\n",
       "       (0): Linear(in_features=150, out_features=64, bias=True)\n",
       "       (1): ReLU()\n",
       "       (2): Linear(in_features=64, out_features=32, bias=True)\n",
       "       (3): ReLU()\n",
       "       (4): Linear(in_features=32, out_features=4, bias=True)\n",
       "     )\n",
       "   )\n",
       " ),\n",
       " Fuse_Net(\n",
       "   (combined_model): MLP_Net(\n",
       "     (model): Sequential(\n",
       "       (0): Linear(in_features=140, out_features=64, bias=True)\n",
       "       (1): ReLU()\n",
       "       (2): Linear(in_features=64, out_features=32, bias=True)\n",
       "       (3): ReLU()\n",
       "       (4): Linear(in_features=32, out_features=4, bias=True)\n",
       "     )\n",
       "   )\n",
       " ),\n",
       " Fuse_Net(\n",
       "   (combined_model): MLP_Net(\n",
       "     (model): Sequential(\n",
       "       (0): Linear(in_features=100, out_features=64, bias=True)\n",
       "       (1): ReLU()\n",
       "       (2): Linear(in_features=64, out_features=32, bias=True)\n",
       "       (3): ReLU()\n",
       "       (4): Linear(in_features=32, out_features=4, bias=True)\n",
       "     )\n",
       "   )\n",
       " ),\n",
       " Fuse_Net(\n",
       "   (combined_model): MLP_Net(\n",
       "     (model): Sequential(\n",
       "       (0): Linear(in_features=70, out_features=64, bias=True)\n",
       "       (1): ReLU()\n",
       "       (2): Linear(in_features=64, out_features=32, bias=True)\n",
       "       (3): ReLU()\n",
       "       (4): Linear(in_features=32, out_features=4, bias=True)\n",
       "     )\n",
       "   )\n",
       " ),\n",
       " Fuse_Net(\n",
       "   (combined_model): MLP_Net(\n",
       "     (model): Sequential(\n",
       "       (0): Linear(in_features=65, out_features=64, bias=True)\n",
       "       (1): ReLU()\n",
       "       (2): Linear(in_features=64, out_features=32, bias=True)\n",
       "       (3): ReLU()\n",
       "       (4): Linear(in_features=32, out_features=4, bias=True)\n",
       "     )\n",
       "   )\n",
       " ),\n",
       " Fuse_Net(\n",
       "   (combined_model): MLP_Net(\n",
       "     (model): Sequential(\n",
       "       (0): Linear(in_features=60, out_features=64, bias=True)\n",
       "       (1): ReLU()\n",
       "       (2): Linear(in_features=64, out_features=32, bias=True)\n",
       "       (3): ReLU()\n",
       "       (4): Linear(in_features=32, out_features=4, bias=True)\n",
       "     )\n",
       "   )\n",
       " ),\n",
       " Fuse_Net(\n",
       "   (combined_model): MLP_Net(\n",
       "     (model): Sequential(\n",
       "       (0): Linear(in_features=55, out_features=64, bias=True)\n",
       "       (1): ReLU()\n",
       "       (2): Linear(in_features=64, out_features=32, bias=True)\n",
       "       (3): ReLU()\n",
       "       (4): Linear(in_features=32, out_features=4, bias=True)\n",
       "     )\n",
       "   )\n",
       " ),\n",
       " Fuse_Net(\n",
       "   (combined_model): MLP_Net(\n",
       "     (model): Sequential(\n",
       "       (0): Linear(in_features=50, out_features=64, bias=True)\n",
       "       (1): ReLU()\n",
       "       (2): Linear(in_features=64, out_features=32, bias=True)\n",
       "       (3): ReLU()\n",
       "       (4): Linear(in_features=32, out_features=4, bias=True)\n",
       "     )\n",
       "   )\n",
       " ),\n",
       " Fuse_Net(\n",
       "   (combined_model): MLP_Net(\n",
       "     (model): Sequential(\n",
       "       (0): Linear(in_features=40, out_features=64, bias=True)\n",
       "       (1): ReLU()\n",
       "       (2): Linear(in_features=64, out_features=32, bias=True)\n",
       "       (3): ReLU()\n",
       "       (4): Linear(in_features=32, out_features=4, bias=True)\n",
       "     )\n",
       "   )\n",
       " )]"
      ]
     },
     "execution_count": 9,
     "metadata": {},
     "output_type": "execute_result"
    }
   ],
   "source": [
    "cohort_models"
   ]
  },
  {
   "cell_type": "code",
   "execution_count": 62,
   "id": "db542a0c-9bc2-4326-9b92-fa25567def6c",
   "metadata": {},
   "outputs": [
    {
     "name": "stdout",
     "output_type": "stream",
     "text": [
      "Start training student cohort...\n",
      "Training with disagreement penalty = 0\n",
      "\n",
      "Epoch: 1/100 - LR: 0.001000\n"
     ]
    },
    {
     "name": "stderr",
     "output_type": "stream",
     "text": [
      "100%|████████████████████████████████████████████████████████████████████████████████| 134/134 [00:02<00:00, 60.93it/s]\n"
     ]
    },
    {
     "name": "stdout",
     "output_type": "stream",
     "text": [
      "model_1: train loss: 1.376, train task loss: 1.376 - val loss: 1.368, val task loss: 1.368 [*] Best so far\n",
      "Created directory: ./checkpoints/Neuron/Mitt/PCA_seed1/0\n",
      "model_2: train loss: 1.382, train task loss: 1.382 - val loss: 1.383, val task loss: 1.383 [*] Best so far\n",
      "model_3: train loss: 1.422, train task loss: 1.422 - val loss: 1.419, val task loss: 1.419 [*] Best so far\n",
      "model_4: train loss: 1.385, train task loss: 1.385 - val loss: 1.385, val task loss: 1.385 [*] Best so far\n",
      "model_5: train loss: 1.384, train task loss: 1.384 - val loss: 1.378, val task loss: 1.378 [*] Best so far\n",
      "model_6: train loss: 1.388, train task loss: 1.388 - val loss: 1.392, val task loss: 1.392 [*] Best so far\n",
      "model_7: train loss: 1.382, train task loss: 1.382 - val loss: 1.377, val task loss: 1.377 [*] Best so far\n",
      "model_8: train loss: 1.394, train task loss: 1.394 - val loss: 1.393, val task loss: 1.393 [*] Best so far\n",
      "model_9: train loss: 1.382, train task loss: 1.382 - val loss: 1.381, val task loss: 1.381 [*] Best so far\n",
      "model_10: train loss: 1.387, train task loss: 1.387 - val loss: 1.382, val task loss: 1.382 [*] Best so far\n",
      "model_11: train loss: 1.373, train task loss: 1.373 - val loss: 1.371, val task loss: 1.371 [*] Best so far\n",
      "model_12: train loss: 1.381, train task loss: 1.381 - val loss: 1.377, val task loss: 1.377 [*] Best so far\n",
      "model_13: train loss: 1.376, train task loss: 1.376 - val loss: 1.371, val task loss: 1.371 [*] Best so far\n",
      "\n",
      "Epoch: 2/100 - LR: 0.001000\n"
     ]
    },
    {
     "name": "stderr",
     "output_type": "stream",
     "text": [
      "100%|████████████████████████████████████████████████████████████████████████████████| 134/134 [00:02<00:00, 59.42it/s]\n"
     ]
    },
    {
     "name": "stdout",
     "output_type": "stream",
     "text": [
      "model_1: train loss: 1.363, train task loss: 1.363 - val loss: 1.365, val task loss: 1.365 [*] Best so far\n",
      "model_2: train loss: 1.368, train task loss: 1.368 - val loss: 1.380, val task loss: 1.380 [*] Best so far\n",
      "model_3: train loss: 1.406, train task loss: 1.406 - val loss: 1.413, val task loss: 1.413 [*] Best so far\n",
      "model_4: train loss: 1.372, train task loss: 1.372 - val loss: 1.381, val task loss: 1.381 [*] Best so far\n",
      "model_5: train loss: 1.367, train task loss: 1.367 - val loss: 1.373, val task loss: 1.373 [*] Best so far\n",
      "model_6: train loss: 1.374, train task loss: 1.374 - val loss: 1.389, val task loss: 1.389 [*] Best so far\n",
      "model_7: train loss: 1.366, train task loss: 1.366 - val loss: 1.373, val task loss: 1.373 [*] Best so far\n",
      "model_8: train loss: 1.390, train task loss: 1.390 - val loss: 1.389, val task loss: 1.389 [*] Best so far\n",
      "model_9: train loss: 1.379, train task loss: 1.379 - val loss: 1.378, val task loss: 1.378 [*] Best so far\n",
      "model_10: train loss: 1.382, train task loss: 1.382 - val loss: 1.378, val task loss: 1.378 [*] Best so far\n",
      "model_11: train loss: 1.371, train task loss: 1.371 - val loss: 1.369, val task loss: 1.369 [*] Best so far\n",
      "model_12: train loss: 1.378, train task loss: 1.378 - val loss: 1.375, val task loss: 1.375 [*] Best so far\n",
      "model_13: train loss: 1.373, train task loss: 1.373 - val loss: 1.369, val task loss: 1.369 [*] Best so far\n",
      "\n",
      "Epoch: 3/100 - LR: 0.001000\n"
     ]
    },
    {
     "name": "stderr",
     "output_type": "stream",
     "text": [
      "100%|████████████████████████████████████████████████████████████████████████████████| 134/134 [00:02<00:00, 55.24it/s]\n"
     ]
    },
    {
     "name": "stdout",
     "output_type": "stream",
     "text": [
      "model_1: train loss: 1.352, train task loss: 1.352 - val loss: 1.363, val task loss: 1.363 [*] Best so far\n",
      "model_2: train loss: 1.355, train task loss: 1.355 - val loss: 1.377, val task loss: 1.377 [*] Best so far\n",
      "model_3: train loss: 1.393, train task loss: 1.393 - val loss: 1.407, val task loss: 1.407 [*] Best so far\n",
      "model_4: train loss: 1.361, train task loss: 1.361 - val loss: 1.377, val task loss: 1.377 [*] Best so far\n",
      "model_5: train loss: 1.354, train task loss: 1.354 - val loss: 1.367, val task loss: 1.367 [*] Best so far\n",
      "model_6: train loss: 1.362, train task loss: 1.362 - val loss: 1.386, val task loss: 1.386 [*] Best so far\n",
      "model_7: train loss: 1.353, train task loss: 1.353 - val loss: 1.369, val task loss: 1.369 [*] Best so far\n",
      "model_8: train loss: 1.386, train task loss: 1.386 - val loss: 1.385, val task loss: 1.385 [*] Best so far\n",
      "model_9: train loss: 1.377, train task loss: 1.377 - val loss: 1.376, val task loss: 1.376 [*] Best so far\n",
      "model_10: train loss: 1.377, train task loss: 1.377 - val loss: 1.374, val task loss: 1.374 [*] Best so far\n",
      "model_11: train loss: 1.369, train task loss: 1.369 - val loss: 1.368, val task loss: 1.368 [*] Best so far\n",
      "model_12: train loss: 1.375, train task loss: 1.375 - val loss: 1.373, val task loss: 1.373 [*] Best so far\n",
      "model_13: train loss: 1.370, train task loss: 1.370 - val loss: 1.367, val task loss: 1.367 [*] Best so far\n",
      "\n",
      "Epoch: 4/100 - LR: 0.001000\n"
     ]
    },
    {
     "name": "stderr",
     "output_type": "stream",
     "text": [
      "100%|████████████████████████████████████████████████████████████████████████████████| 134/134 [00:02<00:00, 55.17it/s]\n"
     ]
    },
    {
     "name": "stdout",
     "output_type": "stream",
     "text": [
      "model_1: train loss: 1.342, train task loss: 1.342 - val loss: 1.360, val task loss: 1.360 [*] Best so far\n",
      "model_2: train loss: 1.343, train task loss: 1.343 - val loss: 1.374, val task loss: 1.374 [*] Best so far\n",
      "model_3: train loss: 1.381, train task loss: 1.381 - val loss: 1.401, val task loss: 1.401 [*] Best so far\n",
      "model_4: train loss: 1.349, train task loss: 1.349 - val loss: 1.373, val task loss: 1.373 [*] Best so far\n",
      "model_5: train loss: 1.341, train task loss: 1.341 - val loss: 1.363, val task loss: 1.363 [*] Best so far\n",
      "model_6: train loss: 1.351, train task loss: 1.351 - val loss: 1.385, val task loss: 1.385 [*] Best so far\n",
      "model_7: train loss: 1.340, train task loss: 1.340 - val loss: 1.365, val task loss: 1.365 [*] Best so far\n",
      "model_8: train loss: 1.383, train task loss: 1.383 - val loss: 1.381, val task loss: 1.381 [*] Best so far\n",
      "model_9: train loss: 1.375, train task loss: 1.375 - val loss: 1.374, val task loss: 1.374 [*] Best so far\n",
      "model_10: train loss: 1.375, train task loss: 1.375 - val loss: 1.371, val task loss: 1.371 [*] Best so far\n",
      "model_11: train loss: 1.368, train task loss: 1.368 - val loss: 1.367, val task loss: 1.367 [*] Best so far\n",
      "model_12: train loss: 1.374, train task loss: 1.374 - val loss: 1.370, val task loss: 1.370 [*] Best so far\n",
      "model_13: train loss: 1.369, train task loss: 1.369 - val loss: 1.365, val task loss: 1.365 [*] Best so far\n",
      "\n",
      "Epoch: 5/100 - LR: 0.001000\n"
     ]
    },
    {
     "name": "stderr",
     "output_type": "stream",
     "text": [
      "100%|████████████████████████████████████████████████████████████████████████████████| 134/134 [00:02<00:00, 57.23it/s]\n"
     ]
    },
    {
     "name": "stdout",
     "output_type": "stream",
     "text": [
      "model_1: train loss: 1.328, train task loss: 1.328 - val loss: 1.359, val task loss: 1.359 [*] Best so far\n",
      "model_2: train loss: 1.327, train task loss: 1.327 - val loss: 1.372, val task loss: 1.372 [*] Best so far\n",
      "model_3: train loss: 1.367, train task loss: 1.367 - val loss: 1.396, val task loss: 1.396 [*] Best so far\n",
      "model_4: train loss: 1.334, train task loss: 1.334 - val loss: 1.370, val task loss: 1.370 [*] Best so far\n",
      "model_5: train loss: 1.325, train task loss: 1.325 - val loss: 1.359, val task loss: 1.359 [*] Best so far\n",
      "model_6: train loss: 1.334, train task loss: 1.334 - val loss: 1.384, val task loss: 1.384 [*] Best so far\n",
      "model_7: train loss: 1.324, train task loss: 1.324 - val loss: 1.363, val task loss: 1.363 [*] Best so far\n",
      "model_8: train loss: 1.379, train task loss: 1.379 - val loss: 1.378, val task loss: 1.378 [*] Best so far\n",
      "model_9: train loss: 1.373, train task loss: 1.373 - val loss: 1.372, val task loss: 1.372 [*] Best so far\n",
      "model_10: train loss: 1.372, train task loss: 1.372 - val loss: 1.369, val task loss: 1.369 [*] Best so far\n",
      "model_11: train loss: 1.367, train task loss: 1.367 - val loss: 1.366, val task loss: 1.366 [*] Best so far\n",
      "model_12: train loss: 1.372, train task loss: 1.372 - val loss: 1.369, val task loss: 1.369 [*] Best so far\n",
      "model_13: train loss: 1.367, train task loss: 1.367 - val loss: 1.365, val task loss: 1.365 [*] Best so far\n",
      "\n",
      "Epoch: 6/100 - LR: 0.001000\n"
     ]
    },
    {
     "name": "stderr",
     "output_type": "stream",
     "text": [
      "100%|████████████████████████████████████████████████████████████████████████████████| 134/134 [00:02<00:00, 55.79it/s]\n"
     ]
    },
    {
     "name": "stdout",
     "output_type": "stream",
     "text": [
      "model_1: train loss: 1.313, train task loss: 1.313 - val loss: 1.357, val task loss: 1.357 [*] Best so far\n",
      "model_2: train loss: 1.309, train task loss: 1.309 - val loss: 1.371, val task loss: 1.371 [*] Best so far\n",
      "model_3: train loss: 1.350, train task loss: 1.350 - val loss: 1.390, val task loss: 1.390 [*] Best so far\n",
      "model_4: train loss: 1.316, train task loss: 1.316 - val loss: 1.367, val task loss: 1.367 [*] Best so far\n",
      "model_5: train loss: 1.307, train task loss: 1.307 - val loss: 1.356, val task loss: 1.356 [*] Best so far\n",
      "model_6: train loss: 1.316, train task loss: 1.316 - val loss: 1.383, val task loss: 1.383 [*] Best so far\n",
      "model_7: train loss: 1.304, train task loss: 1.304 - val loss: 1.360, val task loss: 1.360 [*] Best so far\n",
      "model_8: train loss: 1.375, train task loss: 1.375 - val loss: 1.375, val task loss: 1.375 [*] Best so far\n",
      "model_9: train loss: 1.372, train task loss: 1.372 - val loss: 1.371, val task loss: 1.371 [*] Best so far\n",
      "model_10: train loss: 1.369, train task loss: 1.369 - val loss: 1.367, val task loss: 1.367 [*] Best so far\n",
      "model_11: train loss: 1.366, train task loss: 1.366 - val loss: 1.365, val task loss: 1.365 [*] Best so far\n",
      "model_12: train loss: 1.370, train task loss: 1.370 - val loss: 1.368, val task loss: 1.368 [*] Best so far\n",
      "model_13: train loss: 1.366, train task loss: 1.366 - val loss: 1.364, val task loss: 1.364 [*] Best so far\n",
      "\n",
      "Epoch: 7/100 - LR: 0.001000\n"
     ]
    },
    {
     "name": "stderr",
     "output_type": "stream",
     "text": [
      "100%|████████████████████████████████████████████████████████████████████████████████| 134/134 [00:02<00:00, 56.56it/s]\n"
     ]
    },
    {
     "name": "stdout",
     "output_type": "stream",
     "text": [
      "model_1: train loss: 1.295, train task loss: 1.295 - val loss: 1.355, val task loss: 1.355 [*] Best so far\n",
      "model_2: train loss: 1.286, train task loss: 1.286 - val loss: 1.369, val task loss: 1.369 [*] Best so far\n",
      "model_3: train loss: 1.328, train task loss: 1.328 - val loss: 1.382, val task loss: 1.382 [*] Best so far\n",
      "model_4: train loss: 1.293, train task loss: 1.293 - val loss: 1.363, val task loss: 1.363 [*] Best so far\n",
      "model_5: train loss: 1.286, train task loss: 1.286 - val loss: 1.353, val task loss: 1.353 [*] Best so far\n",
      "model_6: train loss: 1.293, train task loss: 1.293 - val loss: 1.383, val task loss: 1.383\n",
      "model_7: train loss: 1.281, train task loss: 1.281 - val loss: 1.357, val task loss: 1.357 [*] Best so far\n",
      "model_8: train loss: 1.373, train task loss: 1.373 - val loss: 1.371, val task loss: 1.371 [*] Best so far\n",
      "model_9: train loss: 1.371, train task loss: 1.371 - val loss: 1.369, val task loss: 1.369 [*] Best so far\n",
      "model_10: train loss: 1.368, train task loss: 1.368 - val loss: 1.365, val task loss: 1.365 [*] Best so far\n",
      "model_11: train loss: 1.366, train task loss: 1.366 - val loss: 1.365, val task loss: 1.365 [*] Best so far\n",
      "model_12: train loss: 1.369, train task loss: 1.369 - val loss: 1.367, val task loss: 1.367 [*] Best so far\n",
      "model_13: train loss: 1.366, train task loss: 1.366 - val loss: 1.363, val task loss: 1.363 [*] Best so far\n",
      "\n",
      "Epoch: 8/100 - LR: 0.001000\n"
     ]
    },
    {
     "name": "stderr",
     "output_type": "stream",
     "text": [
      "100%|████████████████████████████████████████████████████████████████████████████████| 134/134 [00:02<00:00, 54.35it/s]\n"
     ]
    },
    {
     "name": "stdout",
     "output_type": "stream",
     "text": [
      "model_1: train loss: 1.270, train task loss: 1.270 - val loss: 1.350, val task loss: 1.350 [*] Best so far\n",
      "model_2: train loss: 1.256, train task loss: 1.256 - val loss: 1.365, val task loss: 1.365 [*] Best so far\n",
      "model_3: train loss: 1.300, train task loss: 1.300 - val loss: 1.373, val task loss: 1.373 [*] Best so far\n",
      "model_4: train loss: 1.264, train task loss: 1.264 - val loss: 1.359, val task loss: 1.359 [*] Best so far\n",
      "model_5: train loss: 1.259, train task loss: 1.259 - val loss: 1.348, val task loss: 1.348 [*] Best so far\n",
      "model_6: train loss: 1.265, train task loss: 1.265 - val loss: 1.383, val task loss: 1.383\n",
      "model_7: train loss: 1.250, train task loss: 1.250 - val loss: 1.352, val task loss: 1.352 [*] Best so far\n",
      "model_8: train loss: 1.369, train task loss: 1.369 - val loss: 1.367, val task loss: 1.367 [*] Best so far\n",
      "model_9: train loss: 1.369, train task loss: 1.369 - val loss: 1.367, val task loss: 1.367 [*] Best so far\n",
      "model_10: train loss: 1.365, train task loss: 1.365 - val loss: 1.363, val task loss: 1.363 [*] Best so far\n",
      "model_11: train loss: 1.365, train task loss: 1.365 - val loss: 1.364, val task loss: 1.364 [*] Best so far\n",
      "model_12: train loss: 1.367, train task loss: 1.367 - val loss: 1.365, val task loss: 1.365 [*] Best so far\n",
      "model_13: train loss: 1.364, train task loss: 1.364 - val loss: 1.362, val task loss: 1.362 [*] Best so far\n",
      "\n",
      "Epoch: 9/100 - LR: 0.001000\n"
     ]
    },
    {
     "name": "stderr",
     "output_type": "stream",
     "text": [
      "100%|████████████████████████████████████████████████████████████████████████████████| 134/134 [00:02<00:00, 54.34it/s]\n"
     ]
    },
    {
     "name": "stdout",
     "output_type": "stream",
     "text": [
      "model_1: train loss: 1.239, train task loss: 1.239 - val loss: 1.347, val task loss: 1.347 [*] Best so far\n",
      "model_2: train loss: 1.217, train task loss: 1.217 - val loss: 1.363, val task loss: 1.363 [*] Best so far\n",
      "model_3: train loss: 1.265, train task loss: 1.265 - val loss: 1.364, val task loss: 1.364 [*] Best so far\n",
      "model_4: train loss: 1.227, train task loss: 1.227 - val loss: 1.356, val task loss: 1.356 [*] Best so far\n",
      "model_5: train loss: 1.226, train task loss: 1.226 - val loss: 1.345, val task loss: 1.345 [*] Best so far\n",
      "model_6: train loss: 1.229, train task loss: 1.229 - val loss: 1.385, val task loss: 1.385\n",
      "model_7: train loss: 1.212, train task loss: 1.212 - val loss: 1.349, val task loss: 1.349 [*] Best so far\n",
      "model_8: train loss: 1.366, train task loss: 1.366 - val loss: 1.365, val task loss: 1.365 [*] Best so far\n",
      "model_9: train loss: 1.367, train task loss: 1.367 - val loss: 1.366, val task loss: 1.366 [*] Best so far\n",
      "model_10: train loss: 1.364, train task loss: 1.364 - val loss: 1.362, val task loss: 1.362 [*] Best so far\n",
      "model_11: train loss: 1.365, train task loss: 1.365 - val loss: 1.363, val task loss: 1.363 [*] Best so far\n",
      "model_12: train loss: 1.366, train task loss: 1.366 - val loss: 1.364, val task loss: 1.364 [*] Best so far\n",
      "model_13: train loss: 1.363, train task loss: 1.363 - val loss: 1.361, val task loss: 1.361 [*] Best so far\n",
      "\n",
      "Epoch: 10/100 - LR: 0.001000\n"
     ]
    },
    {
     "name": "stderr",
     "output_type": "stream",
     "text": [
      "100%|████████████████████████████████████████████████████████████████████████████████| 134/134 [00:02<00:00, 56.71it/s]\n"
     ]
    },
    {
     "name": "stdout",
     "output_type": "stream",
     "text": [
      "model_1: train loss: 1.200, train task loss: 1.200 - val loss: 1.346, val task loss: 1.346 [*] Best so far\n",
      "model_2: train loss: 1.170, train task loss: 1.170 - val loss: 1.361, val task loss: 1.361 [*] Best so far\n",
      "model_3: train loss: 1.221, train task loss: 1.221 - val loss: 1.357, val task loss: 1.357 [*] Best so far\n",
      "model_4: train loss: 1.182, train task loss: 1.182 - val loss: 1.355, val task loss: 1.355 [*] Best so far\n",
      "model_5: train loss: 1.188, train task loss: 1.188 - val loss: 1.343, val task loss: 1.343 [*] Best so far\n",
      "model_6: train loss: 1.185, train task loss: 1.185 - val loss: 1.389, val task loss: 1.389\n",
      "model_7: train loss: 1.168, train task loss: 1.168 - val loss: 1.351, val task loss: 1.351\n",
      "model_8: train loss: 1.364, train task loss: 1.364 - val loss: 1.363, val task loss: 1.363 [*] Best so far\n",
      "model_9: train loss: 1.366, train task loss: 1.366 - val loss: 1.364, val task loss: 1.364 [*] Best so far\n",
      "model_10: train loss: 1.362, train task loss: 1.362 - val loss: 1.361, val task loss: 1.361 [*] Best so far\n",
      "model_11: train loss: 1.364, train task loss: 1.364 - val loss: 1.363, val task loss: 1.363 [*] Best so far\n",
      "model_12: train loss: 1.365, train task loss: 1.365 - val loss: 1.363, val task loss: 1.363 [*] Best so far\n",
      "model_13: train loss: 1.363, train task loss: 1.363 - val loss: 1.361, val task loss: 1.361 [*] Best so far\n",
      "\n",
      "Epoch: 11/100 - LR: 0.001000\n"
     ]
    },
    {
     "name": "stderr",
     "output_type": "stream",
     "text": [
      "100%|████████████████████████████████████████████████████████████████████████████████| 134/134 [00:02<00:00, 53.71it/s]\n"
     ]
    },
    {
     "name": "stdout",
     "output_type": "stream",
     "text": [
      "model_1: train loss: 1.153, train task loss: 1.153 - val loss: 1.342, val task loss: 1.342 [*] Best so far\n",
      "model_2: train loss: 1.115, train task loss: 1.115 - val loss: 1.360, val task loss: 1.360 [*] Best so far\n",
      "model_3: train loss: 1.171, train task loss: 1.171 - val loss: 1.353, val task loss: 1.353 [*] Best so far\n",
      "model_4: train loss: 1.128, train task loss: 1.128 - val loss: 1.354, val task loss: 1.354 [*] Best so far\n",
      "model_5: train loss: 1.144, train task loss: 1.144 - val loss: 1.342, val task loss: 1.342 [*] Best so far\n",
      "model_6: train loss: 1.133, train task loss: 1.133 - val loss: 1.396, val task loss: 1.396\n",
      "model_7: train loss: 1.116, train task loss: 1.116 - val loss: 1.353, val task loss: 1.353\n",
      "model_8: train loss: 1.363, train task loss: 1.363 - val loss: 1.362, val task loss: 1.362 [*] Best so far\n",
      "model_9: train loss: 1.365, train task loss: 1.365 - val loss: 1.363, val task loss: 1.363 [*] Best so far\n",
      "model_10: train loss: 1.363, train task loss: 1.363 - val loss: 1.361, val task loss: 1.361 [*] Best so far\n",
      "model_11: train loss: 1.364, train task loss: 1.364 - val loss: 1.362, val task loss: 1.362 [*] Best so far\n",
      "model_12: train loss: 1.365, train task loss: 1.365 - val loss: 1.362, val task loss: 1.362 [*] Best so far\n",
      "model_13: train loss: 1.363, train task loss: 1.363 - val loss: 1.361, val task loss: 1.361 [*] Best so far\n",
      "\n",
      "Epoch: 12/100 - LR: 0.001000\n"
     ]
    },
    {
     "name": "stderr",
     "output_type": "stream",
     "text": [
      "100%|████████████████████████████████████████████████████████████████████████████████| 134/134 [00:02<00:00, 55.17it/s]\n"
     ]
    },
    {
     "name": "stdout",
     "output_type": "stream",
     "text": [
      "model_1: train loss: 1.092, train task loss: 1.092 - val loss: 1.340, val task loss: 1.340 [*] Best so far\n",
      "model_2: train loss: 1.047, train task loss: 1.047 - val loss: 1.354, val task loss: 1.354 [*] Best so far\n",
      "model_3: train loss: 1.107, train task loss: 1.107 - val loss: 1.343, val task loss: 1.343 [*] Best so far\n",
      "model_4: train loss: 1.064, train task loss: 1.064 - val loss: 1.352, val task loss: 1.352 [*] Best so far\n",
      "model_5: train loss: 1.086, train task loss: 1.086 - val loss: 1.338, val task loss: 1.338 [*] Best so far\n",
      "model_6: train loss: 1.070, train task loss: 1.070 - val loss: 1.400, val task loss: 1.400\n",
      "model_7: train loss: 1.053, train task loss: 1.053 - val loss: 1.353, val task loss: 1.353\n",
      "model_8: train loss: 1.362, train task loss: 1.362 - val loss: 1.361, val task loss: 1.361 [*] Best so far\n",
      "model_9: train loss: 1.364, train task loss: 1.364 - val loss: 1.362, val task loss: 1.362 [*] Best so far\n",
      "model_10: train loss: 1.362, train task loss: 1.362 - val loss: 1.360, val task loss: 1.360 [*] Best so far\n",
      "model_11: train loss: 1.363, train task loss: 1.363 - val loss: 1.362, val task loss: 1.362 [*] Best so far\n",
      "model_12: train loss: 1.363, train task loss: 1.363 - val loss: 1.361, val task loss: 1.361 [*] Best so far\n",
      "model_13: train loss: 1.362, train task loss: 1.362 - val loss: 1.360, val task loss: 1.360 [*] Best so far\n",
      "\n",
      "Epoch: 13/100 - LR: 0.001000\n"
     ]
    },
    {
     "name": "stderr",
     "output_type": "stream",
     "text": [
      "100%|████████████████████████████████████████████████████████████████████████████████| 134/134 [00:02<00:00, 54.29it/s]\n"
     ]
    },
    {
     "name": "stdout",
     "output_type": "stream",
     "text": [
      "model_1: train loss: 1.022, train task loss: 1.022 - val loss: 1.347, val task loss: 1.347\n",
      "model_2: train loss: 0.973, train task loss: 0.973 - val loss: 1.356, val task loss: 1.356\n",
      "model_3: train loss: 1.034, train task loss: 1.034 - val loss: 1.338, val task loss: 1.338 [*] Best so far\n",
      "model_4: train loss: 0.992, train task loss: 0.992 - val loss: 1.354, val task loss: 1.354\n",
      "model_5: train loss: 1.023, train task loss: 1.023 - val loss: 1.339, val task loss: 1.339\n",
      "model_6: train loss: 1.001, train task loss: 1.001 - val loss: 1.414, val task loss: 1.414\n",
      "model_7: train loss: 0.987, train task loss: 0.987 - val loss: 1.367, val task loss: 1.367\n",
      "model_8: train loss: 1.362, train task loss: 1.362 - val loss: 1.360, val task loss: 1.360 [*] Best so far\n",
      "model_9: train loss: 1.363, train task loss: 1.363 - val loss: 1.361, val task loss: 1.361 [*] Best so far\n",
      "model_10: train loss: 1.362, train task loss: 1.362 - val loss: 1.360, val task loss: 1.360 [*] Best so far\n",
      "model_11: train loss: 1.363, train task loss: 1.363 - val loss: 1.361, val task loss: 1.361 [*] Best so far\n",
      "model_12: train loss: 1.363, train task loss: 1.363 - val loss: 1.361, val task loss: 1.361 [*] Best so far\n",
      "model_13: train loss: 1.362, train task loss: 1.362 - val loss: 1.360, val task loss: 1.360 [*] Best so far\n",
      "\n",
      "Epoch: 14/100 - LR: 0.001000\n"
     ]
    },
    {
     "name": "stderr",
     "output_type": "stream",
     "text": [
      "100%|████████████████████████████████████████████████████████████████████████████████| 134/134 [00:02<00:00, 56.33it/s]\n"
     ]
    },
    {
     "name": "stdout",
     "output_type": "stream",
     "text": [
      "model_1: train loss: 0.942, train task loss: 0.942 - val loss: 1.350, val task loss: 1.350\n",
      "model_2: train loss: 0.891, train task loss: 0.891 - val loss: 1.355, val task loss: 1.355\n",
      "model_3: train loss: 0.946, train task loss: 0.946 - val loss: 1.337, val task loss: 1.337 [*] Best so far\n",
      "model_4: train loss: 0.908, train task loss: 0.908 - val loss: 1.358, val task loss: 1.358\n",
      "model_5: train loss: 0.947, train task loss: 0.947 - val loss: 1.342, val task loss: 1.342\n",
      "model_6: train loss: 0.920, train task loss: 0.920 - val loss: 1.429, val task loss: 1.429\n",
      "model_7: train loss: 0.912, train task loss: 0.912 - val loss: 1.377, val task loss: 1.377\n",
      "model_8: train loss: 1.361, train task loss: 1.361 - val loss: 1.359, val task loss: 1.359 [*] Best so far\n",
      "model_9: train loss: 1.362, train task loss: 1.362 - val loss: 1.360, val task loss: 1.360 [*] Best so far\n",
      "model_10: train loss: 1.361, train task loss: 1.361 - val loss: 1.360, val task loss: 1.360 [*] Best so far\n",
      "model_11: train loss: 1.363, train task loss: 1.363 - val loss: 1.361, val task loss: 1.361 [*] Best so far\n",
      "model_12: train loss: 1.362, train task loss: 1.362 - val loss: 1.360, val task loss: 1.360 [*] Best so far\n",
      "model_13: train loss: 1.362, train task loss: 1.362 - val loss: 1.360, val task loss: 1.360 [*] Best so far\n",
      "\n",
      "Epoch: 15/100 - LR: 0.001000\n"
     ]
    },
    {
     "name": "stderr",
     "output_type": "stream",
     "text": [
      "100%|████████████████████████████████████████████████████████████████████████████████| 134/134 [00:02<00:00, 54.27it/s]\n"
     ]
    },
    {
     "name": "stdout",
     "output_type": "stream",
     "text": [
      "model_1: train loss: 0.863, train task loss: 0.863 - val loss: 1.362, val task loss: 1.362\n",
      "model_2: train loss: 0.812, train task loss: 0.812 - val loss: 1.363, val task loss: 1.363\n",
      "model_3: train loss: 0.855, train task loss: 0.855 - val loss: 1.340, val task loss: 1.340\n",
      "model_4: train loss: 0.825, train task loss: 0.825 - val loss: 1.368, val task loss: 1.368\n",
      "model_5: train loss: 0.866, train task loss: 0.866 - val loss: 1.348, val task loss: 1.348\n",
      "model_6: train loss: 0.839, train task loss: 0.839 - val loss: 1.448, val task loss: 1.448\n",
      "model_7: train loss: 0.836, train task loss: 0.836 - val loss: 1.393, val task loss: 1.393\n",
      "model_8: train loss: 1.360, train task loss: 1.360 - val loss: 1.359, val task loss: 1.359 [*] Best so far\n",
      "model_9: train loss: 1.362, train task loss: 1.362 - val loss: 1.360, val task loss: 1.360 [*] Best so far\n",
      "model_10: train loss: 1.361, train task loss: 1.361 - val loss: 1.359, val task loss: 1.359 [*] Best so far\n",
      "model_11: train loss: 1.362, train task loss: 1.362 - val loss: 1.361, val task loss: 1.361 [*] Best so far\n",
      "model_12: train loss: 1.362, train task loss: 1.362 - val loss: 1.360, val task loss: 1.360 [*] Best so far\n",
      "model_13: train loss: 1.361, train task loss: 1.361 - val loss: 1.360, val task loss: 1.360 [*] Best so far\n",
      "\n",
      "Epoch: 16/100 - LR: 0.001000\n"
     ]
    },
    {
     "name": "stderr",
     "output_type": "stream",
     "text": [
      "100%|████████████████████████████████████████████████████████████████████████████████| 134/134 [00:02<00:00, 56.14it/s]\n"
     ]
    },
    {
     "name": "stdout",
     "output_type": "stream",
     "text": [
      "model_1: train loss: 0.784, train task loss: 0.784 - val loss: 1.375, val task loss: 1.375\n",
      "model_2: train loss: 0.735, train task loss: 0.735 - val loss: 1.370, val task loss: 1.370\n",
      "model_3: train loss: 0.758, train task loss: 0.758 - val loss: 1.347, val task loss: 1.347\n",
      "model_4: train loss: 0.738, train task loss: 0.738 - val loss: 1.382, val task loss: 1.382\n",
      "model_5: train loss: 0.780, train task loss: 0.780 - val loss: 1.357, val task loss: 1.357\n",
      "model_6: train loss: 0.753, train task loss: 0.753 - val loss: 1.467, val task loss: 1.467\n",
      "model_7: train loss: 0.759, train task loss: 0.759 - val loss: 1.408, val task loss: 1.408\n",
      "model_8: train loss: 1.360, train task loss: 1.360 - val loss: 1.359, val task loss: 1.359 [*] Best so far\n",
      "model_9: train loss: 1.361, train task loss: 1.361 - val loss: 1.359, val task loss: 1.359 [*] Best so far\n",
      "model_10: train loss: 1.361, train task loss: 1.361 - val loss: 1.359, val task loss: 1.359 [*] Best so far\n",
      "model_11: train loss: 1.362, train task loss: 1.362 - val loss: 1.360, val task loss: 1.360 [*] Best so far\n",
      "model_12: train loss: 1.362, train task loss: 1.362 - val loss: 1.360, val task loss: 1.360 [*] Best so far\n",
      "model_13: train loss: 1.362, train task loss: 1.362 - val loss: 1.360, val task loss: 1.360 [*] Best so far\n",
      "\n",
      "Epoch: 17/100 - LR: 0.001000\n"
     ]
    },
    {
     "name": "stderr",
     "output_type": "stream",
     "text": [
      "100%|████████████████████████████████████████████████████████████████████████████████| 134/134 [00:02<00:00, 54.67it/s]\n"
     ]
    },
    {
     "name": "stdout",
     "output_type": "stream",
     "text": [
      "model_1: train loss: 0.700, train task loss: 0.700 - val loss: 1.394, val task loss: 1.394\n",
      "model_2: train loss: 0.659, train task loss: 0.659 - val loss: 1.382, val task loss: 1.382\n",
      "model_3: train loss: 0.661, train task loss: 0.661 - val loss: 1.359, val task loss: 1.359\n",
      "model_4: train loss: 0.649, train task loss: 0.649 - val loss: 1.401, val task loss: 1.401\n",
      "model_5: train loss: 0.689, train task loss: 0.689 - val loss: 1.368, val task loss: 1.368\n",
      "model_6: train loss: 0.668, train task loss: 0.668 - val loss: 1.489, val task loss: 1.489\n",
      "model_7: train loss: 0.678, train task loss: 0.678 - val loss: 1.426, val task loss: 1.426\n",
      "model_8: train loss: 1.359, train task loss: 1.359 - val loss: 1.358, val task loss: 1.358 [*] Best so far\n",
      "model_9: train loss: 1.361, train task loss: 1.361 - val loss: 1.359, val task loss: 1.359 [*] Best so far\n",
      "model_10: train loss: 1.361, train task loss: 1.361 - val loss: 1.359, val task loss: 1.359 [*] Best so far\n",
      "model_11: train loss: 1.362, train task loss: 1.362 - val loss: 1.360, val task loss: 1.360 [*] Best so far\n",
      "model_12: train loss: 1.361, train task loss: 1.361 - val loss: 1.360, val task loss: 1.360 [*] Best so far\n",
      "model_13: train loss: 1.361, train task loss: 1.361 - val loss: 1.359, val task loss: 1.359 [*] Best so far\n",
      "\n",
      "Epoch: 18/100 - LR: 0.001000\n"
     ]
    },
    {
     "name": "stderr",
     "output_type": "stream",
     "text": [
      "100%|████████████████████████████████████████████████████████████████████████████████| 134/134 [00:02<00:00, 54.89it/s]\n"
     ]
    },
    {
     "name": "stdout",
     "output_type": "stream",
     "text": [
      "model_1: train loss: 0.623, train task loss: 0.623 - val loss: 1.424, val task loss: 1.424\n",
      "model_2: train loss: 0.591, train task loss: 0.591 - val loss: 1.400, val task loss: 1.400\n",
      "model_3: train loss: 0.572, train task loss: 0.572 - val loss: 1.378, val task loss: 1.378\n",
      "model_4: train loss: 0.568, train task loss: 0.568 - val loss: 1.431, val task loss: 1.431\n",
      "model_5: train loss: 0.602, train task loss: 0.602 - val loss: 1.387, val task loss: 1.387\n",
      "model_6: train loss: 0.588, train task loss: 0.588 - val loss: 1.515, val task loss: 1.515\n",
      "model_7: train loss: 0.603, train task loss: 0.603 - val loss: 1.455, val task loss: 1.455\n",
      "model_8: train loss: 1.359, train task loss: 1.359 - val loss: 1.358, val task loss: 1.358 [*] Best so far\n",
      "model_9: train loss: 1.361, train task loss: 1.361 - val loss: 1.359, val task loss: 1.359 [*] Best so far\n",
      "model_10: train loss: 1.361, train task loss: 1.361 - val loss: 1.359, val task loss: 1.359 [*] Best so far\n",
      "model_11: train loss: 1.362, train task loss: 1.362 - val loss: 1.360, val task loss: 1.360 [*] Best so far\n",
      "model_12: train loss: 1.362, train task loss: 1.362 - val loss: 1.359, val task loss: 1.359 [*] Best so far\n",
      "model_13: train loss: 1.361, train task loss: 1.361 - val loss: 1.359, val task loss: 1.359 [*] Best so far\n",
      "\n",
      "Epoch: 19/100 - LR: 0.001000\n"
     ]
    },
    {
     "name": "stderr",
     "output_type": "stream",
     "text": [
      "100%|████████████████████████████████████████████████████████████████████████████████| 134/134 [00:02<00:00, 52.43it/s]\n"
     ]
    },
    {
     "name": "stdout",
     "output_type": "stream",
     "text": [
      "model_1: train loss: 0.549, train task loss: 0.549 - val loss: 1.435, val task loss: 1.435\n",
      "model_2: train loss: 0.525, train task loss: 0.525 - val loss: 1.418, val task loss: 1.418\n",
      "model_3: train loss: 0.489, train task loss: 0.489 - val loss: 1.401, val task loss: 1.401\n",
      "model_4: train loss: 0.493, train task loss: 0.493 - val loss: 1.456, val task loss: 1.456\n",
      "model_5: train loss: 0.519, train task loss: 0.519 - val loss: 1.403, val task loss: 1.403\n",
      "model_6: train loss: 0.509, train task loss: 0.509 - val loss: 1.536, val task loss: 1.536\n",
      "model_7: train loss: 0.529, train task loss: 0.529 - val loss: 1.470, val task loss: 1.470\n",
      "model_8: train loss: 1.359, train task loss: 1.359 - val loss: 1.357, val task loss: 1.357 [*] Best so far\n",
      "model_9: train loss: 1.361, train task loss: 1.361 - val loss: 1.358, val task loss: 1.358 [*] Best so far\n",
      "model_10: train loss: 1.361, train task loss: 1.361 - val loss: 1.358, val task loss: 1.358 [*] Best so far\n",
      "model_11: train loss: 1.362, train task loss: 1.362 - val loss: 1.360, val task loss: 1.360 [*] Best so far\n",
      "model_12: train loss: 1.362, train task loss: 1.362 - val loss: 1.359, val task loss: 1.359 [*] Best so far\n",
      "model_13: train loss: 1.361, train task loss: 1.361 - val loss: 1.359, val task loss: 1.359 [*] Best so far\n",
      "\n",
      "Epoch: 20/100 - LR: 0.001000\n"
     ]
    },
    {
     "name": "stderr",
     "output_type": "stream",
     "text": [
      "100%|████████████████████████████████████████████████████████████████████████████████| 134/134 [00:02<00:00, 54.22it/s]\n"
     ]
    },
    {
     "name": "stdout",
     "output_type": "stream",
     "text": [
      "model_1: train loss: 0.473, train task loss: 0.473 - val loss: 1.477, val task loss: 1.477\n",
      "model_2: train loss: 0.464, train task loss: 0.464 - val loss: 1.451, val task loss: 1.451\n",
      "model_3: train loss: 0.412, train task loss: 0.412 - val loss: 1.439, val task loss: 1.439\n",
      "model_4: train loss: 0.422, train task loss: 0.422 - val loss: 1.499, val task loss: 1.499\n",
      "model_5: train loss: 0.440, train task loss: 0.440 - val loss: 1.441, val task loss: 1.441\n",
      "model_6: train loss: 0.438, train task loss: 0.438 - val loss: 1.582, val task loss: 1.582\n",
      "model_7: train loss: 0.457, train task loss: 0.457 - val loss: 1.513, val task loss: 1.513\n",
      "model_8: train loss: 1.358, train task loss: 1.358 - val loss: 1.357, val task loss: 1.357 [*] Best so far\n",
      "model_9: train loss: 1.360, train task loss: 1.360 - val loss: 1.358, val task loss: 1.358 [*] Best so far\n",
      "model_10: train loss: 1.360, train task loss: 1.360 - val loss: 1.358, val task loss: 1.358 [*] Best so far\n",
      "model_11: train loss: 1.361, train task loss: 1.361 - val loss: 1.360, val task loss: 1.360 [*] Best so far\n",
      "model_12: train loss: 1.361, train task loss: 1.361 - val loss: 1.359, val task loss: 1.359 [*] Best so far\n",
      "model_13: train loss: 1.360, train task loss: 1.360 - val loss: 1.359, val task loss: 1.359 [*] Best so far\n",
      "\n",
      "Epoch: 21/100 - LR: 0.001000\n"
     ]
    },
    {
     "name": "stderr",
     "output_type": "stream",
     "text": [
      "100%|████████████████████████████████████████████████████████████████████████████████| 134/134 [00:02<00:00, 52.79it/s]\n"
     ]
    },
    {
     "name": "stdout",
     "output_type": "stream",
     "text": [
      "model_1: train loss: 0.407, train task loss: 0.407 - val loss: 1.507, val task loss: 1.507\n",
      "model_2: train loss: 0.406, train task loss: 0.406 - val loss: 1.476, val task loss: 1.476\n",
      "model_3: train loss: 0.345, train task loss: 0.345 - val loss: 1.477, val task loss: 1.477\n",
      "model_4: train loss: 0.360, train task loss: 0.360 - val loss: 1.534, val task loss: 1.534\n",
      "model_5: train loss: 0.369, train task loss: 0.369 - val loss: 1.470, val task loss: 1.470\n",
      "model_6: train loss: 0.370, train task loss: 0.370 - val loss: 1.627, val task loss: 1.627\n",
      "model_7: train loss: 0.392, train task loss: 0.392 - val loss: 1.540, val task loss: 1.540\n",
      "model_8: train loss: 1.358, train task loss: 1.358 - val loss: 1.357, val task loss: 1.357 [*] Best so far\n",
      "model_9: train loss: 1.360, train task loss: 1.360 - val loss: 1.358, val task loss: 1.358 [*] Best so far\n",
      "model_10: train loss: 1.360, train task loss: 1.360 - val loss: 1.358, val task loss: 1.358 [*] Best so far\n",
      "model_11: train loss: 1.361, train task loss: 1.361 - val loss: 1.359, val task loss: 1.359 [*] Best so far\n",
      "model_12: train loss: 1.361, train task loss: 1.361 - val loss: 1.359, val task loss: 1.359 [*] Best so far\n",
      "model_13: train loss: 1.360, train task loss: 1.360 - val loss: 1.358, val task loss: 1.358 [*] Best so far\n",
      "\n",
      "Epoch: 22/100 - LR: 0.001000\n"
     ]
    },
    {
     "name": "stderr",
     "output_type": "stream",
     "text": [
      "100%|████████████████████████████████████████████████████████████████████████████████| 134/134 [00:02<00:00, 56.07it/s]\n"
     ]
    },
    {
     "name": "stdout",
     "output_type": "stream",
     "text": [
      "model_1: train loss: 0.348, train task loss: 0.348 - val loss: 1.539, val task loss: 1.539\n",
      "model_2: train loss: 0.357, train task loss: 0.357 - val loss: 1.508, val task loss: 1.508\n",
      "model_3: train loss: 0.288, train task loss: 0.288 - val loss: 1.518, val task loss: 1.518\n",
      "model_4: train loss: 0.308, train task loss: 0.308 - val loss: 1.566, val task loss: 1.566\n",
      "model_5: train loss: 0.309, train task loss: 0.309 - val loss: 1.505, val task loss: 1.505\n",
      "model_6: train loss: 0.314, train task loss: 0.314 - val loss: 1.672, val task loss: 1.672\n",
      "model_7: train loss: 0.336, train task loss: 0.336 - val loss: 1.574, val task loss: 1.574\n",
      "model_8: train loss: 1.357, train task loss: 1.357 - val loss: 1.356, val task loss: 1.356 [*] Best so far\n",
      "model_9: train loss: 1.359, train task loss: 1.359 - val loss: 1.357, val task loss: 1.357 [*] Best so far\n",
      "model_10: train loss: 1.359, train task loss: 1.359 - val loss: 1.358, val task loss: 1.358 [*] Best so far\n",
      "model_11: train loss: 1.360, train task loss: 1.360 - val loss: 1.359, val task loss: 1.359 [*] Best so far\n",
      "model_12: train loss: 1.360, train task loss: 1.360 - val loss: 1.359, val task loss: 1.359 [*] Best so far\n",
      "model_13: train loss: 1.360, train task loss: 1.360 - val loss: 1.358, val task loss: 1.358 [*] Best so far\n",
      "\n",
      "Epoch: 23/100 - LR: 0.001000\n"
     ]
    },
    {
     "name": "stderr",
     "output_type": "stream",
     "text": [
      "100%|████████████████████████████████████████████████████████████████████████████████| 134/134 [00:02<00:00, 54.65it/s]\n"
     ]
    },
    {
     "name": "stdout",
     "output_type": "stream",
     "text": [
      "model_1: train loss: 0.295, train task loss: 0.295 - val loss: 1.583, val task loss: 1.583\n",
      "model_2: train loss: 0.309, train task loss: 0.309 - val loss: 1.548, val task loss: 1.548\n",
      "model_3: train loss: 0.238, train task loss: 0.238 - val loss: 1.565, val task loss: 1.565\n",
      "model_4: train loss: 0.260, train task loss: 0.260 - val loss: 1.611, val task loss: 1.611\n",
      "model_5: train loss: 0.254, train task loss: 0.254 - val loss: 1.548, val task loss: 1.548\n",
      "model_6: train loss: 0.262, train task loss: 0.262 - val loss: 1.725, val task loss: 1.725\n",
      "model_7: train loss: 0.284, train task loss: 0.284 - val loss: 1.619, val task loss: 1.619\n",
      "model_8: train loss: 1.356, train task loss: 1.356 - val loss: 1.356, val task loss: 1.356 [*] Best so far\n",
      "model_9: train loss: 1.358, train task loss: 1.358 - val loss: 1.357, val task loss: 1.357 [*] Best so far\n",
      "model_10: train loss: 1.359, train task loss: 1.359 - val loss: 1.357, val task loss: 1.357 [*] Best so far\n",
      "model_11: train loss: 1.360, train task loss: 1.360 - val loss: 1.359, val task loss: 1.359 [*] Best so far\n",
      "model_12: train loss: 1.360, train task loss: 1.360 - val loss: 1.358, val task loss: 1.358 [*] Best so far\n",
      "model_13: train loss: 1.359, train task loss: 1.359 - val loss: 1.358, val task loss: 1.358 [*] Best so far\n",
      "\n",
      "Epoch: 24/100 - LR: 0.001000\n"
     ]
    },
    {
     "name": "stderr",
     "output_type": "stream",
     "text": [
      "100%|████████████████████████████████████████████████████████████████████████████████| 134/134 [00:02<00:00, 59.92it/s]\n"
     ]
    },
    {
     "name": "stdout",
     "output_type": "stream",
     "text": [
      "model_1: train loss: 0.247, train task loss: 0.247 - val loss: 1.620, val task loss: 1.620\n",
      "model_2: train loss: 0.266, train task loss: 0.266 - val loss: 1.584, val task loss: 1.584\n",
      "model_3: train loss: 0.196, train task loss: 0.196 - val loss: 1.607, val task loss: 1.607\n",
      "model_4: train loss: 0.219, train task loss: 0.219 - val loss: 1.649, val task loss: 1.649\n",
      "model_5: train loss: 0.208, train task loss: 0.208 - val loss: 1.591, val task loss: 1.591\n",
      "model_6: train loss: 0.218, train task loss: 0.218 - val loss: 1.778, val task loss: 1.778\n",
      "model_7: train loss: 0.239, train task loss: 0.239 - val loss: 1.656, val task loss: 1.656\n",
      "model_8: train loss: 1.356, train task loss: 1.356 - val loss: 1.355, val task loss: 1.355 [*] Best so far\n",
      "model_9: train loss: 1.358, train task loss: 1.358 - val loss: 1.357, val task loss: 1.357 [*] Best so far\n",
      "model_10: train loss: 1.359, train task loss: 1.359 - val loss: 1.357, val task loss: 1.357 [*] Best so far\n",
      "model_11: train loss: 1.360, train task loss: 1.360 - val loss: 1.359, val task loss: 1.359 [*] Best so far\n",
      "model_12: train loss: 1.360, train task loss: 1.360 - val loss: 1.358, val task loss: 1.358 [*] Best so far\n",
      "model_13: train loss: 1.359, train task loss: 1.359 - val loss: 1.357, val task loss: 1.357 [*] Best so far\n",
      "\n",
      "Epoch: 25/100 - LR: 0.001000\n"
     ]
    },
    {
     "name": "stderr",
     "output_type": "stream",
     "text": [
      "100%|████████████████████████████████████████████████████████████████████████████████| 134/134 [00:02<00:00, 55.23it/s]\n"
     ]
    },
    {
     "name": "stdout",
     "output_type": "stream",
     "text": [
      "model_1: train loss: 0.208, train task loss: 0.208 - val loss: 1.668, val task loss: 1.668\n",
      "model_2: train loss: 0.228, train task loss: 0.228 - val loss: 1.626, val task loss: 1.626\n",
      "model_3: train loss: 0.162, train task loss: 0.162 - val loss: 1.651, val task loss: 1.651\n",
      "model_4: train loss: 0.184, train task loss: 0.184 - val loss: 1.689, val task loss: 1.689\n",
      "model_5: train loss: 0.170, train task loss: 0.170 - val loss: 1.639, val task loss: 1.639\n",
      "model_6: train loss: 0.182, train task loss: 0.182 - val loss: 1.833, val task loss: 1.833\n",
      "model_7: train loss: 0.201, train task loss: 0.201 - val loss: 1.699, val task loss: 1.699\n",
      "model_8: train loss: 1.355, train task loss: 1.355 - val loss: 1.355, val task loss: 1.355 [*] Best so far\n",
      "model_9: train loss: 1.358, train task loss: 1.358 - val loss: 1.356, val task loss: 1.356 [*] Best so far\n",
      "model_10: train loss: 1.358, train task loss: 1.358 - val loss: 1.357, val task loss: 1.357 [*] Best so far\n",
      "model_11: train loss: 1.360, train task loss: 1.360 - val loss: 1.358, val task loss: 1.358 [*] Best so far\n",
      "model_12: train loss: 1.359, train task loss: 1.359 - val loss: 1.358, val task loss: 1.358 [*] Best so far\n",
      "model_13: train loss: 1.359, train task loss: 1.359 - val loss: 1.357, val task loss: 1.357 [*] Best so far\n",
      "\n",
      "Epoch: 26/100 - LR: 0.001000\n"
     ]
    },
    {
     "name": "stderr",
     "output_type": "stream",
     "text": [
      "100%|████████████████████████████████████████████████████████████████████████████████| 134/134 [00:02<00:00, 57.20it/s]\n"
     ]
    },
    {
     "name": "stdout",
     "output_type": "stream",
     "text": [
      "model_1: train loss: 0.175, train task loss: 0.175 - val loss: 1.714, val task loss: 1.714\n",
      "model_2: train loss: 0.195, train task loss: 0.195 - val loss: 1.666, val task loss: 1.666\n",
      "model_3: train loss: 0.134, train task loss: 0.134 - val loss: 1.697, val task loss: 1.697\n",
      "model_4: train loss: 0.154, train task loss: 0.154 - val loss: 1.722, val task loss: 1.722\n",
      "model_5: train loss: 0.140, train task loss: 0.140 - val loss: 1.684, val task loss: 1.684\n",
      "model_6: train loss: 0.152, train task loss: 0.152 - val loss: 1.887, val task loss: 1.887\n",
      "model_7: train loss: 0.170, train task loss: 0.170 - val loss: 1.740, val task loss: 1.740\n",
      "model_8: train loss: 1.355, train task loss: 1.355 - val loss: 1.355, val task loss: 1.355 [*] Best so far\n",
      "model_9: train loss: 1.357, train task loss: 1.357 - val loss: 1.356, val task loss: 1.356 [*] Best so far\n",
      "model_10: train loss: 1.358, train task loss: 1.358 - val loss: 1.357, val task loss: 1.357 [*] Best so far\n",
      "model_11: train loss: 1.359, train task loss: 1.359 - val loss: 1.358, val task loss: 1.358 [*] Best so far\n",
      "model_12: train loss: 1.359, train task loss: 1.359 - val loss: 1.358, val task loss: 1.358 [*] Best so far\n",
      "model_13: train loss: 1.358, train task loss: 1.358 - val loss: 1.357, val task loss: 1.357 [*] Best so far\n",
      "\n",
      "Epoch: 27/100 - LR: 0.001000\n"
     ]
    },
    {
     "name": "stderr",
     "output_type": "stream",
     "text": [
      "100%|████████████████████████████████████████████████████████████████████████████████| 134/134 [00:02<00:00, 57.47it/s]\n"
     ]
    },
    {
     "name": "stdout",
     "output_type": "stream",
     "text": [
      "model_1: train loss: 0.147, train task loss: 0.147 - val loss: 1.759, val task loss: 1.759\n",
      "model_2: train loss: 0.166, train task loss: 0.166 - val loss: 1.707, val task loss: 1.707\n",
      "model_3: train loss: 0.112, train task loss: 0.112 - val loss: 1.740, val task loss: 1.740\n",
      "model_4: train loss: 0.130, train task loss: 0.130 - val loss: 1.752, val task loss: 1.752\n",
      "model_5: train loss: 0.116, train task loss: 0.116 - val loss: 1.723, val task loss: 1.723\n",
      "model_6: train loss: 0.128, train task loss: 0.128 - val loss: 1.937, val task loss: 1.937\n",
      "model_7: train loss: 0.144, train task loss: 0.144 - val loss: 1.776, val task loss: 1.776\n",
      "model_8: train loss: 1.355, train task loss: 1.355 - val loss: 1.354, val task loss: 1.354 [*] Best so far\n",
      "model_9: train loss: 1.357, train task loss: 1.357 - val loss: 1.356, val task loss: 1.356 [*] Best so far\n",
      "model_10: train loss: 1.358, train task loss: 1.358 - val loss: 1.356, val task loss: 1.356 [*] Best so far\n",
      "model_11: train loss: 1.359, train task loss: 1.359 - val loss: 1.358, val task loss: 1.358 [*] Best so far\n",
      "model_12: train loss: 1.359, train task loss: 1.359 - val loss: 1.358, val task loss: 1.358 [*] Best so far\n",
      "model_13: train loss: 1.359, train task loss: 1.359 - val loss: 1.357, val task loss: 1.357 [*] Best so far\n",
      "\n",
      "Epoch: 28/100 - LR: 0.001000\n"
     ]
    },
    {
     "name": "stderr",
     "output_type": "stream",
     "text": [
      "100%|████████████████████████████████████████████████████████████████████████████████| 134/134 [00:02<00:00, 53.88it/s]\n"
     ]
    },
    {
     "name": "stdout",
     "output_type": "stream",
     "text": [
      "model_1: train loss: 0.124, train task loss: 0.124 - val loss: 1.802, val task loss: 1.802\n",
      "model_2: train loss: 0.141, train task loss: 0.141 - val loss: 1.748, val task loss: 1.748\n",
      "model_3: train loss: 0.095, train task loss: 0.095 - val loss: 1.781, val task loss: 1.781\n",
      "model_4: train loss: 0.109, train task loss: 0.109 - val loss: 1.787, val task loss: 1.787\n",
      "model_5: train loss: 0.096, train task loss: 0.096 - val loss: 1.763, val task loss: 1.763\n",
      "model_6: train loss: 0.108, train task loss: 0.108 - val loss: 1.987, val task loss: 1.987\n",
      "model_7: train loss: 0.122, train task loss: 0.122 - val loss: 1.816, val task loss: 1.816\n",
      "model_8: train loss: 1.354, train task loss: 1.354 - val loss: 1.354, val task loss: 1.354 [*] Best so far\n",
      "model_9: train loss: 1.356, train task loss: 1.356 - val loss: 1.355, val task loss: 1.355 [*] Best so far\n",
      "model_10: train loss: 1.358, train task loss: 1.358 - val loss: 1.356, val task loss: 1.356 [*] Best so far\n",
      "model_11: train loss: 1.359, train task loss: 1.359 - val loss: 1.358, val task loss: 1.358 [*] Best so far\n",
      "model_12: train loss: 1.359, train task loss: 1.359 - val loss: 1.357, val task loss: 1.357 [*] Best so far\n",
      "model_13: train loss: 1.358, train task loss: 1.358 - val loss: 1.356, val task loss: 1.356 [*] Best so far\n",
      "\n",
      "Epoch: 29/100 - LR: 0.001000\n"
     ]
    },
    {
     "name": "stderr",
     "output_type": "stream",
     "text": [
      "100%|████████████████████████████████████████████████████████████████████████████████| 134/134 [00:02<00:00, 56.10it/s]\n"
     ]
    },
    {
     "name": "stdout",
     "output_type": "stream",
     "text": [
      "model_1: train loss: 0.105, train task loss: 0.105 - val loss: 1.840, val task loss: 1.840\n",
      "model_2: train loss: 0.120, train task loss: 0.120 - val loss: 1.789, val task loss: 1.789\n",
      "model_3: train loss: 0.080, train task loss: 0.080 - val loss: 1.822, val task loss: 1.822\n",
      "model_4: train loss: 0.092, train task loss: 0.092 - val loss: 1.832, val task loss: 1.832\n",
      "model_5: train loss: 0.080, train task loss: 0.080 - val loss: 1.804, val task loss: 1.804\n",
      "model_6: train loss: 0.091, train task loss: 0.091 - val loss: 2.030, val task loss: 2.030\n",
      "model_7: train loss: 0.104, train task loss: 0.104 - val loss: 1.856, val task loss: 1.856\n",
      "model_8: train loss: 1.353, train task loss: 1.353 - val loss: 1.354, val task loss: 1.354 [*] Best so far\n",
      "model_9: train loss: 1.355, train task loss: 1.355 - val loss: 1.355, val task loss: 1.355 [*] Best so far\n",
      "model_10: train loss: 1.357, train task loss: 1.357 - val loss: 1.356, val task loss: 1.356 [*] Best so far\n",
      "model_11: train loss: 1.358, train task loss: 1.358 - val loss: 1.358, val task loss: 1.358 [*] Best so far\n",
      "model_12: train loss: 1.358, train task loss: 1.358 - val loss: 1.357, val task loss: 1.357 [*] Best so far\n",
      "model_13: train loss: 1.357, train task loss: 1.357 - val loss: 1.356, val task loss: 1.356 [*] Best so far\n",
      "\n",
      "Epoch: 30/100 - LR: 0.001000\n"
     ]
    },
    {
     "name": "stderr",
     "output_type": "stream",
     "text": [
      "100%|████████████████████████████████████████████████████████████████████████████████| 134/134 [00:02<00:00, 55.95it/s]\n"
     ]
    },
    {
     "name": "stdout",
     "output_type": "stream",
     "text": [
      "model_1: train loss: 0.089, train task loss: 0.089 - val loss: 1.871, val task loss: 1.871\n",
      "model_2: train loss: 0.102, train task loss: 0.102 - val loss: 1.826, val task loss: 1.826\n",
      "model_3: train loss: 0.068, train task loss: 0.068 - val loss: 1.859, val task loss: 1.859\n",
      "model_4: train loss: 0.077, train task loss: 0.077 - val loss: 1.862, val task loss: 1.862\n",
      "model_5: train loss: 0.068, train task loss: 0.068 - val loss: 1.840, val task loss: 1.840\n",
      "model_6: train loss: 0.078, train task loss: 0.078 - val loss: 2.065, val task loss: 2.065\n",
      "model_7: train loss: 0.089, train task loss: 0.089 - val loss: 1.890, val task loss: 1.890\n",
      "model_8: train loss: 1.353, train task loss: 1.353 - val loss: 1.353, val task loss: 1.353 [*] Best so far\n",
      "model_9: train loss: 1.355, train task loss: 1.355 - val loss: 1.354, val task loss: 1.354 [*] Best so far\n",
      "model_10: train loss: 1.357, train task loss: 1.357 - val loss: 1.356, val task loss: 1.356 [*] Best so far\n",
      "model_11: train loss: 1.358, train task loss: 1.358 - val loss: 1.357, val task loss: 1.357 [*] Best so far\n",
      "model_12: train loss: 1.358, train task loss: 1.358 - val loss: 1.357, val task loss: 1.357 [*] Best so far\n",
      "model_13: train loss: 1.357, train task loss: 1.357 - val loss: 1.356, val task loss: 1.356 [*] Best so far\n",
      "\n",
      "Epoch: 31/100 - LR: 0.001000\n"
     ]
    },
    {
     "name": "stderr",
     "output_type": "stream",
     "text": [
      "100%|████████████████████████████████████████████████████████████████████████████████| 134/134 [00:02<00:00, 56.01it/s]\n"
     ]
    },
    {
     "name": "stdout",
     "output_type": "stream",
     "text": [
      "model_1: train loss: 0.076, train task loss: 0.076 - val loss: 1.916, val task loss: 1.916\n",
      "model_2: train loss: 0.087, train task loss: 0.087 - val loss: 1.864, val task loss: 1.864\n",
      "model_3: train loss: 0.059, train task loss: 0.059 - val loss: 1.892, val task loss: 1.892\n",
      "model_4: train loss: 0.066, train task loss: 0.066 - val loss: 1.892, val task loss: 1.892\n",
      "model_5: train loss: 0.058, train task loss: 0.058 - val loss: 1.878, val task loss: 1.878\n",
      "model_6: train loss: 0.067, train task loss: 0.067 - val loss: 2.106, val task loss: 2.106\n",
      "model_7: train loss: 0.077, train task loss: 0.077 - val loss: 1.930, val task loss: 1.930\n",
      "model_8: train loss: 1.351, train task loss: 1.351 - val loss: 1.352, val task loss: 1.352 [*] Best so far\n",
      "model_9: train loss: 1.354, train task loss: 1.354 - val loss: 1.354, val task loss: 1.354 [*] Best so far\n",
      "model_10: train loss: 1.356, train task loss: 1.356 - val loss: 1.355, val task loss: 1.355 [*] Best so far\n",
      "model_11: train loss: 1.357, train task loss: 1.357 - val loss: 1.357, val task loss: 1.357 [*] Best so far\n",
      "model_12: train loss: 1.357, train task loss: 1.357 - val loss: 1.357, val task loss: 1.357 [*] Best so far\n",
      "model_13: train loss: 1.356, train task loss: 1.356 - val loss: 1.355, val task loss: 1.355 [*] Best so far\n",
      "\n",
      "Epoch: 32/100 - LR: 0.001000\n"
     ]
    },
    {
     "name": "stderr",
     "output_type": "stream",
     "text": [
      "100%|████████████████████████████████████████████████████████████████████████████████| 134/134 [00:02<00:00, 55.93it/s]\n"
     ]
    },
    {
     "name": "stdout",
     "output_type": "stream",
     "text": [
      "model_1: train loss: 0.066, train task loss: 0.066 - val loss: 1.958, val task loss: 1.958\n",
      "model_2: train loss: 0.075, train task loss: 0.075 - val loss: 1.904, val task loss: 1.904\n",
      "model_3: train loss: 0.052, train task loss: 0.052 - val loss: 1.927, val task loss: 1.927\n",
      "model_4: train loss: 0.056, train task loss: 0.056 - val loss: 1.926, val task loss: 1.926\n",
      "model_5: train loss: 0.051, train task loss: 0.051 - val loss: 1.917, val task loss: 1.917\n",
      "model_6: train loss: 0.058, train task loss: 0.058 - val loss: 2.145, val task loss: 2.145\n",
      "model_7: train loss: 0.067, train task loss: 0.067 - val loss: 1.969, val task loss: 1.969\n",
      "model_8: train loss: 1.351, train task loss: 1.351 - val loss: 1.352, val task loss: 1.352 [*] Best so far\n",
      "model_9: train loss: 1.353, train task loss: 1.353 - val loss: 1.353, val task loss: 1.353 [*] Best so far\n",
      "model_10: train loss: 1.356, train task loss: 1.356 - val loss: 1.355, val task loss: 1.355 [*] Best so far\n",
      "model_11: train loss: 1.357, train task loss: 1.357 - val loss: 1.356, val task loss: 1.356 [*] Best so far\n",
      "model_12: train loss: 1.357, train task loss: 1.357 - val loss: 1.356, val task loss: 1.356 [*] Best so far\n",
      "model_13: train loss: 1.356, train task loss: 1.356 - val loss: 1.355, val task loss: 1.355 [*] Best so far\n",
      "\n",
      "Epoch: 33/100 - LR: 0.001000\n"
     ]
    },
    {
     "name": "stderr",
     "output_type": "stream",
     "text": [
      "100%|████████████████████████████████████████████████████████████████████████████████| 134/134 [00:02<00:00, 66.67it/s]\n"
     ]
    },
    {
     "name": "stdout",
     "output_type": "stream",
     "text": [
      "model_1: train loss: 0.058, train task loss: 0.058 - val loss: 1.993, val task loss: 1.993\n",
      "model_2: train loss: 0.065, train task loss: 0.065 - val loss: 1.938, val task loss: 1.938\n",
      "model_3: train loss: 0.046, train task loss: 0.046 - val loss: 1.958, val task loss: 1.958\n",
      "model_4: train loss: 0.049, train task loss: 0.049 - val loss: 1.955, val task loss: 1.955\n",
      "model_5: train loss: 0.044, train task loss: 0.044 - val loss: 1.947, val task loss: 1.947\n",
      "model_6: train loss: 0.051, train task loss: 0.051 - val loss: 2.185, val task loss: 2.185\n",
      "model_7: train loss: 0.059, train task loss: 0.059 - val loss: 2.003, val task loss: 2.003\n",
      "model_8: train loss: 1.350, train task loss: 1.350 - val loss: 1.351, val task loss: 1.351 [*] Best so far\n",
      "model_9: train loss: 1.352, train task loss: 1.352 - val loss: 1.352, val task loss: 1.352 [*] Best so far\n",
      "model_10: train loss: 1.355, train task loss: 1.355 - val loss: 1.354, val task loss: 1.354 [*] Best so far\n",
      "model_11: train loss: 1.356, train task loss: 1.356 - val loss: 1.356, val task loss: 1.356 [*] Best so far\n",
      "model_12: train loss: 1.356, train task loss: 1.356 - val loss: 1.356, val task loss: 1.356 [*] Best so far\n",
      "model_13: train loss: 1.355, train task loss: 1.355 - val loss: 1.354, val task loss: 1.354 [*] Best so far\n",
      "\n",
      "Epoch: 34/100 - LR: 0.001000\n"
     ]
    },
    {
     "name": "stderr",
     "output_type": "stream",
     "text": [
      "100%|████████████████████████████████████████████████████████████████████████████████| 134/134 [00:02<00:00, 56.15it/s]\n"
     ]
    },
    {
     "name": "stdout",
     "output_type": "stream",
     "text": [
      "model_1: train loss: 0.051, train task loss: 0.051 - val loss: 2.025, val task loss: 2.025\n",
      "model_2: train loss: 0.057, train task loss: 0.057 - val loss: 1.974, val task loss: 1.974\n",
      "model_3: train loss: 0.041, train task loss: 0.041 - val loss: 1.989, val task loss: 1.989\n",
      "model_4: train loss: 0.043, train task loss: 0.043 - val loss: 1.986, val task loss: 1.986\n",
      "model_5: train loss: 0.039, train task loss: 0.039 - val loss: 1.979, val task loss: 1.979\n",
      "model_6: train loss: 0.045, train task loss: 0.045 - val loss: 2.219, val task loss: 2.219\n",
      "model_7: train loss: 0.052, train task loss: 0.052 - val loss: 2.032, val task loss: 2.032\n",
      "model_8: train loss: 1.350, train task loss: 1.350 - val loss: 1.350, val task loss: 1.350 [*] Best so far\n",
      "model_9: train loss: 1.352, train task loss: 1.352 - val loss: 1.352, val task loss: 1.352 [*] Best so far\n",
      "model_10: train loss: 1.355, train task loss: 1.355 - val loss: 1.354, val task loss: 1.354 [*] Best so far\n",
      "model_11: train loss: 1.356, train task loss: 1.356 - val loss: 1.356, val task loss: 1.356 [*] Best so far\n",
      "model_12: train loss: 1.356, train task loss: 1.356 - val loss: 1.355, val task loss: 1.355 [*] Best so far\n",
      "model_13: train loss: 1.355, train task loss: 1.355 - val loss: 1.354, val task loss: 1.354 [*] Best so far\n",
      "\n",
      "Epoch: 35/100 - LR: 0.001000\n"
     ]
    },
    {
     "name": "stderr",
     "output_type": "stream",
     "text": [
      "100%|████████████████████████████████████████████████████████████████████████████████| 134/134 [00:02<00:00, 56.17it/s]\n"
     ]
    },
    {
     "name": "stdout",
     "output_type": "stream",
     "text": [
      "model_1: train loss: 0.044, train task loss: 0.044 - val loss: 2.051, val task loss: 2.051\n",
      "model_2: train loss: 0.050, train task loss: 0.050 - val loss: 2.002, val task loss: 2.002\n",
      "model_3: train loss: 0.036, train task loss: 0.036 - val loss: 2.015, val task loss: 2.015\n",
      "model_4: train loss: 0.038, train task loss: 0.038 - val loss: 2.009, val task loss: 2.009\n",
      "model_5: train loss: 0.035, train task loss: 0.035 - val loss: 2.002, val task loss: 2.002\n",
      "model_6: train loss: 0.040, train task loss: 0.040 - val loss: 2.249, val task loss: 2.249\n",
      "model_7: train loss: 0.046, train task loss: 0.046 - val loss: 2.057, val task loss: 2.057\n",
      "model_8: train loss: 1.348, train task loss: 1.348 - val loss: 1.349, val task loss: 1.349 [*] Best so far\n",
      "model_9: train loss: 1.350, train task loss: 1.350 - val loss: 1.351, val task loss: 1.351 [*] Best so far\n",
      "model_10: train loss: 1.354, train task loss: 1.354 - val loss: 1.353, val task loss: 1.353 [*] Best so far\n",
      "model_11: train loss: 1.355, train task loss: 1.355 - val loss: 1.355, val task loss: 1.355 [*] Best so far\n",
      "model_12: train loss: 1.355, train task loss: 1.355 - val loss: 1.355, val task loss: 1.355 [*] Best so far\n",
      "model_13: train loss: 1.354, train task loss: 1.354 - val loss: 1.353, val task loss: 1.353 [*] Best so far\n",
      "\n",
      "Epoch: 36/100 - LR: 0.001000\n"
     ]
    },
    {
     "name": "stderr",
     "output_type": "stream",
     "text": [
      "100%|████████████████████████████████████████████████████████████████████████████████| 134/134 [00:02<00:00, 54.42it/s]\n"
     ]
    },
    {
     "name": "stdout",
     "output_type": "stream",
     "text": [
      "model_1: train loss: 0.039, train task loss: 0.039 - val loss: 2.081, val task loss: 2.081\n",
      "model_2: train loss: 0.044, train task loss: 0.044 - val loss: 2.035, val task loss: 2.035\n",
      "model_3: train loss: 0.032, train task loss: 0.032 - val loss: 2.044, val task loss: 2.044\n",
      "model_4: train loss: 0.033, train task loss: 0.033 - val loss: 2.034, val task loss: 2.034\n",
      "model_5: train loss: 0.031, train task loss: 0.031 - val loss: 2.031, val task loss: 2.031\n",
      "model_6: train loss: 0.036, train task loss: 0.036 - val loss: 2.281, val task loss: 2.281\n",
      "model_7: train loss: 0.041, train task loss: 0.041 - val loss: 2.086, val task loss: 2.086\n",
      "model_8: train loss: 1.347, train task loss: 1.347 - val loss: 1.349, val task loss: 1.349 [*] Best so far\n",
      "model_9: train loss: 1.349, train task loss: 1.349 - val loss: 1.350, val task loss: 1.350 [*] Best so far\n",
      "model_10: train loss: 1.353, train task loss: 1.353 - val loss: 1.353, val task loss: 1.353 [*] Best so far\n",
      "model_11: train loss: 1.354, train task loss: 1.354 - val loss: 1.355, val task loss: 1.355 [*] Best so far\n",
      "model_12: train loss: 1.354, train task loss: 1.354 - val loss: 1.354, val task loss: 1.354 [*] Best so far\n",
      "model_13: train loss: 1.352, train task loss: 1.352 - val loss: 1.352, val task loss: 1.352 [*] Best so far\n",
      "\n",
      "Epoch: 37/100 - LR: 0.001000\n"
     ]
    },
    {
     "name": "stderr",
     "output_type": "stream",
     "text": [
      "100%|████████████████████████████████████████████████████████████████████████████████| 134/134 [00:02<00:00, 56.39it/s]\n"
     ]
    },
    {
     "name": "stdout",
     "output_type": "stream",
     "text": [
      "model_1: train loss: 0.035, train task loss: 0.035 - val loss: 2.110, val task loss: 2.110\n",
      "model_2: train loss: 0.039, train task loss: 0.039 - val loss: 2.067, val task loss: 2.067\n",
      "model_3: train loss: 0.029, train task loss: 0.029 - val loss: 2.070, val task loss: 2.070\n",
      "model_4: train loss: 0.030, train task loss: 0.030 - val loss: 2.058, val task loss: 2.058\n",
      "model_5: train loss: 0.028, train task loss: 0.028 - val loss: 2.058, val task loss: 2.058\n",
      "model_6: train loss: 0.033, train task loss: 0.033 - val loss: 2.311, val task loss: 2.311\n",
      "model_7: train loss: 0.037, train task loss: 0.037 - val loss: 2.113, val task loss: 2.113\n",
      "model_8: train loss: 1.345, train task loss: 1.345 - val loss: 1.348, val task loss: 1.348 [*] Best so far\n",
      "model_9: train loss: 1.347, train task loss: 1.347 - val loss: 1.349, val task loss: 1.349 [*] Best so far\n",
      "model_10: train loss: 1.352, train task loss: 1.352 - val loss: 1.352, val task loss: 1.352 [*] Best so far\n",
      "model_11: train loss: 1.353, train task loss: 1.353 - val loss: 1.354, val task loss: 1.354 [*] Best so far\n",
      "model_12: train loss: 1.353, train task loss: 1.353 - val loss: 1.354, val task loss: 1.354 [*] Best so far\n",
      "model_13: train loss: 1.351, train task loss: 1.351 - val loss: 1.351, val task loss: 1.351 [*] Best so far\n",
      "\n",
      "Epoch: 38/100 - LR: 0.001000\n"
     ]
    },
    {
     "name": "stderr",
     "output_type": "stream",
     "text": [
      "100%|████████████████████████████████████████████████████████████████████████████████| 134/134 [00:02<00:00, 55.49it/s]\n"
     ]
    },
    {
     "name": "stdout",
     "output_type": "stream",
     "text": [
      "model_1: train loss: 0.032, train task loss: 0.032 - val loss: 2.136, val task loss: 2.136\n",
      "model_2: train loss: 0.035, train task loss: 0.035 - val loss: 2.093, val task loss: 2.093\n",
      "model_3: train loss: 0.027, train task loss: 0.027 - val loss: 2.095, val task loss: 2.095\n",
      "model_4: train loss: 0.027, train task loss: 0.027 - val loss: 2.080, val task loss: 2.080\n",
      "model_5: train loss: 0.025, train task loss: 0.025 - val loss: 2.082, val task loss: 2.082\n",
      "model_6: train loss: 0.029, train task loss: 0.029 - val loss: 2.339, val task loss: 2.339\n",
      "model_7: train loss: 0.034, train task loss: 0.034 - val loss: 2.139, val task loss: 2.139\n",
      "model_8: train loss: 1.344, train task loss: 1.344 - val loss: 1.347, val task loss: 1.347 [*] Best so far\n",
      "model_9: train loss: 1.346, train task loss: 1.346 - val loss: 1.348, val task loss: 1.348 [*] Best so far\n",
      "model_10: train loss: 1.351, train task loss: 1.351 - val loss: 1.352, val task loss: 1.352 [*] Best so far\n",
      "model_11: train loss: 1.352, train task loss: 1.352 - val loss: 1.353, val task loss: 1.353 [*] Best so far\n",
      "model_12: train loss: 1.352, train task loss: 1.352 - val loss: 1.353, val task loss: 1.353 [*] Best so far\n",
      "model_13: train loss: 1.350, train task loss: 1.350 - val loss: 1.351, val task loss: 1.351 [*] Best so far\n",
      "\n",
      "Epoch: 39/100 - LR: 0.001000\n"
     ]
    },
    {
     "name": "stderr",
     "output_type": "stream",
     "text": [
      "100%|████████████████████████████████████████████████████████████████████████████████| 134/134 [00:02<00:00, 55.65it/s]\n"
     ]
    },
    {
     "name": "stdout",
     "output_type": "stream",
     "text": [
      "model_1: train loss: 0.029, train task loss: 0.029 - val loss: 2.160, val task loss: 2.160\n",
      "model_2: train loss: 0.032, train task loss: 0.032 - val loss: 2.118, val task loss: 2.118\n",
      "model_3: train loss: 0.024, train task loss: 0.024 - val loss: 2.119, val task loss: 2.119\n",
      "model_4: train loss: 0.024, train task loss: 0.024 - val loss: 2.104, val task loss: 2.104\n",
      "model_5: train loss: 0.023, train task loss: 0.023 - val loss: 2.105, val task loss: 2.105\n",
      "model_6: train loss: 0.027, train task loss: 0.027 - val loss: 2.366, val task loss: 2.366\n",
      "model_7: train loss: 0.030, train task loss: 0.030 - val loss: 2.164, val task loss: 2.164\n",
      "model_8: train loss: 1.343, train task loss: 1.343 - val loss: 1.346, val task loss: 1.346 [*] Best so far\n",
      "model_9: train loss: 1.344, train task loss: 1.344 - val loss: 1.347, val task loss: 1.347 [*] Best so far\n",
      "model_10: train loss: 1.350, train task loss: 1.350 - val loss: 1.351, val task loss: 1.351 [*] Best so far\n",
      "model_11: train loss: 1.351, train task loss: 1.351 - val loss: 1.352, val task loss: 1.352 [*] Best so far\n",
      "model_12: train loss: 1.351, train task loss: 1.351 - val loss: 1.352, val task loss: 1.352 [*] Best so far\n",
      "model_13: train loss: 1.349, train task loss: 1.349 - val loss: 1.350, val task loss: 1.350 [*] Best so far\n",
      "\n",
      "Epoch: 40/100 - LR: 0.001000\n"
     ]
    },
    {
     "name": "stderr",
     "output_type": "stream",
     "text": [
      "100%|████████████████████████████████████████████████████████████████████████████████| 134/134 [00:02<00:00, 55.85it/s]\n"
     ]
    },
    {
     "name": "stdout",
     "output_type": "stream",
     "text": [
      "model_1: train loss: 0.026, train task loss: 0.026 - val loss: 2.185, val task loss: 2.185\n",
      "model_2: train loss: 0.029, train task loss: 0.029 - val loss: 2.146, val task loss: 2.146\n",
      "model_3: train loss: 0.022, train task loss: 0.022 - val loss: 2.144, val task loss: 2.144\n",
      "model_4: train loss: 0.022, train task loss: 0.022 - val loss: 2.127, val task loss: 2.127\n",
      "model_5: train loss: 0.021, train task loss: 0.021 - val loss: 2.130, val task loss: 2.130\n",
      "model_6: train loss: 0.024, train task loss: 0.024 - val loss: 2.393, val task loss: 2.393\n",
      "model_7: train loss: 0.028, train task loss: 0.028 - val loss: 2.188, val task loss: 2.188\n",
      "model_8: train loss: 1.341, train task loss: 1.341 - val loss: 1.345, val task loss: 1.345 [*] Best so far\n",
      "model_9: train loss: 1.342, train task loss: 1.342 - val loss: 1.346, val task loss: 1.346 [*] Best so far\n",
      "model_10: train loss: 1.350, train task loss: 1.350 - val loss: 1.351, val task loss: 1.351 [*] Best so far\n",
      "model_11: train loss: 1.349, train task loss: 1.349 - val loss: 1.352, val task loss: 1.352 [*] Best so far\n",
      "model_12: train loss: 1.350, train task loss: 1.350 - val loss: 1.352, val task loss: 1.352 [*] Best so far\n",
      "model_13: train loss: 1.348, train task loss: 1.348 - val loss: 1.349, val task loss: 1.349 [*] Best so far\n",
      "\n",
      "Epoch: 41/100 - LR: 0.001000\n"
     ]
    },
    {
     "name": "stderr",
     "output_type": "stream",
     "text": [
      "100%|████████████████████████████████████████████████████████████████████████████████| 134/134 [00:02<00:00, 54.93it/s]\n"
     ]
    },
    {
     "name": "stdout",
     "output_type": "stream",
     "text": [
      "model_1: train loss: 0.024, train task loss: 0.024 - val loss: 2.204, val task loss: 2.204\n",
      "model_2: train loss: 0.026, train task loss: 0.026 - val loss: 2.168, val task loss: 2.168\n",
      "model_3: train loss: 0.020, train task loss: 0.020 - val loss: 2.163, val task loss: 2.163\n",
      "model_4: train loss: 0.020, train task loss: 0.020 - val loss: 2.145, val task loss: 2.145\n",
      "model_5: train loss: 0.019, train task loss: 0.019 - val loss: 2.148, val task loss: 2.148\n",
      "model_6: train loss: 0.022, train task loss: 0.022 - val loss: 2.414, val task loss: 2.414\n",
      "model_7: train loss: 0.025, train task loss: 0.025 - val loss: 2.207, val task loss: 2.207\n",
      "model_8: train loss: 1.340, train task loss: 1.340 - val loss: 1.343, val task loss: 1.343 [*] Best so far\n",
      "model_9: train loss: 1.340, train task loss: 1.340 - val loss: 1.344, val task loss: 1.344 [*] Best so far\n",
      "model_10: train loss: 1.349, train task loss: 1.349 - val loss: 1.350, val task loss: 1.350 [*] Best so far\n",
      "model_11: train loss: 1.348, train task loss: 1.348 - val loss: 1.351, val task loss: 1.351 [*] Best so far\n",
      "model_12: train loss: 1.349, train task loss: 1.349 - val loss: 1.351, val task loss: 1.351 [*] Best so far\n",
      "model_13: train loss: 1.347, train task loss: 1.347 - val loss: 1.347, val task loss: 1.347 [*] Best so far\n",
      "\n",
      "Epoch: 42/100 - LR: 0.001000\n"
     ]
    },
    {
     "name": "stderr",
     "output_type": "stream",
     "text": [
      "100%|████████████████████████████████████████████████████████████████████████████████| 134/134 [00:02<00:00, 53.00it/s]\n"
     ]
    },
    {
     "name": "stdout",
     "output_type": "stream",
     "text": [
      "model_1: train loss: 0.022, train task loss: 0.022 - val loss: 2.230, val task loss: 2.230\n",
      "model_2: train loss: 0.024, train task loss: 0.024 - val loss: 2.196, val task loss: 2.196\n",
      "model_3: train loss: 0.019, train task loss: 0.019 - val loss: 2.186, val task loss: 2.186\n",
      "model_4: train loss: 0.018, train task loss: 0.018 - val loss: 2.168, val task loss: 2.168\n",
      "model_5: train loss: 0.018, train task loss: 0.018 - val loss: 2.171, val task loss: 2.171\n",
      "model_6: train loss: 0.021, train task loss: 0.021 - val loss: 2.439, val task loss: 2.439\n",
      "model_7: train loss: 0.023, train task loss: 0.023 - val loss: 2.231, val task loss: 2.231\n",
      "model_8: train loss: 1.338, train task loss: 1.338 - val loss: 1.342, val task loss: 1.342 [*] Best so far\n",
      "model_9: train loss: 1.338, train task loss: 1.338 - val loss: 1.343, val task loss: 1.343 [*] Best so far\n",
      "model_10: train loss: 1.348, train task loss: 1.348 - val loss: 1.349, val task loss: 1.349 [*] Best so far\n",
      "model_11: train loss: 1.347, train task loss: 1.347 - val loss: 1.350, val task loss: 1.350 [*] Best so far\n",
      "model_12: train loss: 1.348, train task loss: 1.348 - val loss: 1.350, val task loss: 1.350 [*] Best so far\n",
      "model_13: train loss: 1.345, train task loss: 1.345 - val loss: 1.346, val task loss: 1.346 [*] Best so far\n",
      "\n",
      "Epoch: 43/100 - LR: 0.001000\n"
     ]
    },
    {
     "name": "stderr",
     "output_type": "stream",
     "text": [
      "100%|████████████████████████████████████████████████████████████████████████████████| 134/134 [00:02<00:00, 57.05it/s]\n"
     ]
    },
    {
     "name": "stdout",
     "output_type": "stream",
     "text": [
      "model_1: train loss: 0.020, train task loss: 0.020 - val loss: 2.251, val task loss: 2.251\n",
      "model_2: train loss: 0.022, train task loss: 0.022 - val loss: 2.219, val task loss: 2.219\n",
      "model_3: train loss: 0.017, train task loss: 0.017 - val loss: 2.210, val task loss: 2.210\n",
      "model_4: train loss: 0.017, train task loss: 0.017 - val loss: 2.187, val task loss: 2.187\n",
      "model_5: train loss: 0.016, train task loss: 0.016 - val loss: 2.193, val task loss: 2.193\n",
      "model_6: train loss: 0.019, train task loss: 0.019 - val loss: 2.462, val task loss: 2.462\n",
      "model_7: train loss: 0.022, train task loss: 0.022 - val loss: 2.251, val task loss: 2.251\n",
      "model_8: train loss: 1.335, train task loss: 1.335 - val loss: 1.340, val task loss: 1.340 [*] Best so far\n",
      "model_9: train loss: 1.335, train task loss: 1.335 - val loss: 1.341, val task loss: 1.341 [*] Best so far\n",
      "model_10: train loss: 1.346, train task loss: 1.346 - val loss: 1.348, val task loss: 1.348 [*] Best so far\n",
      "model_11: train loss: 1.344, train task loss: 1.344 - val loss: 1.348, val task loss: 1.348 [*] Best so far\n",
      "model_12: train loss: 1.346, train task loss: 1.346 - val loss: 1.349, val task loss: 1.349 [*] Best so far\n",
      "model_13: train loss: 1.343, train task loss: 1.343 - val loss: 1.345, val task loss: 1.345 [*] Best so far\n",
      "\n",
      "Epoch: 44/100 - LR: 0.001000\n"
     ]
    },
    {
     "name": "stderr",
     "output_type": "stream",
     "text": [
      "100%|████████████████████████████████████████████████████████████████████████████████| 134/134 [00:02<00:00, 56.52it/s]\n"
     ]
    },
    {
     "name": "stdout",
     "output_type": "stream",
     "text": [
      "model_1: train loss: 0.019, train task loss: 0.019 - val loss: 2.268, val task loss: 2.268\n",
      "model_2: train loss: 0.020, train task loss: 0.020 - val loss: 2.237, val task loss: 2.237\n",
      "model_3: train loss: 0.016, train task loss: 0.016 - val loss: 2.227, val task loss: 2.227\n",
      "model_4: train loss: 0.016, train task loss: 0.016 - val loss: 2.205, val task loss: 2.205\n",
      "model_5: train loss: 0.015, train task loss: 0.015 - val loss: 2.211, val task loss: 2.211\n",
      "model_6: train loss: 0.018, train task loss: 0.018 - val loss: 2.480, val task loss: 2.480\n",
      "model_7: train loss: 0.020, train task loss: 0.020 - val loss: 2.267, val task loss: 2.267\n",
      "model_8: train loss: 1.333, train task loss: 1.333 - val loss: 1.339, val task loss: 1.339 [*] Best so far\n",
      "model_9: train loss: 1.333, train task loss: 1.333 - val loss: 1.339, val task loss: 1.339 [*] Best so far\n",
      "model_10: train loss: 1.345, train task loss: 1.345 - val loss: 1.347, val task loss: 1.347 [*] Best so far\n",
      "model_11: train loss: 1.343, train task loss: 1.343 - val loss: 1.347, val task loss: 1.347 [*] Best so far\n",
      "model_12: train loss: 1.344, train task loss: 1.344 - val loss: 1.348, val task loss: 1.348 [*] Best so far\n",
      "model_13: train loss: 1.341, train task loss: 1.341 - val loss: 1.343, val task loss: 1.343 [*] Best so far\n",
      "\n",
      "Epoch: 45/100 - LR: 0.001000\n"
     ]
    },
    {
     "name": "stderr",
     "output_type": "stream",
     "text": [
      "100%|████████████████████████████████████████████████████████████████████████████████| 134/134 [00:02<00:00, 56.99it/s]\n"
     ]
    },
    {
     "name": "stdout",
     "output_type": "stream",
     "text": [
      "model_1: train loss: 0.017, train task loss: 0.017 - val loss: 2.288, val task loss: 2.288\n",
      "model_2: train loss: 0.018, train task loss: 0.018 - val loss: 2.257, val task loss: 2.257\n",
      "model_3: train loss: 0.015, train task loss: 0.015 - val loss: 2.245, val task loss: 2.245\n",
      "model_4: train loss: 0.014, train task loss: 0.014 - val loss: 2.222, val task loss: 2.222\n",
      "model_5: train loss: 0.014, train task loss: 0.014 - val loss: 2.228, val task loss: 2.228\n",
      "model_6: train loss: 0.017, train task loss: 0.017 - val loss: 2.501, val task loss: 2.501\n",
      "model_7: train loss: 0.019, train task loss: 0.019 - val loss: 2.286, val task loss: 2.286\n",
      "model_8: train loss: 1.331, train task loss: 1.331 - val loss: 1.337, val task loss: 1.337 [*] Best so far\n",
      "model_9: train loss: 1.331, train task loss: 1.331 - val loss: 1.337, val task loss: 1.337 [*] Best so far\n",
      "model_10: train loss: 1.344, train task loss: 1.344 - val loss: 1.346, val task loss: 1.346 [*] Best so far\n",
      "model_11: train loss: 1.342, train task loss: 1.342 - val loss: 1.346, val task loss: 1.346 [*] Best so far\n",
      "model_12: train loss: 1.343, train task loss: 1.343 - val loss: 1.346, val task loss: 1.346 [*] Best so far\n",
      "model_13: train loss: 1.339, train task loss: 1.339 - val loss: 1.341, val task loss: 1.341 [*] Best so far\n",
      "\n",
      "Epoch: 46/100 - LR: 0.001000\n"
     ]
    },
    {
     "name": "stderr",
     "output_type": "stream",
     "text": [
      "100%|████████████████████████████████████████████████████████████████████████████████| 134/134 [00:02<00:00, 58.02it/s]\n"
     ]
    },
    {
     "name": "stdout",
     "output_type": "stream",
     "text": [
      "model_1: train loss: 0.016, train task loss: 0.016 - val loss: 2.307, val task loss: 2.307\n",
      "model_2: train loss: 0.017, train task loss: 0.017 - val loss: 2.278, val task loss: 2.278\n",
      "model_3: train loss: 0.014, train task loss: 0.014 - val loss: 2.263, val task loss: 2.263\n",
      "model_4: train loss: 0.013, train task loss: 0.013 - val loss: 2.240, val task loss: 2.240\n",
      "model_5: train loss: 0.013, train task loss: 0.013 - val loss: 2.245, val task loss: 2.245\n",
      "model_6: train loss: 0.015, train task loss: 0.015 - val loss: 2.520, val task loss: 2.520\n",
      "model_7: train loss: 0.017, train task loss: 0.017 - val loss: 2.303, val task loss: 2.303\n",
      "model_8: train loss: 1.327, train task loss: 1.327 - val loss: 1.335, val task loss: 1.335 [*] Best so far\n",
      "model_9: train loss: 1.326, train task loss: 1.326 - val loss: 1.335, val task loss: 1.335 [*] Best so far\n",
      "model_10: train loss: 1.342, train task loss: 1.342 - val loss: 1.345, val task loss: 1.345 [*] Best so far\n",
      "model_11: train loss: 1.338, train task loss: 1.338 - val loss: 1.344, val task loss: 1.344 [*] Best so far\n",
      "model_12: train loss: 1.340, train task loss: 1.340 - val loss: 1.345, val task loss: 1.345 [*] Best so far\n",
      "model_13: train loss: 1.336, train task loss: 1.336 - val loss: 1.339, val task loss: 1.339 [*] Best so far\n",
      "\n",
      "Epoch: 47/100 - LR: 0.001000\n"
     ]
    },
    {
     "name": "stderr",
     "output_type": "stream",
     "text": [
      "100%|████████████████████████████████████████████████████████████████████████████████| 134/134 [00:02<00:00, 54.74it/s]\n"
     ]
    },
    {
     "name": "stdout",
     "output_type": "stream",
     "text": [
      "model_1: train loss: 0.015, train task loss: 0.015 - val loss: 2.323, val task loss: 2.323\n",
      "model_2: train loss: 0.016, train task loss: 0.016 - val loss: 2.294, val task loss: 2.294\n",
      "model_3: train loss: 0.013, train task loss: 0.013 - val loss: 2.278, val task loss: 2.278\n",
      "model_4: train loss: 0.013, train task loss: 0.013 - val loss: 2.254, val task loss: 2.254\n",
      "model_5: train loss: 0.012, train task loss: 0.012 - val loss: 2.260, val task loss: 2.260\n",
      "model_6: train loss: 0.014, train task loss: 0.014 - val loss: 2.538, val task loss: 2.538\n",
      "model_7: train loss: 0.016, train task loss: 0.016 - val loss: 2.319, val task loss: 2.319\n",
      "model_8: train loss: 1.324, train task loss: 1.324 - val loss: 1.332, val task loss: 1.332 [*] Best so far\n",
      "model_9: train loss: 1.323, train task loss: 1.323 - val loss: 1.332, val task loss: 1.332 [*] Best so far\n",
      "model_10: train loss: 1.340, train task loss: 1.340 - val loss: 1.343, val task loss: 1.343 [*] Best so far\n",
      "model_11: train loss: 1.335, train task loss: 1.335 - val loss: 1.342, val task loss: 1.342 [*] Best so far\n",
      "model_12: train loss: 1.338, train task loss: 1.338 - val loss: 1.343, val task loss: 1.343 [*] Best so far\n",
      "model_13: train loss: 1.332, train task loss: 1.332 - val loss: 1.336, val task loss: 1.336 [*] Best so far\n",
      "\n",
      "Epoch: 48/100 - LR: 0.001000\n"
     ]
    },
    {
     "name": "stderr",
     "output_type": "stream",
     "text": [
      "100%|████████████████████████████████████████████████████████████████████████████████| 134/134 [00:02<00:00, 56.58it/s]\n"
     ]
    },
    {
     "name": "stdout",
     "output_type": "stream",
     "text": [
      "model_1: train loss: 0.014, train task loss: 0.014 - val loss: 2.342, val task loss: 2.342\n",
      "model_2: train loss: 0.015, train task loss: 0.015 - val loss: 2.313, val task loss: 2.313\n",
      "model_3: train loss: 0.012, train task loss: 0.012 - val loss: 2.296, val task loss: 2.296\n",
      "model_4: train loss: 0.012, train task loss: 0.012 - val loss: 2.271, val task loss: 2.271\n",
      "model_5: train loss: 0.011, train task loss: 0.011 - val loss: 2.278, val task loss: 2.278\n",
      "model_6: train loss: 0.013, train task loss: 0.013 - val loss: 2.556, val task loss: 2.556\n",
      "model_7: train loss: 0.015, train task loss: 0.015 - val loss: 2.336, val task loss: 2.336\n",
      "model_8: train loss: 1.321, train task loss: 1.321 - val loss: 1.330, val task loss: 1.330 [*] Best so far\n",
      "model_9: train loss: 1.319, train task loss: 1.319 - val loss: 1.329, val task loss: 1.329 [*] Best so far\n",
      "model_10: train loss: 1.338, train task loss: 1.338 - val loss: 1.342, val task loss: 1.342 [*] Best so far\n",
      "model_11: train loss: 1.332, train task loss: 1.332 - val loss: 1.340, val task loss: 1.340 [*] Best so far\n",
      "model_12: train loss: 1.335, train task loss: 1.335 - val loss: 1.341, val task loss: 1.341 [*] Best so far\n",
      "model_13: train loss: 1.329, train task loss: 1.329 - val loss: 1.333, val task loss: 1.333 [*] Best so far\n",
      "\n",
      "Epoch: 49/100 - LR: 0.001000\n"
     ]
    },
    {
     "name": "stderr",
     "output_type": "stream",
     "text": [
      "100%|████████████████████████████████████████████████████████████████████████████████| 134/134 [00:02<00:00, 55.70it/s]\n"
     ]
    },
    {
     "name": "stdout",
     "output_type": "stream",
     "text": [
      "model_1: train loss: 0.013, train task loss: 0.013 - val loss: 2.361, val task loss: 2.361\n",
      "model_2: train loss: 0.014, train task loss: 0.014 - val loss: 2.332, val task loss: 2.332\n",
      "model_3: train loss: 0.012, train task loss: 0.012 - val loss: 2.313, val task loss: 2.313\n",
      "model_4: train loss: 0.011, train task loss: 0.011 - val loss: 2.288, val task loss: 2.288\n",
      "model_5: train loss: 0.011, train task loss: 0.011 - val loss: 2.296, val task loss: 2.296\n",
      "model_6: train loss: 0.013, train task loss: 0.013 - val loss: 2.575, val task loss: 2.575\n",
      "model_7: train loss: 0.014, train task loss: 0.014 - val loss: 2.356, val task loss: 2.356\n",
      "model_8: train loss: 1.317, train task loss: 1.317 - val loss: 1.327, val task loss: 1.327 [*] Best so far\n",
      "model_9: train loss: 1.315, train task loss: 1.315 - val loss: 1.326, val task loss: 1.326 [*] Best so far\n",
      "model_10: train loss: 1.336, train task loss: 1.336 - val loss: 1.340, val task loss: 1.340 [*] Best so far\n",
      "model_11: train loss: 1.330, train task loss: 1.330 - val loss: 1.338, val task loss: 1.338 [*] Best so far\n",
      "model_12: train loss: 1.332, train task loss: 1.332 - val loss: 1.338, val task loss: 1.338 [*] Best so far\n",
      "model_13: train loss: 1.325, train task loss: 1.325 - val loss: 1.330, val task loss: 1.330 [*] Best so far\n",
      "\n",
      "Epoch: 50/100 - LR: 0.001000\n"
     ]
    },
    {
     "name": "stderr",
     "output_type": "stream",
     "text": [
      "100%|████████████████████████████████████████████████████████████████████████████████| 134/134 [00:02<00:00, 56.73it/s]\n"
     ]
    },
    {
     "name": "stdout",
     "output_type": "stream",
     "text": [
      "model_1: train loss: 0.012, train task loss: 0.012 - val loss: 2.379, val task loss: 2.379\n",
      "model_2: train loss: 0.013, train task loss: 0.013 - val loss: 2.349, val task loss: 2.349\n",
      "model_3: train loss: 0.011, train task loss: 0.011 - val loss: 2.328, val task loss: 2.328\n",
      "model_4: train loss: 0.010, train task loss: 0.010 - val loss: 2.301, val task loss: 2.301\n",
      "model_5: train loss: 0.010, train task loss: 0.010 - val loss: 2.311, val task loss: 2.311\n",
      "model_6: train loss: 0.012, train task loss: 0.012 - val loss: 2.592, val task loss: 2.592\n",
      "model_7: train loss: 0.013, train task loss: 0.013 - val loss: 2.371, val task loss: 2.371\n",
      "model_8: train loss: 1.313, train task loss: 1.313 - val loss: 1.323, val task loss: 1.323 [*] Best so far\n",
      "model_9: train loss: 1.310, train task loss: 1.310 - val loss: 1.323, val task loss: 1.323 [*] Best so far\n",
      "model_10: train loss: 1.333, train task loss: 1.333 - val loss: 1.338, val task loss: 1.338 [*] Best so far\n",
      "model_11: train loss: 1.326, train task loss: 1.326 - val loss: 1.336, val task loss: 1.336 [*] Best so far\n",
      "model_12: train loss: 1.328, train task loss: 1.328 - val loss: 1.336, val task loss: 1.336 [*] Best so far\n",
      "model_13: train loss: 1.321, train task loss: 1.321 - val loss: 1.326, val task loss: 1.326 [*] Best so far\n",
      "\n",
      "Epoch: 51/100 - LR: 0.001000\n"
     ]
    },
    {
     "name": "stderr",
     "output_type": "stream",
     "text": [
      "100%|████████████████████████████████████████████████████████████████████████████████| 134/134 [00:02<00:00, 56.86it/s]\n"
     ]
    },
    {
     "name": "stdout",
     "output_type": "stream",
     "text": [
      "model_1: train loss: 0.012, train task loss: 0.012 - val loss: 2.396, val task loss: 2.396\n",
      "model_2: train loss: 0.012, train task loss: 0.012 - val loss: 2.368, val task loss: 2.368\n",
      "model_3: train loss: 0.010, train task loss: 0.010 - val loss: 2.344, val task loss: 2.344\n",
      "model_4: train loss: 0.010, train task loss: 0.010 - val loss: 2.317, val task loss: 2.317\n",
      "model_5: train loss: 0.010, train task loss: 0.010 - val loss: 2.327, val task loss: 2.327\n",
      "model_6: train loss: 0.011, train task loss: 0.011 - val loss: 2.611, val task loss: 2.611\n",
      "model_7: train loss: 0.013, train task loss: 0.013 - val loss: 2.388, val task loss: 2.388\n",
      "model_8: train loss: 1.309, train task loss: 1.309 - val loss: 1.320, val task loss: 1.320 [*] Best so far\n",
      "model_9: train loss: 1.306, train task loss: 1.306 - val loss: 1.319, val task loss: 1.319 [*] Best so far\n",
      "model_10: train loss: 1.332, train task loss: 1.332 - val loss: 1.336, val task loss: 1.336 [*] Best so far\n",
      "model_11: train loss: 1.323, train task loss: 1.323 - val loss: 1.333, val task loss: 1.333 [*] Best so far\n",
      "model_12: train loss: 1.326, train task loss: 1.326 - val loss: 1.333, val task loss: 1.333 [*] Best so far\n",
      "model_13: train loss: 1.316, train task loss: 1.316 - val loss: 1.323, val task loss: 1.323 [*] Best so far\n",
      "\n",
      "Epoch: 52/100 - LR: 0.001000\n"
     ]
    },
    {
     "name": "stderr",
     "output_type": "stream",
     "text": [
      "100%|████████████████████████████████████████████████████████████████████████████████| 134/134 [00:02<00:00, 58.52it/s]\n"
     ]
    },
    {
     "name": "stdout",
     "output_type": "stream",
     "text": [
      "model_1: train loss: 0.011, train task loss: 0.011 - val loss: 2.414, val task loss: 2.414\n",
      "model_2: train loss: 0.012, train task loss: 0.012 - val loss: 2.385, val task loss: 2.385\n",
      "model_3: train loss: 0.010, train task loss: 0.010 - val loss: 2.360, val task loss: 2.360\n",
      "model_4: train loss: 0.009, train task loss: 0.009 - val loss: 2.332, val task loss: 2.332\n",
      "model_5: train loss: 0.009, train task loss: 0.009 - val loss: 2.342, val task loss: 2.342\n",
      "model_6: train loss: 0.011, train task loss: 0.011 - val loss: 2.630, val task loss: 2.630\n",
      "model_7: train loss: 0.012, train task loss: 0.012 - val loss: 2.405, val task loss: 2.405\n",
      "model_8: train loss: 1.303, train task loss: 1.303 - val loss: 1.316, val task loss: 1.316 [*] Best so far\n",
      "model_9: train loss: 1.300, train task loss: 1.300 - val loss: 1.316, val task loss: 1.316 [*] Best so far\n",
      "model_10: train loss: 1.328, train task loss: 1.328 - val loss: 1.334, val task loss: 1.334 [*] Best so far\n",
      "model_11: train loss: 1.319, train task loss: 1.319 - val loss: 1.331, val task loss: 1.331 [*] Best so far\n",
      "model_12: train loss: 1.321, train task loss: 1.321 - val loss: 1.330, val task loss: 1.330 [*] Best so far\n",
      "model_13: train loss: 1.311, train task loss: 1.311 - val loss: 1.318, val task loss: 1.318 [*] Best so far\n",
      "\n",
      "Epoch: 53/100 - LR: 0.001000\n"
     ]
    },
    {
     "name": "stderr",
     "output_type": "stream",
     "text": [
      "100%|████████████████████████████████████████████████████████████████████████████████| 134/134 [00:02<00:00, 55.95it/s]\n"
     ]
    },
    {
     "name": "stdout",
     "output_type": "stream",
     "text": [
      "model_1: train loss: 0.010, train task loss: 0.010 - val loss: 2.428, val task loss: 2.428\n",
      "model_2: train loss: 0.011, train task loss: 0.011 - val loss: 2.399, val task loss: 2.399\n",
      "model_3: train loss: 0.009, train task loss: 0.009 - val loss: 2.374, val task loss: 2.374\n",
      "model_4: train loss: 0.009, train task loss: 0.009 - val loss: 2.346, val task loss: 2.346\n",
      "model_5: train loss: 0.009, train task loss: 0.009 - val loss: 2.356, val task loss: 2.356\n",
      "model_6: train loss: 0.010, train task loss: 0.010 - val loss: 2.644, val task loss: 2.644\n",
      "model_7: train loss: 0.011, train task loss: 0.011 - val loss: 2.419, val task loss: 2.419\n",
      "model_8: train loss: 1.296, train task loss: 1.296 - val loss: 1.312, val task loss: 1.312 [*] Best so far\n",
      "model_9: train loss: 1.294, train task loss: 1.294 - val loss: 1.311, val task loss: 1.311 [*] Best so far\n",
      "model_10: train loss: 1.325, train task loss: 1.325 - val loss: 1.332, val task loss: 1.332 [*] Best so far\n",
      "model_11: train loss: 1.314, train task loss: 1.314 - val loss: 1.328, val task loss: 1.328 [*] Best so far\n",
      "model_12: train loss: 1.316, train task loss: 1.316 - val loss: 1.326, val task loss: 1.326 [*] Best so far\n",
      "model_13: train loss: 1.305, train task loss: 1.305 - val loss: 1.314, val task loss: 1.314 [*] Best so far\n",
      "\n",
      "Epoch: 54/100 - LR: 0.001000\n"
     ]
    },
    {
     "name": "stderr",
     "output_type": "stream",
     "text": [
      "100%|████████████████████████████████████████████████████████████████████████████████| 134/134 [00:02<00:00, 54.49it/s]\n"
     ]
    },
    {
     "name": "stdout",
     "output_type": "stream",
     "text": [
      "model_1: train loss: 0.010, train task loss: 0.010 - val loss: 2.441, val task loss: 2.441\n",
      "model_2: train loss: 0.010, train task loss: 0.010 - val loss: 2.414, val task loss: 2.414\n",
      "model_3: train loss: 0.009, train task loss: 0.009 - val loss: 2.389, val task loss: 2.389\n",
      "model_4: train loss: 0.008, train task loss: 0.008 - val loss: 2.360, val task loss: 2.360\n",
      "model_5: train loss: 0.008, train task loss: 0.008 - val loss: 2.370, val task loss: 2.370\n",
      "model_6: train loss: 0.010, train task loss: 0.010 - val loss: 2.658, val task loss: 2.658\n",
      "model_7: train loss: 0.011, train task loss: 0.011 - val loss: 2.433, val task loss: 2.433\n",
      "model_8: train loss: 1.289, train task loss: 1.289 - val loss: 1.307, val task loss: 1.307 [*] Best so far\n",
      "model_9: train loss: 1.287, train task loss: 1.287 - val loss: 1.307, val task loss: 1.307 [*] Best so far\n",
      "model_10: train loss: 1.321, train task loss: 1.321 - val loss: 1.329, val task loss: 1.329 [*] Best so far\n",
      "model_11: train loss: 1.309, train task loss: 1.309 - val loss: 1.325, val task loss: 1.325 [*] Best so far\n",
      "model_12: train loss: 1.310, train task loss: 1.310 - val loss: 1.323, val task loss: 1.323 [*] Best so far\n",
      "model_13: train loss: 1.297, train task loss: 1.297 - val loss: 1.308, val task loss: 1.308 [*] Best so far\n",
      "\n",
      "Epoch: 55/100 - LR: 0.001000\n"
     ]
    },
    {
     "name": "stderr",
     "output_type": "stream",
     "text": [
      "100%|████████████████████████████████████████████████████████████████████████████████| 134/134 [00:02<00:00, 55.62it/s]\n"
     ]
    },
    {
     "name": "stdout",
     "output_type": "stream",
     "text": [
      "model_1: train loss: 0.009, train task loss: 0.009 - val loss: 2.455, val task loss: 2.455\n",
      "model_2: train loss: 0.010, train task loss: 0.010 - val loss: 2.428, val task loss: 2.428\n",
      "model_3: train loss: 0.008, train task loss: 0.008 - val loss: 2.403, val task loss: 2.403\n",
      "model_4: train loss: 0.008, train task loss: 0.008 - val loss: 2.373, val task loss: 2.373\n",
      "model_5: train loss: 0.008, train task loss: 0.008 - val loss: 2.384, val task loss: 2.384\n",
      "model_6: train loss: 0.009, train task loss: 0.009 - val loss: 2.673, val task loss: 2.673\n",
      "model_7: train loss: 0.010, train task loss: 0.010 - val loss: 2.447, val task loss: 2.447\n",
      "model_8: train loss: 1.281, train task loss: 1.281 - val loss: 1.301, val task loss: 1.301 [*] Best so far\n",
      "model_9: train loss: 1.279, train task loss: 1.279 - val loss: 1.302, val task loss: 1.302 [*] Best so far\n",
      "model_10: train loss: 1.317, train task loss: 1.317 - val loss: 1.327, val task loss: 1.327 [*] Best so far\n",
      "model_11: train loss: 1.303, train task loss: 1.303 - val loss: 1.321, val task loss: 1.321 [*] Best so far\n",
      "model_12: train loss: 1.304, train task loss: 1.304 - val loss: 1.319, val task loss: 1.319 [*] Best so far\n",
      "model_13: train loss: 1.290, train task loss: 1.290 - val loss: 1.303, val task loss: 1.303 [*] Best so far\n",
      "\n",
      "Epoch: 56/100 - LR: 0.001000\n"
     ]
    },
    {
     "name": "stderr",
     "output_type": "stream",
     "text": [
      "100%|████████████████████████████████████████████████████████████████████████████████| 134/134 [00:02<00:00, 58.10it/s]\n"
     ]
    },
    {
     "name": "stdout",
     "output_type": "stream",
     "text": [
      "model_1: train loss: 0.009, train task loss: 0.009 - val loss: 2.471, val task loss: 2.471\n",
      "model_2: train loss: 0.009, train task loss: 0.009 - val loss: 2.444, val task loss: 2.444\n",
      "model_3: train loss: 0.008, train task loss: 0.008 - val loss: 2.417, val task loss: 2.417\n",
      "model_4: train loss: 0.007, train task loss: 0.007 - val loss: 2.387, val task loss: 2.387\n",
      "model_5: train loss: 0.007, train task loss: 0.007 - val loss: 2.399, val task loss: 2.399\n",
      "model_6: train loss: 0.009, train task loss: 0.009 - val loss: 2.689, val task loss: 2.689\n",
      "model_7: train loss: 0.010, train task loss: 0.010 - val loss: 2.463, val task loss: 2.463\n",
      "model_8: train loss: 1.272, train task loss: 1.272 - val loss: 1.295, val task loss: 1.295 [*] Best so far\n",
      "model_9: train loss: 1.271, train task loss: 1.271 - val loss: 1.296, val task loss: 1.296 [*] Best so far\n",
      "model_10: train loss: 1.313, train task loss: 1.313 - val loss: 1.324, val task loss: 1.324 [*] Best so far\n",
      "model_11: train loss: 1.297, train task loss: 1.297 - val loss: 1.318, val task loss: 1.318 [*] Best so far\n",
      "model_12: train loss: 1.297, train task loss: 1.297 - val loss: 1.314, val task loss: 1.314 [*] Best so far\n",
      "model_13: train loss: 1.281, train task loss: 1.281 - val loss: 1.297, val task loss: 1.297 [*] Best so far\n",
      "\n",
      "Epoch: 57/100 - LR: 0.001000\n"
     ]
    },
    {
     "name": "stderr",
     "output_type": "stream",
     "text": [
      "100%|████████████████████████████████████████████████████████████████████████████████| 134/134 [00:02<00:00, 57.06it/s]\n"
     ]
    },
    {
     "name": "stdout",
     "output_type": "stream",
     "text": [
      "model_1: train loss: 0.008, train task loss: 0.008 - val loss: 2.483, val task loss: 2.483\n",
      "model_2: train loss: 0.009, train task loss: 0.009 - val loss: 2.457, val task loss: 2.457\n",
      "model_3: train loss: 0.008, train task loss: 0.008 - val loss: 2.430, val task loss: 2.430\n",
      "model_4: train loss: 0.007, train task loss: 0.007 - val loss: 2.399, val task loss: 2.399\n",
      "model_5: train loss: 0.007, train task loss: 0.007 - val loss: 2.411, val task loss: 2.411\n",
      "model_6: train loss: 0.008, train task loss: 0.008 - val loss: 2.702, val task loss: 2.702\n",
      "model_7: train loss: 0.009, train task loss: 0.009 - val loss: 2.474, val task loss: 2.474\n",
      "model_8: train loss: 1.264, train task loss: 1.264 - val loss: 1.289, val task loss: 1.289 [*] Best so far\n",
      "model_9: train loss: 1.264, train task loss: 1.264 - val loss: 1.291, val task loss: 1.291 [*] Best so far\n",
      "model_10: train loss: 1.309, train task loss: 1.309 - val loss: 1.321, val task loss: 1.321 [*] Best so far\n",
      "model_11: train loss: 1.293, train task loss: 1.293 - val loss: 1.313, val task loss: 1.313 [*] Best so far\n",
      "model_12: train loss: 1.292, train task loss: 1.292 - val loss: 1.309, val task loss: 1.309 [*] Best so far\n",
      "model_13: train loss: 1.274, train task loss: 1.274 - val loss: 1.290, val task loss: 1.290 [*] Best so far\n",
      "\n",
      "Epoch: 58/100 - LR: 0.001000\n"
     ]
    },
    {
     "name": "stderr",
     "output_type": "stream",
     "text": [
      "100%|████████████████████████████████████████████████████████████████████████████████| 134/134 [00:02<00:00, 56.26it/s]\n"
     ]
    },
    {
     "name": "stdout",
     "output_type": "stream",
     "text": [
      "model_1: train loss: 0.008, train task loss: 0.008 - val loss: 2.495, val task loss: 2.495\n",
      "model_2: train loss: 0.008, train task loss: 0.008 - val loss: 2.469, val task loss: 2.469\n",
      "model_3: train loss: 0.007, train task loss: 0.007 - val loss: 2.442, val task loss: 2.442\n",
      "model_4: train loss: 0.007, train task loss: 0.007 - val loss: 2.410, val task loss: 2.410\n",
      "model_5: train loss: 0.007, train task loss: 0.007 - val loss: 2.423, val task loss: 2.423\n",
      "model_6: train loss: 0.008, train task loss: 0.008 - val loss: 2.715, val task loss: 2.715\n",
      "model_7: train loss: 0.009, train task loss: 0.009 - val loss: 2.487, val task loss: 2.487\n",
      "model_8: train loss: 1.254, train task loss: 1.254 - val loss: 1.281, val task loss: 1.281 [*] Best so far\n",
      "model_9: train loss: 1.255, train task loss: 1.255 - val loss: 1.285, val task loss: 1.285 [*] Best so far\n",
      "model_10: train loss: 1.304, train task loss: 1.304 - val loss: 1.317, val task loss: 1.317 [*] Best so far\n",
      "model_11: train loss: 1.287, train task loss: 1.287 - val loss: 1.311, val task loss: 1.311 [*] Best so far\n",
      "model_12: train loss: 1.284, train task loss: 1.284 - val loss: 1.304, val task loss: 1.304 [*] Best so far\n",
      "model_13: train loss: 1.265, train task loss: 1.265 - val loss: 1.283, val task loss: 1.283 [*] Best so far\n",
      "\n",
      "Epoch: 59/100 - LR: 0.001000\n"
     ]
    },
    {
     "name": "stderr",
     "output_type": "stream",
     "text": [
      "100%|████████████████████████████████████████████████████████████████████████████████| 134/134 [00:02<00:00, 57.04it/s]\n"
     ]
    },
    {
     "name": "stdout",
     "output_type": "stream",
     "text": [
      "model_1: train loss: 0.008, train task loss: 0.008 - val loss: 2.508, val task loss: 2.508\n",
      "model_2: train loss: 0.008, train task loss: 0.008 - val loss: 2.484, val task loss: 2.484\n",
      "model_3: train loss: 0.007, train task loss: 0.007 - val loss: 2.456, val task loss: 2.456\n",
      "model_4: train loss: 0.006, train task loss: 0.006 - val loss: 2.424, val task loss: 2.424\n",
      "model_5: train loss: 0.006, train task loss: 0.006 - val loss: 2.437, val task loss: 2.437\n",
      "model_6: train loss: 0.007, train task loss: 0.007 - val loss: 2.728, val task loss: 2.728\n",
      "model_7: train loss: 0.008, train task loss: 0.008 - val loss: 2.500, val task loss: 2.500\n",
      "model_8: train loss: 1.245, train task loss: 1.245 - val loss: 1.275, val task loss: 1.275 [*] Best so far\n",
      "model_9: train loss: 1.248, train task loss: 1.248 - val loss: 1.279, val task loss: 1.279 [*] Best so far\n",
      "model_10: train loss: 1.300, train task loss: 1.300 - val loss: 1.314, val task loss: 1.314 [*] Best so far\n",
      "model_11: train loss: 1.280, train task loss: 1.280 - val loss: 1.304, val task loss: 1.304 [*] Best so far\n",
      "model_12: train loss: 1.278, train task loss: 1.278 - val loss: 1.299, val task loss: 1.299 [*] Best so far\n",
      "model_13: train loss: 1.257, train task loss: 1.257 - val loss: 1.277, val task loss: 1.277 [*] Best so far\n",
      "\n",
      "Epoch: 60/100 - LR: 0.001000\n"
     ]
    },
    {
     "name": "stderr",
     "output_type": "stream",
     "text": [
      "100%|████████████████████████████████████████████████████████████████████████████████| 134/134 [00:02<00:00, 57.64it/s]\n"
     ]
    },
    {
     "name": "stdout",
     "output_type": "stream",
     "text": [
      "model_1: train loss: 0.007, train task loss: 0.007 - val loss: 2.519, val task loss: 2.519\n",
      "model_2: train loss: 0.008, train task loss: 0.008 - val loss: 2.497, val task loss: 2.497\n",
      "model_3: train loss: 0.007, train task loss: 0.007 - val loss: 2.469, val task loss: 2.469\n",
      "model_4: train loss: 0.006, train task loss: 0.006 - val loss: 2.436, val task loss: 2.436\n",
      "model_5: train loss: 0.006, train task loss: 0.006 - val loss: 2.449, val task loss: 2.449\n",
      "model_6: train loss: 0.007, train task loss: 0.007 - val loss: 2.741, val task loss: 2.741\n",
      "model_7: train loss: 0.008, train task loss: 0.008 - val loss: 2.512, val task loss: 2.512\n",
      "model_8: train loss: 1.231, train task loss: 1.231 - val loss: 1.266, val task loss: 1.266 [*] Best so far\n",
      "model_9: train loss: 1.236, train task loss: 1.236 - val loss: 1.272, val task loss: 1.272 [*] Best so far\n",
      "model_10: train loss: 1.294, train task loss: 1.294 - val loss: 1.310, val task loss: 1.310 [*] Best so far\n",
      "model_11: train loss: 1.272, train task loss: 1.272 - val loss: 1.300, val task loss: 1.300 [*] Best so far\n",
      "model_12: train loss: 1.267, train task loss: 1.267 - val loss: 1.293, val task loss: 1.293 [*] Best so far\n",
      "model_13: train loss: 1.244, train task loss: 1.244 - val loss: 1.269, val task loss: 1.269 [*] Best so far\n",
      "\n",
      "Epoch: 61/100 - LR: 0.001000\n"
     ]
    },
    {
     "name": "stderr",
     "output_type": "stream",
     "text": [
      "100%|████████████████████████████████████████████████████████████████████████████████| 134/134 [00:02<00:00, 55.64it/s]\n"
     ]
    },
    {
     "name": "stdout",
     "output_type": "stream",
     "text": [
      "model_1: train loss: 0.007, train task loss: 0.007 - val loss: 2.532, val task loss: 2.532\n",
      "model_2: train loss: 0.007, train task loss: 0.007 - val loss: 2.510, val task loss: 2.510\n",
      "model_3: train loss: 0.006, train task loss: 0.006 - val loss: 2.481, val task loss: 2.481\n",
      "model_4: train loss: 0.006, train task loss: 0.006 - val loss: 2.447, val task loss: 2.447\n",
      "model_5: train loss: 0.006, train task loss: 0.006 - val loss: 2.460, val task loss: 2.460\n",
      "model_6: train loss: 0.007, train task loss: 0.007 - val loss: 2.754, val task loss: 2.754\n",
      "model_7: train loss: 0.008, train task loss: 0.008 - val loss: 2.524, val task loss: 2.524\n",
      "model_8: train loss: 1.221, train task loss: 1.221 - val loss: 1.257, val task loss: 1.257 [*] Best so far\n",
      "model_9: train loss: 1.227, train task loss: 1.227 - val loss: 1.265, val task loss: 1.265 [*] Best so far\n",
      "model_10: train loss: 1.288, train task loss: 1.288 - val loss: 1.305, val task loss: 1.305 [*] Best so far\n",
      "model_11: train loss: 1.266, train task loss: 1.266 - val loss: 1.297, val task loss: 1.297 [*] Best so far\n",
      "model_12: train loss: 1.260, train task loss: 1.260 - val loss: 1.287, val task loss: 1.287 [*] Best so far\n",
      "model_13: train loss: 1.235, train task loss: 1.235 - val loss: 1.260, val task loss: 1.260 [*] Best so far\n",
      "\n",
      "Epoch: 62/100 - LR: 0.001000\n"
     ]
    },
    {
     "name": "stderr",
     "output_type": "stream",
     "text": [
      "100%|████████████████████████████████████████████████████████████████████████████████| 134/134 [00:02<00:00, 54.75it/s]\n"
     ]
    },
    {
     "name": "stdout",
     "output_type": "stream",
     "text": [
      "model_1: train loss: 0.007, train task loss: 0.007 - val loss: 2.545, val task loss: 2.545\n",
      "model_2: train loss: 0.007, train task loss: 0.007 - val loss: 2.522, val task loss: 2.522\n",
      "model_3: train loss: 0.006, train task loss: 0.006 - val loss: 2.492, val task loss: 2.492\n",
      "model_4: train loss: 0.006, train task loss: 0.006 - val loss: 2.457, val task loss: 2.457\n",
      "model_5: train loss: 0.006, train task loss: 0.006 - val loss: 2.471, val task loss: 2.471\n",
      "model_6: train loss: 0.007, train task loss: 0.007 - val loss: 2.769, val task loss: 2.769\n",
      "model_7: train loss: 0.007, train task loss: 0.007 - val loss: 2.536, val task loss: 2.536\n",
      "model_8: train loss: 1.206, train task loss: 1.206 - val loss: 1.249, val task loss: 1.249 [*] Best so far\n",
      "model_9: train loss: 1.215, train task loss: 1.215 - val loss: 1.258, val task loss: 1.258 [*] Best so far\n",
      "model_10: train loss: 1.281, train task loss: 1.281 - val loss: 1.300, val task loss: 1.300 [*] Best so far\n",
      "model_11: train loss: 1.257, train task loss: 1.257 - val loss: 1.293, val task loss: 1.293 [*] Best so far\n",
      "model_12: train loss: 1.249, train task loss: 1.249 - val loss: 1.280, val task loss: 1.280 [*] Best so far\n",
      "model_13: train loss: 1.222, train task loss: 1.222 - val loss: 1.251, val task loss: 1.251 [*] Best so far\n",
      "\n",
      "Epoch: 63/100 - LR: 0.001000\n"
     ]
    },
    {
     "name": "stderr",
     "output_type": "stream",
     "text": [
      "100%|████████████████████████████████████████████████████████████████████████████████| 134/134 [00:02<00:00, 57.04it/s]\n"
     ]
    },
    {
     "name": "stdout",
     "output_type": "stream",
     "text": [
      "model_1: train loss: 0.006, train task loss: 0.006 - val loss: 2.556, val task loss: 2.556\n",
      "model_2: train loss: 0.007, train task loss: 0.007 - val loss: 2.534, val task loss: 2.534\n",
      "model_3: train loss: 0.006, train task loss: 0.006 - val loss: 2.504, val task loss: 2.504\n",
      "model_4: train loss: 0.005, train task loss: 0.005 - val loss: 2.468, val task loss: 2.468\n",
      "model_5: train loss: 0.005, train task loss: 0.005 - val loss: 2.481, val task loss: 2.481\n",
      "model_6: train loss: 0.006, train task loss: 0.006 - val loss: 2.781, val task loss: 2.781\n",
      "model_7: train loss: 0.007, train task loss: 0.007 - val loss: 2.548, val task loss: 2.548\n",
      "model_8: train loss: 1.191, train task loss: 1.191 - val loss: 1.241, val task loss: 1.241 [*] Best so far\n",
      "model_9: train loss: 1.202, train task loss: 1.202 - val loss: 1.250, val task loss: 1.250 [*] Best so far\n",
      "model_10: train loss: 1.273, train task loss: 1.273 - val loss: 1.295, val task loss: 1.295 [*] Best so far\n",
      "model_11: train loss: 1.247, train task loss: 1.247 - val loss: 1.285, val task loss: 1.285 [*] Best so far\n",
      "model_12: train loss: 1.237, train task loss: 1.237 - val loss: 1.273, val task loss: 1.273 [*] Best so far\n",
      "model_13: train loss: 1.207, train task loss: 1.207 - val loss: 1.244, val task loss: 1.244 [*] Best so far\n",
      "\n",
      "Epoch: 64/100 - LR: 0.001000\n"
     ]
    },
    {
     "name": "stderr",
     "output_type": "stream",
     "text": [
      "100%|████████████████████████████████████████████████████████████████████████████████| 134/134 [00:02<00:00, 56.81it/s]\n"
     ]
    },
    {
     "name": "stdout",
     "output_type": "stream",
     "text": [
      "model_1: train loss: 0.006, train task loss: 0.006 - val loss: 2.569, val task loss: 2.569\n",
      "model_2: train loss: 0.006, train task loss: 0.006 - val loss: 2.546, val task loss: 2.546\n",
      "model_3: train loss: 0.006, train task loss: 0.006 - val loss: 2.517, val task loss: 2.517\n",
      "model_4: train loss: 0.005, train task loss: 0.005 - val loss: 2.480, val task loss: 2.480\n",
      "model_5: train loss: 0.005, train task loss: 0.005 - val loss: 2.495, val task loss: 2.495\n",
      "model_6: train loss: 0.006, train task loss: 0.006 - val loss: 2.793, val task loss: 2.793\n",
      "model_7: train loss: 0.007, train task loss: 0.007 - val loss: 2.560, val task loss: 2.560\n",
      "model_8: train loss: 1.178, train task loss: 1.178 - val loss: 1.231, val task loss: 1.231 [*] Best so far\n",
      "model_9: train loss: 1.191, train task loss: 1.191 - val loss: 1.243, val task loss: 1.243 [*] Best so far\n",
      "model_10: train loss: 1.265, train task loss: 1.265 - val loss: 1.289, val task loss: 1.289 [*] Best so far\n",
      "model_11: train loss: 1.240, train task loss: 1.240 - val loss: 1.279, val task loss: 1.279 [*] Best so far\n",
      "model_12: train loss: 1.227, train task loss: 1.227 - val loss: 1.266, val task loss: 1.266 [*] Best so far\n",
      "model_13: train loss: 1.196, train task loss: 1.196 - val loss: 1.236, val task loss: 1.236 [*] Best so far\n",
      "\n",
      "Epoch: 65/100 - LR: 0.001000\n"
     ]
    },
    {
     "name": "stderr",
     "output_type": "stream",
     "text": [
      "100%|████████████████████████████████████████████████████████████████████████████████| 134/134 [00:02<00:00, 52.08it/s]\n"
     ]
    },
    {
     "name": "stdout",
     "output_type": "stream",
     "text": [
      "model_1: train loss: 0.006, train task loss: 0.006 - val loss: 2.580, val task loss: 2.580\n",
      "model_2: train loss: 0.006, train task loss: 0.006 - val loss: 2.557, val task loss: 2.557\n",
      "model_3: train loss: 0.005, train task loss: 0.005 - val loss: 2.527, val task loss: 2.527\n",
      "model_4: train loss: 0.005, train task loss: 0.005 - val loss: 2.490, val task loss: 2.490\n",
      "model_5: train loss: 0.005, train task loss: 0.005 - val loss: 2.505, val task loss: 2.505\n",
      "model_6: train loss: 0.006, train task loss: 0.006 - val loss: 2.805, val task loss: 2.805\n",
      "model_7: train loss: 0.006, train task loss: 0.006 - val loss: 2.570, val task loss: 2.570\n",
      "model_8: train loss: 1.168, train task loss: 1.168 - val loss: 1.221, val task loss: 1.221 [*] Best so far\n",
      "model_9: train loss: 1.183, train task loss: 1.183 - val loss: 1.234, val task loss: 1.234 [*] Best so far\n",
      "model_10: train loss: 1.260, train task loss: 1.260 - val loss: 1.283, val task loss: 1.283 [*] Best so far\n",
      "model_11: train loss: 1.232, train task loss: 1.232 - val loss: 1.274, val task loss: 1.274 [*] Best so far\n",
      "model_12: train loss: 1.220, train task loss: 1.220 - val loss: 1.258, val task loss: 1.258 [*] Best so far\n",
      "model_13: train loss: 1.188, train task loss: 1.188 - val loss: 1.224, val task loss: 1.224 [*] Best so far\n",
      "\n",
      "Epoch: 66/100 - LR: 0.001000\n"
     ]
    },
    {
     "name": "stderr",
     "output_type": "stream",
     "text": [
      "100%|████████████████████████████████████████████████████████████████████████████████| 134/134 [00:02<00:00, 49.86it/s]\n"
     ]
    },
    {
     "name": "stdout",
     "output_type": "stream",
     "text": [
      "model_1: train loss: 0.006, train task loss: 0.006 - val loss: 2.591, val task loss: 2.591\n",
      "model_2: train loss: 0.006, train task loss: 0.006 - val loss: 2.568, val task loss: 2.568\n",
      "model_3: train loss: 0.005, train task loss: 0.005 - val loss: 2.538, val task loss: 2.538\n",
      "model_4: train loss: 0.005, train task loss: 0.005 - val loss: 2.501, val task loss: 2.501\n",
      "model_5: train loss: 0.005, train task loss: 0.005 - val loss: 2.516, val task loss: 2.516\n",
      "model_6: train loss: 0.006, train task loss: 0.006 - val loss: 2.817, val task loss: 2.817\n",
      "model_7: train loss: 0.006, train task loss: 0.006 - val loss: 2.580, val task loss: 2.580\n",
      "model_8: train loss: 1.148, train task loss: 1.148 - val loss: 1.215, val task loss: 1.215 [*] Best so far\n",
      "model_9: train loss: 1.166, train task loss: 1.166 - val loss: 1.228, val task loss: 1.228 [*] Best so far\n",
      "model_10: train loss: 1.248, train task loss: 1.248 - val loss: 1.278, val task loss: 1.278 [*] Best so far\n",
      "model_11: train loss: 1.220, train task loss: 1.220 - val loss: 1.268, val task loss: 1.268 [*] Best so far\n",
      "model_12: train loss: 1.204, train task loss: 1.204 - val loss: 1.251, val task loss: 1.251 [*] Best so far\n",
      "model_13: train loss: 1.169, train task loss: 1.169 - val loss: 1.218, val task loss: 1.218 [*] Best so far\n",
      "\n",
      "Epoch: 67/100 - LR: 0.001000\n"
     ]
    },
    {
     "name": "stderr",
     "output_type": "stream",
     "text": [
      "100%|████████████████████████████████████████████████████████████████████████████████| 134/134 [00:02<00:00, 48.54it/s]\n"
     ]
    },
    {
     "name": "stdout",
     "output_type": "stream",
     "text": [
      "model_1: train loss: 0.005, train task loss: 0.005 - val loss: 2.604, val task loss: 2.604\n",
      "model_2: train loss: 0.006, train task loss: 0.006 - val loss: 2.580, val task loss: 2.580\n",
      "model_3: train loss: 0.005, train task loss: 0.005 - val loss: 2.549, val task loss: 2.549\n",
      "model_4: train loss: 0.005, train task loss: 0.005 - val loss: 2.511, val task loss: 2.511\n",
      "model_5: train loss: 0.005, train task loss: 0.005 - val loss: 2.527, val task loss: 2.527\n",
      "model_6: train loss: 0.005, train task loss: 0.005 - val loss: 2.830, val task loss: 2.830\n",
      "model_7: train loss: 0.006, train task loss: 0.006 - val loss: 2.592, val task loss: 2.592\n",
      "model_8: train loss: 1.136, train task loss: 1.136 - val loss: 1.203, val task loss: 1.203 [*] Best so far\n",
      "model_9: train loss: 1.156, train task loss: 1.156 - val loss: 1.219, val task loss: 1.219 [*] Best so far\n",
      "model_10: train loss: 1.241, train task loss: 1.241 - val loss: 1.271, val task loss: 1.271 [*] Best so far\n",
      "model_11: train loss: 1.210, train task loss: 1.210 - val loss: 1.262, val task loss: 1.262 [*] Best so far\n",
      "model_12: train loss: 1.194, train task loss: 1.194 - val loss: 1.242, val task loss: 1.242 [*] Best so far\n",
      "model_13: train loss: 1.157, train task loss: 1.157 - val loss: 1.207, val task loss: 1.207 [*] Best so far\n",
      "\n",
      "Epoch: 68/100 - LR: 0.001000\n"
     ]
    },
    {
     "name": "stderr",
     "output_type": "stream",
     "text": [
      "100%|████████████████████████████████████████████████████████████████████████████████| 134/134 [00:02<00:00, 47.35it/s]\n"
     ]
    },
    {
     "name": "stdout",
     "output_type": "stream",
     "text": [
      "model_1: train loss: 0.005, train task loss: 0.005 - val loss: 2.614, val task loss: 2.614\n",
      "model_2: train loss: 0.005, train task loss: 0.005 - val loss: 2.591, val task loss: 2.591\n",
      "model_3: train loss: 0.005, train task loss: 0.005 - val loss: 2.560, val task loss: 2.560\n",
      "model_4: train loss: 0.004, train task loss: 0.004 - val loss: 2.521, val task loss: 2.521\n",
      "model_5: train loss: 0.004, train task loss: 0.004 - val loss: 2.537, val task loss: 2.537\n",
      "model_6: train loss: 0.005, train task loss: 0.005 - val loss: 2.841, val task loss: 2.841\n",
      "model_7: train loss: 0.006, train task loss: 0.006 - val loss: 2.603, val task loss: 2.603\n",
      "model_8: train loss: 1.122, train task loss: 1.122 - val loss: 1.195, val task loss: 1.195 [*] Best so far\n",
      "model_9: train loss: 1.143, train task loss: 1.143 - val loss: 1.211, val task loss: 1.211 [*] Best so far\n",
      "model_10: train loss: 1.231, train task loss: 1.231 - val loss: 1.265, val task loss: 1.265 [*] Best so far\n",
      "model_11: train loss: 1.201, train task loss: 1.201 - val loss: 1.255, val task loss: 1.255 [*] Best so far\n",
      "model_12: train loss: 1.181, train task loss: 1.181 - val loss: 1.234, val task loss: 1.234 [*] Best so far\n",
      "model_13: train loss: 1.144, train task loss: 1.144 - val loss: 1.198, val task loss: 1.198 [*] Best so far\n",
      "\n",
      "Epoch: 69/100 - LR: 0.001000\n"
     ]
    },
    {
     "name": "stderr",
     "output_type": "stream",
     "text": [
      "100%|████████████████████████████████████████████████████████████████████████████████| 134/134 [00:02<00:00, 49.48it/s]\n"
     ]
    },
    {
     "name": "stdout",
     "output_type": "stream",
     "text": [
      "model_1: train loss: 0.005, train task loss: 0.005 - val loss: 2.624, val task loss: 2.624\n",
      "model_2: train loss: 0.005, train task loss: 0.005 - val loss: 2.602, val task loss: 2.602\n",
      "model_3: train loss: 0.005, train task loss: 0.005 - val loss: 2.570, val task loss: 2.570\n",
      "model_4: train loss: 0.004, train task loss: 0.004 - val loss: 2.532, val task loss: 2.532\n",
      "model_5: train loss: 0.004, train task loss: 0.004 - val loss: 2.548, val task loss: 2.548\n",
      "model_6: train loss: 0.005, train task loss: 0.005 - val loss: 2.852, val task loss: 2.852\n",
      "model_7: train loss: 0.006, train task loss: 0.006 - val loss: 2.614, val task loss: 2.614\n",
      "model_8: train loss: 1.106, train task loss: 1.106 - val loss: 1.186, val task loss: 1.186 [*] Best so far\n",
      "model_9: train loss: 1.130, train task loss: 1.130 - val loss: 1.203, val task loss: 1.203 [*] Best so far\n",
      "model_10: train loss: 1.220, train task loss: 1.220 - val loss: 1.257, val task loss: 1.257 [*] Best so far\n",
      "model_11: train loss: 1.190, train task loss: 1.190 - val loss: 1.249, val task loss: 1.249 [*] Best so far\n",
      "model_12: train loss: 1.167, train task loss: 1.167 - val loss: 1.225, val task loss: 1.225 [*] Best so far\n",
      "model_13: train loss: 1.130, train task loss: 1.130 - val loss: 1.189, val task loss: 1.189 [*] Best so far\n",
      "\n",
      "Epoch: 70/100 - LR: 0.001000\n"
     ]
    },
    {
     "name": "stderr",
     "output_type": "stream",
     "text": [
      "100%|████████████████████████████████████████████████████████████████████████████████| 134/134 [00:02<00:00, 53.77it/s]\n"
     ]
    },
    {
     "name": "stdout",
     "output_type": "stream",
     "text": [
      "model_1: train loss: 0.005, train task loss: 0.005 - val loss: 2.635, val task loss: 2.635\n",
      "model_2: train loss: 0.005, train task loss: 0.005 - val loss: 2.612, val task loss: 2.612\n",
      "model_3: train loss: 0.004, train task loss: 0.004 - val loss: 2.581, val task loss: 2.581\n",
      "model_4: train loss: 0.004, train task loss: 0.004 - val loss: 2.541, val task loss: 2.541\n",
      "model_5: train loss: 0.004, train task loss: 0.004 - val loss: 2.558, val task loss: 2.558\n",
      "model_6: train loss: 0.005, train task loss: 0.005 - val loss: 2.864, val task loss: 2.864\n",
      "model_7: train loss: 0.005, train task loss: 0.005 - val loss: 2.625, val task loss: 2.625\n",
      "model_8: train loss: 1.092, train task loss: 1.092 - val loss: 1.178, val task loss: 1.178 [*] Best so far\n",
      "model_9: train loss: 1.117, train task loss: 1.117 - val loss: 1.196, val task loss: 1.196 [*] Best so far\n",
      "model_10: train loss: 1.207, train task loss: 1.207 - val loss: 1.249, val task loss: 1.249 [*] Best so far\n",
      "model_11: train loss: 1.178, train task loss: 1.178 - val loss: 1.245, val task loss: 1.245 [*] Best so far\n",
      "model_12: train loss: 1.153, train task loss: 1.153 - val loss: 1.217, val task loss: 1.217 [*] Best so far\n",
      "model_13: train loss: 1.115, train task loss: 1.115 - val loss: 1.182, val task loss: 1.182 [*] Best so far\n",
      "\n",
      "Epoch: 71/100 - LR: 0.001000\n"
     ]
    },
    {
     "name": "stderr",
     "output_type": "stream",
     "text": [
      "100%|████████████████████████████████████████████████████████████████████████████████| 134/134 [00:02<00:00, 55.09it/s]\n"
     ]
    },
    {
     "name": "stdout",
     "output_type": "stream",
     "text": [
      "model_1: train loss: 0.005, train task loss: 0.005 - val loss: 2.647, val task loss: 2.647\n",
      "model_2: train loss: 0.005, train task loss: 0.005 - val loss: 2.623, val task loss: 2.623\n",
      "model_3: train loss: 0.004, train task loss: 0.004 - val loss: 2.592, val task loss: 2.592\n",
      "model_4: train loss: 0.004, train task loss: 0.004 - val loss: 2.552, val task loss: 2.552\n",
      "model_5: train loss: 0.004, train task loss: 0.004 - val loss: 2.569, val task loss: 2.569\n",
      "model_6: train loss: 0.005, train task loss: 0.005 - val loss: 2.876, val task loss: 2.876\n",
      "model_7: train loss: 0.005, train task loss: 0.005 - val loss: 2.636, val task loss: 2.636\n",
      "model_8: train loss: 1.079, train task loss: 1.079 - val loss: 1.169, val task loss: 1.169 [*] Best so far\n",
      "model_9: train loss: 1.105, train task loss: 1.105 - val loss: 1.188, val task loss: 1.188 [*] Best so far\n",
      "model_10: train loss: 1.196, train task loss: 1.196 - val loss: 1.240, val task loss: 1.240 [*] Best so far\n",
      "model_11: train loss: 1.168, train task loss: 1.168 - val loss: 1.236, val task loss: 1.236 [*] Best so far\n",
      "model_12: train loss: 1.141, train task loss: 1.141 - val loss: 1.208, val task loss: 1.208 [*] Best so far\n",
      "model_13: train loss: 1.104, train task loss: 1.104 - val loss: 1.172, val task loss: 1.172 [*] Best so far\n",
      "\n",
      "Epoch: 72/100 - LR: 0.001000\n"
     ]
    },
    {
     "name": "stderr",
     "output_type": "stream",
     "text": [
      "100%|████████████████████████████████████████████████████████████████████████████████| 134/134 [00:02<00:00, 59.90it/s]\n"
     ]
    },
    {
     "name": "stdout",
     "output_type": "stream",
     "text": [
      "model_1: train loss: 0.004, train task loss: 0.004 - val loss: 2.657, val task loss: 2.657\n",
      "model_2: train loss: 0.005, train task loss: 0.005 - val loss: 2.632, val task loss: 2.632\n",
      "model_3: train loss: 0.004, train task loss: 0.004 - val loss: 2.601, val task loss: 2.601\n",
      "model_4: train loss: 0.004, train task loss: 0.004 - val loss: 2.560, val task loss: 2.560\n",
      "model_5: train loss: 0.004, train task loss: 0.004 - val loss: 2.578, val task loss: 2.578\n",
      "model_6: train loss: 0.004, train task loss: 0.004 - val loss: 2.886, val task loss: 2.886\n",
      "model_7: train loss: 0.005, train task loss: 0.005 - val loss: 2.644, val task loss: 2.644\n",
      "model_8: train loss: 1.066, train task loss: 1.066 - val loss: 1.162, val task loss: 1.162 [*] Best so far\n",
      "model_9: train loss: 1.093, train task loss: 1.093 - val loss: 1.181, val task loss: 1.181 [*] Best so far\n",
      "model_10: train loss: 1.184, train task loss: 1.184 - val loss: 1.232, val task loss: 1.232 [*] Best so far\n",
      "model_11: train loss: 1.158, train task loss: 1.158 - val loss: 1.229, val task loss: 1.229 [*] Best so far\n",
      "model_12: train loss: 1.127, train task loss: 1.127 - val loss: 1.200, val task loss: 1.200 [*] Best so far\n",
      "model_13: train loss: 1.091, train task loss: 1.091 - val loss: 1.165, val task loss: 1.165 [*] Best so far\n",
      "\n",
      "Epoch: 73/100 - LR: 0.001000\n"
     ]
    },
    {
     "name": "stderr",
     "output_type": "stream",
     "text": [
      "100%|████████████████████████████████████████████████████████████████████████████████| 134/134 [00:02<00:00, 54.96it/s]\n"
     ]
    },
    {
     "name": "stdout",
     "output_type": "stream",
     "text": [
      "model_1: train loss: 0.004, train task loss: 0.004 - val loss: 2.668, val task loss: 2.668\n",
      "model_2: train loss: 0.004, train task loss: 0.004 - val loss: 2.643, val task loss: 2.643\n",
      "model_3: train loss: 0.004, train task loss: 0.004 - val loss: 2.611, val task loss: 2.611\n",
      "model_4: train loss: 0.004, train task loss: 0.004 - val loss: 2.569, val task loss: 2.569\n",
      "model_5: train loss: 0.004, train task loss: 0.004 - val loss: 2.588, val task loss: 2.588\n",
      "model_6: train loss: 0.004, train task loss: 0.004 - val loss: 2.898, val task loss: 2.898\n",
      "model_7: train loss: 0.005, train task loss: 0.005 - val loss: 2.655, val task loss: 2.655\n",
      "model_8: train loss: 1.056, train task loss: 1.056 - val loss: 1.153, val task loss: 1.153 [*] Best so far\n",
      "model_9: train loss: 1.084, train task loss: 1.084 - val loss: 1.174, val task loss: 1.174 [*] Best so far\n",
      "model_10: train loss: 1.173, train task loss: 1.173 - val loss: 1.222, val task loss: 1.222 [*] Best so far\n",
      "model_11: train loss: 1.150, train task loss: 1.150 - val loss: 1.228, val task loss: 1.228 [*] Best so far\n",
      "model_12: train loss: 1.117, train task loss: 1.117 - val loss: 1.191, val task loss: 1.191 [*] Best so far\n",
      "model_13: train loss: 1.080, train task loss: 1.080 - val loss: 1.154, val task loss: 1.154 [*] Best so far\n",
      "\n",
      "Epoch: 74/100 - LR: 0.001000\n"
     ]
    },
    {
     "name": "stderr",
     "output_type": "stream",
     "text": [
      "100%|████████████████████████████████████████████████████████████████████████████████| 134/134 [00:02<00:00, 54.83it/s]\n"
     ]
    },
    {
     "name": "stdout",
     "output_type": "stream",
     "text": [
      "model_1: train loss: 0.004, train task loss: 0.004 - val loss: 2.677, val task loss: 2.677\n",
      "model_2: train loss: 0.004, train task loss: 0.004 - val loss: 2.653, val task loss: 2.653\n",
      "model_3: train loss: 0.004, train task loss: 0.004 - val loss: 2.620, val task loss: 2.620\n",
      "model_4: train loss: 0.004, train task loss: 0.004 - val loss: 2.577, val task loss: 2.577\n",
      "model_5: train loss: 0.004, train task loss: 0.004 - val loss: 2.598, val task loss: 2.598\n",
      "model_6: train loss: 0.004, train task loss: 0.004 - val loss: 2.908, val task loss: 2.908\n",
      "model_7: train loss: 0.005, train task loss: 0.005 - val loss: 2.664, val task loss: 2.664\n",
      "model_8: train loss: 1.041, train task loss: 1.041 - val loss: 1.149, val task loss: 1.149 [*] Best so far\n",
      "model_9: train loss: 1.069, train task loss: 1.069 - val loss: 1.166, val task loss: 1.166 [*] Best so far\n",
      "model_10: train loss: 1.158, train task loss: 1.158 - val loss: 1.213, val task loss: 1.213 [*] Best so far\n",
      "model_11: train loss: 1.135, train task loss: 1.135 - val loss: 1.217, val task loss: 1.217 [*] Best so far\n",
      "model_12: train loss: 1.101, train task loss: 1.101 - val loss: 1.183, val task loss: 1.183 [*] Best so far\n",
      "model_13: train loss: 1.067, train task loss: 1.067 - val loss: 1.149, val task loss: 1.149 [*] Best so far\n",
      "\n",
      "Epoch: 75/100 - LR: 0.001000\n"
     ]
    },
    {
     "name": "stderr",
     "output_type": "stream",
     "text": [
      "100%|████████████████████████████████████████████████████████████████████████████████| 134/134 [00:02<00:00, 55.22it/s]\n"
     ]
    },
    {
     "name": "stdout",
     "output_type": "stream",
     "text": [
      "model_1: train loss: 0.004, train task loss: 0.004 - val loss: 2.685, val task loss: 2.685\n",
      "model_2: train loss: 0.004, train task loss: 0.004 - val loss: 2.662, val task loss: 2.662\n",
      "model_3: train loss: 0.004, train task loss: 0.004 - val loss: 2.629, val task loss: 2.629\n",
      "model_4: train loss: 0.003, train task loss: 0.003 - val loss: 2.586, val task loss: 2.586\n",
      "model_5: train loss: 0.003, train task loss: 0.003 - val loss: 2.606, val task loss: 2.606\n",
      "model_6: train loss: 0.004, train task loss: 0.004 - val loss: 2.917, val task loss: 2.917\n",
      "model_7: train loss: 0.004, train task loss: 0.004 - val loss: 2.672, val task loss: 2.672\n",
      "model_8: train loss: 1.035, train task loss: 1.035 - val loss: 1.148, val task loss: 1.148 [*] Best so far\n",
      "model_9: train loss: 1.062, train task loss: 1.062 - val loss: 1.165, val task loss: 1.165 [*] Best so far\n",
      "model_10: train loss: 1.150, train task loss: 1.150 - val loss: 1.208, val task loss: 1.208 [*] Best so far\n",
      "model_11: train loss: 1.132, train task loss: 1.132 - val loss: 1.211, val task loss: 1.211 [*] Best so far\n",
      "model_12: train loss: 1.094, train task loss: 1.094 - val loss: 1.183, val task loss: 1.183 [*] Best so far\n",
      "model_13: train loss: 1.059, train task loss: 1.059 - val loss: 1.148, val task loss: 1.148 [*] Best so far\n",
      "\n",
      "Epoch: 76/100 - LR: 0.001000\n"
     ]
    },
    {
     "name": "stderr",
     "output_type": "stream",
     "text": [
      "100%|████████████████████████████████████████████████████████████████████████████████| 134/134 [00:02<00:00, 55.01it/s]\n"
     ]
    },
    {
     "name": "stdout",
     "output_type": "stream",
     "text": [
      "model_1: train loss: 0.004, train task loss: 0.004 - val loss: 2.694, val task loss: 2.694\n",
      "model_2: train loss: 0.004, train task loss: 0.004 - val loss: 2.671, val task loss: 2.671\n",
      "model_3: train loss: 0.004, train task loss: 0.004 - val loss: 2.638, val task loss: 2.638\n",
      "model_4: train loss: 0.003, train task loss: 0.003 - val loss: 2.595, val task loss: 2.595\n",
      "model_5: train loss: 0.003, train task loss: 0.003 - val loss: 2.616, val task loss: 2.616\n",
      "model_6: train loss: 0.004, train task loss: 0.004 - val loss: 2.926, val task loss: 2.926\n",
      "model_7: train loss: 0.004, train task loss: 0.004 - val loss: 2.682, val task loss: 2.682\n",
      "model_8: train loss: 1.018, train task loss: 1.018 - val loss: 1.136, val task loss: 1.136 [*] Best so far\n",
      "model_9: train loss: 1.045, train task loss: 1.045 - val loss: 1.152, val task loss: 1.152 [*] Best so far\n",
      "model_10: train loss: 1.129, train task loss: 1.129 - val loss: 1.193, val task loss: 1.193 [*] Best so far\n",
      "model_11: train loss: 1.111, train task loss: 1.111 - val loss: 1.211, val task loss: 1.211 [*] Best so far\n",
      "model_12: train loss: 1.074, train task loss: 1.074 - val loss: 1.168, val task loss: 1.168 [*] Best so far\n",
      "model_13: train loss: 1.043, train task loss: 1.043 - val loss: 1.134, val task loss: 1.134 [*] Best so far\n",
      "\n",
      "Epoch: 77/100 - LR: 0.001000\n"
     ]
    },
    {
     "name": "stderr",
     "output_type": "stream",
     "text": [
      "100%|████████████████████████████████████████████████████████████████████████████████| 134/134 [00:02<00:00, 55.97it/s]\n"
     ]
    },
    {
     "name": "stdout",
     "output_type": "stream",
     "text": [
      "model_1: train loss: 0.004, train task loss: 0.004 - val loss: 2.703, val task loss: 2.703\n",
      "model_2: train loss: 0.004, train task loss: 0.004 - val loss: 2.680, val task loss: 2.680\n",
      "model_3: train loss: 0.004, train task loss: 0.004 - val loss: 2.647, val task loss: 2.647\n",
      "model_4: train loss: 0.003, train task loss: 0.003 - val loss: 2.603, val task loss: 2.603\n",
      "model_5: train loss: 0.003, train task loss: 0.003 - val loss: 2.624, val task loss: 2.624\n",
      "model_6: train loss: 0.004, train task loss: 0.004 - val loss: 2.934, val task loss: 2.934\n",
      "model_7: train loss: 0.004, train task loss: 0.004 - val loss: 2.690, val task loss: 2.690\n",
      "model_8: train loss: 1.013, train task loss: 1.013 - val loss: 1.131, val task loss: 1.131 [*] Best so far\n",
      "model_9: train loss: 1.037, train task loss: 1.037 - val loss: 1.146, val task loss: 1.146 [*] Best so far\n",
      "model_10: train loss: 1.114, train task loss: 1.114 - val loss: 1.183, val task loss: 1.183 [*] Best so far\n",
      "model_11: train loss: 1.106, train task loss: 1.106 - val loss: 1.201, val task loss: 1.201 [*] Best so far\n",
      "model_12: train loss: 1.066, train task loss: 1.066 - val loss: 1.160, val task loss: 1.160 [*] Best so far\n",
      "model_13: train loss: 1.035, train task loss: 1.035 - val loss: 1.128, val task loss: 1.128 [*] Best so far\n",
      "\n",
      "Epoch: 78/100 - LR: 0.001000\n"
     ]
    },
    {
     "name": "stderr",
     "output_type": "stream",
     "text": [
      "100%|████████████████████████████████████████████████████████████████████████████████| 134/134 [00:02<00:00, 57.11it/s]\n"
     ]
    },
    {
     "name": "stdout",
     "output_type": "stream",
     "text": [
      "model_1: train loss: 0.004, train task loss: 0.004 - val loss: 2.710, val task loss: 2.710\n",
      "model_2: train loss: 0.004, train task loss: 0.004 - val loss: 2.688, val task loss: 2.688\n",
      "model_3: train loss: 0.003, train task loss: 0.003 - val loss: 2.655, val task loss: 2.655\n",
      "model_4: train loss: 0.003, train task loss: 0.003 - val loss: 2.610, val task loss: 2.610\n",
      "model_5: train loss: 0.003, train task loss: 0.003 - val loss: 2.632, val task loss: 2.632\n",
      "model_6: train loss: 0.004, train task loss: 0.004 - val loss: 2.943, val task loss: 2.943\n",
      "model_7: train loss: 0.004, train task loss: 0.004 - val loss: 2.698, val task loss: 2.698\n",
      "model_8: train loss: 1.000, train task loss: 1.000 - val loss: 1.130, val task loss: 1.130 [*] Best so far\n",
      "model_9: train loss: 1.024, train task loss: 1.024 - val loss: 1.141, val task loss: 1.141 [*] Best so far\n",
      "model_10: train loss: 1.098, train task loss: 1.098 - val loss: 1.173, val task loss: 1.173 [*] Best so far\n",
      "model_11: train loss: 1.092, train task loss: 1.092 - val loss: 1.191, val task loss: 1.191 [*] Best so far\n",
      "model_12: train loss: 1.051, train task loss: 1.051 - val loss: 1.155, val task loss: 1.155 [*] Best so far\n",
      "model_13: train loss: 1.022, train task loss: 1.022 - val loss: 1.127, val task loss: 1.127 [*] Best so far\n",
      "\n",
      "Epoch: 79/100 - LR: 0.001000\n"
     ]
    },
    {
     "name": "stderr",
     "output_type": "stream",
     "text": [
      "100%|████████████████████████████████████████████████████████████████████████████████| 134/134 [00:02<00:00, 60.09it/s]\n"
     ]
    },
    {
     "name": "stdout",
     "output_type": "stream",
     "text": [
      "model_1: train loss: 0.004, train task loss: 0.004 - val loss: 2.719, val task loss: 2.719\n",
      "model_2: train loss: 0.004, train task loss: 0.004 - val loss: 2.696, val task loss: 2.696\n",
      "model_3: train loss: 0.003, train task loss: 0.003 - val loss: 2.664, val task loss: 2.664\n",
      "model_4: train loss: 0.003, train task loss: 0.003 - val loss: 2.618, val task loss: 2.618\n",
      "model_5: train loss: 0.003, train task loss: 0.003 - val loss: 2.640, val task loss: 2.640\n",
      "model_6: train loss: 0.004, train task loss: 0.004 - val loss: 2.953, val task loss: 2.953\n",
      "model_7: train loss: 0.004, train task loss: 0.004 - val loss: 2.707, val task loss: 2.707\n",
      "model_8: train loss: 0.992, train task loss: 0.992 - val loss: 1.123, val task loss: 1.123 [*] Best so far\n",
      "model_9: train loss: 1.014, train task loss: 1.014 - val loss: 1.134, val task loss: 1.134 [*] Best so far\n",
      "model_10: train loss: 1.083, train task loss: 1.083 - val loss: 1.162, val task loss: 1.162 [*] Best so far\n",
      "model_11: train loss: 1.081, train task loss: 1.081 - val loss: 1.186, val task loss: 1.186 [*] Best so far\n",
      "model_12: train loss: 1.040, train task loss: 1.040 - val loss: 1.147, val task loss: 1.147 [*] Best so far\n",
      "model_13: train loss: 1.014, train task loss: 1.014 - val loss: 1.118, val task loss: 1.118 [*] Best so far\n",
      "\n",
      "Epoch: 80/100 - LR: 0.001000\n"
     ]
    },
    {
     "name": "stderr",
     "output_type": "stream",
     "text": [
      "100%|████████████████████████████████████████████████████████████████████████████████| 134/134 [00:02<00:00, 54.52it/s]\n"
     ]
    },
    {
     "name": "stdout",
     "output_type": "stream",
     "text": [
      "model_1: train loss: 0.003, train task loss: 0.003 - val loss: 2.728, val task loss: 2.728\n",
      "model_2: train loss: 0.004, train task loss: 0.004 - val loss: 2.706, val task loss: 2.706\n",
      "model_3: train loss: 0.003, train task loss: 0.003 - val loss: 2.673, val task loss: 2.673\n",
      "model_4: train loss: 0.003, train task loss: 0.003 - val loss: 2.626, val task loss: 2.626\n",
      "model_5: train loss: 0.003, train task loss: 0.003 - val loss: 2.649, val task loss: 2.649\n",
      "model_6: train loss: 0.003, train task loss: 0.003 - val loss: 2.963, val task loss: 2.963\n",
      "model_7: train loss: 0.004, train task loss: 0.004 - val loss: 2.715, val task loss: 2.715\n",
      "model_8: train loss: 0.983, train task loss: 0.983 - val loss: 1.119, val task loss: 1.119 [*] Best so far\n",
      "model_9: train loss: 1.003, train task loss: 1.003 - val loss: 1.129, val task loss: 1.129 [*] Best so far\n",
      "model_10: train loss: 1.068, train task loss: 1.068 - val loss: 1.152, val task loss: 1.152 [*] Best so far\n",
      "model_11: train loss: 1.069, train task loss: 1.069 - val loss: 1.179, val task loss: 1.179 [*] Best so far\n",
      "model_12: train loss: 1.028, train task loss: 1.028 - val loss: 1.141, val task loss: 1.141 [*] Best so far\n",
      "model_13: train loss: 1.004, train task loss: 1.004 - val loss: 1.114, val task loss: 1.114 [*] Best so far\n",
      "\n",
      "Epoch: 81/100 - LR: 0.001000\n"
     ]
    },
    {
     "name": "stderr",
     "output_type": "stream",
     "text": [
      "100%|████████████████████████████████████████████████████████████████████████████████| 134/134 [00:02<00:00, 56.58it/s]\n"
     ]
    },
    {
     "name": "stdout",
     "output_type": "stream",
     "text": [
      "model_1: train loss: 0.003, train task loss: 0.003 - val loss: 2.737, val task loss: 2.737\n",
      "model_2: train loss: 0.003, train task loss: 0.003 - val loss: 2.714, val task loss: 2.714\n",
      "model_3: train loss: 0.003, train task loss: 0.003 - val loss: 2.682, val task loss: 2.682\n",
      "model_4: train loss: 0.003, train task loss: 0.003 - val loss: 2.634, val task loss: 2.634\n",
      "model_5: train loss: 0.003, train task loss: 0.003 - val loss: 2.657, val task loss: 2.657\n",
      "model_6: train loss: 0.003, train task loss: 0.003 - val loss: 2.972, val task loss: 2.972\n",
      "model_7: train loss: 0.004, train task loss: 0.004 - val loss: 2.724, val task loss: 2.724\n",
      "model_8: train loss: 0.976, train task loss: 0.976 - val loss: 1.114, val task loss: 1.114 [*] Best so far\n",
      "model_9: train loss: 0.994, train task loss: 0.994 - val loss: 1.122, val task loss: 1.122 [*] Best so far\n",
      "model_10: train loss: 1.052, train task loss: 1.052 - val loss: 1.139, val task loss: 1.139 [*] Best so far\n",
      "model_11: train loss: 1.060, train task loss: 1.060 - val loss: 1.177, val task loss: 1.177 [*] Best so far\n",
      "model_12: train loss: 1.018, train task loss: 1.018 - val loss: 1.133, val task loss: 1.133 [*] Best so far\n",
      "model_13: train loss: 0.997, train task loss: 0.997 - val loss: 1.107, val task loss: 1.107 [*] Best so far\n",
      "\n",
      "Epoch: 82/100 - LR: 0.001000\n"
     ]
    },
    {
     "name": "stderr",
     "output_type": "stream",
     "text": [
      "100%|████████████████████████████████████████████████████████████████████████████████| 134/134 [00:02<00:00, 55.59it/s]\n"
     ]
    },
    {
     "name": "stdout",
     "output_type": "stream",
     "text": [
      "model_1: train loss: 0.003, train task loss: 0.003 - val loss: 2.746, val task loss: 2.746\n",
      "model_2: train loss: 0.003, train task loss: 0.003 - val loss: 2.723, val task loss: 2.723\n",
      "model_3: train loss: 0.003, train task loss: 0.003 - val loss: 2.690, val task loss: 2.690\n",
      "model_4: train loss: 0.003, train task loss: 0.003 - val loss: 2.642, val task loss: 2.642\n",
      "model_5: train loss: 0.003, train task loss: 0.003 - val loss: 2.665, val task loss: 2.665\n",
      "model_6: train loss: 0.003, train task loss: 0.003 - val loss: 2.981, val task loss: 2.981\n",
      "model_7: train loss: 0.004, train task loss: 0.004 - val loss: 2.732, val task loss: 2.732\n",
      "model_8: train loss: 0.969, train task loss: 0.969 - val loss: 1.111, val task loss: 1.111 [*] Best so far\n",
      "model_9: train loss: 0.984, train task loss: 0.984 - val loss: 1.117, val task loss: 1.117 [*] Best so far\n",
      "model_10: train loss: 1.038, train task loss: 1.038 - val loss: 1.128, val task loss: 1.128 [*] Best so far\n",
      "model_11: train loss: 1.048, train task loss: 1.048 - val loss: 1.170, val task loss: 1.170 [*] Best so far\n",
      "model_12: train loss: 1.008, train task loss: 1.008 - val loss: 1.128, val task loss: 1.128 [*] Best so far\n",
      "model_13: train loss: 0.989, train task loss: 0.989 - val loss: 1.104, val task loss: 1.104 [*] Best so far\n",
      "\n",
      "Epoch: 83/100 - LR: 0.001000\n"
     ]
    },
    {
     "name": "stderr",
     "output_type": "stream",
     "text": [
      "100%|████████████████████████████████████████████████████████████████████████████████| 134/134 [00:02<00:00, 56.39it/s]\n"
     ]
    },
    {
     "name": "stdout",
     "output_type": "stream",
     "text": [
      "model_1: train loss: 0.003, train task loss: 0.003 - val loss: 2.755, val task loss: 2.755\n",
      "model_2: train loss: 0.003, train task loss: 0.003 - val loss: 2.732, val task loss: 2.732\n",
      "model_3: train loss: 0.003, train task loss: 0.003 - val loss: 2.699, val task loss: 2.699\n",
      "model_4: train loss: 0.003, train task loss: 0.003 - val loss: 2.650, val task loss: 2.650\n",
      "model_5: train loss: 0.003, train task loss: 0.003 - val loss: 2.673, val task loss: 2.673\n",
      "model_6: train loss: 0.003, train task loss: 0.003 - val loss: 2.991, val task loss: 2.991\n",
      "model_7: train loss: 0.003, train task loss: 0.003 - val loss: 2.741, val task loss: 2.741\n",
      "model_8: train loss: 0.962, train task loss: 0.962 - val loss: 1.108, val task loss: 1.108 [*] Best so far\n",
      "model_9: train loss: 0.975, train task loss: 0.975 - val loss: 1.112, val task loss: 1.112 [*] Best so far\n",
      "model_10: train loss: 1.021, train task loss: 1.021 - val loss: 1.118, val task loss: 1.118 [*] Best so far\n",
      "model_11: train loss: 1.038, train task loss: 1.038 - val loss: 1.165, val task loss: 1.165 [*] Best so far\n",
      "model_12: train loss: 0.999, train task loss: 0.999 - val loss: 1.123, val task loss: 1.123 [*] Best so far\n",
      "model_13: train loss: 0.982, train task loss: 0.982 - val loss: 1.100, val task loss: 1.100 [*] Best so far\n",
      "\n",
      "Epoch: 84/100 - LR: 0.001000\n"
     ]
    },
    {
     "name": "stderr",
     "output_type": "stream",
     "text": [
      "100%|████████████████████████████████████████████████████████████████████████████████| 134/134 [00:02<00:00, 52.98it/s]\n"
     ]
    },
    {
     "name": "stdout",
     "output_type": "stream",
     "text": [
      "model_1: train loss: 0.003, train task loss: 0.003 - val loss: 2.764, val task loss: 2.764\n",
      "model_2: train loss: 0.003, train task loss: 0.003 - val loss: 2.741, val task loss: 2.741\n",
      "model_3: train loss: 0.003, train task loss: 0.003 - val loss: 2.708, val task loss: 2.708\n",
      "model_4: train loss: 0.003, train task loss: 0.003 - val loss: 2.659, val task loss: 2.659\n",
      "model_5: train loss: 0.003, train task loss: 0.003 - val loss: 2.682, val task loss: 2.682\n",
      "model_6: train loss: 0.003, train task loss: 0.003 - val loss: 3.000, val task loss: 3.000\n",
      "model_7: train loss: 0.003, train task loss: 0.003 - val loss: 2.751, val task loss: 2.751\n",
      "model_8: train loss: 0.953, train task loss: 0.953 - val loss: 1.107, val task loss: 1.107 [*] Best so far\n",
      "model_9: train loss: 0.965, train task loss: 0.965 - val loss: 1.108, val task loss: 1.108 [*] Best so far\n",
      "model_10: train loss: 1.004, train task loss: 1.004 - val loss: 1.110, val task loss: 1.110 [*] Best so far\n",
      "model_11: train loss: 1.027, train task loss: 1.027 - val loss: 1.159, val task loss: 1.159 [*] Best so far\n",
      "model_12: train loss: 0.988, train task loss: 0.988 - val loss: 1.120, val task loss: 1.120 [*] Best so far\n",
      "model_13: train loss: 0.973, train task loss: 0.973 - val loss: 1.098, val task loss: 1.098 [*] Best so far\n",
      "\n",
      "Epoch: 85/100 - LR: 0.001000\n"
     ]
    },
    {
     "name": "stderr",
     "output_type": "stream",
     "text": [
      "100%|████████████████████████████████████████████████████████████████████████████████| 134/134 [00:02<00:00, 53.25it/s]\n"
     ]
    },
    {
     "name": "stdout",
     "output_type": "stream",
     "text": [
      "model_1: train loss: 0.003, train task loss: 0.003 - val loss: 2.771, val task loss: 2.771\n",
      "model_2: train loss: 0.003, train task loss: 0.003 - val loss: 2.748, val task loss: 2.748\n",
      "model_3: train loss: 0.003, train task loss: 0.003 - val loss: 2.715, val task loss: 2.715\n",
      "model_4: train loss: 0.003, train task loss: 0.003 - val loss: 2.666, val task loss: 2.666\n",
      "model_5: train loss: 0.003, train task loss: 0.003 - val loss: 2.690, val task loss: 2.690\n",
      "model_6: train loss: 0.003, train task loss: 0.003 - val loss: 3.007, val task loss: 3.007\n",
      "model_7: train loss: 0.003, train task loss: 0.003 - val loss: 2.757, val task loss: 2.757\n",
      "model_8: train loss: 0.955, train task loss: 0.955 - val loss: 1.110, val task loss: 1.110\n",
      "model_9: train loss: 0.963, train task loss: 0.963 - val loss: 1.107, val task loss: 1.107 [*] Best so far\n",
      "model_10: train loss: 0.994, train task loss: 0.994 - val loss: 1.102, val task loss: 1.102 [*] Best so far\n",
      "model_11: train loss: 1.024, train task loss: 1.024 - val loss: 1.154, val task loss: 1.154 [*] Best so far\n",
      "model_12: train loss: 0.987, train task loss: 0.987 - val loss: 1.121, val task loss: 1.121\n",
      "model_13: train loss: 0.973, train task loss: 0.973 - val loss: 1.100, val task loss: 1.100\n",
      "\n",
      "Epoch: 86/100 - LR: 0.001000\n"
     ]
    },
    {
     "name": "stderr",
     "output_type": "stream",
     "text": [
      "100%|████████████████████████████████████████████████████████████████████████████████| 134/134 [00:02<00:00, 54.84it/s]\n"
     ]
    },
    {
     "name": "stdout",
     "output_type": "stream",
     "text": [
      "model_1: train loss: 0.003, train task loss: 0.003 - val loss: 2.780, val task loss: 2.780\n",
      "model_2: train loss: 0.003, train task loss: 0.003 - val loss: 2.756, val task loss: 2.756\n",
      "model_3: train loss: 0.003, train task loss: 0.003 - val loss: 2.723, val task loss: 2.723\n",
      "model_4: train loss: 0.002, train task loss: 0.002 - val loss: 2.673, val task loss: 2.673\n",
      "model_5: train loss: 0.002, train task loss: 0.002 - val loss: 2.698, val task loss: 2.698\n",
      "model_6: train loss: 0.003, train task loss: 0.003 - val loss: 3.016, val task loss: 3.016\n",
      "model_7: train loss: 0.003, train task loss: 0.003 - val loss: 2.766, val task loss: 2.766\n",
      "model_8: train loss: 0.946, train task loss: 0.946 - val loss: 1.104, val task loss: 1.104 [*] Best so far\n",
      "model_9: train loss: 0.952, train task loss: 0.952 - val loss: 1.103, val task loss: 1.103 [*] Best so far\n",
      "model_10: train loss: 0.974, train task loss: 0.974 - val loss: 1.088, val task loss: 1.088 [*] Best so far\n",
      "model_11: train loss: 1.011, train task loss: 1.011 - val loss: 1.158, val task loss: 1.158\n",
      "model_12: train loss: 0.976, train task loss: 0.976 - val loss: 1.113, val task loss: 1.113 [*] Best so far\n",
      "model_13: train loss: 0.962, train task loss: 0.962 - val loss: 1.092, val task loss: 1.092 [*] Best so far\n",
      "\n",
      "Epoch: 87/100 - LR: 0.001000\n"
     ]
    },
    {
     "name": "stderr",
     "output_type": "stream",
     "text": [
      "100%|████████████████████████████████████████████████████████████████████████████████| 134/134 [00:02<00:00, 56.34it/s]\n"
     ]
    },
    {
     "name": "stdout",
     "output_type": "stream",
     "text": [
      "model_1: train loss: 0.003, train task loss: 0.003 - val loss: 2.787, val task loss: 2.787\n",
      "model_2: train loss: 0.003, train task loss: 0.003 - val loss: 2.764, val task loss: 2.764\n",
      "model_3: train loss: 0.003, train task loss: 0.003 - val loss: 2.731, val task loss: 2.731\n",
      "model_4: train loss: 0.002, train task loss: 0.002 - val loss: 2.681, val task loss: 2.681\n",
      "model_5: train loss: 0.002, train task loss: 0.002 - val loss: 2.706, val task loss: 2.706\n",
      "model_6: train loss: 0.003, train task loss: 0.003 - val loss: 3.025, val task loss: 3.025\n",
      "model_7: train loss: 0.003, train task loss: 0.003 - val loss: 2.774, val task loss: 2.774\n",
      "model_8: train loss: 0.949, train task loss: 0.949 - val loss: 1.110, val task loss: 1.110\n",
      "model_9: train loss: 0.951, train task loss: 0.951 - val loss: 1.100, val task loss: 1.100 [*] Best so far\n",
      "model_10: train loss: 0.965, train task loss: 0.965 - val loss: 1.081, val task loss: 1.081 [*] Best so far\n",
      "model_11: train loss: 1.009, train task loss: 1.009 - val loss: 1.145, val task loss: 1.145 [*] Best so far\n",
      "model_12: train loss: 0.977, train task loss: 0.977 - val loss: 1.116, val task loss: 1.116\n",
      "model_13: train loss: 0.966, train task loss: 0.966 - val loss: 1.098, val task loss: 1.098\n",
      "\n",
      "Epoch: 88/100 - LR: 0.001000\n"
     ]
    },
    {
     "name": "stderr",
     "output_type": "stream",
     "text": [
      "100%|████████████████████████████████████████████████████████████████████████████████| 134/134 [00:02<00:00, 61.09it/s]\n"
     ]
    },
    {
     "name": "stdout",
     "output_type": "stream",
     "text": [
      "model_1: train loss: 0.003, train task loss: 0.003 - val loss: 2.796, val task loss: 2.796\n",
      "model_2: train loss: 0.003, train task loss: 0.003 - val loss: 2.773, val task loss: 2.773\n",
      "model_3: train loss: 0.003, train task loss: 0.003 - val loss: 2.739, val task loss: 2.739\n",
      "model_4: train loss: 0.002, train task loss: 0.002 - val loss: 2.690, val task loss: 2.690\n",
      "model_5: train loss: 0.002, train task loss: 0.002 - val loss: 2.715, val task loss: 2.715\n",
      "model_6: train loss: 0.003, train task loss: 0.003 - val loss: 3.034, val task loss: 3.034\n",
      "model_7: train loss: 0.003, train task loss: 0.003 - val loss: 2.783, val task loss: 2.783\n",
      "model_8: train loss: 0.930, train task loss: 0.930 - val loss: 1.100, val task loss: 1.100 [*] Best so far\n",
      "model_9: train loss: 0.932, train task loss: 0.932 - val loss: 1.093, val task loss: 1.093 [*] Best so far\n",
      "model_10: train loss: 0.942, train task loss: 0.942 - val loss: 1.069, val task loss: 1.069 [*] Best so far\n",
      "model_11: train loss: 0.988, train task loss: 0.988 - val loss: 1.144, val task loss: 1.144 [*] Best so far\n",
      "model_12: train loss: 0.957, train task loss: 0.957 - val loss: 1.105, val task loss: 1.105 [*] Best so far\n",
      "model_13: train loss: 0.947, train task loss: 0.947 - val loss: 1.087, val task loss: 1.087 [*] Best so far\n",
      "\n",
      "Epoch: 89/100 - LR: 0.001000\n"
     ]
    },
    {
     "name": "stderr",
     "output_type": "stream",
     "text": [
      "100%|████████████████████████████████████████████████████████████████████████████████| 134/134 [00:02<00:00, 53.74it/s]\n"
     ]
    },
    {
     "name": "stdout",
     "output_type": "stream",
     "text": [
      "model_1: train loss: 0.003, train task loss: 0.003 - val loss: 2.805, val task loss: 2.805\n",
      "model_2: train loss: 0.003, train task loss: 0.003 - val loss: 2.781, val task loss: 2.781\n",
      "model_3: train loss: 0.002, train task loss: 0.002 - val loss: 2.747, val task loss: 2.747\n",
      "model_4: train loss: 0.002, train task loss: 0.002 - val loss: 2.697, val task loss: 2.697\n",
      "model_5: train loss: 0.002, train task loss: 0.002 - val loss: 2.723, val task loss: 2.723\n",
      "model_6: train loss: 0.003, train task loss: 0.003 - val loss: 3.042, val task loss: 3.042\n",
      "model_7: train loss: 0.003, train task loss: 0.003 - val loss: 2.791, val task loss: 2.791\n",
      "model_8: train loss: 0.930, train task loss: 0.930 - val loss: 1.099, val task loss: 1.099 [*] Best so far\n",
      "model_9: train loss: 0.928, train task loss: 0.928 - val loss: 1.090, val task loss: 1.090 [*] Best so far\n",
      "model_10: train loss: 0.930, train task loss: 0.930 - val loss: 1.058, val task loss: 1.058 [*] Best so far\n",
      "model_11: train loss: 0.982, train task loss: 0.982 - val loss: 1.140, val task loss: 1.140 [*] Best so far\n",
      "model_12: train loss: 0.954, train task loss: 0.954 - val loss: 1.102, val task loss: 1.102 [*] Best so far\n",
      "model_13: train loss: 0.946, train task loss: 0.946 - val loss: 1.085, val task loss: 1.085 [*] Best so far\n",
      "\n",
      "Epoch: 90/100 - LR: 0.001000\n"
     ]
    },
    {
     "name": "stderr",
     "output_type": "stream",
     "text": [
      "100%|████████████████████████████████████████████████████████████████████████████████| 134/134 [00:02<00:00, 55.53it/s]\n"
     ]
    },
    {
     "name": "stdout",
     "output_type": "stream",
     "text": [
      "model_1: train loss: 0.003, train task loss: 0.003 - val loss: 2.812, val task loss: 2.812\n",
      "model_2: train loss: 0.003, train task loss: 0.003 - val loss: 2.788, val task loss: 2.788\n",
      "model_3: train loss: 0.002, train task loss: 0.002 - val loss: 2.754, val task loss: 2.754\n",
      "model_4: train loss: 0.002, train task loss: 0.002 - val loss: 2.704, val task loss: 2.704\n",
      "model_5: train loss: 0.002, train task loss: 0.002 - val loss: 2.730, val task loss: 2.730\n",
      "model_6: train loss: 0.003, train task loss: 0.003 - val loss: 3.050, val task loss: 3.050\n",
      "model_7: train loss: 0.003, train task loss: 0.003 - val loss: 2.798, val task loss: 2.798\n",
      "model_8: train loss: 0.920, train task loss: 0.920 - val loss: 1.104, val task loss: 1.104\n",
      "model_9: train loss: 0.918, train task loss: 0.918 - val loss: 1.089, val task loss: 1.089 [*] Best so far\n",
      "model_10: train loss: 0.913, train task loss: 0.913 - val loss: 1.055, val task loss: 1.055 [*] Best so far\n",
      "model_11: train loss: 0.971, train task loss: 0.971 - val loss: 1.135, val task loss: 1.135 [*] Best so far\n",
      "model_12: train loss: 0.944, train task loss: 0.944 - val loss: 1.106, val task loss: 1.106\n",
      "model_13: train loss: 0.936, train task loss: 0.936 - val loss: 1.093, val task loss: 1.093\n",
      "\n",
      "Epoch: 91/100 - LR: 0.001000\n"
     ]
    },
    {
     "name": "stderr",
     "output_type": "stream",
     "text": [
      "100%|████████████████████████████████████████████████████████████████████████████████| 134/134 [00:02<00:00, 56.30it/s]\n"
     ]
    },
    {
     "name": "stdout",
     "output_type": "stream",
     "text": [
      "model_1: train loss: 0.002, train task loss: 0.002 - val loss: 2.820, val task loss: 2.820\n",
      "model_2: train loss: 0.003, train task loss: 0.003 - val loss: 2.796, val task loss: 2.796\n",
      "model_3: train loss: 0.002, train task loss: 0.002 - val loss: 2.762, val task loss: 2.762\n",
      "model_4: train loss: 0.002, train task loss: 0.002 - val loss: 2.711, val task loss: 2.711\n",
      "model_5: train loss: 0.002, train task loss: 0.002 - val loss: 2.738, val task loss: 2.738\n",
      "model_6: train loss: 0.003, train task loss: 0.003 - val loss: 3.059, val task loss: 3.059\n",
      "model_7: train loss: 0.003, train task loss: 0.003 - val loss: 2.806, val task loss: 2.806\n",
      "model_8: train loss: 0.918, train task loss: 0.918 - val loss: 1.097, val task loss: 1.097 [*] Best so far\n",
      "model_9: train loss: 0.912, train task loss: 0.912 - val loss: 1.083, val task loss: 1.083 [*] Best so far\n",
      "model_10: train loss: 0.901, train task loss: 0.901 - val loss: 1.040, val task loss: 1.040 [*] Best so far\n",
      "model_11: train loss: 0.963, train task loss: 0.963 - val loss: 1.132, val task loss: 1.132 [*] Best so far\n",
      "model_12: train loss: 0.940, train task loss: 0.940 - val loss: 1.098, val task loss: 1.098 [*] Best so far\n",
      "model_13: train loss: 0.934, train task loss: 0.934 - val loss: 1.082, val task loss: 1.082 [*] Best so far\n",
      "\n",
      "Epoch: 92/100 - LR: 0.001000\n"
     ]
    },
    {
     "name": "stderr",
     "output_type": "stream",
     "text": [
      "100%|████████████████████████████████████████████████████████████████████████████████| 134/134 [00:02<00:00, 56.60it/s]\n"
     ]
    },
    {
     "name": "stdout",
     "output_type": "stream",
     "text": [
      "model_1: train loss: 0.002, train task loss: 0.002 - val loss: 2.827, val task loss: 2.827\n",
      "model_2: train loss: 0.002, train task loss: 0.002 - val loss: 2.804, val task loss: 2.804\n",
      "model_3: train loss: 0.002, train task loss: 0.002 - val loss: 2.769, val task loss: 2.769\n",
      "model_4: train loss: 0.002, train task loss: 0.002 - val loss: 2.719, val task loss: 2.719\n",
      "model_5: train loss: 0.002, train task loss: 0.002 - val loss: 2.745, val task loss: 2.745\n",
      "model_6: train loss: 0.002, train task loss: 0.002 - val loss: 3.067, val task loss: 3.067\n",
      "model_7: train loss: 0.003, train task loss: 0.003 - val loss: 2.813, val task loss: 2.813\n",
      "model_8: train loss: 0.916, train task loss: 0.916 - val loss: 1.097, val task loss: 1.097 [*] Best so far\n",
      "model_9: train loss: 0.906, train task loss: 0.906 - val loss: 1.080, val task loss: 1.080 [*] Best so far\n",
      "model_10: train loss: 0.888, train task loss: 0.888 - val loss: 1.032, val task loss: 1.032 [*] Best so far\n",
      "model_11: train loss: 0.955, train task loss: 0.955 - val loss: 1.128, val task loss: 1.128 [*] Best so far\n",
      "model_12: train loss: 0.935, train task loss: 0.935 - val loss: 1.096, val task loss: 1.096 [*] Best so far\n",
      "model_13: train loss: 0.931, train task loss: 0.931 - val loss: 1.081, val task loss: 1.081 [*] Best so far\n",
      "\n",
      "Epoch: 93/100 - LR: 0.001000\n"
     ]
    },
    {
     "name": "stderr",
     "output_type": "stream",
     "text": [
      "100%|████████████████████████████████████████████████████████████████████████████████| 134/134 [00:02<00:00, 54.89it/s]\n"
     ]
    },
    {
     "name": "stdout",
     "output_type": "stream",
     "text": [
      "model_1: train loss: 0.002, train task loss: 0.002 - val loss: 2.835, val task loss: 2.835\n",
      "model_2: train loss: 0.002, train task loss: 0.002 - val loss: 2.812, val task loss: 2.812\n",
      "model_3: train loss: 0.002, train task loss: 0.002 - val loss: 2.777, val task loss: 2.777\n",
      "model_4: train loss: 0.002, train task loss: 0.002 - val loss: 2.726, val task loss: 2.726\n",
      "model_5: train loss: 0.002, train task loss: 0.002 - val loss: 2.752, val task loss: 2.752\n",
      "model_6: train loss: 0.002, train task loss: 0.002 - val loss: 3.076, val task loss: 3.076\n",
      "model_7: train loss: 0.003, train task loss: 0.003 - val loss: 2.821, val task loss: 2.821\n",
      "model_8: train loss: 0.907, train task loss: 0.907 - val loss: 1.101, val task loss: 1.101\n",
      "model_9: train loss: 0.896, train task loss: 0.896 - val loss: 1.080, val task loss: 1.080 [*] Best so far\n",
      "model_10: train loss: 0.871, train task loss: 0.871 - val loss: 1.030, val task loss: 1.030 [*] Best so far\n",
      "model_11: train loss: 0.944, train task loss: 0.944 - val loss: 1.123, val task loss: 1.123 [*] Best so far\n",
      "model_12: train loss: 0.925, train task loss: 0.925 - val loss: 1.099, val task loss: 1.099\n",
      "model_13: train loss: 0.921, train task loss: 0.921 - val loss: 1.087, val task loss: 1.087\n",
      "\n",
      "Epoch: 94/100 - LR: 0.001000\n"
     ]
    },
    {
     "name": "stderr",
     "output_type": "stream",
     "text": [
      "100%|████████████████████████████████████████████████████████████████████████████████| 134/134 [00:02<00:00, 56.95it/s]\n"
     ]
    },
    {
     "name": "stdout",
     "output_type": "stream",
     "text": [
      "model_1: train loss: 0.002, train task loss: 0.002 - val loss: 2.842, val task loss: 2.842\n",
      "model_2: train loss: 0.002, train task loss: 0.002 - val loss: 2.819, val task loss: 2.819\n",
      "model_3: train loss: 0.002, train task loss: 0.002 - val loss: 2.784, val task loss: 2.784\n",
      "model_4: train loss: 0.002, train task loss: 0.002 - val loss: 2.732, val task loss: 2.732\n",
      "model_5: train loss: 0.002, train task loss: 0.002 - val loss: 2.759, val task loss: 2.759\n",
      "model_6: train loss: 0.002, train task loss: 0.002 - val loss: 3.082, val task loss: 3.082\n",
      "model_7: train loss: 0.003, train task loss: 0.003 - val loss: 2.827, val task loss: 2.827\n",
      "model_8: train loss: 0.908, train task loss: 0.908 - val loss: 1.101, val task loss: 1.101\n",
      "model_9: train loss: 0.894, train task loss: 0.894 - val loss: 1.078, val task loss: 1.078 [*] Best so far\n",
      "model_10: train loss: 0.867, train task loss: 0.867 - val loss: 1.020, val task loss: 1.020 [*] Best so far\n",
      "model_11: train loss: 0.943, train task loss: 0.943 - val loss: 1.120, val task loss: 1.120 [*] Best so far\n",
      "model_12: train loss: 0.925, train task loss: 0.925 - val loss: 1.098, val task loss: 1.098\n",
      "model_13: train loss: 0.921, train task loss: 0.921 - val loss: 1.085, val task loss: 1.085\n",
      "\n",
      "Epoch: 95/100 - LR: 0.001000\n"
     ]
    },
    {
     "name": "stderr",
     "output_type": "stream",
     "text": [
      "100%|████████████████████████████████████████████████████████████████████████████████| 134/134 [00:02<00:00, 53.21it/s]\n"
     ]
    },
    {
     "name": "stdout",
     "output_type": "stream",
     "text": [
      "model_1: train loss: 0.002, train task loss: 0.002 - val loss: 2.848, val task loss: 2.848\n",
      "model_2: train loss: 0.002, train task loss: 0.002 - val loss: 2.825, val task loss: 2.825\n",
      "model_3: train loss: 0.002, train task loss: 0.002 - val loss: 2.791, val task loss: 2.791\n",
      "model_4: train loss: 0.002, train task loss: 0.002 - val loss: 2.738, val task loss: 2.738\n",
      "model_5: train loss: 0.002, train task loss: 0.002 - val loss: 2.766, val task loss: 2.766\n",
      "model_6: train loss: 0.002, train task loss: 0.002 - val loss: 3.089, val task loss: 3.089\n",
      "model_7: train loss: 0.003, train task loss: 0.003 - val loss: 2.834, val task loss: 2.834\n",
      "model_8: train loss: 0.901, train task loss: 0.901 - val loss: 1.094, val task loss: 1.094 [*] Best so far\n",
      "model_9: train loss: 0.884, train task loss: 0.884 - val loss: 1.071, val task loss: 1.071 [*] Best so far\n",
      "model_10: train loss: 0.846, train task loss: 0.846 - val loss: 1.006, val task loss: 1.006 [*] Best so far\n",
      "model_11: train loss: 0.930, train task loss: 0.930 - val loss: 1.122, val task loss: 1.122\n",
      "model_12: train loss: 0.915, train task loss: 0.915 - val loss: 1.088, val task loss: 1.088 [*] Best so far\n",
      "model_13: train loss: 0.913, train task loss: 0.913 - val loss: 1.076, val task loss: 1.076 [*] Best so far\n",
      "\n",
      "Epoch: 96/100 - LR: 0.001000\n"
     ]
    },
    {
     "name": "stderr",
     "output_type": "stream",
     "text": [
      "100%|████████████████████████████████████████████████████████████████████████████████| 134/134 [00:02<00:00, 55.73it/s]\n"
     ]
    },
    {
     "name": "stdout",
     "output_type": "stream",
     "text": [
      "model_1: train loss: 0.002, train task loss: 0.002 - val loss: 2.856, val task loss: 2.856\n",
      "model_2: train loss: 0.002, train task loss: 0.002 - val loss: 2.833, val task loss: 2.833\n",
      "model_3: train loss: 0.002, train task loss: 0.002 - val loss: 2.798, val task loss: 2.798\n",
      "model_4: train loss: 0.002, train task loss: 0.002 - val loss: 2.745, val task loss: 2.745\n",
      "model_5: train loss: 0.002, train task loss: 0.002 - val loss: 2.772, val task loss: 2.772\n",
      "model_6: train loss: 0.002, train task loss: 0.002 - val loss: 3.098, val task loss: 3.098\n",
      "model_7: train loss: 0.002, train task loss: 0.002 - val loss: 2.841, val task loss: 2.841\n",
      "model_8: train loss: 0.898, train task loss: 0.898 - val loss: 1.094, val task loss: 1.094 [*] Best so far\n",
      "model_9: train loss: 0.879, train task loss: 0.879 - val loss: 1.068, val task loss: 1.068 [*] Best so far\n",
      "model_10: train loss: 0.837, train task loss: 0.837 - val loss: 1.001, val task loss: 1.001 [*] Best so far\n",
      "model_11: train loss: 0.924, train task loss: 0.924 - val loss: 1.116, val task loss: 1.116 [*] Best so far\n",
      "model_12: train loss: 0.912, train task loss: 0.912 - val loss: 1.087, val task loss: 1.087 [*] Best so far\n",
      "model_13: train loss: 0.911, train task loss: 0.911 - val loss: 1.075, val task loss: 1.075 [*] Best so far\n",
      "\n",
      "Epoch: 97/100 - LR: 0.001000\n"
     ]
    },
    {
     "name": "stderr",
     "output_type": "stream",
     "text": [
      "100%|████████████████████████████████████████████████████████████████████████████████| 134/134 [00:02<00:00, 56.56it/s]\n"
     ]
    },
    {
     "name": "stdout",
     "output_type": "stream",
     "text": [
      "model_1: train loss: 0.002, train task loss: 0.002 - val loss: 2.863, val task loss: 2.863\n",
      "model_2: train loss: 0.002, train task loss: 0.002 - val loss: 2.840, val task loss: 2.840\n",
      "model_3: train loss: 0.002, train task loss: 0.002 - val loss: 2.806, val task loss: 2.806\n",
      "model_4: train loss: 0.002, train task loss: 0.002 - val loss: 2.752, val task loss: 2.752\n",
      "model_5: train loss: 0.002, train task loss: 0.002 - val loss: 2.779, val task loss: 2.779\n",
      "model_6: train loss: 0.002, train task loss: 0.002 - val loss: 3.105, val task loss: 3.105\n",
      "model_7: train loss: 0.002, train task loss: 0.002 - val loss: 2.848, val task loss: 2.848\n",
      "model_8: train loss: 0.899, train task loss: 0.899 - val loss: 1.100, val task loss: 1.100\n",
      "model_9: train loss: 0.876, train task loss: 0.876 - val loss: 1.068, val task loss: 1.068\n",
      "model_10: train loss: 0.829, train task loss: 0.829 - val loss: 0.999, val task loss: 0.999 [*] Best so far\n",
      "model_11: train loss: 0.918, train task loss: 0.918 - val loss: 1.110, val task loss: 1.110 [*] Best so far\n",
      "model_12: train loss: 0.910, train task loss: 0.910 - val loss: 1.091, val task loss: 1.091\n",
      "model_13: train loss: 0.910, train task loss: 0.910 - val loss: 1.082, val task loss: 1.082\n",
      "\n",
      "Epoch: 98/100 - LR: 0.001000\n"
     ]
    },
    {
     "name": "stderr",
     "output_type": "stream",
     "text": [
      "100%|████████████████████████████████████████████████████████████████████████████████| 134/134 [00:02<00:00, 55.05it/s]\n"
     ]
    },
    {
     "name": "stdout",
     "output_type": "stream",
     "text": [
      "model_1: train loss: 0.002, train task loss: 0.002 - val loss: 2.870, val task loss: 2.870\n",
      "model_2: train loss: 0.002, train task loss: 0.002 - val loss: 2.847, val task loss: 2.847\n",
      "model_3: train loss: 0.002, train task loss: 0.002 - val loss: 2.813, val task loss: 2.813\n",
      "model_4: train loss: 0.002, train task loss: 0.002 - val loss: 2.758, val task loss: 2.758\n",
      "model_5: train loss: 0.002, train task loss: 0.002 - val loss: 2.786, val task loss: 2.786\n",
      "model_6: train loss: 0.002, train task loss: 0.002 - val loss: 3.112, val task loss: 3.112\n",
      "model_7: train loss: 0.002, train task loss: 0.002 - val loss: 2.855, val task loss: 2.855\n",
      "model_8: train loss: 0.888, train task loss: 0.888 - val loss: 1.093, val task loss: 1.093 [*] Best so far\n",
      "model_9: train loss: 0.864, train task loss: 0.864 - val loss: 1.062, val task loss: 1.062 [*] Best so far\n",
      "model_10: train loss: 0.812, train task loss: 0.812 - val loss: 0.986, val task loss: 0.986 [*] Best so far\n",
      "model_11: train loss: 0.906, train task loss: 0.906 - val loss: 1.109, val task loss: 1.109 [*] Best so far\n",
      "model_12: train loss: 0.899, train task loss: 0.899 - val loss: 1.082, val task loss: 1.082 [*] Best so far\n",
      "model_13: train loss: 0.901, train task loss: 0.901 - val loss: 1.072, val task loss: 1.072 [*] Best so far\n",
      "\n",
      "Epoch: 99/100 - LR: 0.001000\n"
     ]
    },
    {
     "name": "stderr",
     "output_type": "stream",
     "text": [
      "100%|████████████████████████████████████████████████████████████████████████████████| 134/134 [00:02<00:00, 56.84it/s]\n"
     ]
    },
    {
     "name": "stdout",
     "output_type": "stream",
     "text": [
      "model_1: train loss: 0.002, train task loss: 0.002 - val loss: 2.877, val task loss: 2.877\n",
      "model_2: train loss: 0.002, train task loss: 0.002 - val loss: 2.854, val task loss: 2.854\n",
      "model_3: train loss: 0.002, train task loss: 0.002 - val loss: 2.821, val task loss: 2.821\n",
      "model_4: train loss: 0.002, train task loss: 0.002 - val loss: 2.765, val task loss: 2.765\n",
      "model_5: train loss: 0.002, train task loss: 0.002 - val loss: 2.792, val task loss: 2.792\n",
      "model_6: train loss: 0.002, train task loss: 0.002 - val loss: 3.120, val task loss: 3.120\n",
      "model_7: train loss: 0.002, train task loss: 0.002 - val loss: 2.862, val task loss: 2.862\n",
      "model_8: train loss: 0.889, train task loss: 0.889 - val loss: 1.092, val task loss: 1.092 [*] Best so far\n",
      "model_9: train loss: 0.862, train task loss: 0.862 - val loss: 1.059, val task loss: 1.059 [*] Best so far\n",
      "model_10: train loss: 0.805, train task loss: 0.805 - val loss: 0.981, val task loss: 0.981 [*] Best so far\n",
      "model_11: train loss: 0.901, train task loss: 0.901 - val loss: 1.105, val task loss: 1.105 [*] Best so far\n",
      "model_12: train loss: 0.899, train task loss: 0.899 - val loss: 1.081, val task loss: 1.081 [*] Best so far\n",
      "model_13: train loss: 0.901, train task loss: 0.901 - val loss: 1.072, val task loss: 1.072 [*] Best so far\n",
      "\n",
      "Epoch: 100/100 - LR: 0.001000\n"
     ]
    },
    {
     "name": "stderr",
     "output_type": "stream",
     "text": [
      "100%|████████████████████████████████████████████████████████████████████████████████| 134/134 [00:02<00:00, 55.99it/s]\n"
     ]
    },
    {
     "name": "stdout",
     "output_type": "stream",
     "text": [
      "model_1: train loss: 0.002, train task loss: 0.002 - val loss: 2.885, val task loss: 2.885\n",
      "model_2: train loss: 0.002, train task loss: 0.002 - val loss: 2.862, val task loss: 2.862\n",
      "model_3: train loss: 0.002, train task loss: 0.002 - val loss: 2.828, val task loss: 2.828\n",
      "model_4: train loss: 0.002, train task loss: 0.002 - val loss: 2.772, val task loss: 2.772\n",
      "model_5: train loss: 0.002, train task loss: 0.002 - val loss: 2.800, val task loss: 2.800\n",
      "model_6: train loss: 0.002, train task loss: 0.002 - val loss: 3.128, val task loss: 3.128\n",
      "model_7: train loss: 0.002, train task loss: 0.002 - val loss: 2.870, val task loss: 2.870\n",
      "model_8: train loss: 0.885, train task loss: 0.885 - val loss: 1.098, val task loss: 1.098\n",
      "model_9: train loss: 0.854, train task loss: 0.854 - val loss: 1.059, val task loss: 1.059 [*] Best so far\n",
      "model_10: train loss: 0.792, train task loss: 0.792 - val loss: 0.979, val task loss: 0.979 [*] Best so far\n",
      "model_11: train loss: 0.892, train task loss: 0.892 - val loss: 1.101, val task loss: 1.101 [*] Best so far\n",
      "model_12: train loss: 0.893, train task loss: 0.893 - val loss: 1.084, val task loss: 1.084\n",
      "model_13: train loss: 0.895, train task loss: 0.895 - val loss: 1.076, val task loss: 1.076\n",
      "Training with disagreement penalty = 0.99\n"
     ]
    },
    {
     "name": "stderr",
     "output_type": "stream",
     "text": [
      "C:\\Users\\liang\\anaconda3\\envs\\fusion\\Lib\\site-packages\\sklearn\\cluster\\_kmeans.py:1429: UserWarning: KMeans is known to have a memory leak on Windows with MKL, when there are less chunks than available threads. You can avoid it by setting the environment variable OMP_NUM_THREADS=1.\n",
      "  warnings.warn(\n",
      "C:\\Users\\liang\\anaconda3\\envs\\fusion\\Lib\\site-packages\\sklearn\\cluster\\_kmeans.py:1429: UserWarning: KMeans is known to have a memory leak on Windows with MKL, when there are less chunks than available threads. You can avoid it by setting the environment variable OMP_NUM_THREADS=1.\n",
      "  warnings.warn(\n",
      "C:\\Users\\liang\\anaconda3\\envs\\fusion\\Lib\\site-packages\\sklearn\\cluster\\_kmeans.py:1429: UserWarning: KMeans is known to have a memory leak on Windows with MKL, when there are less chunks than available threads. You can avoid it by setting the environment variable OMP_NUM_THREADS=1.\n",
      "  warnings.warn(\n",
      "C:\\Users\\liang\\anaconda3\\envs\\fusion\\Lib\\site-packages\\sklearn\\cluster\\_kmeans.py:1429: UserWarning: KMeans is known to have a memory leak on Windows with MKL, when there are less chunks than available threads. You can avoid it by setting the environment variable OMP_NUM_THREADS=1.\n",
      "  warnings.warn(\n",
      "C:\\Users\\liang\\anaconda3\\envs\\fusion\\Lib\\site-packages\\sklearn\\cluster\\_kmeans.py:1429: UserWarning: KMeans is known to have a memory leak on Windows with MKL, when there are less chunks than available threads. You can avoid it by setting the environment variable OMP_NUM_THREADS=1.\n",
      "  warnings.warn(\n",
      "C:\\Users\\liang\\anaconda3\\envs\\fusion\\Lib\\site-packages\\sklearn\\cluster\\_kmeans.py:1429: UserWarning: KMeans is known to have a memory leak on Windows with MKL, when there are less chunks than available threads. You can avoid it by setting the environment variable OMP_NUM_THREADS=1.\n",
      "  warnings.warn(\n",
      "C:\\Users\\liang\\anaconda3\\envs\\fusion\\Lib\\site-packages\\sklearn\\cluster\\_kmeans.py:1429: UserWarning: KMeans is known to have a memory leak on Windows with MKL, when there are less chunks than available threads. You can avoid it by setting the environment variable OMP_NUM_THREADS=1.\n",
      "  warnings.warn(\n",
      "C:\\Users\\liang\\anaconda3\\envs\\fusion\\Lib\\site-packages\\sklearn\\cluster\\_kmeans.py:1429: UserWarning: KMeans is known to have a memory leak on Windows with MKL, when there are less chunks than available threads. You can avoid it by setting the environment variable OMP_NUM_THREADS=1.\n",
      "  warnings.warn(\n",
      "C:\\Users\\liang\\anaconda3\\envs\\fusion\\Lib\\site-packages\\sklearn\\cluster\\_kmeans.py:1429: UserWarning: KMeans is known to have a memory leak on Windows with MKL, when there are less chunks than available threads. You can avoid it by setting the environment variable OMP_NUM_THREADS=1.\n",
      "  warnings.warn(\n",
      "C:\\Users\\liang\\anaconda3\\envs\\fusion\\Lib\\site-packages\\sklearn\\cluster\\_kmeans.py:1429: UserWarning: KMeans is known to have a memory leak on Windows with MKL, when there are less chunks than available threads. You can avoid it by setting the environment variable OMP_NUM_THREADS=1.\n",
      "  warnings.warn(\n"
     ]
    },
    {
     "name": "stdout",
     "output_type": "stream",
     "text": [
      "Computing divergence weights by clustering method...\n",
      "Initialization complete\n",
      "Iteration 0, inertia 0.017044117621111354.\n",
      "Iteration 1, inertia 0.011226155293898156.\n",
      "Converged at iteration 1: strict convergence.\n",
      "Computed divergence weights by clustering method, weights are [0.         0.         0.         0.         0.         0.\n",
      " 0.         0.16666667 0.16666667 0.16666667 0.16666667 0.16666667\n",
      " 0.16666667]\n",
      "\n",
      "Epoch: 1/100 - LR: 0.001000\n"
     ]
    },
    {
     "name": "stderr",
     "output_type": "stream",
     "text": [
      "100%|████████████████████████████████████████████████████████████████████████████████| 134/134 [00:12<00:00, 10.81it/s]\n"
     ]
    },
    {
     "name": "stdout",
     "output_type": "stream",
     "text": [
      "model_1: train loss: 1.212, train task loss: 1.022 - val loss: 1.567, val task loss: 1.340 [*] Best so far\n",
      "Created directory: ./checkpoints/Neuron/Mitt/PCA_seed1/0.99\n",
      "model_2: train loss: 1.148, train task loss: 0.973 - val loss: 1.592, val task loss: 1.350 [*] Best so far\n",
      "model_3: train loss: 1.083, train task loss: 0.858 - val loss: 1.576, val task loss: 1.333 [*] Best so far\n",
      "model_4: train loss: 1.193, train task loss: 0.993 - val loss: 1.597, val task loss: 1.349 [*] Best so far\n",
      "model_5: train loss: 1.275, train task loss: 1.026 - val loss: 1.563, val task loss: 1.334 [*] Best so far\n",
      "model_6: train loss: 1.577, train task loss: 1.292 - val loss: 1.623, val task loss: 1.382 [*] Best so far\n",
      "model_7: train loss: 1.404, train task loss: 1.166 - val loss: 1.580, val task loss: 1.349 [*] Best so far\n",
      "model_8: train loss: 0.921, train task loss: 0.887 - val loss: 1.125, val task loss: 1.097 [*] Best so far\n",
      "model_9: train loss: 0.868, train task loss: 0.848 - val loss: 1.071, val task loss: 1.055 [*] Best so far\n",
      "model_10: train loss: 0.837, train task loss: 0.784 - val loss: 1.011, val task loss: 0.971 [*] Best so far\n",
      "model_11: train loss: 0.941, train task loss: 0.890 - val loss: 1.146, val task loss: 1.098 [*] Best so far\n",
      "model_12: train loss: 0.919, train task loss: 0.896 - val loss: 1.102, val task loss: 1.083 [*] Best so far\n",
      "model_13: train loss: 0.929, train task loss: 0.899 - val loss: 1.101, val task loss: 1.075 [*] Best so far\n",
      "\n",
      "Epoch: 2/100 - LR: 0.001000\n"
     ]
    },
    {
     "name": "stderr",
     "output_type": "stream",
     "text": [
      "100%|████████████████████████████████████████████████████████████████████████████████| 134/134 [00:13<00:00,  9.90it/s]\n"
     ]
    },
    {
     "name": "stdout",
     "output_type": "stream",
     "text": [
      "model_1: train loss: 1.110, train task loss: 0.941 - val loss: 1.574, val task loss: 1.336 [*] Best so far\n",
      "model_2: train loss: 1.041, train task loss: 0.891 - val loss: 1.609, val task loss: 1.349 [*] Best so far\n",
      "model_3: train loss: 0.973, train task loss: 0.766 - val loss: 1.584, val task loss: 1.329 [*] Best so far\n",
      "model_4: train loss: 1.091, train task loss: 0.911 - val loss: 1.606, val task loss: 1.345 [*] Best so far\n",
      "model_5: train loss: 1.186, train task loss: 0.950 - val loss: 1.563, val task loss: 1.326 [*] Best so far\n",
      "model_6: train loss: 1.553, train task loss: 1.263 - val loss: 1.640, val task loss: 1.381 [*] Best so far\n",
      "model_7: train loss: 1.340, train task loss: 1.110 - val loss: 1.596, val task loss: 1.350\n",
      "model_8: train loss: 0.913, train task loss: 0.879 - val loss: 1.117, val task loss: 1.092 [*] Best so far\n",
      "model_9: train loss: 0.860, train task loss: 0.841 - val loss: 1.067, val task loss: 1.052 [*] Best so far\n",
      "model_10: train loss: 0.828, train task loss: 0.774 - val loss: 1.004, val task loss: 0.966 [*] Best so far\n",
      "model_11: train loss: 0.927, train task loss: 0.876 - val loss: 1.142, val task loss: 1.096 [*] Best so far\n",
      "model_12: train loss: 0.909, train task loss: 0.886 - val loss: 1.095, val task loss: 1.078 [*] Best so far\n",
      "model_13: train loss: 0.919, train task loss: 0.890 - val loss: 1.095, val task loss: 1.070 [*] Best so far\n",
      "\n",
      "Epoch: 3/100 - LR: 0.001000\n"
     ]
    },
    {
     "name": "stderr",
     "output_type": "stream",
     "text": [
      "100%|████████████████████████████████████████████████████████████████████████████████| 134/134 [00:13<00:00, 10.11it/s]\n"
     ]
    },
    {
     "name": "stdout",
     "output_type": "stream",
     "text": [
      "model_1: train loss: 1.009, train task loss: 0.860 - val loss: 1.581, val task loss: 1.334 [*] Best so far\n",
      "model_2: train loss: 0.943, train task loss: 0.810 - val loss: 1.620, val task loss: 1.349 [*] Best so far\n",
      "model_3: train loss: 0.875, train task loss: 0.682 - val loss: 1.594, val task loss: 1.332\n",
      "model_4: train loss: 0.984, train task loss: 0.823 - val loss: 1.614, val task loss: 1.350\n",
      "model_5: train loss: 1.086, train task loss: 0.868 - val loss: 1.556, val task loss: 1.320 [*] Best so far\n",
      "model_6: train loss: 1.507, train task loss: 1.222 - val loss: 1.637, val task loss: 1.381\n",
      "model_7: train loss: 1.257, train task loss: 1.043 - val loss: 1.602, val task loss: 1.349 [*] Best so far\n",
      "model_8: train loss: 0.913, train task loss: 0.881 - val loss: 1.117, val task loss: 1.092\n",
      "model_9: train loss: 0.854, train task loss: 0.836 - val loss: 1.065, val task loss: 1.050 [*] Best so far\n",
      "model_10: train loss: 0.820, train task loss: 0.768 - val loss: 1.003, val task loss: 0.964 [*] Best so far\n",
      "model_11: train loss: 0.919, train task loss: 0.870 - val loss: 1.135, val task loss: 1.090 [*] Best so far\n",
      "model_12: train loss: 0.907, train task loss: 0.885 - val loss: 1.094, val task loss: 1.077 [*] Best so far\n",
      "model_13: train loss: 0.919, train task loss: 0.890 - val loss: 1.096, val task loss: 1.072\n",
      "\n",
      "Epoch: 4/100 - LR: 0.001000\n"
     ]
    },
    {
     "name": "stderr",
     "output_type": "stream",
     "text": [
      "100%|████████████████████████████████████████████████████████████████████████████████| 134/134 [00:13<00:00, 10.29it/s]\n"
     ]
    },
    {
     "name": "stdout",
     "output_type": "stream",
     "text": [
      "model_1: train loss: 0.919, train task loss: 0.782 - val loss: 1.605, val task loss: 1.346\n",
      "model_2: train loss: 0.859, train task loss: 0.736 - val loss: 1.647, val task loss: 1.361\n",
      "model_3: train loss: 0.795, train task loss: 0.607 - val loss: 1.619, val task loss: 1.345\n",
      "model_4: train loss: 0.890, train task loss: 0.739 - val loss: 1.634, val task loss: 1.360\n",
      "model_5: train loss: 0.984, train task loss: 0.783 - val loss: 1.559, val task loss: 1.318 [*] Best so far\n",
      "model_6: train loss: 1.446, train task loss: 1.174 - val loss: 1.644, val task loss: 1.383\n",
      "model_7: train loss: 1.171, train task loss: 0.973 - val loss: 1.617, val task loss: 1.354\n",
      "model_8: train loss: 0.907, train task loss: 0.876 - val loss: 1.117, val task loss: 1.093\n",
      "model_9: train loss: 0.848, train task loss: 0.830 - val loss: 1.063, val task loss: 1.048 [*] Best so far\n",
      "model_10: train loss: 0.813, train task loss: 0.761 - val loss: 0.998, val task loss: 0.960 [*] Best so far\n",
      "model_11: train loss: 0.909, train task loss: 0.862 - val loss: 1.132, val task loss: 1.087 [*] Best so far\n",
      "model_12: train loss: 0.900, train task loss: 0.878 - val loss: 1.093, val task loss: 1.076 [*] Best so far\n",
      "model_13: train loss: 0.913, train task loss: 0.885 - val loss: 1.096, val task loss: 1.072\n",
      "\n",
      "Epoch: 5/100 - LR: 0.001000\n"
     ]
    },
    {
     "name": "stderr",
     "output_type": "stream",
     "text": [
      "100%|████████████████████████████████████████████████████████████████████████████████| 134/134 [00:12<00:00, 10.44it/s]\n"
     ]
    },
    {
     "name": "stdout",
     "output_type": "stream",
     "text": [
      "model_1: train loss: 0.842, train task loss: 0.711 - val loss: 1.637, val task loss: 1.364\n",
      "model_2: train loss: 0.794, train task loss: 0.676 - val loss: 1.672, val task loss: 1.374\n",
      "model_3: train loss: 0.735, train task loss: 0.548 - val loss: 1.644, val task loss: 1.360\n",
      "model_4: train loss: 0.809, train task loss: 0.664 - val loss: 1.651, val task loss: 1.370\n",
      "model_5: train loss: 0.891, train task loss: 0.703 - val loss: 1.568, val task loss: 1.322\n",
      "model_6: train loss: 1.376, train task loss: 1.118 - val loss: 1.652, val task loss: 1.387\n",
      "model_7: train loss: 1.086, train task loss: 0.901 - val loss: 1.640, val task loss: 1.366\n",
      "model_8: train loss: 0.903, train task loss: 0.873 - val loss: 1.115, val task loss: 1.092\n",
      "model_9: train loss: 0.841, train task loss: 0.824 - val loss: 1.060, val task loss: 1.046 [*] Best so far\n",
      "model_10: train loss: 0.805, train task loss: 0.754 - val loss: 0.999, val task loss: 0.961\n",
      "model_11: train loss: 0.900, train task loss: 0.855 - val loss: 1.126, val task loss: 1.083 [*] Best so far\n",
      "model_12: train loss: 0.895, train task loss: 0.874 - val loss: 1.091, val task loss: 1.075 [*] Best so far\n",
      "model_13: train loss: 0.909, train task loss: 0.882 - val loss: 1.095, val task loss: 1.071\n",
      "\n",
      "Epoch: 6/100 - LR: 0.001000\n"
     ]
    },
    {
     "name": "stderr",
     "output_type": "stream",
     "text": [
      "100%|████████████████████████████████████████████████████████████████████████████████| 134/134 [00:14<00:00,  9.34it/s]\n"
     ]
    },
    {
     "name": "stdout",
     "output_type": "stream",
     "text": [
      "model_1: train loss: 0.775, train task loss: 0.648 - val loss: 1.653, val task loss: 1.369\n",
      "model_2: train loss: 0.742, train task loss: 0.623 - val loss: 1.692, val task loss: 1.379\n",
      "model_3: train loss: 0.683, train task loss: 0.498 - val loss: 1.667, val task loss: 1.370\n",
      "model_4: train loss: 0.743, train task loss: 0.601 - val loss: 1.672, val task loss: 1.378\n",
      "model_5: train loss: 0.807, train task loss: 0.631 - val loss: 1.576, val task loss: 1.323\n",
      "model_6: train loss: 1.287, train task loss: 1.049 - val loss: 1.656, val task loss: 1.384\n",
      "model_7: train loss: 1.001, train task loss: 0.830 - val loss: 1.646, val task loss: 1.365\n",
      "model_8: train loss: 0.900, train task loss: 0.871 - val loss: 1.115, val task loss: 1.092\n",
      "model_9: train loss: 0.835, train task loss: 0.818 - val loss: 1.058, val task loss: 1.043 [*] Best so far\n",
      "model_10: train loss: 0.799, train task loss: 0.749 - val loss: 0.994, val task loss: 0.957 [*] Best so far\n",
      "model_11: train loss: 0.890, train task loss: 0.846 - val loss: 1.122, val task loss: 1.079 [*] Best so far\n",
      "model_12: train loss: 0.890, train task loss: 0.870 - val loss: 1.090, val task loss: 1.074 [*] Best so far\n",
      "model_13: train loss: 0.905, train task loss: 0.879 - val loss: 1.095, val task loss: 1.072\n",
      "\n",
      "Epoch: 7/100 - LR: 0.001000\n"
     ]
    },
    {
     "name": "stderr",
     "output_type": "stream",
     "text": [
      "100%|████████████████████████████████████████████████████████████████████████████████| 134/134 [00:14<00:00,  9.49it/s]\n"
     ]
    },
    {
     "name": "stdout",
     "output_type": "stream",
     "text": [
      "model_1: train loss: 0.722, train task loss: 0.593 - val loss: 1.694, val task loss: 1.386\n",
      "model_2: train loss: 0.700, train task loss: 0.578 - val loss: 1.725, val task loss: 1.389\n",
      "model_3: train loss: 0.644, train task loss: 0.458 - val loss: 1.700, val task loss: 1.383\n",
      "model_4: train loss: 0.695, train task loss: 0.549 - val loss: 1.704, val task loss: 1.390\n",
      "model_5: train loss: 0.740, train task loss: 0.568 - val loss: 1.604, val task loss: 1.333\n",
      "model_6: train loss: 1.200, train task loss: 0.977 - val loss: 1.670, val task loss: 1.387\n",
      "model_7: train loss: 0.928, train task loss: 0.766 - val loss: 1.672, val task loss: 1.373\n",
      "model_8: train loss: 0.897, train task loss: 0.869 - val loss: 1.113, val task loss: 1.091 [*] Best so far\n",
      "model_9: train loss: 0.830, train task loss: 0.813 - val loss: 1.055, val task loss: 1.041 [*] Best so far\n",
      "model_10: train loss: 0.795, train task loss: 0.745 - val loss: 0.991, val task loss: 0.955 [*] Best so far\n",
      "model_11: train loss: 0.884, train task loss: 0.841 - val loss: 1.117, val task loss: 1.076 [*] Best so far\n",
      "model_12: train loss: 0.886, train task loss: 0.866 - val loss: 1.087, val task loss: 1.071 [*] Best so far\n",
      "model_13: train loss: 0.903, train task loss: 0.877 - val loss: 1.092, val task loss: 1.070 [*] Best so far\n",
      "\n",
      "Epoch: 8/100 - LR: 0.001000\n"
     ]
    },
    {
     "name": "stderr",
     "output_type": "stream",
     "text": [
      "100%|████████████████████████████████████████████████████████████████████████████████| 134/134 [00:13<00:00,  9.93it/s]\n"
     ]
    },
    {
     "name": "stdout",
     "output_type": "stream",
     "text": [
      "model_1: train loss: 0.677, train task loss: 0.543 - val loss: 1.731, val task loss: 1.404\n",
      "model_2: train loss: 0.666, train task loss: 0.539 - val loss: 1.756, val task loss: 1.405\n",
      "model_3: train loss: 0.615, train task loss: 0.428 - val loss: 1.728, val task loss: 1.400\n",
      "model_4: train loss: 0.654, train task loss: 0.504 - val loss: 1.735, val task loss: 1.408\n",
      "model_5: train loss: 0.684, train task loss: 0.511 - val loss: 1.641, val task loss: 1.351\n",
      "model_6: train loss: 1.096, train task loss: 0.897 - val loss: 1.683, val task loss: 1.391\n",
      "model_7: train loss: 0.858, train task loss: 0.703 - val loss: 1.700, val task loss: 1.387\n",
      "model_8: train loss: 0.894, train task loss: 0.866 - val loss: 1.112, val task loss: 1.091\n",
      "model_9: train loss: 0.825, train task loss: 0.808 - val loss: 1.053, val task loss: 1.039 [*] Best so far\n",
      "model_10: train loss: 0.787, train task loss: 0.739 - val loss: 0.989, val task loss: 0.954 [*] Best so far\n",
      "model_11: train loss: 0.875, train task loss: 0.834 - val loss: 1.112, val task loss: 1.073 [*] Best so far\n",
      "model_12: train loss: 0.881, train task loss: 0.862 - val loss: 1.086, val task loss: 1.071 [*] Best so far\n",
      "model_13: train loss: 0.899, train task loss: 0.873 - val loss: 1.092, val task loss: 1.070\n",
      "\n",
      "Epoch: 9/100 - LR: 0.001000\n"
     ]
    },
    {
     "name": "stderr",
     "output_type": "stream",
     "text": [
      "100%|████████████████████████████████████████████████████████████████████████████████| 134/134 [00:15<00:00,  8.79it/s]\n"
     ]
    },
    {
     "name": "stdout",
     "output_type": "stream",
     "text": [
      "model_1: train loss: 0.641, train task loss: 0.502 - val loss: 1.771, val task loss: 1.425\n",
      "model_2: train loss: 0.637, train task loss: 0.509 - val loss: 1.788, val task loss: 1.422\n",
      "model_3: train loss: 0.590, train task loss: 0.404 - val loss: 1.763, val task loss: 1.419\n",
      "model_4: train loss: 0.623, train task loss: 0.471 - val loss: 1.767, val task loss: 1.425\n",
      "model_5: train loss: 0.639, train task loss: 0.465 - val loss: 1.680, val task loss: 1.372\n",
      "model_6: train loss: 1.006, train task loss: 0.823 - val loss: 1.700, val task loss: 1.399\n",
      "model_7: train loss: 0.799, train task loss: 0.648 - val loss: 1.731, val task loss: 1.403\n",
      "model_8: train loss: 0.890, train task loss: 0.864 - val loss: 1.112, val task loss: 1.091\n",
      "model_9: train loss: 0.819, train task loss: 0.802 - val loss: 1.051, val task loss: 1.037 [*] Best so far\n",
      "model_10: train loss: 0.781, train task loss: 0.733 - val loss: 0.985, val task loss: 0.951 [*] Best so far\n",
      "model_11: train loss: 0.867, train task loss: 0.827 - val loss: 1.108, val task loss: 1.069 [*] Best so far\n",
      "model_12: train loss: 0.875, train task loss: 0.857 - val loss: 1.084, val task loss: 1.070 [*] Best so far\n",
      "model_13: train loss: 0.895, train task loss: 0.870 - val loss: 1.091, val task loss: 1.070\n",
      "\n",
      "Epoch: 10/100 - LR: 0.001000\n"
     ]
    },
    {
     "name": "stderr",
     "output_type": "stream",
     "text": [
      "100%|████████████████████████████████████████████████████████████████████████████████| 134/134 [00:15<00:00,  8.75it/s]\n"
     ]
    },
    {
     "name": "stdout",
     "output_type": "stream",
     "text": [
      "model_1: train loss: 0.611, train task loss: 0.467 - val loss: 1.794, val task loss: 1.433\n",
      "model_2: train loss: 0.611, train task loss: 0.480 - val loss: 1.800, val task loss: 1.425\n",
      "model_3: train loss: 0.570, train task loss: 0.383 - val loss: 1.785, val task loss: 1.429\n",
      "model_4: train loss: 0.597, train task loss: 0.442 - val loss: 1.779, val task loss: 1.426\n",
      "model_5: train loss: 0.605, train task loss: 0.428 - val loss: 1.701, val task loss: 1.377\n",
      "model_6: train loss: 0.916, train task loss: 0.749 - val loss: 1.727, val task loss: 1.411\n",
      "model_7: train loss: 0.743, train task loss: 0.594 - val loss: 1.764, val task loss: 1.417\n",
      "model_8: train loss: 0.888, train task loss: 0.862 - val loss: 1.112, val task loss: 1.090 [*] Best so far\n",
      "model_9: train loss: 0.812, train task loss: 0.796 - val loss: 1.048, val task loss: 1.034 [*] Best so far\n",
      "model_10: train loss: 0.775, train task loss: 0.727 - val loss: 0.986, val task loss: 0.950 [*] Best so far\n",
      "model_11: train loss: 0.858, train task loss: 0.819 - val loss: 1.106, val task loss: 1.067 [*] Best so far\n",
      "model_12: train loss: 0.871, train task loss: 0.853 - val loss: 1.082, val task loss: 1.067 [*] Best so far\n",
      "model_13: train loss: 0.892, train task loss: 0.867 - val loss: 1.091, val task loss: 1.069 [*] Best so far\n",
      "\n",
      "Epoch: 11/100 - LR: 0.001000\n"
     ]
    },
    {
     "name": "stderr",
     "output_type": "stream",
     "text": [
      "100%|████████████████████████████████████████████████████████████████████████████████| 134/134 [00:14<00:00,  8.99it/s]\n"
     ]
    },
    {
     "name": "stdout",
     "output_type": "stream",
     "text": [
      "model_1: train loss: 0.586, train task loss: 0.433 - val loss: 1.811, val task loss: 1.443\n",
      "model_2: train loss: 0.590, train task loss: 0.451 - val loss: 1.809, val task loss: 1.430\n",
      "model_3: train loss: 0.555, train task loss: 0.365 - val loss: 1.798, val task loss: 1.438\n",
      "model_4: train loss: 0.575, train task loss: 0.416 - val loss: 1.784, val task loss: 1.428\n",
      "model_5: train loss: 0.580, train task loss: 0.398 - val loss: 1.719, val task loss: 1.388\n",
      "model_6: train loss: 0.844, train task loss: 0.686 - val loss: 1.741, val task loss: 1.418\n",
      "model_7: train loss: 0.698, train task loss: 0.546 - val loss: 1.782, val task loss: 1.427\n",
      "model_8: train loss: 0.884, train task loss: 0.858 - val loss: 1.111, val task loss: 1.090 [*] Best so far\n",
      "model_9: train loss: 0.808, train task loss: 0.792 - val loss: 1.048, val task loss: 1.034 [*] Best so far\n",
      "model_10: train loss: 0.773, train task loss: 0.726 - val loss: 0.989, val task loss: 0.954\n",
      "model_11: train loss: 0.853, train task loss: 0.815 - val loss: 1.102, val task loss: 1.064 [*] Best so far\n",
      "model_12: train loss: 0.866, train task loss: 0.848 - val loss: 1.082, val task loss: 1.067 [*] Best so far\n",
      "model_13: train loss: 0.889, train task loss: 0.864 - val loss: 1.091, val task loss: 1.070\n",
      "\n",
      "Epoch: 12/100 - LR: 0.001000\n"
     ]
    },
    {
     "name": "stderr",
     "output_type": "stream",
     "text": [
      "100%|████████████████████████████████████████████████████████████████████████████████| 134/134 [00:14<00:00,  9.31it/s]\n"
     ]
    },
    {
     "name": "stdout",
     "output_type": "stream",
     "text": [
      "model_1: train loss: 0.570, train task loss: 0.409 - val loss: 1.859, val task loss: 1.456\n",
      "model_2: train loss: 0.575, train task loss: 0.429 - val loss: 1.855, val task loss: 1.438\n",
      "model_3: train loss: 0.545, train task loss: 0.355 - val loss: 1.844, val task loss: 1.450\n",
      "model_4: train loss: 0.560, train task loss: 0.395 - val loss: 1.827, val task loss: 1.433\n",
      "model_5: train loss: 0.565, train task loss: 0.377 - val loss: 1.768, val task loss: 1.401\n",
      "model_6: train loss: 0.782, train task loss: 0.628 - val loss: 1.792, val task loss: 1.434\n",
      "model_7: train loss: 0.663, train task loss: 0.507 - val loss: 1.831, val task loss: 1.443\n",
      "model_8: train loss: 0.885, train task loss: 0.860 - val loss: 1.110, val task loss: 1.090 [*] Best so far\n",
      "model_9: train loss: 0.806, train task loss: 0.789 - val loss: 1.046, val task loss: 1.033 [*] Best so far\n",
      "model_10: train loss: 0.772, train task loss: 0.725 - val loss: 0.981, val task loss: 0.948 [*] Best so far\n",
      "model_11: train loss: 0.845, train task loss: 0.808 - val loss: 1.103, val task loss: 1.067\n",
      "model_12: train loss: 0.866, train task loss: 0.848 - val loss: 1.079, val task loss: 1.065 [*] Best so far\n",
      "model_13: train loss: 0.890, train task loss: 0.865 - val loss: 1.088, val task loss: 1.068 [*] Best so far\n",
      "\n",
      "Epoch: 13/100 - LR: 0.001000\n"
     ]
    },
    {
     "name": "stderr",
     "output_type": "stream",
     "text": [
      "100%|████████████████████████████████████████████████████████████████████████████████| 134/134 [00:13<00:00,  9.72it/s]\n"
     ]
    },
    {
     "name": "stdout",
     "output_type": "stream",
     "text": [
      "model_1: train loss: 0.554, train task loss: 0.391 - val loss: 1.881, val task loss: 1.478\n",
      "model_2: train loss: 0.559, train task loss: 0.410 - val loss: 1.854, val task loss: 1.448\n",
      "model_3: train loss: 0.533, train task loss: 0.346 - val loss: 1.844, val task loss: 1.463\n",
      "model_4: train loss: 0.545, train task loss: 0.379 - val loss: 1.816, val task loss: 1.440\n",
      "model_5: train loss: 0.547, train task loss: 0.361 - val loss: 1.774, val task loss: 1.414\n",
      "model_6: train loss: 0.726, train task loss: 0.576 - val loss: 1.822, val task loss: 1.457\n",
      "model_7: train loss: 0.630, train task loss: 0.472 - val loss: 1.848, val task loss: 1.460\n",
      "model_8: train loss: 0.882, train task loss: 0.856 - val loss: 1.109, val task loss: 1.089 [*] Best so far\n",
      "model_9: train loss: 0.800, train task loss: 0.784 - val loss: 1.043, val task loss: 1.029 [*] Best so far\n",
      "model_10: train loss: 0.764, train task loss: 0.718 - val loss: 0.983, val task loss: 0.949\n",
      "model_11: train loss: 0.841, train task loss: 0.804 - val loss: 1.094, val task loss: 1.057 [*] Best so far\n",
      "model_12: train loss: 0.860, train task loss: 0.842 - val loss: 1.078, val task loss: 1.064 [*] Best so far\n",
      "model_13: train loss: 0.886, train task loss: 0.861 - val loss: 1.089, val task loss: 1.068\n",
      "\n",
      "Epoch: 14/100 - LR: 0.001000\n"
     ]
    },
    {
     "name": "stderr",
     "output_type": "stream",
     "text": [
      "100%|████████████████████████████████████████████████████████████████████████████████| 134/134 [00:12<00:00, 10.90it/s]\n"
     ]
    },
    {
     "name": "stdout",
     "output_type": "stream",
     "text": [
      "model_1: train loss: 0.545, train task loss: 0.373 - val loss: 1.895, val task loss: 1.489\n",
      "model_2: train loss: 0.551, train task loss: 0.391 - val loss: 1.876, val task loss: 1.464\n",
      "model_3: train loss: 0.530, train task loss: 0.336 - val loss: 1.866, val task loss: 1.480\n",
      "model_4: train loss: 0.539, train task loss: 0.363 - val loss: 1.842, val task loss: 1.460\n",
      "model_5: train loss: 0.540, train task loss: 0.347 - val loss: 1.798, val task loss: 1.431\n",
      "model_6: train loss: 0.687, train task loss: 0.527 - val loss: 1.846, val task loss: 1.470\n",
      "model_7: train loss: 0.609, train task loss: 0.442 - val loss: 1.864, val task loss: 1.474\n",
      "model_8: train loss: 0.881, train task loss: 0.856 - val loss: 1.112, val task loss: 1.092\n",
      "model_9: train loss: 0.799, train task loss: 0.782 - val loss: 1.043, val task loss: 1.030\n",
      "model_10: train loss: 0.765, train task loss: 0.719 - val loss: 0.984, val task loss: 0.951\n",
      "model_11: train loss: 0.837, train task loss: 0.801 - val loss: 1.091, val task loss: 1.055 [*] Best so far\n",
      "model_12: train loss: 0.857, train task loss: 0.840 - val loss: 1.078, val task loss: 1.065\n",
      "model_13: train loss: 0.885, train task loss: 0.861 - val loss: 1.092, val task loss: 1.072\n",
      "\n",
      "Epoch: 15/100 - LR: 0.001000\n"
     ]
    },
    {
     "name": "stderr",
     "output_type": "stream",
     "text": [
      "100%|████████████████████████████████████████████████████████████████████████████████| 134/134 [00:12<00:00, 10.69it/s]\n"
     ]
    },
    {
     "name": "stdout",
     "output_type": "stream",
     "text": [
      "model_1: train loss: 0.528, train task loss: 0.362 - val loss: 1.933, val task loss: 1.495\n",
      "model_2: train loss: 0.533, train task loss: 0.380 - val loss: 1.925, val task loss: 1.477\n",
      "model_3: train loss: 0.514, train task loss: 0.331 - val loss: 1.918, val task loss: 1.496\n",
      "model_4: train loss: 0.521, train task loss: 0.354 - val loss: 1.901, val task loss: 1.474\n",
      "model_5: train loss: 0.523, train task loss: 0.339 - val loss: 1.844, val task loss: 1.446\n",
      "model_6: train loss: 0.643, train task loss: 0.492 - val loss: 1.894, val task loss: 1.489\n",
      "model_7: train loss: 0.580, train task loss: 0.423 - val loss: 1.908, val task loss: 1.488\n",
      "model_8: train loss: 0.870, train task loss: 0.846 - val loss: 1.107, val task loss: 1.087 [*] Best so far\n",
      "model_9: train loss: 0.786, train task loss: 0.770 - val loss: 1.038, val task loss: 1.024 [*] Best so far\n",
      "model_10: train loss: 0.750, train task loss: 0.705 - val loss: 0.978, val task loss: 0.945 [*] Best so far\n",
      "model_11: train loss: 0.824, train task loss: 0.790 - val loss: 1.086, val task loss: 1.052 [*] Best so far\n",
      "model_12: train loss: 0.845, train task loss: 0.829 - val loss: 1.072, val task loss: 1.058 [*] Best so far\n",
      "model_13: train loss: 0.874, train task loss: 0.850 - val loss: 1.087, val task loss: 1.066 [*] Best so far\n",
      "\n",
      "Epoch: 16/100 - LR: 0.001000\n"
     ]
    },
    {
     "name": "stderr",
     "output_type": "stream",
     "text": [
      "100%|████████████████████████████████████████████████████████████████████████████████| 134/134 [00:13<00:00,  9.88it/s]\n"
     ]
    },
    {
     "name": "stdout",
     "output_type": "stream",
     "text": [
      "model_1: train loss: 0.520, train task loss: 0.349 - val loss: 1.939, val task loss: 1.500\n",
      "model_2: train loss: 0.524, train task loss: 0.365 - val loss: 1.917, val task loss: 1.473\n",
      "model_3: train loss: 0.511, train task loss: 0.326 - val loss: 1.910, val task loss: 1.492\n",
      "model_4: train loss: 0.515, train task loss: 0.342 - val loss: 1.881, val task loss: 1.463\n",
      "model_5: train loss: 0.518, train task loss: 0.330 - val loss: 1.839, val task loss: 1.442\n",
      "model_6: train loss: 0.614, train task loss: 0.458 - val loss: 1.933, val task loss: 1.512\n",
      "model_7: train loss: 0.563, train task loss: 0.400 - val loss: 1.928, val task loss: 1.498\n",
      "model_8: train loss: 0.871, train task loss: 0.847 - val loss: 1.107, val task loss: 1.086 [*] Best so far\n",
      "model_9: train loss: 0.786, train task loss: 0.770 - val loss: 1.037, val task loss: 1.023 [*] Best so far\n",
      "model_10: train loss: 0.750, train task loss: 0.707 - val loss: 0.977, val task loss: 0.945\n",
      "model_11: train loss: 0.823, train task loss: 0.789 - val loss: 1.086, val task loss: 1.051 [*] Best so far\n",
      "model_12: train loss: 0.845, train task loss: 0.829 - val loss: 1.071, val task loss: 1.057 [*] Best so far\n",
      "model_13: train loss: 0.875, train task loss: 0.851 - val loss: 1.087, val task loss: 1.065 [*] Best so far\n",
      "\n",
      "Epoch: 17/100 - LR: 0.001000\n"
     ]
    },
    {
     "name": "stderr",
     "output_type": "stream",
     "text": [
      "100%|████████████████████████████████████████████████████████████████████████████████| 134/134 [00:12<00:00, 10.54it/s]\n"
     ]
    },
    {
     "name": "stdout",
     "output_type": "stream",
     "text": [
      "model_1: train loss: 0.510, train task loss: 0.335 - val loss: 1.941, val task loss: 1.508\n",
      "model_2: train loss: 0.515, train task loss: 0.350 - val loss: 1.912, val task loss: 1.478\n",
      "model_3: train loss: 0.502, train task loss: 0.320 - val loss: 1.903, val task loss: 1.495\n",
      "model_4: train loss: 0.506, train task loss: 0.330 - val loss: 1.867, val task loss: 1.464\n",
      "model_5: train loss: 0.509, train task loss: 0.323 - val loss: 1.837, val task loss: 1.448\n",
      "model_6: train loss: 0.591, train task loss: 0.427 - val loss: 1.948, val task loss: 1.526\n",
      "model_7: train loss: 0.544, train task loss: 0.375 - val loss: 1.934, val task loss: 1.506\n",
      "model_8: train loss: 0.866, train task loss: 0.842 - val loss: 1.110, val task loss: 1.090\n",
      "model_9: train loss: 0.779, train task loss: 0.763 - val loss: 1.037, val task loss: 1.024\n",
      "model_10: train loss: 0.748, train task loss: 0.705 - val loss: 0.982, val task loss: 0.950\n",
      "model_11: train loss: 0.812, train task loss: 0.779 - val loss: 1.082, val task loss: 1.048 [*] Best so far\n",
      "model_12: train loss: 0.838, train task loss: 0.822 - val loss: 1.074, val task loss: 1.060\n",
      "model_13: train loss: 0.871, train task loss: 0.847 - val loss: 1.090, val task loss: 1.069\n",
      "\n",
      "Epoch: 18/100 - LR: 0.001000\n"
     ]
    },
    {
     "name": "stderr",
     "output_type": "stream",
     "text": [
      "100%|████████████████████████████████████████████████████████████████████████████████| 134/134 [00:12<00:00, 10.46it/s]\n"
     ]
    },
    {
     "name": "stdout",
     "output_type": "stream",
     "text": [
      "model_1: train loss: 0.504, train task loss: 0.326 - val loss: 1.958, val task loss: 1.518\n",
      "model_2: train loss: 0.508, train task loss: 0.338 - val loss: 1.943, val task loss: 1.494\n",
      "model_3: train loss: 0.499, train task loss: 0.313 - val loss: 1.935, val task loss: 1.513\n",
      "model_4: train loss: 0.501, train task loss: 0.321 - val loss: 1.911, val task loss: 1.487\n",
      "model_5: train loss: 0.505, train task loss: 0.317 - val loss: 1.868, val task loss: 1.465\n",
      "model_6: train loss: 0.574, train task loss: 0.401 - val loss: 1.967, val task loss: 1.536\n",
      "model_7: train loss: 0.534, train task loss: 0.358 - val loss: 1.953, val task loss: 1.517\n",
      "model_8: train loss: 0.865, train task loss: 0.840 - val loss: 1.109, val task loss: 1.089\n",
      "model_9: train loss: 0.773, train task loss: 0.756 - val loss: 1.034, val task loss: 1.020 [*] Best so far\n",
      "model_10: train loss: 0.742, train task loss: 0.697 - val loss: 0.977, val task loss: 0.946\n",
      "model_11: train loss: 0.809, train task loss: 0.775 - val loss: 1.078, val task loss: 1.043 [*] Best so far\n",
      "model_12: train loss: 0.833, train task loss: 0.817 - val loss: 1.070, val task loss: 1.057 [*] Best so far\n",
      "model_13: train loss: 0.869, train task loss: 0.845 - val loss: 1.090, val task loss: 1.069\n",
      "\n",
      "Epoch: 19/100 - LR: 0.001000\n"
     ]
    },
    {
     "name": "stderr",
     "output_type": "stream",
     "text": [
      "100%|████████████████████████████████████████████████████████████████████████████████| 134/134 [00:12<00:00, 10.35it/s]\n"
     ]
    },
    {
     "name": "stdout",
     "output_type": "stream",
     "text": [
      "model_1: train loss: 0.506, train task loss: 0.326 - val loss: 1.993, val task loss: 1.519\n",
      "model_2: train loss: 0.510, train task loss: 0.334 - val loss: 1.975, val task loss: 1.492\n",
      "model_3: train loss: 0.501, train task loss: 0.311 - val loss: 1.981, val task loss: 1.520\n",
      "model_4: train loss: 0.505, train task loss: 0.320 - val loss: 1.953, val task loss: 1.486\n",
      "model_5: train loss: 0.506, train task loss: 0.313 - val loss: 1.909, val task loss: 1.470\n",
      "model_6: train loss: 0.563, train task loss: 0.389 - val loss: 2.018, val task loss: 1.548\n",
      "model_7: train loss: 0.530, train task loss: 0.351 - val loss: 1.999, val task loss: 1.524\n",
      "model_8: train loss: 0.871, train task loss: 0.847 - val loss: 1.104, val task loss: 1.085 [*] Best so far\n",
      "model_9: train loss: 0.778, train task loss: 0.761 - val loss: 1.030, val task loss: 1.016 [*] Best so far\n",
      "model_10: train loss: 0.746, train task loss: 0.703 - val loss: 0.975, val task loss: 0.943 [*] Best so far\n",
      "model_11: train loss: 0.812, train task loss: 0.779 - val loss: 1.076, val task loss: 1.044\n",
      "model_12: train loss: 0.837, train task loss: 0.822 - val loss: 1.064, val task loss: 1.051 [*] Best so far\n",
      "model_13: train loss: 0.876, train task loss: 0.852 - val loss: 1.084, val task loss: 1.064 [*] Best so far\n",
      "\n",
      "Epoch: 20/100 - LR: 0.001000\n"
     ]
    },
    {
     "name": "stderr",
     "output_type": "stream",
     "text": [
      "100%|████████████████████████████████████████████████████████████████████████████████| 134/134 [00:13<00:00,  9.62it/s]\n"
     ]
    },
    {
     "name": "stdout",
     "output_type": "stream",
     "text": [
      "model_1: train loss: 0.500, train task loss: 0.318 - val loss: 1.971, val task loss: 1.523\n",
      "model_2: train loss: 0.504, train task loss: 0.324 - val loss: 1.943, val task loss: 1.492\n",
      "model_3: train loss: 0.495, train task loss: 0.306 - val loss: 1.940, val task loss: 1.517\n",
      "model_4: train loss: 0.498, train task loss: 0.313 - val loss: 1.898, val task loss: 1.479\n",
      "model_5: train loss: 0.499, train task loss: 0.309 - val loss: 1.877, val task loss: 1.471\n",
      "model_6: train loss: 0.546, train task loss: 0.373 - val loss: 1.999, val task loss: 1.557\n",
      "model_7: train loss: 0.518, train task loss: 0.340 - val loss: 1.980, val task loss: 1.531\n",
      "model_8: train loss: 0.865, train task loss: 0.840 - val loss: 1.116, val task loss: 1.096\n",
      "model_9: train loss: 0.772, train task loss: 0.755 - val loss: 1.039, val task loss: 1.025\n",
      "model_10: train loss: 0.740, train task loss: 0.696 - val loss: 0.987, val task loss: 0.955\n",
      "model_11: train loss: 0.806, train task loss: 0.773 - val loss: 1.078, val task loss: 1.044\n",
      "model_12: train loss: 0.831, train task loss: 0.814 - val loss: 1.076, val task loss: 1.063\n",
      "model_13: train loss: 0.871, train task loss: 0.846 - val loss: 1.098, val task loss: 1.076\n",
      "\n",
      "Epoch: 21/100 - LR: 0.001000\n"
     ]
    },
    {
     "name": "stderr",
     "output_type": "stream",
     "text": [
      "100%|████████████████████████████████████████████████████████████████████████████████| 134/134 [00:13<00:00, 10.24it/s]\n"
     ]
    },
    {
     "name": "stdout",
     "output_type": "stream",
     "text": [
      "model_1: train loss: 0.487, train task loss: 0.313 - val loss: 2.010, val task loss: 1.534\n",
      "model_2: train loss: 0.490, train task loss: 0.320 - val loss: 1.996, val task loss: 1.511\n",
      "model_3: train loss: 0.485, train task loss: 0.307 - val loss: 1.991, val task loss: 1.533\n",
      "model_4: train loss: 0.487, train task loss: 0.311 - val loss: 1.965, val task loss: 1.500\n",
      "model_5: train loss: 0.489, train task loss: 0.309 - val loss: 1.924, val task loss: 1.486\n",
      "model_6: train loss: 0.529, train task loss: 0.361 - val loss: 2.039, val task loss: 1.567\n",
      "model_7: train loss: 0.505, train task loss: 0.332 - val loss: 2.023, val task loss: 1.544\n",
      "model_8: train loss: 0.856, train task loss: 0.832 - val loss: 1.103, val task loss: 1.084 [*] Best so far\n",
      "model_9: train loss: 0.762, train task loss: 0.745 - val loss: 1.027, val task loss: 1.013 [*] Best so far\n",
      "model_10: train loss: 0.733, train task loss: 0.692 - val loss: 0.976, val task loss: 0.945\n",
      "model_11: train loss: 0.794, train task loss: 0.762 - val loss: 1.068, val task loss: 1.036 [*] Best so far\n",
      "model_12: train loss: 0.818, train task loss: 0.803 - val loss: 1.061, val task loss: 1.049 [*] Best so far\n",
      "model_13: train loss: 0.860, train task loss: 0.836 - val loss: 1.084, val task loss: 1.063 [*] Best so far\n",
      "\n",
      "Epoch: 22/100 - LR: 0.001000\n"
     ]
    },
    {
     "name": "stderr",
     "output_type": "stream",
     "text": [
      "100%|████████████████████████████████████████████████████████████████████████████████| 134/134 [00:13<00:00, 10.17it/s]\n"
     ]
    },
    {
     "name": "stdout",
     "output_type": "stream",
     "text": [
      "model_1: train loss: 0.481, train task loss: 0.310 - val loss: 2.010, val task loss: 1.533\n",
      "model_2: train loss: 0.484, train task loss: 0.316 - val loss: 1.997, val task loss: 1.510\n",
      "model_3: train loss: 0.479, train task loss: 0.304 - val loss: 1.992, val task loss: 1.534\n",
      "model_4: train loss: 0.481, train task loss: 0.308 - val loss: 1.956, val task loss: 1.495\n",
      "model_5: train loss: 0.482, train task loss: 0.305 - val loss: 1.923, val task loss: 1.484\n",
      "model_6: train loss: 0.514, train task loss: 0.349 - val loss: 2.057, val task loss: 1.577\n",
      "model_7: train loss: 0.495, train task loss: 0.325 - val loss: 2.038, val task loss: 1.551\n",
      "model_8: train loss: 0.849, train task loss: 0.825 - val loss: 1.102, val task loss: 1.083 [*] Best so far\n",
      "model_9: train loss: 0.753, train task loss: 0.737 - val loss: 1.025, val task loss: 1.011 [*] Best so far\n",
      "model_10: train loss: 0.724, train task loss: 0.684 - val loss: 0.972, val task loss: 0.942 [*] Best so far\n",
      "model_11: train loss: 0.784, train task loss: 0.753 - val loss: 1.065, val task loss: 1.033 [*] Best so far\n",
      "model_12: train loss: 0.810, train task loss: 0.795 - val loss: 1.059, val task loss: 1.047 [*] Best so far\n",
      "model_13: train loss: 0.854, train task loss: 0.830 - val loss: 1.084, val task loss: 1.063 [*] Best so far\n",
      "\n",
      "Epoch: 23/100 - LR: 0.001000\n"
     ]
    },
    {
     "name": "stderr",
     "output_type": "stream",
     "text": [
      "100%|████████████████████████████████████████████████████████████████████████████████| 134/134 [00:13<00:00, 10.16it/s]\n"
     ]
    },
    {
     "name": "stdout",
     "output_type": "stream",
     "text": [
      "model_1: train loss: 0.476, train task loss: 0.303 - val loss: 2.027, val task loss: 1.539\n",
      "model_2: train loss: 0.477, train task loss: 0.305 - val loss: 2.005, val task loss: 1.510\n",
      "model_3: train loss: 0.474, train task loss: 0.297 - val loss: 1.996, val task loss: 1.532\n",
      "model_4: train loss: 0.475, train task loss: 0.300 - val loss: 1.959, val task loss: 1.491\n",
      "model_5: train loss: 0.478, train task loss: 0.299 - val loss: 1.928, val task loss: 1.483\n",
      "model_6: train loss: 0.505, train task loss: 0.335 - val loss: 2.074, val task loss: 1.584\n",
      "model_7: train loss: 0.488, train task loss: 0.315 - val loss: 2.051, val task loss: 1.553\n",
      "model_8: train loss: 0.847, train task loss: 0.822 - val loss: 1.101, val task loss: 1.082 [*] Best so far\n",
      "model_9: train loss: 0.749, train task loss: 0.732 - val loss: 1.023, val task loss: 1.009 [*] Best so far\n",
      "model_10: train loss: 0.721, train task loss: 0.680 - val loss: 0.972, val task loss: 0.942 [*] Best so far\n",
      "model_11: train loss: 0.779, train task loss: 0.747 - val loss: 1.063, val task loss: 1.031 [*] Best so far\n",
      "model_12: train loss: 0.805, train task loss: 0.790 - val loss: 1.057, val task loss: 1.044 [*] Best so far\n",
      "model_13: train loss: 0.852, train task loss: 0.827 - val loss: 1.083, val task loss: 1.063 [*] Best so far\n",
      "\n",
      "Epoch: 24/100 - LR: 0.001000\n"
     ]
    },
    {
     "name": "stderr",
     "output_type": "stream",
     "text": [
      "100%|████████████████████████████████████████████████████████████████████████████████| 134/134 [00:13<00:00, 10.03it/s]\n"
     ]
    },
    {
     "name": "stdout",
     "output_type": "stream",
     "text": [
      "model_1: train loss: 0.473, train task loss: 0.299 - val loss: 2.050, val task loss: 1.545\n",
      "model_2: train loss: 0.473, train task loss: 0.302 - val loss: 2.030, val task loss: 1.517\n",
      "model_3: train loss: 0.472, train task loss: 0.295 - val loss: 2.020, val task loss: 1.538\n",
      "model_4: train loss: 0.472, train task loss: 0.298 - val loss: 1.988, val task loss: 1.497\n",
      "model_5: train loss: 0.476, train task loss: 0.296 - val loss: 1.956, val task loss: 1.491\n",
      "model_6: train loss: 0.498, train task loss: 0.325 - val loss: 2.103, val task loss: 1.590\n",
      "model_7: train loss: 0.484, train task loss: 0.310 - val loss: 2.075, val task loss: 1.558\n",
      "model_8: train loss: 0.850, train task loss: 0.826 - val loss: 1.100, val task loss: 1.081 [*] Best so far\n",
      "model_9: train loss: 0.749, train task loss: 0.733 - val loss: 1.020, val task loss: 1.007 [*] Best so far\n",
      "model_10: train loss: 0.722, train task loss: 0.682 - val loss: 0.967, val task loss: 0.938 [*] Best so far\n",
      "model_11: train loss: 0.778, train task loss: 0.747 - val loss: 1.060, val task loss: 1.030 [*] Best so far\n",
      "model_12: train loss: 0.807, train task loss: 0.793 - val loss: 1.053, val task loss: 1.041 [*] Best so far\n",
      "model_13: train loss: 0.858, train task loss: 0.834 - val loss: 1.081, val task loss: 1.060 [*] Best so far\n",
      "\n",
      "Epoch: 25/100 - LR: 0.001000\n"
     ]
    },
    {
     "name": "stderr",
     "output_type": "stream",
     "text": [
      "100%|████████████████████████████████████████████████████████████████████████████████| 134/134 [00:13<00:00, 10.13it/s]\n"
     ]
    },
    {
     "name": "stdout",
     "output_type": "stream",
     "text": [
      "model_1: train loss: 0.470, train task loss: 0.298 - val loss: 2.035, val task loss: 1.549\n",
      "model_2: train loss: 0.470, train task loss: 0.299 - val loss: 2.012, val task loss: 1.523\n",
      "model_3: train loss: 0.469, train task loss: 0.293 - val loss: 2.001, val task loss: 1.543\n",
      "model_4: train loss: 0.469, train task loss: 0.296 - val loss: 1.963, val task loss: 1.503\n",
      "model_5: train loss: 0.472, train task loss: 0.294 - val loss: 1.945, val task loss: 1.500\n",
      "model_6: train loss: 0.491, train task loss: 0.319 - val loss: 2.080, val task loss: 1.593\n",
      "model_7: train loss: 0.479, train task loss: 0.306 - val loss: 2.063, val task loss: 1.564\n",
      "model_8: train loss: 0.839, train task loss: 0.815 - val loss: 1.107, val task loss: 1.087\n",
      "model_9: train loss: 0.739, train task loss: 0.722 - val loss: 1.026, val task loss: 1.011\n",
      "model_10: train loss: 0.713, train task loss: 0.673 - val loss: 0.979, val task loss: 0.948\n",
      "model_11: train loss: 0.769, train task loss: 0.738 - val loss: 1.061, val task loss: 1.029 [*] Best so far\n",
      "model_12: train loss: 0.795, train task loss: 0.780 - val loss: 1.060, val task loss: 1.048\n",
      "model_13: train loss: 0.845, train task loss: 0.820 - val loss: 1.091, val task loss: 1.069\n",
      "\n",
      "Epoch: 26/100 - LR: 0.001000\n"
     ]
    },
    {
     "name": "stderr",
     "output_type": "stream",
     "text": [
      "100%|████████████████████████████████████████████████████████████████████████████████| 134/134 [00:15<00:00,  8.83it/s]\n"
     ]
    },
    {
     "name": "stdout",
     "output_type": "stream",
     "text": [
      "model_1: train loss: 0.466, train task loss: 0.297 - val loss: 2.070, val task loss: 1.560\n",
      "model_2: train loss: 0.466, train task loss: 0.297 - val loss: 2.061, val task loss: 1.541\n",
      "model_3: train loss: 0.466, train task loss: 0.292 - val loss: 2.053, val task loss: 1.564\n",
      "model_4: train loss: 0.465, train task loss: 0.295 - val loss: 2.025, val task loss: 1.525\n",
      "model_5: train loss: 0.468, train task loss: 0.293 - val loss: 1.997, val task loss: 1.521\n",
      "model_6: train loss: 0.485, train task loss: 0.316 - val loss: 2.127, val task loss: 1.610\n",
      "model_7: train loss: 0.474, train task loss: 0.303 - val loss: 2.099, val task loss: 1.578\n",
      "model_8: train loss: 0.835, train task loss: 0.811 - val loss: 1.100, val task loss: 1.080 [*] Best so far\n",
      "model_9: train loss: 0.735, train task loss: 0.718 - val loss: 1.019, val task loss: 1.005 [*] Best so far\n",
      "model_10: train loss: 0.711, train task loss: 0.672 - val loss: 0.973, val task loss: 0.943\n",
      "model_11: train loss: 0.765, train task loss: 0.734 - val loss: 1.056, val task loss: 1.025 [*] Best so far\n",
      "model_12: train loss: 0.788, train task loss: 0.774 - val loss: 1.050, val task loss: 1.038 [*] Best so far\n",
      "model_13: train loss: 0.841, train task loss: 0.816 - val loss: 1.081, val task loss: 1.060 [*] Best so far\n",
      "\n",
      "Epoch: 27/100 - LR: 0.001000\n"
     ]
    },
    {
     "name": "stderr",
     "output_type": "stream",
     "text": [
      "100%|████████████████████████████████████████████████████████████████████████████████| 134/134 [00:13<00:00,  9.89it/s]\n"
     ]
    },
    {
     "name": "stdout",
     "output_type": "stream",
     "text": [
      "model_1: train loss: 0.463, train task loss: 0.295 - val loss: 2.060, val task loss: 1.549\n",
      "model_2: train loss: 0.463, train task loss: 0.297 - val loss: 2.042, val task loss: 1.523\n",
      "model_3: train loss: 0.463, train task loss: 0.292 - val loss: 2.038, val task loss: 1.549\n",
      "model_4: train loss: 0.463, train task loss: 0.293 - val loss: 1.999, val task loss: 1.503\n",
      "model_5: train loss: 0.465, train task loss: 0.293 - val loss: 1.976, val task loss: 1.502\n",
      "model_6: train loss: 0.480, train task loss: 0.313 - val loss: 2.127, val task loss: 1.603\n",
      "model_7: train loss: 0.471, train task loss: 0.302 - val loss: 2.097, val task loss: 1.568\n",
      "model_8: train loss: 0.832, train task loss: 0.808 - val loss: 1.096, val task loss: 1.077 [*] Best so far\n",
      "model_9: train loss: 0.732, train task loss: 0.715 - val loss: 1.015, val task loss: 1.002 [*] Best so far\n",
      "model_10: train loss: 0.707, train task loss: 0.669 - val loss: 0.965, val task loss: 0.937 [*] Best so far\n",
      "model_11: train loss: 0.760, train task loss: 0.731 - val loss: 1.052, val task loss: 1.022 [*] Best so far\n",
      "model_12: train loss: 0.784, train task loss: 0.770 - val loss: 1.047, val task loss: 1.035 [*] Best so far\n",
      "model_13: train loss: 0.838, train task loss: 0.814 - val loss: 1.079, val task loss: 1.058 [*] Best so far\n",
      "\n",
      "Epoch: 28/100 - LR: 0.001000\n"
     ]
    },
    {
     "name": "stderr",
     "output_type": "stream",
     "text": [
      "100%|████████████████████████████████████████████████████████████████████████████████| 134/134 [00:13<00:00,  9.84it/s]\n"
     ]
    },
    {
     "name": "stdout",
     "output_type": "stream",
     "text": [
      "model_1: train loss: 0.459, train task loss: 0.291 - val loss: 2.058, val task loss: 1.553\n",
      "model_2: train loss: 0.459, train task loss: 0.292 - val loss: 2.040, val task loss: 1.528\n",
      "model_3: train loss: 0.459, train task loss: 0.288 - val loss: 2.029, val task loss: 1.549\n",
      "model_4: train loss: 0.459, train task loss: 0.289 - val loss: 1.993, val task loss: 1.506\n",
      "model_5: train loss: 0.461, train task loss: 0.289 - val loss: 1.971, val task loss: 1.504\n",
      "model_6: train loss: 0.473, train task loss: 0.304 - val loss: 2.120, val task loss: 1.605\n",
      "model_7: train loss: 0.465, train task loss: 0.298 - val loss: 2.096, val task loss: 1.571\n",
      "model_8: train loss: 0.826, train task loss: 0.802 - val loss: 1.100, val task loss: 1.080\n",
      "model_9: train loss: 0.726, train task loss: 0.709 - val loss: 1.017, val task loss: 1.003\n",
      "model_10: train loss: 0.702, train task loss: 0.664 - val loss: 0.972, val task loss: 0.943\n",
      "model_11: train loss: 0.755, train task loss: 0.726 - val loss: 1.052, val task loss: 1.021 [*] Best so far\n",
      "model_12: train loss: 0.777, train task loss: 0.764 - val loss: 1.048, val task loss: 1.037\n",
      "model_13: train loss: 0.833, train task loss: 0.808 - val loss: 1.082, val task loss: 1.061\n",
      "\n",
      "Epoch: 29/100 - LR: 0.001000\n"
     ]
    },
    {
     "name": "stderr",
     "output_type": "stream",
     "text": [
      "100%|████████████████████████████████████████████████████████████████████████████████| 134/134 [00:12<00:00, 10.62it/s]\n"
     ]
    },
    {
     "name": "stdout",
     "output_type": "stream",
     "text": [
      "model_1: train loss: 0.456, train task loss: 0.287 - val loss: 2.081, val task loss: 1.563\n",
      "model_2: train loss: 0.456, train task loss: 0.288 - val loss: 2.068, val task loss: 1.543\n",
      "model_3: train loss: 0.457, train task loss: 0.285 - val loss: 2.051, val task loss: 1.561\n",
      "model_4: train loss: 0.456, train task loss: 0.287 - val loss: 2.028, val task loss: 1.523\n",
      "model_5: train loss: 0.458, train task loss: 0.285 - val loss: 2.008, val task loss: 1.524\n",
      "model_6: train loss: 0.470, train task loss: 0.299 - val loss: 2.146, val task loss: 1.618\n",
      "model_7: train loss: 0.462, train task loss: 0.291 - val loss: 2.123, val task loss: 1.583\n",
      "model_8: train loss: 0.824, train task loss: 0.800 - val loss: 1.100, val task loss: 1.079\n",
      "model_9: train loss: 0.726, train task loss: 0.708 - val loss: 1.020, val task loss: 1.005\n",
      "model_10: train loss: 0.704, train task loss: 0.666 - val loss: 0.982, val task loss: 0.951\n",
      "model_11: train loss: 0.753, train task loss: 0.723 - val loss: 1.055, val task loss: 1.023\n",
      "model_12: train loss: 0.774, train task loss: 0.760 - val loss: 1.050, val task loss: 1.038\n",
      "model_13: train loss: 0.831, train task loss: 0.806 - val loss: 1.083, val task loss: 1.061\n",
      "\n",
      "Epoch: 30/100 - LR: 0.001000\n"
     ]
    },
    {
     "name": "stderr",
     "output_type": "stream",
     "text": [
      "100%|████████████████████████████████████████████████████████████████████████████████| 134/134 [00:12<00:00, 10.87it/s]\n"
     ]
    },
    {
     "name": "stdout",
     "output_type": "stream",
     "text": [
      "model_1: train loss: 0.453, train task loss: 0.287 - val loss: 2.099, val task loss: 1.566\n",
      "model_2: train loss: 0.453, train task loss: 0.288 - val loss: 2.088, val task loss: 1.544\n",
      "model_3: train loss: 0.453, train task loss: 0.286 - val loss: 2.076, val task loss: 1.566\n",
      "model_4: train loss: 0.453, train task loss: 0.285 - val loss: 2.050, val task loss: 1.524\n",
      "model_5: train loss: 0.455, train task loss: 0.285 - val loss: 2.029, val task loss: 1.527\n",
      "model_6: train loss: 0.464, train task loss: 0.297 - val loss: 2.181, val task loss: 1.628\n",
      "model_7: train loss: 0.459, train task loss: 0.288 - val loss: 2.148, val task loss: 1.590\n",
      "model_8: train loss: 0.820, train task loss: 0.796 - val loss: 1.093, val task loss: 1.074 [*] Best so far\n",
      "model_9: train loss: 0.721, train task loss: 0.704 - val loss: 1.011, val task loss: 0.997 [*] Best so far\n",
      "model_10: train loss: 0.698, train task loss: 0.661 - val loss: 0.966, val task loss: 0.938\n",
      "model_11: train loss: 0.749, train task loss: 0.719 - val loss: 1.048, val task loss: 1.018 [*] Best so far\n",
      "model_12: train loss: 0.769, train task loss: 0.756 - val loss: 1.041, val task loss: 1.029 [*] Best so far\n",
      "model_13: train loss: 0.829, train task loss: 0.804 - val loss: 1.077, val task loss: 1.056 [*] Best so far\n",
      "\n",
      "Epoch: 31/100 - LR: 0.001000\n"
     ]
    },
    {
     "name": "stderr",
     "output_type": "stream",
     "text": [
      "100%|████████████████████████████████████████████████████████████████████████████████| 134/134 [00:12<00:00, 10.34it/s]\n"
     ]
    },
    {
     "name": "stdout",
     "output_type": "stream",
     "text": [
      "model_1: train loss: 0.449, train task loss: 0.285 - val loss: 2.096, val task loss: 1.565\n",
      "model_2: train loss: 0.449, train task loss: 0.285 - val loss: 2.081, val task loss: 1.543\n",
      "model_3: train loss: 0.449, train task loss: 0.284 - val loss: 2.068, val task loss: 1.564\n",
      "model_4: train loss: 0.449, train task loss: 0.283 - val loss: 2.036, val task loss: 1.519\n",
      "model_5: train loss: 0.452, train task loss: 0.285 - val loss: 2.015, val task loss: 1.521\n",
      "model_6: train loss: 0.460, train task loss: 0.295 - val loss: 2.174, val task loss: 1.629\n",
      "model_7: train loss: 0.454, train task loss: 0.288 - val loss: 2.142, val task loss: 1.589\n",
      "model_8: train loss: 0.815, train task loss: 0.791 - val loss: 1.093, val task loss: 1.074 [*] Best so far\n",
      "model_9: train loss: 0.715, train task loss: 0.697 - val loss: 1.012, val task loss: 0.997 [*] Best so far\n",
      "model_10: train loss: 0.692, train task loss: 0.656 - val loss: 0.968, val task loss: 0.940\n",
      "model_11: train loss: 0.742, train task loss: 0.713 - val loss: 1.045, val task loss: 1.015 [*] Best so far\n",
      "model_12: train loss: 0.762, train task loss: 0.749 - val loss: 1.039, val task loss: 1.028 [*] Best so far\n",
      "model_13: train loss: 0.825, train task loss: 0.799 - val loss: 1.078, val task loss: 1.057\n",
      "\n",
      "Epoch: 32/100 - LR: 0.001000\n"
     ]
    },
    {
     "name": "stderr",
     "output_type": "stream",
     "text": [
      "100%|████████████████████████████████████████████████████████████████████████████████| 134/134 [00:12<00:00, 10.54it/s]\n"
     ]
    },
    {
     "name": "stdout",
     "output_type": "stream",
     "text": [
      "model_1: train loss: 0.445, train task loss: 0.283 - val loss: 2.112, val task loss: 1.573\n",
      "model_2: train loss: 0.446, train task loss: 0.283 - val loss: 2.103, val task loss: 1.553\n",
      "model_3: train loss: 0.446, train task loss: 0.280 - val loss: 2.087, val task loss: 1.572\n",
      "model_4: train loss: 0.446, train task loss: 0.282 - val loss: 2.060, val task loss: 1.530\n",
      "model_5: train loss: 0.448, train task loss: 0.282 - val loss: 2.041, val task loss: 1.534\n",
      "model_6: train loss: 0.456, train task loss: 0.291 - val loss: 2.193, val task loss: 1.636\n",
      "model_7: train loss: 0.450, train task loss: 0.286 - val loss: 2.159, val task loss: 1.597\n",
      "model_8: train loss: 0.811, train task loss: 0.788 - val loss: 1.092, val task loss: 1.072 [*] Best so far\n",
      "model_9: train loss: 0.711, train task loss: 0.694 - val loss: 1.009, val task loss: 0.995 [*] Best so far\n",
      "model_10: train loss: 0.689, train task loss: 0.654 - val loss: 0.965, val task loss: 0.937 [*] Best so far\n",
      "model_11: train loss: 0.738, train task loss: 0.710 - val loss: 1.043, val task loss: 1.014 [*] Best so far\n",
      "model_12: train loss: 0.759, train task loss: 0.746 - val loss: 1.037, val task loss: 1.026 [*] Best so far\n",
      "model_13: train loss: 0.821, train task loss: 0.797 - val loss: 1.076, val task loss: 1.055 [*] Best so far\n",
      "\n",
      "Epoch: 33/100 - LR: 0.001000\n"
     ]
    },
    {
     "name": "stderr",
     "output_type": "stream",
     "text": [
      "100%|████████████████████████████████████████████████████████████████████████████████| 134/134 [00:13<00:00, 10.29it/s]\n"
     ]
    },
    {
     "name": "stdout",
     "output_type": "stream",
     "text": [
      "model_1: train loss: 0.442, train task loss: 0.280 - val loss: 2.120, val task loss: 1.577\n",
      "model_2: train loss: 0.442, train task loss: 0.281 - val loss: 2.108, val task loss: 1.557\n",
      "model_3: train loss: 0.443, train task loss: 0.278 - val loss: 2.092, val task loss: 1.575\n",
      "model_4: train loss: 0.442, train task loss: 0.280 - val loss: 2.062, val task loss: 1.532\n",
      "model_5: train loss: 0.444, train task loss: 0.279 - val loss: 2.049, val task loss: 1.538\n",
      "model_6: train loss: 0.451, train task loss: 0.287 - val loss: 2.199, val task loss: 1.640\n",
      "model_7: train loss: 0.446, train task loss: 0.283 - val loss: 2.172, val task loss: 1.603\n",
      "model_8: train loss: 0.805, train task loss: 0.781 - val loss: 1.092, val task loss: 1.072 [*] Best so far\n",
      "model_9: train loss: 0.705, train task loss: 0.688 - val loss: 1.010, val task loss: 0.996\n",
      "model_10: train loss: 0.684, train task loss: 0.649 - val loss: 0.970, val task loss: 0.941\n",
      "model_11: train loss: 0.732, train task loss: 0.704 - val loss: 1.043, val task loss: 1.013 [*] Best so far\n",
      "model_12: train loss: 0.750, train task loss: 0.737 - val loss: 1.037, val task loss: 1.025 [*] Best so far\n",
      "model_13: train loss: 0.816, train task loss: 0.791 - val loss: 1.078, val task loss: 1.056\n",
      "\n",
      "Epoch: 34/100 - LR: 0.001000\n"
     ]
    },
    {
     "name": "stderr",
     "output_type": "stream",
     "text": [
      "100%|████████████████████████████████████████████████████████████████████████████████| 134/134 [00:13<00:00, 10.09it/s]\n"
     ]
    },
    {
     "name": "stdout",
     "output_type": "stream",
     "text": [
      "model_1: train loss: 0.440, train task loss: 0.278 - val loss: 2.133, val task loss: 1.582\n",
      "model_2: train loss: 0.440, train task loss: 0.278 - val loss: 2.125, val task loss: 1.563\n",
      "model_3: train loss: 0.441, train task loss: 0.276 - val loss: 2.103, val task loss: 1.579\n",
      "model_4: train loss: 0.440, train task loss: 0.277 - val loss: 2.076, val task loss: 1.537\n",
      "model_5: train loss: 0.442, train task loss: 0.276 - val loss: 2.064, val task loss: 1.544\n",
      "model_6: train loss: 0.449, train task loss: 0.284 - val loss: 2.217, val task loss: 1.647\n",
      "model_7: train loss: 0.444, train task loss: 0.280 - val loss: 2.186, val task loss: 1.609\n",
      "model_8: train loss: 0.801, train task loss: 0.777 - val loss: 1.090, val task loss: 1.070 [*] Best so far\n",
      "model_9: train loss: 0.703, train task loss: 0.685 - val loss: 1.008, val task loss: 0.994 [*] Best so far\n",
      "model_10: train loss: 0.682, train task loss: 0.647 - val loss: 0.967, val task loss: 0.939\n",
      "model_11: train loss: 0.729, train task loss: 0.701 - val loss: 1.040, val task loss: 1.011 [*] Best so far\n",
      "model_12: train loss: 0.746, train task loss: 0.733 - val loss: 1.033, val task loss: 1.022 [*] Best so far\n",
      "model_13: train loss: 0.813, train task loss: 0.787 - val loss: 1.075, val task loss: 1.053 [*] Best so far\n",
      "\n",
      "Epoch: 35/100 - LR: 0.001000\n"
     ]
    },
    {
     "name": "stderr",
     "output_type": "stream",
     "text": [
      "100%|████████████████████████████████████████████████████████████████████████████████| 134/134 [00:12<00:00, 10.56it/s]\n"
     ]
    },
    {
     "name": "stdout",
     "output_type": "stream",
     "text": [
      "model_1: train loss: 0.438, train task loss: 0.277 - val loss: 2.141, val task loss: 1.585\n",
      "model_2: train loss: 0.438, train task loss: 0.277 - val loss: 2.137, val task loss: 1.569\n",
      "model_3: train loss: 0.439, train task loss: 0.276 - val loss: 2.113, val task loss: 1.584\n",
      "model_4: train loss: 0.439, train task loss: 0.275 - val loss: 2.089, val task loss: 1.543\n",
      "model_5: train loss: 0.440, train task loss: 0.276 - val loss: 2.075, val task loss: 1.549\n",
      "model_6: train loss: 0.446, train task loss: 0.282 - val loss: 2.229, val task loss: 1.652\n",
      "model_7: train loss: 0.442, train task loss: 0.278 - val loss: 2.194, val task loss: 1.612\n",
      "model_8: train loss: 0.798, train task loss: 0.775 - val loss: 1.089, val task loss: 1.069 [*] Best so far\n",
      "model_9: train loss: 0.700, train task loss: 0.682 - val loss: 1.007, val task loss: 0.993 [*] Best so far\n",
      "model_10: train loss: 0.679, train task loss: 0.645 - val loss: 0.967, val task loss: 0.940\n",
      "model_11: train loss: 0.725, train task loss: 0.698 - val loss: 1.039, val task loss: 1.010 [*] Best so far\n",
      "model_12: train loss: 0.743, train task loss: 0.730 - val loss: 1.032, val task loss: 1.021 [*] Best so far\n",
      "model_13: train loss: 0.811, train task loss: 0.786 - val loss: 1.076, val task loss: 1.054\n",
      "\n",
      "Epoch: 36/100 - LR: 0.001000\n"
     ]
    },
    {
     "name": "stderr",
     "output_type": "stream",
     "text": [
      "100%|████████████████████████████████████████████████████████████████████████████████| 134/134 [00:12<00:00, 10.76it/s]\n"
     ]
    },
    {
     "name": "stdout",
     "output_type": "stream",
     "text": [
      "model_1: train loss: 0.435, train task loss: 0.275 - val loss: 2.156, val task loss: 1.585\n",
      "model_2: train loss: 0.435, train task loss: 0.275 - val loss: 2.148, val task loss: 1.565\n",
      "model_3: train loss: 0.436, train task loss: 0.273 - val loss: 2.127, val task loss: 1.582\n",
      "model_4: train loss: 0.435, train task loss: 0.274 - val loss: 2.099, val task loss: 1.536\n",
      "model_5: train loss: 0.437, train task loss: 0.274 - val loss: 2.088, val task loss: 1.547\n",
      "model_6: train loss: 0.443, train task loss: 0.280 - val loss: 2.248, val task loss: 1.652\n",
      "model_7: train loss: 0.439, train task loss: 0.277 - val loss: 2.215, val task loss: 1.614\n",
      "model_8: train loss: 0.793, train task loss: 0.770 - val loss: 1.085, val task loss: 1.066 [*] Best so far\n",
      "model_9: train loss: 0.696, train task loss: 0.679 - val loss: 1.004, val task loss: 0.990 [*] Best so far\n",
      "model_10: train loss: 0.676, train task loss: 0.643 - val loss: 0.963, val task loss: 0.936 [*] Best so far\n",
      "model_11: train loss: 0.721, train task loss: 0.694 - val loss: 1.036, val task loss: 1.008 [*] Best so far\n",
      "model_12: train loss: 0.737, train task loss: 0.725 - val loss: 1.027, val task loss: 1.017 [*] Best so far\n",
      "model_13: train loss: 0.806, train task loss: 0.781 - val loss: 1.071, val task loss: 1.049 [*] Best so far\n",
      "\n",
      "Epoch: 37/100 - LR: 0.001000\n"
     ]
    },
    {
     "name": "stderr",
     "output_type": "stream",
     "text": [
      "100%|████████████████████████████████████████████████████████████████████████████████| 134/134 [00:12<00:00, 10.32it/s]\n"
     ]
    },
    {
     "name": "stdout",
     "output_type": "stream",
     "text": [
      "model_1: train loss: 0.432, train task loss: 0.273 - val loss: 2.155, val task loss: 1.589\n",
      "model_2: train loss: 0.432, train task loss: 0.273 - val loss: 2.141, val task loss: 1.566\n",
      "model_3: train loss: 0.433, train task loss: 0.272 - val loss: 2.119, val task loss: 1.583\n",
      "model_4: train loss: 0.433, train task loss: 0.272 - val loss: 2.089, val task loss: 1.536\n",
      "model_5: train loss: 0.434, train task loss: 0.272 - val loss: 2.080, val task loss: 1.547\n",
      "model_6: train loss: 0.440, train task loss: 0.277 - val loss: 2.239, val task loss: 1.652\n",
      "model_7: train loss: 0.436, train task loss: 0.275 - val loss: 2.213, val task loss: 1.618\n",
      "model_8: train loss: 0.789, train task loss: 0.766 - val loss: 1.087, val task loss: 1.068\n",
      "model_9: train loss: 0.694, train task loss: 0.677 - val loss: 1.006, val task loss: 0.992\n",
      "model_10: train loss: 0.673, train task loss: 0.640 - val loss: 0.966, val task loss: 0.939\n",
      "model_11: train loss: 0.720, train task loss: 0.694 - val loss: 1.037, val task loss: 1.009\n",
      "model_12: train loss: 0.733, train task loss: 0.721 - val loss: 1.028, val task loss: 1.017\n",
      "model_13: train loss: 0.802, train task loss: 0.778 - val loss: 1.073, val task loss: 1.051\n",
      "\n",
      "Epoch: 38/100 - LR: 0.001000\n"
     ]
    },
    {
     "name": "stderr",
     "output_type": "stream",
     "text": [
      "100%|████████████████████████████████████████████████████████████████████████████████| 134/134 [00:12<00:00, 10.70it/s]\n"
     ]
    },
    {
     "name": "stdout",
     "output_type": "stream",
     "text": [
      "model_1: train loss: 0.429, train task loss: 0.271 - val loss: 2.171, val task loss: 1.593\n",
      "model_2: train loss: 0.429, train task loss: 0.271 - val loss: 2.163, val task loss: 1.573\n",
      "model_3: train loss: 0.430, train task loss: 0.270 - val loss: 2.136, val task loss: 1.588\n",
      "model_4: train loss: 0.429, train task loss: 0.271 - val loss: 2.113, val task loss: 1.545\n",
      "model_5: train loss: 0.431, train task loss: 0.271 - val loss: 2.102, val task loss: 1.555\n",
      "model_6: train loss: 0.436, train task loss: 0.275 - val loss: 2.257, val task loss: 1.657\n",
      "model_7: train loss: 0.432, train task loss: 0.273 - val loss: 2.233, val task loss: 1.623\n",
      "model_8: train loss: 0.783, train task loss: 0.761 - val loss: 1.085, val task loss: 1.065 [*] Best so far\n",
      "model_9: train loss: 0.689, train task loss: 0.671 - val loss: 1.005, val task loss: 0.990 [*] Best so far\n",
      "model_10: train loss: 0.668, train task loss: 0.635 - val loss: 0.966, val task loss: 0.939\n",
      "model_11: train loss: 0.715, train task loss: 0.688 - val loss: 1.035, val task loss: 1.006 [*] Best so far\n",
      "model_12: train loss: 0.726, train task loss: 0.714 - val loss: 1.026, val task loss: 1.015 [*] Best so far\n",
      "model_13: train loss: 0.799, train task loss: 0.774 - val loss: 1.073, val task loss: 1.050\n",
      "\n",
      "Epoch: 39/100 - LR: 0.001000\n"
     ]
    },
    {
     "name": "stderr",
     "output_type": "stream",
     "text": [
      "100%|████████████████████████████████████████████████████████████████████████████████| 134/134 [00:13<00:00,  9.98it/s]\n"
     ]
    },
    {
     "name": "stdout",
     "output_type": "stream",
     "text": [
      "model_1: train loss: 0.434, train task loss: 0.270 - val loss: 2.172, val task loss: 1.603\n",
      "model_2: train loss: 0.434, train task loss: 0.270 - val loss: 2.164, val task loss: 1.586\n",
      "model_3: train loss: 0.436, train task loss: 0.269 - val loss: 2.134, val task loss: 1.600\n",
      "model_4: train loss: 0.435, train task loss: 0.270 - val loss: 2.109, val task loss: 1.557\n",
      "model_5: train loss: 0.436, train task loss: 0.270 - val loss: 2.113, val task loss: 1.573\n",
      "model_6: train loss: 0.441, train task loss: 0.274 - val loss: 2.253, val task loss: 1.669\n",
      "model_7: train loss: 0.437, train task loss: 0.271 - val loss: 2.233, val task loss: 1.634\n",
      "model_8: train loss: 0.787, train task loss: 0.764 - val loss: 1.092, val task loss: 1.072\n",
      "model_9: train loss: 0.694, train task loss: 0.676 - val loss: 1.016, val task loss: 1.000\n",
      "model_10: train loss: 0.673, train task loss: 0.640 - val loss: 0.981, val task loss: 0.954\n",
      "model_11: train loss: 0.719, train task loss: 0.691 - val loss: 1.043, val task loss: 1.013\n",
      "model_12: train loss: 0.730, train task loss: 0.718 - val loss: 1.036, val task loss: 1.024\n",
      "model_13: train loss: 0.802, train task loss: 0.776 - val loss: 1.082, val task loss: 1.058\n",
      "\n",
      "Epoch: 40/100 - LR: 0.001000\n"
     ]
    },
    {
     "name": "stderr",
     "output_type": "stream",
     "text": [
      "100%|████████████████████████████████████████████████████████████████████████████████| 134/134 [00:13<00:00,  9.98it/s]\n"
     ]
    },
    {
     "name": "stdout",
     "output_type": "stream",
     "text": [
      "model_1: train loss: 0.428, train task loss: 0.272 - val loss: 2.207, val task loss: 1.605\n",
      "model_2: train loss: 0.427, train task loss: 0.272 - val loss: 2.217, val task loss: 1.592\n",
      "model_3: train loss: 0.429, train task loss: 0.273 - val loss: 2.186, val task loss: 1.607\n",
      "model_4: train loss: 0.428, train task loss: 0.271 - val loss: 2.167, val task loss: 1.562\n",
      "model_5: train loss: 0.429, train task loss: 0.271 - val loss: 2.156, val task loss: 1.575\n",
      "model_6: train loss: 0.433, train task loss: 0.278 - val loss: 2.315, val task loss: 1.677\n",
      "model_7: train loss: 0.430, train task loss: 0.273 - val loss: 2.273, val task loss: 1.638\n",
      "model_8: train loss: 0.771, train task loss: 0.748 - val loss: 1.078, val task loss: 1.060 [*] Best so far\n",
      "model_9: train loss: 0.680, train task loss: 0.662 - val loss: 1.002, val task loss: 0.987 [*] Best so far\n",
      "model_10: train loss: 0.661, train task loss: 0.629 - val loss: 0.961, val task loss: 0.936 [*] Best so far\n",
      "model_11: train loss: 0.705, train task loss: 0.678 - val loss: 1.031, val task loss: 1.004 [*] Best so far\n",
      "model_12: train loss: 0.715, train task loss: 0.703 - val loss: 1.020, val task loss: 1.009 [*] Best so far\n",
      "model_13: train loss: 0.788, train task loss: 0.763 - val loss: 1.067, val task loss: 1.045 [*] Best so far\n",
      "\n",
      "Epoch: 41/100 - LR: 0.001000\n"
     ]
    },
    {
     "name": "stderr",
     "output_type": "stream",
     "text": [
      "100%|████████████████████████████████████████████████████████████████████████████████| 134/134 [00:12<00:00, 11.10it/s]\n"
     ]
    },
    {
     "name": "stdout",
     "output_type": "stream",
     "text": [
      "model_1: train loss: 0.424, train task loss: 0.269 - val loss: 2.202, val task loss: 1.599\n",
      "model_2: train loss: 0.424, train task loss: 0.268 - val loss: 2.187, val task loss: 1.572\n",
      "model_3: train loss: 0.427, train task loss: 0.267 - val loss: 2.163, val task loss: 1.588\n",
      "model_4: train loss: 0.425, train task loss: 0.268 - val loss: 2.130, val task loss: 1.536\n",
      "model_5: train loss: 0.427, train task loss: 0.268 - val loss: 2.115, val task loss: 1.544\n",
      "model_6: train loss: 0.432, train task loss: 0.272 - val loss: 2.294, val task loss: 1.662\n",
      "model_7: train loss: 0.428, train task loss: 0.270 - val loss: 2.271, val task loss: 1.629\n",
      "model_8: train loss: 0.770, train task loss: 0.748 - val loss: 1.078, val task loss: 1.059 [*] Best so far\n",
      "model_9: train loss: 0.680, train task loss: 0.663 - val loss: 1.000, val task loss: 0.986 [*] Best so far\n",
      "model_10: train loss: 0.662, train task loss: 0.631 - val loss: 0.964, val task loss: 0.937\n",
      "model_11: train loss: 0.705, train task loss: 0.679 - val loss: 1.034, val task loss: 1.006\n",
      "model_12: train loss: 0.714, train task loss: 0.702 - val loss: 1.018, val task loss: 1.007 [*] Best so far\n",
      "model_13: train loss: 0.788, train task loss: 0.763 - val loss: 1.066, val task loss: 1.043 [*] Best so far\n",
      "\n",
      "Epoch: 42/100 - LR: 0.001000\n"
     ]
    },
    {
     "name": "stderr",
     "output_type": "stream",
     "text": [
      "100%|████████████████████████████████████████████████████████████████████████████████| 134/134 [00:12<00:00, 10.56it/s]\n"
     ]
    },
    {
     "name": "stdout",
     "output_type": "stream",
     "text": [
      "model_1: train loss: 0.427, train task loss: 0.271 - val loss: 2.203, val task loss: 1.613\n",
      "model_2: train loss: 0.426, train task loss: 0.271 - val loss: 2.182, val task loss: 1.587\n",
      "model_3: train loss: 0.427, train task loss: 0.267 - val loss: 2.154, val task loss: 1.600\n",
      "model_4: train loss: 0.428, train task loss: 0.272 - val loss: 2.121, val task loss: 1.552\n",
      "model_5: train loss: 0.429, train task loss: 0.271 - val loss: 2.127, val task loss: 1.570\n",
      "model_6: train loss: 0.431, train task loss: 0.269 - val loss: 2.275, val task loss: 1.671\n",
      "model_7: train loss: 0.429, train task loss: 0.273 - val loss: 2.272, val task loss: 1.645\n",
      "model_8: train loss: 0.764, train task loss: 0.742 - val loss: 1.079, val task loss: 1.060\n",
      "model_9: train loss: 0.675, train task loss: 0.658 - val loss: 1.005, val task loss: 0.990\n",
      "model_10: train loss: 0.656, train task loss: 0.627 - val loss: 0.972, val task loss: 0.946\n",
      "model_11: train loss: 0.700, train task loss: 0.674 - val loss: 1.031, val task loss: 1.003 [*] Best so far\n",
      "model_12: train loss: 0.708, train task loss: 0.696 - val loss: 1.022, val task loss: 1.011\n",
      "model_13: train loss: 0.784, train task loss: 0.759 - val loss: 1.070, val task loss: 1.046\n",
      "\n",
      "Epoch: 43/100 - LR: 0.001000\n"
     ]
    },
    {
     "name": "stderr",
     "output_type": "stream",
     "text": [
      "100%|████████████████████████████████████████████████████████████████████████████████| 134/134 [00:12<00:00, 10.41it/s]\n"
     ]
    },
    {
     "name": "stdout",
     "output_type": "stream",
     "text": [
      "model_1: train loss: 0.421, train task loss: 0.261 - val loss: 2.226, val task loss: 1.623\n",
      "model_2: train loss: 0.420, train task loss: 0.264 - val loss: 2.224, val task loss: 1.609\n",
      "model_3: train loss: 0.422, train task loss: 0.263 - val loss: 2.190, val task loss: 1.622\n",
      "model_4: train loss: 0.421, train task loss: 0.262 - val loss: 2.175, val task loss: 1.580\n",
      "model_5: train loss: 0.424, train task loss: 0.263 - val loss: 2.176, val task loss: 1.599\n",
      "model_6: train loss: 0.426, train task loss: 0.266 - val loss: 2.314, val task loss: 1.691\n",
      "model_7: train loss: 0.424, train task loss: 0.263 - val loss: 2.291, val task loss: 1.657\n",
      "model_8: train loss: 0.758, train task loss: 0.736 - val loss: 1.077, val task loss: 1.058 [*] Best so far\n",
      "model_9: train loss: 0.672, train task loss: 0.655 - val loss: 1.001, val task loss: 0.986\n",
      "model_10: train loss: 0.653, train task loss: 0.623 - val loss: 0.966, val task loss: 0.941\n",
      "model_11: train loss: 0.696, train task loss: 0.671 - val loss: 1.029, val task loss: 1.001 [*] Best so far\n",
      "model_12: train loss: 0.703, train task loss: 0.691 - val loss: 1.018, val task loss: 1.007\n",
      "model_13: train loss: 0.779, train task loss: 0.753 - val loss: 1.068, val task loss: 1.045\n",
      "\n",
      "Epoch: 44/100 - LR: 0.001000\n"
     ]
    },
    {
     "name": "stderr",
     "output_type": "stream",
     "text": [
      "100%|████████████████████████████████████████████████████████████████████████████████| 134/134 [00:13<00:00, 10.20it/s]\n"
     ]
    },
    {
     "name": "stdout",
     "output_type": "stream",
     "text": [
      "model_1: train loss: 0.421, train task loss: 0.264 - val loss: 2.217, val task loss: 1.608\n",
      "model_2: train loss: 0.421, train task loss: 0.264 - val loss: 2.217, val task loss: 1.593\n",
      "model_3: train loss: 0.422, train task loss: 0.265 - val loss: 2.186, val task loss: 1.611\n",
      "model_4: train loss: 0.422, train task loss: 0.262 - val loss: 2.156, val task loss: 1.558\n",
      "model_5: train loss: 0.422, train task loss: 0.262 - val loss: 2.155, val task loss: 1.575\n",
      "model_6: train loss: 0.425, train task loss: 0.270 - val loss: 2.317, val task loss: 1.682\n",
      "model_7: train loss: 0.423, train task loss: 0.264 - val loss: 2.292, val task loss: 1.646\n",
      "model_8: train loss: 0.756, train task loss: 0.735 - val loss: 1.073, val task loss: 1.054 [*] Best so far\n",
      "model_9: train loss: 0.672, train task loss: 0.655 - val loss: 1.000, val task loss: 0.986 [*] Best so far\n",
      "model_10: train loss: 0.655, train task loss: 0.626 - val loss: 0.967, val task loss: 0.942\n",
      "model_11: train loss: 0.696, train task loss: 0.670 - val loss: 1.028, val task loss: 1.000 [*] Best so far\n",
      "model_12: train loss: 0.701, train task loss: 0.690 - val loss: 1.015, val task loss: 1.005 [*] Best so far\n",
      "model_13: train loss: 0.778, train task loss: 0.752 - val loss: 1.066, val task loss: 1.042 [*] Best so far\n",
      "\n",
      "Epoch: 45/100 - LR: 0.001000\n"
     ]
    },
    {
     "name": "stderr",
     "output_type": "stream",
     "text": [
      "100%|████████████████████████████████████████████████████████████████████████████████| 134/134 [00:12<00:00, 11.09it/s]\n"
     ]
    },
    {
     "name": "stdout",
     "output_type": "stream",
     "text": [
      "model_1: train loss: 0.416, train task loss: 0.263 - val loss: 2.219, val task loss: 1.614\n",
      "model_2: train loss: 0.415, train task loss: 0.262 - val loss: 2.214, val task loss: 1.592\n",
      "model_3: train loss: 0.416, train task loss: 0.263 - val loss: 2.180, val task loss: 1.605\n",
      "model_4: train loss: 0.416, train task loss: 0.262 - val loss: 2.151, val task loss: 1.556\n",
      "model_5: train loss: 0.417, train task loss: 0.264 - val loss: 2.157, val task loss: 1.576\n",
      "model_6: train loss: 0.419, train task loss: 0.265 - val loss: 2.309, val task loss: 1.677\n",
      "model_7: train loss: 0.417, train task loss: 0.264 - val loss: 2.287, val task loss: 1.645\n",
      "model_8: train loss: 0.747, train task loss: 0.727 - val loss: 1.071, val task loss: 1.053 [*] Best so far\n",
      "model_9: train loss: 0.665, train task loss: 0.648 - val loss: 1.001, val task loss: 0.987\n",
      "model_10: train loss: 0.648, train task loss: 0.618 - val loss: 0.963, val task loss: 0.939\n",
      "model_11: train loss: 0.689, train task loss: 0.664 - val loss: 1.027, val task loss: 1.001\n",
      "model_12: train loss: 0.694, train task loss: 0.682 - val loss: 1.013, val task loss: 1.003 [*] Best so far\n",
      "model_13: train loss: 0.771, train task loss: 0.746 - val loss: 1.063, val task loss: 1.040 [*] Best so far\n",
      "\n",
      "Epoch: 46/100 - LR: 0.001000\n"
     ]
    },
    {
     "name": "stderr",
     "output_type": "stream",
     "text": [
      "100%|████████████████████████████████████████████████████████████████████████████████| 134/134 [00:13<00:00, 10.30it/s]\n"
     ]
    },
    {
     "name": "stdout",
     "output_type": "stream",
     "text": [
      "model_1: train loss: 0.415, train task loss: 0.263 - val loss: 2.242, val task loss: 1.628\n",
      "model_2: train loss: 0.415, train task loss: 0.263 - val loss: 2.244, val task loss: 1.613\n",
      "model_3: train loss: 0.417, train task loss: 0.260 - val loss: 2.213, val task loss: 1.626\n",
      "model_4: train loss: 0.416, train task loss: 0.264 - val loss: 2.194, val task loss: 1.585\n",
      "model_5: train loss: 0.417, train task loss: 0.263 - val loss: 2.188, val task loss: 1.597\n",
      "model_6: train loss: 0.420, train task loss: 0.263 - val loss: 2.330, val task loss: 1.693\n",
      "model_7: train loss: 0.418, train task loss: 0.266 - val loss: 2.310, val task loss: 1.662\n",
      "model_8: train loss: 0.745, train task loss: 0.726 - val loss: 1.074, val task loss: 1.055\n",
      "model_9: train loss: 0.666, train task loss: 0.649 - val loss: 1.000, val task loss: 0.985 [*] Best so far\n",
      "model_10: train loss: 0.649, train task loss: 0.621 - val loss: 0.967, val task loss: 0.941\n",
      "model_11: train loss: 0.689, train task loss: 0.665 - val loss: 1.028, val task loss: 0.999 [*] Best so far\n",
      "model_12: train loss: 0.695, train task loss: 0.684 - val loss: 1.016, val task loss: 1.005\n",
      "model_13: train loss: 0.770, train task loss: 0.746 - val loss: 1.067, val task loss: 1.043\n",
      "\n",
      "Epoch: 47/100 - LR: 0.001000\n"
     ]
    },
    {
     "name": "stderr",
     "output_type": "stream",
     "text": [
      "100%|████████████████████████████████████████████████████████████████████████████████| 134/134 [00:13<00:00, 10.30it/s]\n"
     ]
    },
    {
     "name": "stdout",
     "output_type": "stream",
     "text": [
      "model_1: train loss: 0.412, train task loss: 0.264 - val loss: 2.254, val task loss: 1.624\n",
      "model_2: train loss: 0.411, train task loss: 0.262 - val loss: 2.252, val task loss: 1.604\n",
      "model_3: train loss: 0.413, train task loss: 0.260 - val loss: 2.217, val task loss: 1.618\n",
      "model_4: train loss: 0.413, train task loss: 0.262 - val loss: 2.194, val task loss: 1.569\n",
      "model_5: train loss: 0.413, train task loss: 0.262 - val loss: 2.197, val task loss: 1.590\n",
      "model_6: train loss: 0.415, train task loss: 0.265 - val loss: 2.351, val task loss: 1.692\n",
      "model_7: train loss: 0.413, train task loss: 0.264 - val loss: 2.331, val task loss: 1.661\n",
      "model_8: train loss: 0.740, train task loss: 0.720 - val loss: 1.070, val task loss: 1.051 [*] Best so far\n",
      "model_9: train loss: 0.659, train task loss: 0.642 - val loss: 0.997, val task loss: 0.983 [*] Best so far\n",
      "model_10: train loss: 0.641, train task loss: 0.613 - val loss: 0.961, val task loss: 0.937\n",
      "model_11: train loss: 0.683, train task loss: 0.658 - val loss: 1.024, val task loss: 0.997 [*] Best so far\n",
      "model_12: train loss: 0.687, train task loss: 0.676 - val loss: 1.009, val task loss: 0.999 [*] Best so far\n",
      "model_13: train loss: 0.766, train task loss: 0.741 - val loss: 1.062, val task loss: 1.038 [*] Best so far\n",
      "\n",
      "Epoch: 48/100 - LR: 0.001000\n"
     ]
    },
    {
     "name": "stderr",
     "output_type": "stream",
     "text": [
      "100%|████████████████████████████████████████████████████████████████████████████████| 134/134 [00:13<00:00, 10.23it/s]\n"
     ]
    },
    {
     "name": "stdout",
     "output_type": "stream",
     "text": [
      "model_1: train loss: 0.410, train task loss: 0.256 - val loss: 2.249, val task loss: 1.621\n",
      "model_2: train loss: 0.409, train task loss: 0.257 - val loss: 2.245, val task loss: 1.603\n",
      "model_3: train loss: 0.411, train task loss: 0.256 - val loss: 2.201, val task loss: 1.611\n",
      "model_4: train loss: 0.411, train task loss: 0.256 - val loss: 2.171, val task loss: 1.560\n",
      "model_5: train loss: 0.410, train task loss: 0.256 - val loss: 2.189, val task loss: 1.588\n",
      "model_6: train loss: 0.413, train task loss: 0.259 - val loss: 2.341, val task loss: 1.691\n",
      "model_7: train loss: 0.411, train task loss: 0.257 - val loss: 2.330, val task loss: 1.661\n",
      "model_8: train loss: 0.736, train task loss: 0.715 - val loss: 1.071, val task loss: 1.052\n",
      "model_9: train loss: 0.657, train task loss: 0.640 - val loss: 1.001, val task loss: 0.986\n",
      "model_10: train loss: 0.638, train task loss: 0.611 - val loss: 0.968, val task loss: 0.944\n",
      "model_11: train loss: 0.681, train task loss: 0.656 - val loss: 1.026, val task loss: 0.998\n",
      "model_12: train loss: 0.683, train task loss: 0.672 - val loss: 1.014, val task loss: 1.003\n",
      "model_13: train loss: 0.762, train task loss: 0.737 - val loss: 1.066, val task loss: 1.042\n",
      "\n",
      "Epoch: 49/100 - LR: 0.001000\n"
     ]
    },
    {
     "name": "stderr",
     "output_type": "stream",
     "text": [
      "100%|████████████████████████████████████████████████████████████████████████████████| 134/134 [00:13<00:00,  9.96it/s]\n"
     ]
    },
    {
     "name": "stdout",
     "output_type": "stream",
     "text": [
      "model_1: train loss: 0.406, train task loss: 0.254 - val loss: 2.267, val task loss: 1.630\n",
      "model_2: train loss: 0.406, train task loss: 0.254 - val loss: 2.268, val task loss: 1.613\n",
      "model_3: train loss: 0.408, train task loss: 0.257 - val loss: 2.234, val task loss: 1.627\n",
      "model_4: train loss: 0.407, train task loss: 0.255 - val loss: 2.208, val task loss: 1.577\n",
      "model_5: train loss: 0.407, train task loss: 0.255 - val loss: 2.218, val task loss: 1.603\n",
      "model_6: train loss: 0.410, train task loss: 0.256 - val loss: 2.362, val task loss: 1.699\n",
      "model_7: train loss: 0.408, train task loss: 0.256 - val loss: 2.343, val task loss: 1.667\n",
      "model_8: train loss: 0.730, train task loss: 0.711 - val loss: 1.066, val task loss: 1.048 [*] Best so far\n",
      "model_9: train loss: 0.654, train task loss: 0.638 - val loss: 0.999, val task loss: 0.985\n",
      "model_10: train loss: 0.635, train task loss: 0.608 - val loss: 0.966, val task loss: 0.941\n",
      "model_11: train loss: 0.679, train task loss: 0.655 - val loss: 1.025, val task loss: 0.997\n",
      "model_12: train loss: 0.679, train task loss: 0.669 - val loss: 1.009, val task loss: 0.999 [*] Best so far\n",
      "model_13: train loss: 0.758, train task loss: 0.734 - val loss: 1.060, val task loss: 1.036 [*] Best so far\n",
      "\n",
      "Epoch: 50/100 - LR: 0.001000\n"
     ]
    },
    {
     "name": "stderr",
     "output_type": "stream",
     "text": [
      "100%|████████████████████████████████████████████████████████████████████████████████| 134/134 [00:12<00:00, 10.31it/s]\n"
     ]
    },
    {
     "name": "stdout",
     "output_type": "stream",
     "text": [
      "model_1: train loss: 0.407, train task loss: 0.259 - val loss: 2.270, val task loss: 1.633\n",
      "model_2: train loss: 0.406, train task loss: 0.257 - val loss: 2.267, val task loss: 1.616\n",
      "model_3: train loss: 0.407, train task loss: 0.257 - val loss: 2.240, val task loss: 1.635\n",
      "model_4: train loss: 0.407, train task loss: 0.256 - val loss: 2.208, val task loss: 1.583\n",
      "model_5: train loss: 0.407, train task loss: 0.257 - val loss: 2.216, val task loss: 1.604\n",
      "model_6: train loss: 0.410, train task loss: 0.259 - val loss: 2.363, val task loss: 1.705\n",
      "model_7: train loss: 0.408, train task loss: 0.258 - val loss: 2.345, val task loss: 1.672\n",
      "model_8: train loss: 0.726, train task loss: 0.707 - val loss: 1.068, val task loss: 1.050\n",
      "model_9: train loss: 0.653, train task loss: 0.637 - val loss: 1.001, val task loss: 0.986\n",
      "model_10: train loss: 0.635, train task loss: 0.609 - val loss: 0.968, val task loss: 0.944\n",
      "model_11: train loss: 0.678, train task loss: 0.655 - val loss: 1.025, val task loss: 0.997\n",
      "model_12: train loss: 0.678, train task loss: 0.667 - val loss: 1.012, val task loss: 1.002\n",
      "model_13: train loss: 0.755, train task loss: 0.731 - val loss: 1.065, val task loss: 1.041\n",
      "\n",
      "Epoch: 51/100 - LR: 0.001000\n"
     ]
    },
    {
     "name": "stderr",
     "output_type": "stream",
     "text": [
      "100%|████████████████████████████████████████████████████████████████████████████████| 134/134 [00:12<00:00, 10.53it/s]\n"
     ]
    },
    {
     "name": "stdout",
     "output_type": "stream",
     "text": [
      "model_1: train loss: 0.403, train task loss: 0.257 - val loss: 2.301, val task loss: 1.638\n",
      "model_2: train loss: 0.402, train task loss: 0.257 - val loss: 2.299, val task loss: 1.616\n",
      "model_3: train loss: 0.404, train task loss: 0.256 - val loss: 2.258, val task loss: 1.628\n",
      "model_4: train loss: 0.403, train task loss: 0.255 - val loss: 2.238, val task loss: 1.578\n",
      "model_5: train loss: 0.405, train task loss: 0.258 - val loss: 2.257, val task loss: 1.612\n",
      "model_6: train loss: 0.406, train task loss: 0.258 - val loss: 2.398, val task loss: 1.704\n",
      "model_7: train loss: 0.404, train task loss: 0.258 - val loss: 2.384, val task loss: 1.675\n",
      "model_8: train loss: 0.719, train task loss: 0.701 - val loss: 1.059, val task loss: 1.042 [*] Best so far\n",
      "model_9: train loss: 0.648, train task loss: 0.632 - val loss: 0.994, val task loss: 0.980 [*] Best so far\n",
      "model_10: train loss: 0.629, train task loss: 0.603 - val loss: 0.961, val task loss: 0.938\n",
      "model_11: train loss: 0.672, train task loss: 0.648 - val loss: 1.021, val task loss: 0.994 [*] Best so far\n",
      "model_12: train loss: 0.671, train task loss: 0.660 - val loss: 1.004, val task loss: 0.993 [*] Best so far\n",
      "model_13: train loss: 0.749, train task loss: 0.724 - val loss: 1.054, val task loss: 1.031 [*] Best so far\n",
      "\n",
      "Epoch: 52/100 - LR: 0.001000\n"
     ]
    },
    {
     "name": "stderr",
     "output_type": "stream",
     "text": [
      "100%|████████████████████████████████████████████████████████████████████████████████| 134/134 [00:12<00:00, 10.47it/s]\n"
     ]
    },
    {
     "name": "stdout",
     "output_type": "stream",
     "text": [
      "model_1: train loss: 0.401, train task loss: 0.251 - val loss: 2.298, val task loss: 1.642\n",
      "model_2: train loss: 0.400, train task loss: 0.253 - val loss: 2.286, val task loss: 1.618\n",
      "model_3: train loss: 0.402, train task loss: 0.252 - val loss: 2.245, val task loss: 1.629\n",
      "model_4: train loss: 0.402, train task loss: 0.254 - val loss: 2.215, val task loss: 1.576\n",
      "model_5: train loss: 0.402, train task loss: 0.251 - val loss: 2.233, val task loss: 1.605\n",
      "model_6: train loss: 0.404, train task loss: 0.253 - val loss: 2.372, val task loss: 1.699\n",
      "model_7: train loss: 0.402, train task loss: 0.253 - val loss: 2.377, val task loss: 1.678\n",
      "model_8: train loss: 0.715, train task loss: 0.696 - val loss: 1.060, val task loss: 1.042\n",
      "model_9: train loss: 0.645, train task loss: 0.630 - val loss: 0.998, val task loss: 0.983\n",
      "model_10: train loss: 0.627, train task loss: 0.602 - val loss: 0.964, val task loss: 0.941\n",
      "model_11: train loss: 0.669, train task loss: 0.646 - val loss: 1.022, val task loss: 0.994\n",
      "model_12: train loss: 0.668, train task loss: 0.657 - val loss: 1.006, val task loss: 0.995\n",
      "model_13: train loss: 0.747, train task loss: 0.722 - val loss: 1.057, val task loss: 1.033\n",
      "\n",
      "Epoch: 53/100 - LR: 0.001000\n"
     ]
    },
    {
     "name": "stderr",
     "output_type": "stream",
     "text": [
      "100%|████████████████████████████████████████████████████████████████████████████████| 134/134 [00:13<00:00, 10.06it/s]\n"
     ]
    },
    {
     "name": "stdout",
     "output_type": "stream",
     "text": [
      "model_1: train loss: 0.402, train task loss: 0.255 - val loss: 2.321, val task loss: 1.656\n",
      "model_2: train loss: 0.402, train task loss: 0.254 - val loss: 2.324, val task loss: 1.641\n",
      "model_3: train loss: 0.403, train task loss: 0.255 - val loss: 2.285, val task loss: 1.655\n",
      "model_4: train loss: 0.403, train task loss: 0.255 - val loss: 2.266, val task loss: 1.608\n",
      "model_5: train loss: 0.404, train task loss: 0.256 - val loss: 2.276, val task loss: 1.633\n",
      "model_6: train loss: 0.405, train task loss: 0.255 - val loss: 2.406, val task loss: 1.720\n",
      "model_7: train loss: 0.403, train task loss: 0.255 - val loss: 2.395, val task loss: 1.693\n",
      "model_8: train loss: 0.713, train task loss: 0.695 - val loss: 1.061, val task loss: 1.044\n",
      "model_9: train loss: 0.644, train task loss: 0.628 - val loss: 0.998, val task loss: 0.983\n",
      "model_10: train loss: 0.626, train task loss: 0.601 - val loss: 0.967, val task loss: 0.944\n",
      "model_11: train loss: 0.667, train task loss: 0.643 - val loss: 1.020, val task loss: 0.993 [*] Best so far\n",
      "model_12: train loss: 0.666, train task loss: 0.656 - val loss: 1.007, val task loss: 0.996\n",
      "model_13: train loss: 0.746, train task loss: 0.721 - val loss: 1.059, val task loss: 1.035\n",
      "\n",
      "Epoch: 54/100 - LR: 0.001000\n"
     ]
    },
    {
     "name": "stderr",
     "output_type": "stream",
     "text": [
      "100%|████████████████████████████████████████████████████████████████████████████████| 134/134 [00:13<00:00, 10.23it/s]\n"
     ]
    },
    {
     "name": "stdout",
     "output_type": "stream",
     "text": [
      "model_1: train loss: 0.404, train task loss: 0.253 - val loss: 2.310, val task loss: 1.637\n",
      "model_2: train loss: 0.402, train task loss: 0.253 - val loss: 2.313, val task loss: 1.615\n",
      "model_3: train loss: 0.403, train task loss: 0.253 - val loss: 2.277, val task loss: 1.632\n",
      "model_4: train loss: 0.404, train task loss: 0.251 - val loss: 2.241, val task loss: 1.570\n",
      "model_5: train loss: 0.403, train task loss: 0.253 - val loss: 2.260, val task loss: 1.604\n",
      "model_6: train loss: 0.405, train task loss: 0.256 - val loss: 2.413, val task loss: 1.703\n",
      "model_7: train loss: 0.403, train task loss: 0.253 - val loss: 2.404, val task loss: 1.680\n",
      "model_8: train loss: 0.708, train task loss: 0.690 - val loss: 1.056, val task loss: 1.040 [*] Best so far\n",
      "model_9: train loss: 0.641, train task loss: 0.626 - val loss: 0.994, val task loss: 0.980\n",
      "model_10: train loss: 0.623, train task loss: 0.598 - val loss: 0.959, val task loss: 0.937\n",
      "model_11: train loss: 0.664, train task loss: 0.642 - val loss: 1.018, val task loss: 0.993\n",
      "model_12: train loss: 0.663, train task loss: 0.653 - val loss: 1.001, val task loss: 0.991 [*] Best so far\n",
      "model_13: train loss: 0.741, train task loss: 0.717 - val loss: 1.052, val task loss: 1.029 [*] Best so far\n",
      "\n",
      "Epoch: 55/100 - LR: 0.001000\n"
     ]
    },
    {
     "name": "stderr",
     "output_type": "stream",
     "text": [
      "100%|████████████████████████████████████████████████████████████████████████████████| 134/134 [00:13<00:00, 10.25it/s]\n"
     ]
    },
    {
     "name": "stdout",
     "output_type": "stream",
     "text": [
      "model_1: train loss: 0.394, train task loss: 0.252 - val loss: 2.316, val task loss: 1.645\n",
      "model_2: train loss: 0.393, train task loss: 0.251 - val loss: 2.301, val task loss: 1.616\n",
      "model_3: train loss: 0.394, train task loss: 0.250 - val loss: 2.259, val task loss: 1.628\n",
      "model_4: train loss: 0.394, train task loss: 0.252 - val loss: 2.221, val task loss: 1.569\n",
      "model_5: train loss: 0.395, train task loss: 0.252 - val loss: 2.244, val task loss: 1.601\n",
      "model_6: train loss: 0.396, train task loss: 0.252 - val loss: 2.392, val task loss: 1.701\n",
      "model_7: train loss: 0.395, train task loss: 0.252 - val loss: 2.407, val task loss: 1.684\n",
      "model_8: train loss: 0.700, train task loss: 0.683 - val loss: 1.054, val task loss: 1.037 [*] Best so far\n",
      "model_9: train loss: 0.637, train task loss: 0.622 - val loss: 0.994, val task loss: 0.980\n",
      "model_10: train loss: 0.619, train task loss: 0.595 - val loss: 0.963, val task loss: 0.940\n",
      "model_11: train loss: 0.661, train task loss: 0.638 - val loss: 1.018, val task loss: 0.992 [*] Best so far\n",
      "model_12: train loss: 0.657, train task loss: 0.647 - val loss: 1.002, val task loss: 0.991\n",
      "model_13: train loss: 0.734, train task loss: 0.710 - val loss: 1.052, val task loss: 1.028 [*] Best so far\n",
      "\n",
      "Epoch: 56/100 - LR: 0.001000\n"
     ]
    },
    {
     "name": "stderr",
     "output_type": "stream",
     "text": [
      "100%|████████████████████████████████████████████████████████████████████████████████| 134/134 [00:13<00:00, 10.15it/s]\n"
     ]
    },
    {
     "name": "stdout",
     "output_type": "stream",
     "text": [
      "model_1: train loss: 0.398, train task loss: 0.246 - val loss: 2.332, val task loss: 1.661\n",
      "model_2: train loss: 0.398, train task loss: 0.249 - val loss: 2.329, val task loss: 1.642\n",
      "model_3: train loss: 0.401, train task loss: 0.247 - val loss: 2.277, val task loss: 1.648\n",
      "model_4: train loss: 0.399, train task loss: 0.249 - val loss: 2.255, val task loss: 1.599\n",
      "model_5: train loss: 0.400, train task loss: 0.248 - val loss: 2.287, val task loss: 1.636\n",
      "model_6: train loss: 0.402, train task loss: 0.247 - val loss: 2.415, val task loss: 1.723\n",
      "model_7: train loss: 0.400, train task loss: 0.247 - val loss: 2.414, val task loss: 1.700\n",
      "model_8: train loss: 0.696, train task loss: 0.679 - val loss: 1.056, val task loss: 1.040\n",
      "model_9: train loss: 0.635, train task loss: 0.620 - val loss: 1.001, val task loss: 0.986\n",
      "model_10: train loss: 0.617, train task loss: 0.593 - val loss: 0.972, val task loss: 0.949\n",
      "model_11: train loss: 0.658, train task loss: 0.636 - val loss: 1.021, val task loss: 0.995\n",
      "model_12: train loss: 0.654, train task loss: 0.644 - val loss: 1.006, val task loss: 0.996\n",
      "model_13: train loss: 0.731, train task loss: 0.707 - val loss: 1.056, val task loss: 1.032\n",
      "\n",
      "Epoch: 57/100 - LR: 0.001000\n"
     ]
    },
    {
     "name": "stderr",
     "output_type": "stream",
     "text": [
      "100%|████████████████████████████████████████████████████████████████████████████████| 134/134 [00:13<00:00, 10.18it/s]\n"
     ]
    },
    {
     "name": "stdout",
     "output_type": "stream",
     "text": [
      "model_1: train loss: 0.397, train task loss: 0.246 - val loss: 2.364, val task loss: 1.664\n",
      "model_2: train loss: 0.396, train task loss: 0.245 - val loss: 2.380, val task loss: 1.650\n",
      "model_3: train loss: 0.396, train task loss: 0.247 - val loss: 2.333, val task loss: 1.663\n",
      "model_4: train loss: 0.397, train task loss: 0.245 - val loss: 2.312, val task loss: 1.608\n",
      "model_5: train loss: 0.398, train task loss: 0.248 - val loss: 2.328, val task loss: 1.642\n",
      "model_6: train loss: 0.399, train task loss: 0.249 - val loss: 2.470, val task loss: 1.734\n",
      "model_7: train loss: 0.397, train task loss: 0.246 - val loss: 2.454, val task loss: 1.707\n",
      "model_8: train loss: 0.691, train task loss: 0.675 - val loss: 1.049, val task loss: 1.033 [*] Best so far\n",
      "model_9: train loss: 0.632, train task loss: 0.618 - val loss: 0.994, val task loss: 0.980 [*] Best so far\n",
      "model_10: train loss: 0.615, train task loss: 0.592 - val loss: 0.959, val task loss: 0.938\n",
      "model_11: train loss: 0.655, train task loss: 0.633 - val loss: 1.016, val task loss: 0.992\n",
      "model_12: train loss: 0.652, train task loss: 0.642 - val loss: 0.998, val task loss: 0.989 [*] Best so far\n",
      "model_13: train loss: 0.727, train task loss: 0.704 - val loss: 1.047, val task loss: 1.024 [*] Best so far\n",
      "\n",
      "Epoch: 58/100 - LR: 0.001000\n"
     ]
    },
    {
     "name": "stderr",
     "output_type": "stream",
     "text": [
      "100%|████████████████████████████████████████████████████████████████████████████████| 134/134 [00:13<00:00, 10.26it/s]\n"
     ]
    },
    {
     "name": "stdout",
     "output_type": "stream",
     "text": [
      "model_1: train loss: 0.391, train task loss: 0.250 - val loss: 2.344, val task loss: 1.649\n",
      "model_2: train loss: 0.389, train task loss: 0.247 - val loss: 2.323, val task loss: 1.616\n",
      "model_3: train loss: 0.392, train task loss: 0.246 - val loss: 2.300, val task loss: 1.641\n",
      "model_4: train loss: 0.390, train task loss: 0.247 - val loss: 2.252, val task loss: 1.573\n",
      "model_5: train loss: 0.393, train task loss: 0.249 - val loss: 2.284, val task loss: 1.611\n",
      "model_6: train loss: 0.394, train task loss: 0.248 - val loss: 2.427, val task loss: 1.709\n",
      "model_7: train loss: 0.392, train task loss: 0.248 - val loss: 2.444, val task loss: 1.692\n",
      "model_8: train loss: 0.686, train task loss: 0.671 - val loss: 1.048, val task loss: 1.032 [*] Best so far\n",
      "model_9: train loss: 0.630, train task loss: 0.616 - val loss: 0.995, val task loss: 0.980\n",
      "model_10: train loss: 0.612, train task loss: 0.590 - val loss: 0.970, val task loss: 0.947\n",
      "model_11: train loss: 0.652, train task loss: 0.631 - val loss: 1.018, val task loss: 0.991 [*] Best so far\n",
      "model_12: train loss: 0.648, train task loss: 0.638 - val loss: 1.001, val task loss: 0.990\n",
      "model_13: train loss: 0.724, train task loss: 0.700 - val loss: 1.050, val task loss: 1.026\n",
      "\n",
      "Epoch: 59/100 - LR: 0.001000\n"
     ]
    },
    {
     "name": "stderr",
     "output_type": "stream",
     "text": [
      "100%|████████████████████████████████████████████████████████████████████████████████| 134/134 [00:13<00:00,  9.99it/s]\n"
     ]
    },
    {
     "name": "stdout",
     "output_type": "stream",
     "text": [
      "model_1: train loss: 0.390, train task loss: 0.248 - val loss: 2.349, val task loss: 1.664\n",
      "model_2: train loss: 0.390, train task loss: 0.250 - val loss: 2.337, val task loss: 1.636\n",
      "model_3: train loss: 0.393, train task loss: 0.250 - val loss: 2.294, val task loss: 1.647\n",
      "model_4: train loss: 0.392, train task loss: 0.250 - val loss: 2.261, val task loss: 1.592\n",
      "model_5: train loss: 0.393, train task loss: 0.248 - val loss: 2.305, val task loss: 1.637\n",
      "model_6: train loss: 0.395, train task loss: 0.248 - val loss: 2.429, val task loss: 1.720\n",
      "model_7: train loss: 0.394, train task loss: 0.250 - val loss: 2.437, val task loss: 1.702\n",
      "model_8: train loss: 0.680, train task loss: 0.664 - val loss: 1.047, val task loss: 1.032 [*] Best so far\n",
      "model_9: train loss: 0.625, train task loss: 0.611 - val loss: 0.996, val task loss: 0.983\n",
      "model_10: train loss: 0.606, train task loss: 0.584 - val loss: 0.967, val task loss: 0.946\n",
      "model_11: train loss: 0.648, train task loss: 0.626 - val loss: 1.018, val task loss: 0.992\n",
      "model_12: train loss: 0.643, train task loss: 0.633 - val loss: 1.000, val task loss: 0.990\n",
      "model_13: train loss: 0.718, train task loss: 0.695 - val loss: 1.048, val task loss: 1.024\n",
      "\n",
      "Epoch: 60/100 - LR: 0.001000\n"
     ]
    },
    {
     "name": "stderr",
     "output_type": "stream",
     "text": [
      "100%|████████████████████████████████████████████████████████████████████████████████| 134/134 [00:13<00:00, 10.17it/s]\n"
     ]
    },
    {
     "name": "stdout",
     "output_type": "stream",
     "text": [
      "model_1: train loss: 0.388, train task loss: 0.248 - val loss: 2.366, val task loss: 1.675\n",
      "model_2: train loss: 0.387, train task loss: 0.249 - val loss: 2.385, val task loss: 1.668\n",
      "model_3: train loss: 0.387, train task loss: 0.247 - val loss: 2.339, val task loss: 1.680\n",
      "model_4: train loss: 0.388, train task loss: 0.249 - val loss: 2.314, val task loss: 1.627\n",
      "model_5: train loss: 0.389, train task loss: 0.248 - val loss: 2.336, val task loss: 1.659\n",
      "model_6: train loss: 0.390, train task loss: 0.250 - val loss: 2.465, val task loss: 1.746\n",
      "model_7: train loss: 0.388, train task loss: 0.248 - val loss: 2.460, val task loss: 1.724\n",
      "model_8: train loss: 0.674, train task loss: 0.659 - val loss: 1.049, val task loss: 1.033\n",
      "model_9: train loss: 0.623, train task loss: 0.609 - val loss: 0.998, val task loss: 0.985\n",
      "model_10: train loss: 0.604, train task loss: 0.582 - val loss: 0.969, val task loss: 0.948\n",
      "model_11: train loss: 0.646, train task loss: 0.625 - val loss: 1.019, val task loss: 0.993\n",
      "model_12: train loss: 0.639, train task loss: 0.629 - val loss: 1.003, val task loss: 0.993\n",
      "model_13: train loss: 0.713, train task loss: 0.690 - val loss: 1.050, val task loss: 1.027\n",
      "\n",
      "Epoch: 61/100 - LR: 0.001000\n"
     ]
    },
    {
     "name": "stderr",
     "output_type": "stream",
     "text": [
      "100%|████████████████████████████████████████████████████████████████████████████████| 134/134 [00:14<00:00,  8.94it/s]\n"
     ]
    },
    {
     "name": "stdout",
     "output_type": "stream",
     "text": [
      "model_1: train loss: 0.386, train task loss: 0.247 - val loss: 2.377, val task loss: 1.675\n",
      "model_2: train loss: 0.386, train task loss: 0.245 - val loss: 2.391, val task loss: 1.663\n",
      "model_3: train loss: 0.388, train task loss: 0.245 - val loss: 2.339, val task loss: 1.672\n",
      "model_4: train loss: 0.387, train task loss: 0.245 - val loss: 2.313, val task loss: 1.617\n",
      "model_5: train loss: 0.387, train task loss: 0.247 - val loss: 2.334, val task loss: 1.649\n",
      "model_6: train loss: 0.388, train task loss: 0.249 - val loss: 2.474, val task loss: 1.743\n",
      "model_7: train loss: 0.389, train task loss: 0.247 - val loss: 2.464, val task loss: 1.716\n",
      "model_8: train loss: 0.672, train task loss: 0.658 - val loss: 1.047, val task loss: 1.032\n",
      "model_9: train loss: 0.623, train task loss: 0.609 - val loss: 0.998, val task loss: 0.984\n",
      "model_10: train loss: 0.603, train task loss: 0.581 - val loss: 0.968, val task loss: 0.947\n",
      "model_11: train loss: 0.646, train task loss: 0.626 - val loss: 1.019, val task loss: 0.994\n",
      "model_12: train loss: 0.639, train task loss: 0.629 - val loss: 1.001, val task loss: 0.991\n",
      "model_13: train loss: 0.711, train task loss: 0.688 - val loss: 1.048, val task loss: 1.024\n",
      "\n",
      "Epoch: 62/100 - LR: 0.001000\n"
     ]
    },
    {
     "name": "stderr",
     "output_type": "stream",
     "text": [
      "100%|████████████████████████████████████████████████████████████████████████████████| 134/134 [00:13<00:00, 10.11it/s]\n"
     ]
    },
    {
     "name": "stdout",
     "output_type": "stream",
     "text": [
      "model_1: train loss: 0.382, train task loss: 0.240 - val loss: 2.391, val task loss: 1.677\n",
      "model_2: train loss: 0.382, train task loss: 0.241 - val loss: 2.395, val task loss: 1.655\n",
      "model_3: train loss: 0.382, train task loss: 0.241 - val loss: 2.339, val task loss: 1.663\n",
      "model_4: train loss: 0.383, train task loss: 0.240 - val loss: 2.318, val task loss: 1.610\n",
      "model_5: train loss: 0.383, train task loss: 0.241 - val loss: 2.350, val task loss: 1.650\n",
      "model_6: train loss: 0.385, train task loss: 0.241 - val loss: 2.482, val task loss: 1.738\n",
      "model_7: train loss: 0.383, train task loss: 0.243 - val loss: 2.480, val task loss: 1.714\n",
      "model_8: train loss: 0.666, train task loss: 0.651 - val loss: 1.043, val task loss: 1.028 [*] Best so far\n",
      "model_9: train loss: 0.617, train task loss: 0.603 - val loss: 0.995, val task loss: 0.981\n",
      "model_10: train loss: 0.598, train task loss: 0.577 - val loss: 0.967, val task loss: 0.946\n",
      "model_11: train loss: 0.640, train task loss: 0.620 - val loss: 1.016, val task loss: 0.991\n",
      "model_12: train loss: 0.632, train task loss: 0.623 - val loss: 0.998, val task loss: 0.988 [*] Best so far\n",
      "model_13: train loss: 0.706, train task loss: 0.683 - val loss: 1.045, val task loss: 1.022 [*] Best so far\n",
      "\n",
      "Epoch: 63/100 - LR: 0.001000\n"
     ]
    },
    {
     "name": "stderr",
     "output_type": "stream",
     "text": [
      "100%|████████████████████████████████████████████████████████████████████████████████| 134/134 [00:13<00:00,  9.67it/s]\n"
     ]
    },
    {
     "name": "stdout",
     "output_type": "stream",
     "text": [
      "model_1: train loss: 0.380, train task loss: 0.240 - val loss: 2.409, val task loss: 1.675\n",
      "model_2: train loss: 0.379, train task loss: 0.240 - val loss: 2.403, val task loss: 1.647\n",
      "model_3: train loss: 0.380, train task loss: 0.241 - val loss: 2.353, val task loss: 1.660\n",
      "model_4: train loss: 0.380, train task loss: 0.240 - val loss: 2.327, val task loss: 1.601\n",
      "model_5: train loss: 0.381, train task loss: 0.240 - val loss: 2.366, val task loss: 1.647\n",
      "model_6: train loss: 0.382, train task loss: 0.240 - val loss: 2.496, val task loss: 1.733\n",
      "model_7: train loss: 0.381, train task loss: 0.240 - val loss: 2.506, val task loss: 1.715\n",
      "model_8: train loss: 0.664, train task loss: 0.650 - val loss: 1.040, val task loss: 1.025 [*] Best so far\n",
      "model_9: train loss: 0.618, train task loss: 0.605 - val loss: 0.994, val task loss: 0.981\n",
      "model_10: train loss: 0.598, train task loss: 0.578 - val loss: 0.966, val task loss: 0.945\n",
      "model_11: train loss: 0.641, train task loss: 0.620 - val loss: 1.018, val task loss: 0.992\n",
      "model_12: train loss: 0.633, train task loss: 0.623 - val loss: 0.997, val task loss: 0.988 [*] Best so far\n",
      "model_13: train loss: 0.705, train task loss: 0.682 - val loss: 1.043, val task loss: 1.020 [*] Best so far\n",
      "\n",
      "Epoch: 64/100 - LR: 0.001000\n"
     ]
    },
    {
     "name": "stderr",
     "output_type": "stream",
     "text": [
      "100%|████████████████████████████████████████████████████████████████████████████████| 134/134 [00:13<00:00,  9.90it/s]\n"
     ]
    },
    {
     "name": "stdout",
     "output_type": "stream",
     "text": [
      "model_1: train loss: 0.383, train task loss: 0.240 - val loss: 2.405, val task loss: 1.686\n",
      "model_2: train loss: 0.383, train task loss: 0.241 - val loss: 2.403, val task loss: 1.664\n",
      "model_3: train loss: 0.382, train task loss: 0.242 - val loss: 2.347, val task loss: 1.672\n",
      "model_4: train loss: 0.383, train task loss: 0.242 - val loss: 2.318, val task loss: 1.616\n",
      "model_5: train loss: 0.383, train task loss: 0.240 - val loss: 2.349, val task loss: 1.653\n",
      "model_6: train loss: 0.385, train task loss: 0.242 - val loss: 2.480, val task loss: 1.742\n",
      "model_7: train loss: 0.383, train task loss: 0.239 - val loss: 2.485, val task loss: 1.720\n",
      "model_8: train loss: 0.662, train task loss: 0.647 - val loss: 1.045, val task loss: 1.030\n",
      "model_9: train loss: 0.619, train task loss: 0.605 - val loss: 1.002, val task loss: 0.987\n",
      "model_10: train loss: 0.599, train task loss: 0.578 - val loss: 0.973, val task loss: 0.953\n",
      "model_11: train loss: 0.643, train task loss: 0.622 - val loss: 1.020, val task loss: 0.993\n",
      "model_12: train loss: 0.632, train task loss: 0.622 - val loss: 1.004, val task loss: 0.994\n",
      "model_13: train loss: 0.703, train task loss: 0.680 - val loss: 1.051, val task loss: 1.026\n",
      "\n",
      "Epoch: 65/100 - LR: 0.001000\n"
     ]
    },
    {
     "name": "stderr",
     "output_type": "stream",
     "text": [
      "100%|████████████████████████████████████████████████████████████████████████████████| 134/134 [00:13<00:00, 10.13it/s]\n"
     ]
    },
    {
     "name": "stdout",
     "output_type": "stream",
     "text": [
      "model_1: train loss: 0.378, train task loss: 0.244 - val loss: 2.434, val task loss: 1.694\n",
      "model_2: train loss: 0.378, train task loss: 0.243 - val loss: 2.453, val task loss: 1.683\n",
      "model_3: train loss: 0.379, train task loss: 0.242 - val loss: 2.384, val task loss: 1.684\n",
      "model_4: train loss: 0.379, train task loss: 0.243 - val loss: 2.372, val task loss: 1.636\n",
      "model_5: train loss: 0.379, train task loss: 0.244 - val loss: 2.397, val task loss: 1.672\n",
      "model_6: train loss: 0.380, train task loss: 0.243 - val loss: 2.531, val task loss: 1.760\n",
      "model_7: train loss: 0.379, train task loss: 0.243 - val loss: 2.522, val task loss: 1.734\n",
      "model_8: train loss: 0.655, train task loss: 0.641 - val loss: 1.039, val task loss: 1.025 [*] Best so far\n",
      "model_9: train loss: 0.612, train task loss: 0.598 - val loss: 0.996, val task loss: 0.983\n",
      "model_10: train loss: 0.592, train task loss: 0.572 - val loss: 0.971, val task loss: 0.950\n",
      "model_11: train loss: 0.634, train task loss: 0.614 - val loss: 1.016, val task loss: 0.990 [*] Best so far\n",
      "model_12: train loss: 0.625, train task loss: 0.616 - val loss: 0.999, val task loss: 0.989\n",
      "model_13: train loss: 0.698, train task loss: 0.675 - val loss: 1.043, val task loss: 1.020\n",
      "\n",
      "Epoch: 66/100 - LR: 0.001000\n"
     ]
    },
    {
     "name": "stderr",
     "output_type": "stream",
     "text": [
      "100%|████████████████████████████████████████████████████████████████████████████████| 134/134 [00:13<00:00, 10.26it/s]\n"
     ]
    },
    {
     "name": "stdout",
     "output_type": "stream",
     "text": [
      "model_1: train loss: 0.377, train task loss: 0.239 - val loss: 2.427, val task loss: 1.674\n",
      "model_2: train loss: 0.377, train task loss: 0.240 - val loss: 2.432, val task loss: 1.651\n",
      "model_3: train loss: 0.378, train task loss: 0.239 - val loss: 2.373, val task loss: 1.661\n",
      "model_4: train loss: 0.377, train task loss: 0.238 - val loss: 2.357, val task loss: 1.604\n",
      "model_5: train loss: 0.378, train task loss: 0.239 - val loss: 2.382, val task loss: 1.645\n",
      "model_6: train loss: 0.379, train task loss: 0.241 - val loss: 2.540, val task loss: 1.745\n",
      "model_7: train loss: 0.378, train task loss: 0.240 - val loss: 2.534, val task loss: 1.719\n",
      "model_8: train loss: 0.654, train task loss: 0.640 - val loss: 1.036, val task loss: 1.022 [*] Best so far\n",
      "model_9: train loss: 0.613, train task loss: 0.600 - val loss: 0.994, val task loss: 0.980 [*] Best so far\n",
      "model_10: train loss: 0.593, train task loss: 0.573 - val loss: 0.965, val task loss: 0.945\n",
      "model_11: train loss: 0.635, train task loss: 0.615 - val loss: 1.016, val task loss: 0.991\n",
      "model_12: train loss: 0.626, train task loss: 0.617 - val loss: 0.996, val task loss: 0.987 [*] Best so far\n",
      "model_13: train loss: 0.696, train task loss: 0.674 - val loss: 1.042, val task loss: 1.019 [*] Best so far\n",
      "\n",
      "Epoch: 67/100 - LR: 0.001000\n"
     ]
    },
    {
     "name": "stderr",
     "output_type": "stream",
     "text": [
      "100%|████████████████████████████████████████████████████████████████████████████████| 134/134 [00:13<00:00,  9.91it/s]\n"
     ]
    },
    {
     "name": "stdout",
     "output_type": "stream",
     "text": [
      "model_1: train loss: 0.376, train task loss: 0.238 - val loss: 2.431, val task loss: 1.686\n",
      "model_2: train loss: 0.376, train task loss: 0.239 - val loss: 2.426, val task loss: 1.661\n",
      "model_3: train loss: 0.374, train task loss: 0.238 - val loss: 2.367, val task loss: 1.668\n",
      "model_4: train loss: 0.376, train task loss: 0.239 - val loss: 2.334, val task loss: 1.607\n",
      "model_5: train loss: 0.376, train task loss: 0.238 - val loss: 2.374, val task loss: 1.651\n",
      "model_6: train loss: 0.376, train task loss: 0.236 - val loss: 2.511, val task loss: 1.742\n",
      "model_7: train loss: 0.376, train task loss: 0.238 - val loss: 2.525, val task loss: 1.725\n",
      "model_8: train loss: 0.647, train task loss: 0.634 - val loss: 1.036, val task loss: 1.022\n",
      "model_9: train loss: 0.606, train task loss: 0.593 - val loss: 0.996, val task loss: 0.983\n",
      "model_10: train loss: 0.586, train task loss: 0.567 - val loss: 0.969, val task loss: 0.949\n",
      "model_11: train loss: 0.629, train task loss: 0.609 - val loss: 1.015, val task loss: 0.990 [*] Best so far\n",
      "model_12: train loss: 0.620, train task loss: 0.611 - val loss: 0.998, val task loss: 0.988\n",
      "model_13: train loss: 0.691, train task loss: 0.669 - val loss: 1.043, val task loss: 1.018 [*] Best so far\n",
      "\n",
      "Epoch: 68/100 - LR: 0.001000\n"
     ]
    },
    {
     "name": "stderr",
     "output_type": "stream",
     "text": [
      "100%|████████████████████████████████████████████████████████████████████████████████| 134/134 [00:17<00:00,  7.80it/s]\n"
     ]
    },
    {
     "name": "stdout",
     "output_type": "stream",
     "text": [
      "model_1: train loss: 0.374, train task loss: 0.233 - val loss: 2.443, val task loss: 1.706\n",
      "model_2: train loss: 0.374, train task loss: 0.233 - val loss: 2.476, val task loss: 1.705\n",
      "model_3: train loss: 0.375, train task loss: 0.233 - val loss: 2.404, val task loss: 1.702\n",
      "model_4: train loss: 0.374, train task loss: 0.234 - val loss: 2.382, val task loss: 1.650\n",
      "model_5: train loss: 0.374, train task loss: 0.234 - val loss: 2.425, val task loss: 1.695\n",
      "model_6: train loss: 0.376, train task loss: 0.234 - val loss: 2.540, val task loss: 1.772\n",
      "model_7: train loss: 0.375, train task loss: 0.235 - val loss: 2.541, val task loss: 1.752\n",
      "model_8: train loss: 0.641, train task loss: 0.628 - val loss: 1.039, val task loss: 1.025\n",
      "model_9: train loss: 0.604, train task loss: 0.592 - val loss: 0.999, val task loss: 0.986\n",
      "model_10: train loss: 0.584, train task loss: 0.565 - val loss: 0.973, val task loss: 0.953\n",
      "model_11: train loss: 0.627, train task loss: 0.607 - val loss: 1.018, val task loss: 0.993\n",
      "model_12: train loss: 0.616, train task loss: 0.607 - val loss: 1.001, val task loss: 0.991\n",
      "model_13: train loss: 0.685, train task loss: 0.663 - val loss: 1.044, val task loss: 1.021\n",
      "\n",
      "Epoch: 69/100 - LR: 0.001000\n"
     ]
    },
    {
     "name": "stderr",
     "output_type": "stream",
     "text": [
      "100%|████████████████████████████████████████████████████████████████████████████████| 134/134 [00:13<00:00,  9.62it/s]\n"
     ]
    },
    {
     "name": "stdout",
     "output_type": "stream",
     "text": [
      "model_1: train loss: 0.376, train task loss: 0.241 - val loss: 2.447, val task loss: 1.698\n",
      "model_2: train loss: 0.375, train task loss: 0.238 - val loss: 2.476, val task loss: 1.692\n",
      "model_3: train loss: 0.375, train task loss: 0.236 - val loss: 2.417, val task loss: 1.700\n",
      "model_4: train loss: 0.375, train task loss: 0.236 - val loss: 2.386, val task loss: 1.640\n",
      "model_5: train loss: 0.375, train task loss: 0.239 - val loss: 2.430, val task loss: 1.687\n",
      "model_6: train loss: 0.376, train task loss: 0.241 - val loss: 2.564, val task loss: 1.775\n",
      "model_7: train loss: 0.376, train task loss: 0.239 - val loss: 2.554, val task loss: 1.747\n",
      "model_8: train loss: 0.638, train task loss: 0.626 - val loss: 1.036, val task loss: 1.022 [*] Best so far\n",
      "model_9: train loss: 0.602, train task loss: 0.590 - val loss: 0.995, val task loss: 0.983\n",
      "model_10: train loss: 0.583, train task loss: 0.564 - val loss: 0.969, val task loss: 0.949\n",
      "model_11: train loss: 0.625, train task loss: 0.606 - val loss: 1.014, val task loss: 0.990\n",
      "model_12: train loss: 0.614, train task loss: 0.606 - val loss: 0.996, val task loss: 0.987\n",
      "model_13: train loss: 0.682, train task loss: 0.661 - val loss: 1.038, val task loss: 1.015 [*] Best so far\n",
      "\n",
      "Epoch: 70/100 - LR: 0.001000\n"
     ]
    },
    {
     "name": "stderr",
     "output_type": "stream",
     "text": [
      "100%|████████████████████████████████████████████████████████████████████████████████| 134/134 [00:15<00:00,  8.71it/s]\n"
     ]
    },
    {
     "name": "stdout",
     "output_type": "stream",
     "text": [
      "model_1: train loss: 0.368, train task loss: 0.234 - val loss: 2.465, val task loss: 1.692\n",
      "model_2: train loss: 0.368, train task loss: 0.235 - val loss: 2.465, val task loss: 1.667\n",
      "model_3: train loss: 0.369, train task loss: 0.235 - val loss: 2.409, val task loss: 1.676\n",
      "model_4: train loss: 0.369, train task loss: 0.234 - val loss: 2.379, val task loss: 1.615\n",
      "model_5: train loss: 0.369, train task loss: 0.234 - val loss: 2.413, val task loss: 1.657\n",
      "model_6: train loss: 0.370, train task loss: 0.234 - val loss: 2.559, val task loss: 1.753\n",
      "model_7: train loss: 0.370, train task loss: 0.236 - val loss: 2.561, val task loss: 1.730\n",
      "model_8: train loss: 0.634, train task loss: 0.622 - val loss: 1.030, val task loss: 1.016 [*] Best so far\n",
      "model_9: train loss: 0.599, train task loss: 0.587 - val loss: 0.991, val task loss: 0.979 [*] Best so far\n",
      "model_10: train loss: 0.579, train task loss: 0.561 - val loss: 0.963, val task loss: 0.944\n",
      "model_11: train loss: 0.622, train task loss: 0.603 - val loss: 1.012, val task loss: 0.988 [*] Best so far\n",
      "model_12: train loss: 0.611, train task loss: 0.602 - val loss: 0.992, val task loss: 0.982 [*] Best so far\n",
      "model_13: train loss: 0.679, train task loss: 0.658 - val loss: 1.033, val task loss: 1.010 [*] Best so far\n",
      "\n",
      "Epoch: 71/100 - LR: 0.001000\n"
     ]
    },
    {
     "name": "stderr",
     "output_type": "stream",
     "text": [
      "100%|████████████████████████████████████████████████████████████████████████████████| 134/134 [00:13<00:00,  9.92it/s]\n"
     ]
    },
    {
     "name": "stdout",
     "output_type": "stream",
     "text": [
      "model_1: train loss: 0.366, train task loss: 0.237 - val loss: 2.477, val task loss: 1.704\n",
      "model_2: train loss: 0.366, train task loss: 0.240 - val loss: 2.471, val task loss: 1.675\n",
      "model_3: train loss: 0.366, train task loss: 0.235 - val loss: 2.421, val task loss: 1.686\n",
      "model_4: train loss: 0.366, train task loss: 0.238 - val loss: 2.388, val task loss: 1.623\n",
      "model_5: train loss: 0.367, train task loss: 0.237 - val loss: 2.431, val task loss: 1.672\n",
      "model_6: train loss: 0.367, train task loss: 0.235 - val loss: 2.560, val task loss: 1.757\n",
      "model_7: train loss: 0.366, train task loss: 0.235 - val loss: 2.576, val task loss: 1.741\n",
      "model_8: train loss: 0.630, train task loss: 0.618 - val loss: 1.029, val task loss: 1.016 [*] Best so far\n",
      "model_9: train loss: 0.597, train task loss: 0.585 - val loss: 0.992, val task loss: 0.979\n",
      "model_10: train loss: 0.576, train task loss: 0.558 - val loss: 0.965, val task loss: 0.945\n",
      "model_11: train loss: 0.620, train task loss: 0.601 - val loss: 1.013, val task loss: 0.988\n",
      "model_12: train loss: 0.608, train task loss: 0.600 - val loss: 0.992, val task loss: 0.982\n",
      "model_13: train loss: 0.675, train task loss: 0.654 - val loss: 1.035, val task loss: 1.011\n",
      "\n",
      "Epoch: 72/100 - LR: 0.001000\n"
     ]
    },
    {
     "name": "stderr",
     "output_type": "stream",
     "text": [
      "100%|████████████████████████████████████████████████████████████████████████████████| 134/134 [00:14<00:00,  9.21it/s]\n"
     ]
    },
    {
     "name": "stdout",
     "output_type": "stream",
     "text": [
      "model_1: train loss: 0.365, train task loss: 0.232 - val loss: 2.486, val task loss: 1.714\n",
      "model_2: train loss: 0.365, train task loss: 0.234 - val loss: 2.492, val task loss: 1.695\n",
      "model_3: train loss: 0.366, train task loss: 0.233 - val loss: 2.437, val task loss: 1.705\n",
      "model_4: train loss: 0.366, train task loss: 0.233 - val loss: 2.403, val task loss: 1.642\n",
      "model_5: train loss: 0.366, train task loss: 0.232 - val loss: 2.446, val task loss: 1.689\n",
      "model_6: train loss: 0.367, train task loss: 0.233 - val loss: 2.576, val task loss: 1.776\n",
      "model_7: train loss: 0.366, train task loss: 0.232 - val loss: 2.583, val task loss: 1.754\n",
      "model_8: train loss: 0.626, train task loss: 0.614 - val loss: 1.032, val task loss: 1.018\n",
      "model_9: train loss: 0.596, train task loss: 0.584 - val loss: 0.996, val task loss: 0.983\n",
      "model_10: train loss: 0.575, train task loss: 0.557 - val loss: 0.970, val task loss: 0.951\n",
      "model_11: train loss: 0.618, train task loss: 0.599 - val loss: 1.014, val task loss: 0.991\n",
      "model_12: train loss: 0.606, train task loss: 0.598 - val loss: 0.997, val task loss: 0.988\n",
      "model_13: train loss: 0.671, train task loss: 0.650 - val loss: 1.036, val task loss: 1.013\n",
      "\n",
      "Epoch: 73/100 - LR: 0.001000\n"
     ]
    },
    {
     "name": "stderr",
     "output_type": "stream",
     "text": [
      "100%|████████████████████████████████████████████████████████████████████████████████| 134/134 [00:14<00:00,  9.41it/s]\n"
     ]
    },
    {
     "name": "stdout",
     "output_type": "stream",
     "text": [
      "model_1: train loss: 0.365, train task loss: 0.231 - val loss: 2.491, val task loss: 1.718\n",
      "model_2: train loss: 0.365, train task loss: 0.230 - val loss: 2.519, val task loss: 1.711\n",
      "model_3: train loss: 0.366, train task loss: 0.232 - val loss: 2.451, val task loss: 1.715\n",
      "model_4: train loss: 0.366, train task loss: 0.230 - val loss: 2.427, val task loss: 1.658\n",
      "model_5: train loss: 0.366, train task loss: 0.231 - val loss: 2.471, val task loss: 1.705\n",
      "model_6: train loss: 0.367, train task loss: 0.233 - val loss: 2.601, val task loss: 1.791\n",
      "model_7: train loss: 0.366, train task loss: 0.231 - val loss: 2.593, val task loss: 1.763\n",
      "model_8: train loss: 0.624, train task loss: 0.613 - val loss: 1.032, val task loss: 1.019\n",
      "model_9: train loss: 0.594, train task loss: 0.582 - val loss: 0.997, val task loss: 0.985\n",
      "model_10: train loss: 0.574, train task loss: 0.556 - val loss: 0.971, val task loss: 0.952\n",
      "model_11: train loss: 0.617, train task loss: 0.599 - val loss: 1.014, val task loss: 0.991\n",
      "model_12: train loss: 0.605, train task loss: 0.596 - val loss: 0.997, val task loss: 0.988\n",
      "model_13: train loss: 0.669, train task loss: 0.648 - val loss: 1.035, val task loss: 1.012\n",
      "\n",
      "Epoch: 74/100 - LR: 0.001000\n"
     ]
    },
    {
     "name": "stderr",
     "output_type": "stream",
     "text": [
      "100%|████████████████████████████████████████████████████████████████████████████████| 134/134 [00:13<00:00,  9.76it/s]\n"
     ]
    },
    {
     "name": "stdout",
     "output_type": "stream",
     "text": [
      "model_1: train loss: 0.362, train task loss: 0.232 - val loss: 2.487, val task loss: 1.710\n",
      "model_2: train loss: 0.363, train task loss: 0.231 - val loss: 2.504, val task loss: 1.694\n",
      "model_3: train loss: 0.363, train task loss: 0.230 - val loss: 2.447, val task loss: 1.703\n",
      "model_4: train loss: 0.363, train task loss: 0.231 - val loss: 2.414, val task loss: 1.642\n",
      "model_5: train loss: 0.363, train task loss: 0.231 - val loss: 2.460, val task loss: 1.689\n",
      "model_6: train loss: 0.364, train task loss: 0.231 - val loss: 2.596, val task loss: 1.779\n",
      "model_7: train loss: 0.363, train task loss: 0.232 - val loss: 2.597, val task loss: 1.758\n",
      "model_8: train loss: 0.617, train task loss: 0.606 - val loss: 1.030, val task loss: 1.017\n",
      "model_9: train loss: 0.589, train task loss: 0.578 - val loss: 0.995, val task loss: 0.983\n",
      "model_10: train loss: 0.569, train task loss: 0.552 - val loss: 0.966, val task loss: 0.947\n",
      "model_11: train loss: 0.612, train task loss: 0.594 - val loss: 1.014, val task loss: 0.991\n",
      "model_12: train loss: 0.600, train task loss: 0.592 - val loss: 0.994, val task loss: 0.985\n",
      "model_13: train loss: 0.663, train task loss: 0.643 - val loss: 1.030, val task loss: 1.008 [*] Best so far\n",
      "\n",
      "Epoch: 75/100 - LR: 0.001000\n"
     ]
    },
    {
     "name": "stderr",
     "output_type": "stream",
     "text": [
      "100%|████████████████████████████████████████████████████████████████████████████████| 134/134 [00:14<00:00,  9.32it/s]\n"
     ]
    },
    {
     "name": "stdout",
     "output_type": "stream",
     "text": [
      "model_1: train loss: 0.361, train task loss: 0.234 - val loss: 2.499, val task loss: 1.713\n",
      "model_2: train loss: 0.360, train task loss: 0.233 - val loss: 2.504, val task loss: 1.691\n",
      "model_3: train loss: 0.360, train task loss: 0.231 - val loss: 2.449, val task loss: 1.700\n",
      "model_4: train loss: 0.361, train task loss: 0.233 - val loss: 2.417, val task loss: 1.639\n",
      "model_5: train loss: 0.360, train task loss: 0.231 - val loss: 2.459, val task loss: 1.685\n",
      "model_6: train loss: 0.361, train task loss: 0.231 - val loss: 2.595, val task loss: 1.775\n",
      "model_7: train loss: 0.361, train task loss: 0.233 - val loss: 2.609, val task loss: 1.759\n",
      "model_8: train loss: 0.615, train task loss: 0.605 - val loss: 1.029, val task loss: 1.016\n",
      "model_9: train loss: 0.588, train task loss: 0.577 - val loss: 0.995, val task loss: 0.983\n",
      "model_10: train loss: 0.566, train task loss: 0.549 - val loss: 0.970, val task loss: 0.950\n",
      "model_11: train loss: 0.611, train task loss: 0.594 - val loss: 1.014, val task loss: 0.991\n",
      "model_12: train loss: 0.598, train task loss: 0.590 - val loss: 0.994, val task loss: 0.985\n",
      "model_13: train loss: 0.661, train task loss: 0.641 - val loss: 1.030, val task loss: 1.008 [*] Best so far\n",
      "\n",
      "Epoch: 76/100 - LR: 0.001000\n"
     ]
    },
    {
     "name": "stderr",
     "output_type": "stream",
     "text": [
      "100%|████████████████████████████████████████████████████████████████████████████████| 134/134 [00:14<00:00,  8.96it/s]\n"
     ]
    },
    {
     "name": "stdout",
     "output_type": "stream",
     "text": [
      "model_1: train loss: 0.360, train task loss: 0.229 - val loss: 2.525, val task loss: 1.725\n",
      "model_2: train loss: 0.360, train task loss: 0.231 - val loss: 2.533, val task loss: 1.706\n",
      "model_3: train loss: 0.361, train task loss: 0.230 - val loss: 2.467, val task loss: 1.711\n",
      "model_4: train loss: 0.361, train task loss: 0.230 - val loss: 2.440, val task loss: 1.650\n",
      "model_5: train loss: 0.361, train task loss: 0.229 - val loss: 2.490, val task loss: 1.702\n",
      "model_6: train loss: 0.362, train task loss: 0.230 - val loss: 2.617, val task loss: 1.786\n",
      "model_7: train loss: 0.361, train task loss: 0.229 - val loss: 2.632, val task loss: 1.768\n",
      "model_8: train loss: 0.615, train task loss: 0.604 - val loss: 1.029, val task loss: 1.016\n",
      "model_9: train loss: 0.590, train task loss: 0.579 - val loss: 0.996, val task loss: 0.983\n",
      "model_10: train loss: 0.568, train task loss: 0.551 - val loss: 0.971, val task loss: 0.952\n",
      "model_11: train loss: 0.612, train task loss: 0.595 - val loss: 1.014, val task loss: 0.990\n",
      "model_12: train loss: 0.599, train task loss: 0.591 - val loss: 0.996, val task loss: 0.987\n",
      "model_13: train loss: 0.661, train task loss: 0.641 - val loss: 1.035, val task loss: 1.012\n",
      "\n",
      "Epoch: 77/100 - LR: 0.001000\n"
     ]
    },
    {
     "name": "stderr",
     "output_type": "stream",
     "text": [
      "100%|████████████████████████████████████████████████████████████████████████████████| 134/134 [00:13<00:00, 10.17it/s]\n"
     ]
    },
    {
     "name": "stdout",
     "output_type": "stream",
     "text": [
      "model_1: train loss: 0.358, train task loss: 0.227 - val loss: 2.515, val task loss: 1.723\n",
      "model_2: train loss: 0.358, train task loss: 0.228 - val loss: 2.530, val task loss: 1.709\n",
      "model_3: train loss: 0.358, train task loss: 0.231 - val loss: 2.464, val task loss: 1.713\n",
      "model_4: train loss: 0.358, train task loss: 0.228 - val loss: 2.434, val task loss: 1.653\n",
      "model_5: train loss: 0.358, train task loss: 0.229 - val loss: 2.480, val task loss: 1.701\n",
      "model_6: train loss: 0.359, train task loss: 0.231 - val loss: 2.617, val task loss: 1.791\n",
      "model_7: train loss: 0.359, train task loss: 0.228 - val loss: 2.618, val task loss: 1.768\n",
      "model_8: train loss: 0.608, train task loss: 0.597 - val loss: 1.030, val task loss: 1.018\n",
      "model_9: train loss: 0.583, train task loss: 0.572 - val loss: 1.001, val task loss: 0.989\n",
      "model_10: train loss: 0.562, train task loss: 0.545 - val loss: 0.973, val task loss: 0.955\n",
      "model_11: train loss: 0.606, train task loss: 0.589 - val loss: 1.016, val task loss: 0.993\n",
      "model_12: train loss: 0.592, train task loss: 0.584 - val loss: 0.998, val task loss: 0.989\n",
      "model_13: train loss: 0.654, train task loss: 0.634 - val loss: 1.031, val task loss: 1.008\n",
      "\n",
      "Epoch: 78/100 - LR: 0.001000\n"
     ]
    },
    {
     "name": "stderr",
     "output_type": "stream",
     "text": [
      "100%|████████████████████████████████████████████████████████████████████████████████| 134/134 [00:12<00:00, 10.45it/s]\n"
     ]
    },
    {
     "name": "stdout",
     "output_type": "stream",
     "text": [
      "model_1: train loss: 0.357, train task loss: 0.228 - val loss: 2.534, val task loss: 1.725\n",
      "model_2: train loss: 0.357, train task loss: 0.226 - val loss: 2.551, val task loss: 1.711\n",
      "model_3: train loss: 0.357, train task loss: 0.226 - val loss: 2.489, val task loss: 1.716\n",
      "model_4: train loss: 0.357, train task loss: 0.227 - val loss: 2.456, val task loss: 1.654\n",
      "model_5: train loss: 0.357, train task loss: 0.228 - val loss: 2.508, val task loss: 1.707\n",
      "model_6: train loss: 0.358, train task loss: 0.228 - val loss: 2.638, val task loss: 1.793\n",
      "model_7: train loss: 0.358, train task loss: 0.229 - val loss: 2.644, val task loss: 1.771\n",
      "model_8: train loss: 0.605, train task loss: 0.594 - val loss: 1.027, val task loss: 1.015 [*] Best so far\n",
      "model_9: train loss: 0.583, train task loss: 0.573 - val loss: 0.995, val task loss: 0.984\n",
      "model_10: train loss: 0.563, train task loss: 0.547 - val loss: 0.970, val task loss: 0.952\n",
      "model_11: train loss: 0.605, train task loss: 0.588 - val loss: 1.012, val task loss: 0.990\n",
      "model_12: train loss: 0.592, train task loss: 0.584 - val loss: 0.995, val task loss: 0.986\n",
      "model_13: train loss: 0.651, train task loss: 0.631 - val loss: 1.029, val task loss: 1.007 [*] Best so far\n",
      "\n",
      "Epoch: 79/100 - LR: 0.001000\n"
     ]
    },
    {
     "name": "stderr",
     "output_type": "stream",
     "text": [
      "100%|████████████████████████████████████████████████████████████████████████████████| 134/134 [00:15<00:00,  8.70it/s]\n"
     ]
    },
    {
     "name": "stdout",
     "output_type": "stream",
     "text": [
      "model_1: train loss: 0.355, train task loss: 0.229 - val loss: 2.547, val task loss: 1.732\n",
      "model_2: train loss: 0.354, train task loss: 0.229 - val loss: 2.553, val task loss: 1.709\n",
      "model_3: train loss: 0.355, train task loss: 0.228 - val loss: 2.486, val task loss: 1.712\n",
      "model_4: train loss: 0.354, train task loss: 0.228 - val loss: 2.455, val task loss: 1.649\n",
      "model_5: train loss: 0.355, train task loss: 0.228 - val loss: 2.510, val task loss: 1.704\n",
      "model_6: train loss: 0.355, train task loss: 0.228 - val loss: 2.644, val task loss: 1.792\n",
      "model_7: train loss: 0.355, train task loss: 0.230 - val loss: 2.664, val task loss: 1.778\n",
      "model_8: train loss: 0.604, train task loss: 0.594 - val loss: 1.025, val task loss: 1.013 [*] Best so far\n",
      "model_9: train loss: 0.581, train task loss: 0.571 - val loss: 0.994, val task loss: 0.983\n",
      "model_10: train loss: 0.559, train task loss: 0.543 - val loss: 0.969, val task loss: 0.951\n",
      "model_11: train loss: 0.604, train task loss: 0.587 - val loss: 1.012, val task loss: 0.989\n",
      "model_12: train loss: 0.590, train task loss: 0.583 - val loss: 0.993, val task loss: 0.984\n",
      "model_13: train loss: 0.650, train task loss: 0.631 - val loss: 1.027, val task loss: 1.005 [*] Best so far\n",
      "\n",
      "Epoch: 80/100 - LR: 0.001000\n"
     ]
    },
    {
     "name": "stderr",
     "output_type": "stream",
     "text": [
      "100%|████████████████████████████████████████████████████████████████████████████████| 134/134 [00:14<00:00,  9.30it/s]\n"
     ]
    },
    {
     "name": "stdout",
     "output_type": "stream",
     "text": [
      "model_1: train loss: 0.355, train task loss: 0.223 - val loss: 2.560, val task loss: 1.740\n",
      "model_2: train loss: 0.354, train task loss: 0.225 - val loss: 2.575, val task loss: 1.726\n",
      "model_3: train loss: 0.354, train task loss: 0.225 - val loss: 2.505, val task loss: 1.728\n",
      "model_4: train loss: 0.355, train task loss: 0.225 - val loss: 2.476, val task loss: 1.666\n",
      "model_5: train loss: 0.355, train task loss: 0.224 - val loss: 2.522, val task loss: 1.714\n",
      "model_6: train loss: 0.355, train task loss: 0.224 - val loss: 2.657, val task loss: 1.804\n",
      "model_7: train loss: 0.355, train task loss: 0.223 - val loss: 2.672, val task loss: 1.787\n",
      "model_8: train loss: 0.599, train task loss: 0.589 - val loss: 1.027, val task loss: 1.015\n",
      "model_9: train loss: 0.577, train task loss: 0.567 - val loss: 0.998, val task loss: 0.986\n",
      "model_10: train loss: 0.556, train task loss: 0.541 - val loss: 0.972, val task loss: 0.954\n",
      "model_11: train loss: 0.600, train task loss: 0.584 - val loss: 1.015, val task loss: 0.992\n",
      "model_12: train loss: 0.586, train task loss: 0.579 - val loss: 0.997, val task loss: 0.988\n",
      "model_13: train loss: 0.645, train task loss: 0.626 - val loss: 1.031, val task loss: 1.008\n",
      "\n",
      "Epoch: 81/100 - LR: 0.001000\n"
     ]
    },
    {
     "name": "stderr",
     "output_type": "stream",
     "text": [
      "100%|████████████████████████████████████████████████████████████████████████████████| 134/134 [00:12<00:00, 10.51it/s]\n"
     ]
    },
    {
     "name": "stdout",
     "output_type": "stream",
     "text": [
      "model_1: train loss: 0.353, train task loss: 0.227 - val loss: 2.576, val task loss: 1.748\n",
      "model_2: train loss: 0.352, train task loss: 0.226 - val loss: 2.594, val task loss: 1.733\n",
      "model_3: train loss: 0.352, train task loss: 0.225 - val loss: 2.523, val task loss: 1.735\n",
      "model_4: train loss: 0.353, train task loss: 0.226 - val loss: 2.492, val task loss: 1.673\n",
      "model_5: train loss: 0.353, train task loss: 0.227 - val loss: 2.547, val task loss: 1.727\n",
      "model_6: train loss: 0.353, train task loss: 0.227 - val loss: 2.679, val task loss: 1.814\n",
      "model_7: train loss: 0.353, train task loss: 0.226 - val loss: 2.680, val task loss: 1.791\n",
      "model_8: train loss: 0.596, train task loss: 0.586 - val loss: 1.026, val task loss: 1.014\n",
      "model_9: train loss: 0.576, train task loss: 0.566 - val loss: 0.997, val task loss: 0.986\n",
      "model_10: train loss: 0.554, train task loss: 0.538 - val loss: 0.972, val task loss: 0.954\n",
      "model_11: train loss: 0.599, train task loss: 0.583 - val loss: 1.014, val task loss: 0.992\n",
      "model_12: train loss: 0.584, train task loss: 0.577 - val loss: 0.996, val task loss: 0.987\n",
      "model_13: train loss: 0.641, train task loss: 0.623 - val loss: 1.028, val task loss: 1.006\n",
      "\n",
      "Epoch: 82/100 - LR: 0.001000\n"
     ]
    },
    {
     "name": "stderr",
     "output_type": "stream",
     "text": [
      "100%|████████████████████████████████████████████████████████████████████████████████| 134/134 [00:13<00:00,  9.77it/s]\n"
     ]
    },
    {
     "name": "stdout",
     "output_type": "stream",
     "text": [
      "model_1: train loss: 0.351, train task loss: 0.225 - val loss: 2.569, val task loss: 1.738\n",
      "model_2: train loss: 0.351, train task loss: 0.225 - val loss: 2.582, val task loss: 1.719\n",
      "model_3: train loss: 0.351, train task loss: 0.225 - val loss: 2.512, val task loss: 1.722\n",
      "model_4: train loss: 0.351, train task loss: 0.225 - val loss: 2.482, val task loss: 1.658\n",
      "model_5: train loss: 0.351, train task loss: 0.225 - val loss: 2.528, val task loss: 1.709\n",
      "model_6: train loss: 0.352, train task loss: 0.226 - val loss: 2.676, val task loss: 1.804\n",
      "model_7: train loss: 0.351, train task loss: 0.226 - val loss: 2.688, val task loss: 1.786\n",
      "model_8: train loss: 0.594, train task loss: 0.584 - val loss: 1.025, val task loss: 1.013 [*] Best so far\n",
      "model_9: train loss: 0.574, train task loss: 0.564 - val loss: 0.995, val task loss: 0.984\n",
      "model_10: train loss: 0.553, train task loss: 0.537 - val loss: 0.971, val task loss: 0.953\n",
      "model_11: train loss: 0.597, train task loss: 0.581 - val loss: 1.012, val task loss: 0.990\n",
      "model_12: train loss: 0.583, train task loss: 0.575 - val loss: 0.993, val task loss: 0.985\n",
      "model_13: train loss: 0.639, train task loss: 0.621 - val loss: 1.025, val task loss: 1.004 [*] Best so far\n",
      "\n",
      "Epoch: 83/100 - LR: 0.001000\n"
     ]
    },
    {
     "name": "stderr",
     "output_type": "stream",
     "text": [
      "100%|████████████████████████████████████████████████████████████████████████████████| 134/134 [00:13<00:00, 10.14it/s]\n"
     ]
    },
    {
     "name": "stdout",
     "output_type": "stream",
     "text": [
      "model_1: train loss: 0.350, train task loss: 0.223 - val loss: 2.582, val task loss: 1.746\n",
      "model_2: train loss: 0.349, train task loss: 0.224 - val loss: 2.591, val task loss: 1.727\n",
      "model_3: train loss: 0.350, train task loss: 0.223 - val loss: 2.519, val task loss: 1.727\n",
      "model_4: train loss: 0.350, train task loss: 0.224 - val loss: 2.493, val task loss: 1.667\n",
      "model_5: train loss: 0.350, train task loss: 0.223 - val loss: 2.540, val task loss: 1.716\n",
      "model_6: train loss: 0.350, train task loss: 0.222 - val loss: 2.680, val task loss: 1.808\n",
      "model_7: train loss: 0.350, train task loss: 0.223 - val loss: 2.697, val task loss: 1.792\n",
      "model_8: train loss: 0.591, train task loss: 0.581 - val loss: 1.025, val task loss: 1.014\n",
      "model_9: train loss: 0.572, train task loss: 0.562 - val loss: 0.997, val task loss: 0.986\n",
      "model_10: train loss: 0.550, train task loss: 0.535 - val loss: 0.973, val task loss: 0.956\n",
      "model_11: train loss: 0.595, train task loss: 0.579 - val loss: 1.013, val task loss: 0.991\n",
      "model_12: train loss: 0.581, train task loss: 0.574 - val loss: 0.996, val task loss: 0.988\n",
      "model_13: train loss: 0.637, train task loss: 0.619 - val loss: 1.027, val task loss: 1.005\n",
      "\n",
      "Epoch: 84/100 - LR: 0.001000\n"
     ]
    },
    {
     "name": "stderr",
     "output_type": "stream",
     "text": [
      "100%|████████████████████████████████████████████████████████████████████████████████| 134/134 [00:12<00:00, 10.97it/s]\n"
     ]
    },
    {
     "name": "stdout",
     "output_type": "stream",
     "text": [
      "model_1: train loss: 0.347, train task loss: 0.222 - val loss: 2.601, val task loss: 1.756\n",
      "model_2: train loss: 0.347, train task loss: 0.222 - val loss: 2.618, val task loss: 1.742\n",
      "model_3: train loss: 0.347, train task loss: 0.222 - val loss: 2.542, val task loss: 1.742\n",
      "model_4: train loss: 0.347, train task loss: 0.222 - val loss: 2.515, val task loss: 1.681\n",
      "model_5: train loss: 0.348, train task loss: 0.222 - val loss: 2.573, val task loss: 1.736\n",
      "model_6: train loss: 0.348, train task loss: 0.223 - val loss: 2.701, val task loss: 1.821\n",
      "model_7: train loss: 0.348, train task loss: 0.221 - val loss: 2.714, val task loss: 1.803\n",
      "model_8: train loss: 0.587, train task loss: 0.578 - val loss: 1.026, val task loss: 1.014\n",
      "model_9: train loss: 0.569, train task loss: 0.560 - val loss: 0.999, val task loss: 0.988\n",
      "model_10: train loss: 0.547, train task loss: 0.532 - val loss: 0.978, val task loss: 0.960\n",
      "model_11: train loss: 0.592, train task loss: 0.577 - val loss: 1.016, val task loss: 0.993\n",
      "model_12: train loss: 0.577, train task loss: 0.570 - val loss: 0.998, val task loss: 0.989\n",
      "model_13: train loss: 0.632, train task loss: 0.614 - val loss: 1.029, val task loss: 1.007\n",
      "\n",
      "Epoch: 85/100 - LR: 0.001000\n"
     ]
    },
    {
     "name": "stderr",
     "output_type": "stream",
     "text": [
      "100%|████████████████████████████████████████████████████████████████████████████████| 134/134 [00:13<00:00, 10.02it/s]\n"
     ]
    },
    {
     "name": "stdout",
     "output_type": "stream",
     "text": [
      "model_1: train loss: 0.346, train task loss: 0.223 - val loss: 2.610, val task loss: 1.755\n",
      "model_2: train loss: 0.346, train task loss: 0.223 - val loss: 2.628, val task loss: 1.739\n",
      "model_3: train loss: 0.347, train task loss: 0.223 - val loss: 2.546, val task loss: 1.737\n",
      "model_4: train loss: 0.346, train task loss: 0.222 - val loss: 2.524, val task loss: 1.676\n",
      "model_5: train loss: 0.347, train task loss: 0.223 - val loss: 2.572, val task loss: 1.728\n",
      "model_6: train loss: 0.347, train task loss: 0.224 - val loss: 2.713, val task loss: 1.819\n",
      "model_7: train loss: 0.347, train task loss: 0.223 - val loss: 2.728, val task loss: 1.802\n",
      "model_8: train loss: 0.584, train task loss: 0.575 - val loss: 1.025, val task loss: 1.013\n",
      "model_9: train loss: 0.568, train task loss: 0.558 - val loss: 0.997, val task loss: 0.986\n",
      "model_10: train loss: 0.546, train task loss: 0.531 - val loss: 0.975, val task loss: 0.957\n",
      "model_11: train loss: 0.591, train task loss: 0.575 - val loss: 1.014, val task loss: 0.991\n",
      "model_12: train loss: 0.575, train task loss: 0.568 - val loss: 0.996, val task loss: 0.987\n",
      "model_13: train loss: 0.630, train task loss: 0.612 - val loss: 1.027, val task loss: 1.006\n",
      "\n",
      "Epoch: 86/100 - LR: 0.001000\n"
     ]
    },
    {
     "name": "stderr",
     "output_type": "stream",
     "text": [
      "100%|████████████████████████████████████████████████████████████████████████████████| 134/134 [00:13<00:00,  9.99it/s]\n"
     ]
    },
    {
     "name": "stdout",
     "output_type": "stream",
     "text": [
      "model_1: train loss: 0.346, train task loss: 0.221 - val loss: 2.616, val task loss: 1.757\n",
      "model_2: train loss: 0.345, train task loss: 0.221 - val loss: 2.629, val task loss: 1.738\n",
      "model_3: train loss: 0.346, train task loss: 0.220 - val loss: 2.546, val task loss: 1.735\n",
      "model_4: train loss: 0.346, train task loss: 0.220 - val loss: 2.527, val task loss: 1.677\n",
      "model_5: train loss: 0.346, train task loss: 0.220 - val loss: 2.575, val task loss: 1.728\n",
      "model_6: train loss: 0.346, train task loss: 0.220 - val loss: 2.715, val task loss: 1.818\n",
      "model_7: train loss: 0.346, train task loss: 0.221 - val loss: 2.732, val task loss: 1.803\n",
      "model_8: train loss: 0.583, train task loss: 0.574 - val loss: 1.024, val task loss: 1.013 [*] Best so far\n",
      "model_9: train loss: 0.568, train task loss: 0.559 - val loss: 0.997, val task loss: 0.987\n",
      "model_10: train loss: 0.546, train task loss: 0.532 - val loss: 0.974, val task loss: 0.957\n",
      "model_11: train loss: 0.590, train task loss: 0.574 - val loss: 1.013, val task loss: 0.992\n",
      "model_12: train loss: 0.575, train task loss: 0.568 - val loss: 0.996, val task loss: 0.987\n",
      "model_13: train loss: 0.629, train task loss: 0.612 - val loss: 1.025, val task loss: 1.004\n",
      "\n",
      "Epoch: 87/100 - LR: 0.001000\n"
     ]
    },
    {
     "name": "stderr",
     "output_type": "stream",
     "text": [
      "100%|████████████████████████████████████████████████████████████████████████████████| 134/134 [00:13<00:00,  9.62it/s]\n"
     ]
    },
    {
     "name": "stdout",
     "output_type": "stream",
     "text": [
      "model_1: train loss: 0.344, train task loss: 0.220 - val loss: 2.631, val task loss: 1.760\n",
      "model_2: train loss: 0.344, train task loss: 0.220 - val loss: 2.639, val task loss: 1.739\n",
      "model_3: train loss: 0.344, train task loss: 0.220 - val loss: 2.558, val task loss: 1.738\n",
      "model_4: train loss: 0.344, train task loss: 0.221 - val loss: 2.536, val task loss: 1.677\n",
      "model_5: train loss: 0.344, train task loss: 0.220 - val loss: 2.591, val task loss: 1.731\n",
      "model_6: train loss: 0.345, train task loss: 0.221 - val loss: 2.727, val task loss: 1.820\n",
      "model_7: train loss: 0.344, train task loss: 0.220 - val loss: 2.748, val task loss: 1.805\n",
      "model_8: train loss: 0.581, train task loss: 0.572 - val loss: 1.025, val task loss: 1.013\n",
      "model_9: train loss: 0.567, train task loss: 0.558 - val loss: 0.998, val task loss: 0.987\n",
      "model_10: train loss: 0.544, train task loss: 0.530 - val loss: 0.977, val task loss: 0.959\n",
      "model_11: train loss: 0.589, train task loss: 0.574 - val loss: 1.015, val task loss: 0.992\n",
      "model_12: train loss: 0.574, train task loss: 0.567 - val loss: 0.997, val task loss: 0.988\n",
      "model_13: train loss: 0.627, train task loss: 0.609 - val loss: 1.027, val task loss: 1.005\n",
      "\n",
      "Epoch: 88/100 - LR: 0.001000\n"
     ]
    },
    {
     "name": "stderr",
     "output_type": "stream",
     "text": [
      "100%|████████████████████████████████████████████████████████████████████████████████| 134/134 [00:13<00:00, 10.20it/s]\n"
     ]
    },
    {
     "name": "stdout",
     "output_type": "stream",
     "text": [
      "model_1: train loss: 0.343, train task loss: 0.220 - val loss: 2.635, val task loss: 1.769\n",
      "model_2: train loss: 0.343, train task loss: 0.220 - val loss: 2.653, val task loss: 1.753\n",
      "model_3: train loss: 0.343, train task loss: 0.221 - val loss: 2.565, val task loss: 1.748\n",
      "model_4: train loss: 0.343, train task loss: 0.220 - val loss: 2.546, val task loss: 1.690\n",
      "model_5: train loss: 0.343, train task loss: 0.220 - val loss: 2.598, val task loss: 1.742\n",
      "model_6: train loss: 0.344, train task loss: 0.220 - val loss: 2.735, val task loss: 1.832\n",
      "model_7: train loss: 0.344, train task loss: 0.220 - val loss: 2.750, val task loss: 1.815\n",
      "model_8: train loss: 0.577, train task loss: 0.568 - val loss: 1.027, val task loss: 1.015\n",
      "model_9: train loss: 0.563, train task loss: 0.554 - val loss: 1.001, val task loss: 0.990\n",
      "model_10: train loss: 0.540, train task loss: 0.526 - val loss: 0.978, val task loss: 0.962\n",
      "model_11: train loss: 0.586, train task loss: 0.571 - val loss: 1.017, val task loss: 0.994\n",
      "model_12: train loss: 0.570, train task loss: 0.563 - val loss: 1.000, val task loss: 0.991\n",
      "model_13: train loss: 0.623, train task loss: 0.606 - val loss: 1.030, val task loss: 1.008\n",
      "\n",
      "Epoch: 89/100 - LR: 0.001000\n"
     ]
    },
    {
     "name": "stderr",
     "output_type": "stream",
     "text": [
      "100%|████████████████████████████████████████████████████████████████████████████████| 134/134 [00:12<00:00, 10.46it/s]\n"
     ]
    },
    {
     "name": "stdout",
     "output_type": "stream",
     "text": [
      "model_1: train loss: 0.342, train task loss: 0.220 - val loss: 2.642, val task loss: 1.767\n",
      "model_2: train loss: 0.342, train task loss: 0.219 - val loss: 2.670, val task loss: 1.756\n",
      "model_3: train loss: 0.342, train task loss: 0.219 - val loss: 2.586, val task loss: 1.753\n",
      "model_4: train loss: 0.342, train task loss: 0.218 - val loss: 2.566, val task loss: 1.692\n",
      "model_5: train loss: 0.342, train task loss: 0.220 - val loss: 2.613, val task loss: 1.744\n",
      "model_6: train loss: 0.343, train task loss: 0.220 - val loss: 2.755, val task loss: 1.835\n",
      "model_7: train loss: 0.343, train task loss: 0.220 - val loss: 2.768, val task loss: 1.818\n",
      "model_8: train loss: 0.574, train task loss: 0.566 - val loss: 1.024, val task loss: 1.013\n",
      "model_9: train loss: 0.561, train task loss: 0.552 - val loss: 0.998, val task loss: 0.988\n",
      "model_10: train loss: 0.539, train task loss: 0.525 - val loss: 0.975, val task loss: 0.958\n",
      "model_11: train loss: 0.583, train task loss: 0.568 - val loss: 1.014, val task loss: 0.993\n",
      "model_12: train loss: 0.568, train task loss: 0.562 - val loss: 0.996, val task loss: 0.988\n",
      "model_13: train loss: 0.621, train task loss: 0.604 - val loss: 1.023, val task loss: 1.002 [*] Best so far\n",
      "\n",
      "Epoch: 90/100 - LR: 0.001000\n"
     ]
    },
    {
     "name": "stderr",
     "output_type": "stream",
     "text": [
      "100%|████████████████████████████████████████████████████████████████████████████████| 134/134 [00:12<00:00, 10.77it/s]\n"
     ]
    },
    {
     "name": "stdout",
     "output_type": "stream",
     "text": [
      "model_1: train loss: 0.341, train task loss: 0.220 - val loss: 2.644, val task loss: 1.766\n",
      "model_2: train loss: 0.340, train task loss: 0.219 - val loss: 2.658, val task loss: 1.747\n",
      "model_3: train loss: 0.340, train task loss: 0.218 - val loss: 2.577, val task loss: 1.747\n",
      "model_4: train loss: 0.341, train task loss: 0.219 - val loss: 2.550, val task loss: 1.682\n",
      "model_5: train loss: 0.341, train task loss: 0.219 - val loss: 2.602, val task loss: 1.736\n",
      "model_6: train loss: 0.341, train task loss: 0.219 - val loss: 2.744, val task loss: 1.828\n",
      "model_7: train loss: 0.341, train task loss: 0.220 - val loss: 2.770, val task loss: 1.816\n",
      "model_8: train loss: 0.571, train task loss: 0.563 - val loss: 1.025, val task loss: 1.014\n",
      "model_9: train loss: 0.559, train task loss: 0.551 - val loss: 1.000, val task loss: 0.989\n",
      "model_10: train loss: 0.537, train task loss: 0.523 - val loss: 0.979, val task loss: 0.962\n",
      "model_11: train loss: 0.582, train task loss: 0.567 - val loss: 1.016, val task loss: 0.994\n",
      "model_12: train loss: 0.567, train task loss: 0.560 - val loss: 0.998, val task loss: 0.989\n",
      "model_13: train loss: 0.617, train task loss: 0.600 - val loss: 1.026, val task loss: 1.004\n",
      "\n",
      "Epoch: 91/100 - LR: 0.001000\n"
     ]
    },
    {
     "name": "stderr",
     "output_type": "stream",
     "text": [
      "100%|████████████████████████████████████████████████████████████████████████████████| 134/134 [00:13<00:00, 10.23it/s]\n"
     ]
    },
    {
     "name": "stdout",
     "output_type": "stream",
     "text": [
      "model_1: train loss: 0.339, train task loss: 0.217 - val loss: 2.666, val task loss: 1.777\n",
      "model_2: train loss: 0.338, train task loss: 0.219 - val loss: 2.680, val task loss: 1.759\n",
      "model_3: train loss: 0.339, train task loss: 0.218 - val loss: 2.589, val task loss: 1.753\n",
      "model_4: train loss: 0.339, train task loss: 0.219 - val loss: 2.571, val task loss: 1.694\n",
      "model_5: train loss: 0.339, train task loss: 0.218 - val loss: 2.628, val task loss: 1.750\n",
      "model_6: train loss: 0.339, train task loss: 0.218 - val loss: 2.764, val task loss: 1.838\n",
      "model_7: train loss: 0.339, train task loss: 0.217 - val loss: 2.788, val task loss: 1.825\n",
      "model_8: train loss: 0.568, train task loss: 0.560 - val loss: 1.026, val task loss: 1.015\n",
      "model_9: train loss: 0.557, train task loss: 0.548 - val loss: 1.002, val task loss: 0.991\n",
      "model_10: train loss: 0.534, train task loss: 0.521 - val loss: 0.982, val task loss: 0.965\n",
      "model_11: train loss: 0.579, train task loss: 0.565 - val loss: 1.016, val task loss: 0.994\n",
      "model_12: train loss: 0.563, train task loss: 0.557 - val loss: 1.000, val task loss: 0.992\n",
      "model_13: train loss: 0.615, train task loss: 0.598 - val loss: 1.028, val task loss: 1.006\n",
      "\n",
      "Epoch: 92/100 - LR: 0.001000\n"
     ]
    },
    {
     "name": "stderr",
     "output_type": "stream",
     "text": [
      "100%|████████████████████████████████████████████████████████████████████████████████| 134/134 [00:12<00:00, 10.50it/s]\n"
     ]
    },
    {
     "name": "stdout",
     "output_type": "stream",
     "text": [
      "model_1: train loss: 0.338, train task loss: 0.216 - val loss: 2.668, val task loss: 1.783\n",
      "model_2: train loss: 0.338, train task loss: 0.216 - val loss: 2.692, val task loss: 1.774\n",
      "model_3: train loss: 0.338, train task loss: 0.218 - val loss: 2.600, val task loss: 1.767\n",
      "model_4: train loss: 0.338, train task loss: 0.216 - val loss: 2.579, val task loss: 1.708\n",
      "model_5: train loss: 0.339, train task loss: 0.217 - val loss: 2.631, val task loss: 1.760\n",
      "model_6: train loss: 0.339, train task loss: 0.217 - val loss: 2.771, val task loss: 1.852\n",
      "model_7: train loss: 0.339, train task loss: 0.216 - val loss: 2.786, val task loss: 1.832\n",
      "model_8: train loss: 0.567, train task loss: 0.559 - val loss: 1.031, val task loss: 1.020\n",
      "model_9: train loss: 0.556, train task loss: 0.547 - val loss: 1.008, val task loss: 0.997\n",
      "model_10: train loss: 0.532, train task loss: 0.519 - val loss: 0.988, val task loss: 0.971\n",
      "model_11: train loss: 0.578, train task loss: 0.564 - val loss: 1.021, val task loss: 0.999\n",
      "model_12: train loss: 0.562, train task loss: 0.556 - val loss: 1.007, val task loss: 0.999\n",
      "model_13: train loss: 0.612, train task loss: 0.596 - val loss: 1.033, val task loss: 1.011\n",
      "\n",
      "Epoch: 93/100 - LR: 0.001000\n"
     ]
    },
    {
     "name": "stderr",
     "output_type": "stream",
     "text": [
      "100%|████████████████████████████████████████████████████████████████████████████████| 134/134 [00:12<00:00, 10.36it/s]\n"
     ]
    },
    {
     "name": "stdout",
     "output_type": "stream",
     "text": [
      "model_1: train loss: 0.343, train task loss: 0.217 - val loss: 2.679, val task loss: 1.794\n",
      "model_2: train loss: 0.343, train task loss: 0.216 - val loss: 2.717, val task loss: 1.790\n",
      "model_3: train loss: 0.343, train task loss: 0.217 - val loss: 2.624, val task loss: 1.781\n",
      "model_4: train loss: 0.343, train task loss: 0.216 - val loss: 2.607, val task loss: 1.727\n",
      "model_5: train loss: 0.343, train task loss: 0.217 - val loss: 2.663, val task loss: 1.781\n",
      "model_6: train loss: 0.344, train task loss: 0.218 - val loss: 2.794, val task loss: 1.866\n",
      "model_7: train loss: 0.343, train task loss: 0.218 - val loss: 2.803, val task loss: 1.846\n",
      "model_8: train loss: 0.570, train task loss: 0.562 - val loss: 1.033, val task loss: 1.022\n",
      "model_9: train loss: 0.559, train task loss: 0.551 - val loss: 1.010, val task loss: 1.000\n",
      "model_10: train loss: 0.537, train task loss: 0.523 - val loss: 0.986, val task loss: 0.970\n",
      "model_11: train loss: 0.581, train task loss: 0.567 - val loss: 1.021, val task loss: 1.000\n",
      "model_12: train loss: 0.567, train task loss: 0.561 - val loss: 1.008, val task loss: 1.000\n",
      "model_13: train loss: 0.617, train task loss: 0.600 - val loss: 1.030, val task loss: 1.010\n",
      "\n",
      "Epoch: 94/100 - LR: 0.001000\n"
     ]
    },
    {
     "name": "stderr",
     "output_type": "stream",
     "text": [
      "100%|████████████████████████████████████████████████████████████████████████████████| 134/134 [00:12<00:00, 10.39it/s]\n"
     ]
    },
    {
     "name": "stdout",
     "output_type": "stream",
     "text": [
      "model_1: train loss: 0.340, train task loss: 0.220 - val loss: 2.692, val task loss: 1.781\n",
      "model_2: train loss: 0.340, train task loss: 0.220 - val loss: 2.707, val task loss: 1.760\n",
      "model_3: train loss: 0.340, train task loss: 0.218 - val loss: 2.620, val task loss: 1.757\n",
      "model_4: train loss: 0.340, train task loss: 0.220 - val loss: 2.592, val task loss: 1.690\n",
      "model_5: train loss: 0.341, train task loss: 0.220 - val loss: 2.649, val task loss: 1.748\n",
      "model_6: train loss: 0.341, train task loss: 0.220 - val loss: 2.798, val task loss: 1.844\n",
      "model_7: train loss: 0.341, train task loss: 0.221 - val loss: 2.820, val task loss: 1.830\n",
      "model_8: train loss: 0.564, train task loss: 0.556 - val loss: 1.026, val task loss: 1.015\n",
      "model_9: train loss: 0.554, train task loss: 0.546 - val loss: 1.001, val task loss: 0.991\n",
      "model_10: train loss: 0.529, train task loss: 0.516 - val loss: 0.981, val task loss: 0.964\n",
      "model_11: train loss: 0.576, train task loss: 0.562 - val loss: 1.017, val task loss: 0.995\n",
      "model_12: train loss: 0.560, train task loss: 0.554 - val loss: 0.998, val task loss: 0.990\n",
      "model_13: train loss: 0.610, train task loss: 0.594 - val loss: 1.022, val task loss: 1.002\n",
      "\n",
      "Epoch: 95/100 - LR: 0.001000\n"
     ]
    },
    {
     "name": "stderr",
     "output_type": "stream",
     "text": [
      "100%|████████████████████████████████████████████████████████████████████████████████| 134/134 [00:13<00:00, 10.25it/s]\n"
     ]
    },
    {
     "name": "stdout",
     "output_type": "stream",
     "text": [
      "model_1: train loss: 0.336, train task loss: 0.217 - val loss: 2.716, val task loss: 1.796\n",
      "model_2: train loss: 0.336, train task loss: 0.219 - val loss: 2.721, val task loss: 1.769\n",
      "model_3: train loss: 0.336, train task loss: 0.218 - val loss: 2.623, val task loss: 1.761\n",
      "model_4: train loss: 0.337, train task loss: 0.220 - val loss: 2.603, val task loss: 1.697\n",
      "model_5: train loss: 0.337, train task loss: 0.216 - val loss: 2.657, val task loss: 1.753\n",
      "model_6: train loss: 0.337, train task loss: 0.216 - val loss: 2.804, val task loss: 1.846\n",
      "model_7: train loss: 0.337, train task loss: 0.217 - val loss: 2.836, val task loss: 1.837\n",
      "model_8: train loss: 0.564, train task loss: 0.555 - val loss: 1.027, val task loss: 1.016\n",
      "model_9: train loss: 0.554, train task loss: 0.546 - val loss: 1.002, val task loss: 0.992\n",
      "model_10: train loss: 0.529, train task loss: 0.516 - val loss: 0.981, val task loss: 0.964\n",
      "model_11: train loss: 0.576, train task loss: 0.562 - val loss: 1.018, val task loss: 0.996\n",
      "model_12: train loss: 0.560, train task loss: 0.554 - val loss: 1.000, val task loss: 0.991\n",
      "model_13: train loss: 0.609, train task loss: 0.592 - val loss: 1.027, val task loss: 1.006\n",
      "\n",
      "Epoch: 96/100 - LR: 0.001000\n"
     ]
    },
    {
     "name": "stderr",
     "output_type": "stream",
     "text": [
      "100%|████████████████████████████████████████████████████████████████████████████████| 134/134 [00:14<00:00,  9.12it/s]\n"
     ]
    },
    {
     "name": "stdout",
     "output_type": "stream",
     "text": [
      "model_1: train loss: 0.335, train task loss: 0.210 - val loss: 2.716, val task loss: 1.801\n",
      "model_2: train loss: 0.334, train task loss: 0.210 - val loss: 2.745, val task loss: 1.790\n",
      "model_3: train loss: 0.335, train task loss: 0.213 - val loss: 2.648, val task loss: 1.782\n",
      "model_4: train loss: 0.334, train task loss: 0.211 - val loss: 2.622, val task loss: 1.717\n",
      "model_5: train loss: 0.334, train task loss: 0.211 - val loss: 2.680, val task loss: 1.773\n",
      "model_6: train loss: 0.334, train task loss: 0.211 - val loss: 2.819, val task loss: 1.864\n",
      "model_7: train loss: 0.336, train task loss: 0.210 - val loss: 2.835, val task loss: 1.848\n",
      "model_8: train loss: 0.558, train task loss: 0.550 - val loss: 1.028, val task loss: 1.017\n",
      "model_9: train loss: 0.549, train task loss: 0.541 - val loss: 1.005, val task loss: 0.994\n",
      "model_10: train loss: 0.526, train task loss: 0.513 - val loss: 0.982, val task loss: 0.965\n",
      "model_11: train loss: 0.571, train task loss: 0.557 - val loss: 1.019, val task loss: 0.997\n",
      "model_12: train loss: 0.556, train task loss: 0.550 - val loss: 1.001, val task loss: 0.992\n",
      "model_13: train loss: 0.604, train task loss: 0.588 - val loss: 1.026, val task loss: 1.005\n",
      "\n",
      "Epoch: 97/100 - LR: 0.001000\n"
     ]
    },
    {
     "name": "stderr",
     "output_type": "stream",
     "text": [
      "100%|████████████████████████████████████████████████████████████████████████████████| 134/134 [00:13<00:00,  9.83it/s]\n"
     ]
    },
    {
     "name": "stdout",
     "output_type": "stream",
     "text": [
      "model_1: train loss: 0.341, train task loss: 0.216 - val loss: 2.679, val task loss: 1.785\n",
      "model_2: train loss: 0.340, train task loss: 0.212 - val loss: 2.716, val task loss: 1.785\n",
      "model_3: train loss: 0.341, train task loss: 0.213 - val loss: 2.629, val task loss: 1.781\n",
      "model_4: train loss: 0.340, train task loss: 0.212 - val loss: 2.589, val task loss: 1.713\n",
      "model_5: train loss: 0.341, train task loss: 0.215 - val loss: 2.665, val task loss: 1.776\n",
      "model_6: train loss: 0.340, train task loss: 0.215 - val loss: 2.801, val task loss: 1.867\n",
      "model_7: train loss: 0.342, train task loss: 0.213 - val loss: 2.817, val task loss: 1.847\n",
      "model_8: train loss: 0.558, train task loss: 0.550 - val loss: 1.041, val task loss: 1.029\n",
      "model_9: train loss: 0.551, train task loss: 0.543 - val loss: 1.019, val task loss: 1.008\n",
      "model_10: train loss: 0.528, train task loss: 0.515 - val loss: 1.004, val task loss: 0.987\n",
      "model_11: train loss: 0.574, train task loss: 0.560 - val loss: 1.031, val task loss: 1.009\n",
      "model_12: train loss: 0.557, train task loss: 0.551 - val loss: 1.019, val task loss: 1.011\n",
      "model_13: train loss: 0.605, train task loss: 0.590 - val loss: 1.043, val task loss: 1.022\n",
      "\n",
      "Epoch: 98/100 - LR: 0.001000\n"
     ]
    },
    {
     "name": "stderr",
     "output_type": "stream",
     "text": [
      "100%|████████████████████████████████████████████████████████████████████████████████| 134/134 [00:13<00:00, 10.28it/s]\n"
     ]
    },
    {
     "name": "stdout",
     "output_type": "stream",
     "text": [
      "model_1: train loss: 0.339, train task loss: 0.220 - val loss: 2.747, val task loss: 1.812\n",
      "model_2: train loss: 0.337, train task loss: 0.220 - val loss: 2.779, val task loss: 1.800\n",
      "model_3: train loss: 0.337, train task loss: 0.218 - val loss: 2.675, val task loss: 1.791\n",
      "model_4: train loss: 0.337, train task loss: 0.219 - val loss: 2.660, val task loss: 1.730\n",
      "model_5: train loss: 0.337, train task loss: 0.219 - val loss: 2.733, val task loss: 1.798\n",
      "model_6: train loss: 0.336, train task loss: 0.219 - val loss: 2.864, val task loss: 1.881\n",
      "model_7: train loss: 0.338, train task loss: 0.221 - val loss: 2.870, val task loss: 1.860\n",
      "model_8: train loss: 0.556, train task loss: 0.548 - val loss: 1.030, val task loss: 1.019\n",
      "model_9: train loss: 0.548, train task loss: 0.540 - val loss: 1.005, val task loss: 0.996\n",
      "model_10: train loss: 0.525, train task loss: 0.512 - val loss: 0.986, val task loss: 0.970\n",
      "model_11: train loss: 0.570, train task loss: 0.556 - val loss: 1.019, val task loss: 0.998\n",
      "model_12: train loss: 0.554, train task loss: 0.548 - val loss: 1.003, val task loss: 0.995\n",
      "model_13: train loss: 0.600, train task loss: 0.584 - val loss: 1.024, val task loss: 1.005\n",
      "\n",
      "Epoch: 99/100 - LR: 0.001000\n"
     ]
    },
    {
     "name": "stderr",
     "output_type": "stream",
     "text": [
      "100%|████████████████████████████████████████████████████████████████████████████████| 134/134 [00:13<00:00, 10.18it/s]\n"
     ]
    },
    {
     "name": "stdout",
     "output_type": "stream",
     "text": [
      "model_1: train loss: 0.339, train task loss: 0.214 - val loss: 2.740, val task loss: 1.802\n",
      "model_2: train loss: 0.336, train task loss: 0.214 - val loss: 2.752, val task loss: 1.776\n",
      "model_3: train loss: 0.338, train task loss: 0.213 - val loss: 2.648, val task loss: 1.765\n",
      "model_4: train loss: 0.336, train task loss: 0.213 - val loss: 2.635, val task loss: 1.702\n",
      "model_5: train loss: 0.338, train task loss: 0.212 - val loss: 2.676, val task loss: 1.752\n",
      "model_6: train loss: 0.337, train task loss: 0.214 - val loss: 2.836, val task loss: 1.853\n",
      "model_7: train loss: 0.337, train task loss: 0.214 - val loss: 2.876, val task loss: 1.850\n",
      "model_8: train loss: 0.555, train task loss: 0.547 - val loss: 1.029, val task loss: 1.019\n",
      "model_9: train loss: 0.548, train task loss: 0.540 - val loss: 1.005, val task loss: 0.995\n",
      "model_10: train loss: 0.523, train task loss: 0.511 - val loss: 0.982, val task loss: 0.966\n",
      "model_11: train loss: 0.570, train task loss: 0.557 - val loss: 1.020, val task loss: 1.000\n",
      "model_12: train loss: 0.554, train task loss: 0.548 - val loss: 0.999, val task loss: 0.992\n",
      "model_13: train loss: 0.601, train task loss: 0.585 - val loss: 1.023, val task loss: 1.004\n",
      "\n",
      "Epoch: 100/100 - LR: 0.001000\n"
     ]
    },
    {
     "name": "stderr",
     "output_type": "stream",
     "text": [
      "100%|████████████████████████████████████████████████████████████████████████████████| 134/134 [00:12<00:00, 10.38it/s]\n"
     ]
    },
    {
     "name": "stdout",
     "output_type": "stream",
     "text": [
      "model_1: train loss: 0.354, train task loss: 0.217 - val loss: 2.733, val task loss: 1.811\n",
      "model_2: train loss: 0.353, train task loss: 0.216 - val loss: 2.753, val task loss: 1.800\n",
      "model_3: train loss: 0.352, train task loss: 0.216 - val loss: 2.651, val task loss: 1.788\n",
      "model_4: train loss: 0.353, train task loss: 0.216 - val loss: 2.633, val task loss: 1.729\n",
      "model_5: train loss: 0.353, train task loss: 0.217 - val loss: 2.674, val task loss: 1.777\n",
      "model_6: train loss: 0.352, train task loss: 0.214 - val loss: 2.828, val task loss: 1.875\n",
      "model_7: train loss: 0.355, train task loss: 0.213 - val loss: 2.864, val task loss: 1.867\n",
      "model_8: train loss: 0.559, train task loss: 0.551 - val loss: 1.038, val task loss: 1.027\n",
      "model_9: train loss: 0.552, train task loss: 0.544 - val loss: 1.015, val task loss: 1.005\n",
      "model_10: train loss: 0.527, train task loss: 0.515 - val loss: 0.996, val task loss: 0.980\n",
      "model_11: train loss: 0.574, train task loss: 0.561 - val loss: 1.027, val task loss: 1.006\n",
      "model_12: train loss: 0.559, train task loss: 0.552 - val loss: 1.014, val task loss: 1.005\n",
      "model_13: train loss: 0.605, train task loss: 0.590 - val loss: 1.036, val task loss: 1.015\n",
      "Finished training student cohort!\n",
      "Selecting the optimal disgreement penalty via cross-validation...\n",
      "Best rho: 0.99 with average task loss: 0.9832\n",
      "Done!\n",
      "Selecting greedy ensemble on the best cohort...\n",
      "Pruned 3 worst models, keeping 10 models\n",
      "Initial best models: [9, 8, 11] with losses: [tensor(0.9356, grad_fn=<NllLossBackward0>), tensor(0.9789, grad_fn=<NllLossBackward0>), tensor(0.9823, grad_fn=<NllLossBackward0>)]\n",
      "Added model 3 with loss improvement to 0.9568323493003845\n",
      "Done!\n"
     ]
    }
   ],
   "source": [
    "metafuse = Trainer(config, cohort_models, [train_loader, val_loader])\n",
    "metafuse.train()"
   ]
  },
  {
   "cell_type": "code",
   "execution_count": 63,
   "id": "603021ee-7d63-44e5-9ec6-08c0529d48ac",
   "metadata": {},
   "outputs": [
    {
     "name": "stdout",
     "output_type": "stream",
     "text": [
      "Method: (simple_average), Test_Accuracy: 0.5714285714285714\n",
      "Method: (weighted_average), Test_Accuracy: 0.5714285714285714\n",
      "Method: (majority_voting), Test_Accuracy: 0.6190476190476191\n",
      "Method: (weighted_voting), Test_Accuracy: 0.6666666666666666\n",
      "Method: (greedy_ensemble), Test_Accuracy: 0.5714285714285714\n",
      "Method: (best_single), Test_Accuracy: 0.5714285714285714\n",
      "Method: (cohort), Test_Accuracy: [0.47619047619047616, 0.5238095238095238, 0.42857142857142855, 0.47619047619047616, 0.42857142857142855, 0.47619047619047616, 0.38095238095238093, 0.6190476190476191, 0.6190476190476191, 0.5714285714285714, 0.6666666666666666, 0.5714285714285714, 0.47619047619047616]\n"
     ]
    }
   ],
   "source": [
    "res = metafuse.test(test_loader)"
   ]
  },
  {
   "cell_type": "code",
   "execution_count": 112,
   "id": "95787db6-d577-4a57-bb00-6a5e07f73e53",
   "metadata": {},
   "outputs": [
    {
     "data": {
      "text/plain": [
       "5"
      ]
     },
     "execution_count": 112,
     "metadata": {},
     "output_type": "execute_result"
    }
   ],
   "source": [
    "metafuse.model_num"
   ]
  },
  {
   "cell_type": "code",
   "execution_count": null,
   "id": "ff1c8b15-c1ac-40f8-8218-752714f200c3",
   "metadata": {},
   "outputs": [],
   "source": []
  }
 ],
 "metadata": {
  "kernelspec": {
   "display_name": "Python 3 (ipykernel)",
   "language": "python",
   "name": "python3"
  },
  "language_info": {
   "codemirror_mode": {
    "name": "ipython",
    "version": 3
   },
   "file_extension": ".py",
   "mimetype": "text/x-python",
   "name": "python",
   "nbconvert_exporter": "python",
   "pygments_lexer": "ipython3",
   "version": "3.12.4"
  }
 },
 "nbformat": 4,
 "nbformat_minor": 5
}
