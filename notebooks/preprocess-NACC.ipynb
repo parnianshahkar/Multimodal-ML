{
 "cells": [
  {
   "cell_type": "code",
   "execution_count": 1,
   "id": "d75aec3a-b8c8-4c8a-a76f-105ece7d3fe3",
   "metadata": {},
   "outputs": [],
   "source": [
    "%matplotlib inline\n",
    "%load_ext autoreload\n",
    "%autoreload 2\n",
    "\n",
    "import numpy as np\n",
    "import pandas as pd\n",
    "from datetime import timedelta\n",
    "import itertools\n",
    "from tqdm import tqdm\n",
    "import sys\n",
    "\n",
    "sys.path.append('../data/NACC/')\n",
    "from data_cleaning_util import *"
   ]
  },
  {
   "cell_type": "code",
   "execution_count": 2,
   "id": "772a1bee-02c4-4198-950b-5c467ac821c6",
   "metadata": {},
   "outputs": [],
   "source": [
    "uds_path = \"C:/Users/liang/Documents/GitHub/fusion/data/NACC/raw_data/investigator_nacc64.csv\"\n",
    "mriqc_path = \"C:/Users/liang/Documents/GitHub/fusion/data/NACC/raw_data/investigator_scan_mri_nacc66/investigator_scan_mriqc_nacc66.csv\"\n",
    "mrisbm_path=\"C:/Users/liang/Documents/GitHub/fusion/data/NACC/raw_data/investigator_scan_mri_nacc66/investigator_scan_mrisbm_nacc66.csv\""
   ]
  },
  {
   "cell_type": "code",
   "execution_count": 3,
   "id": "8c848fcb-3ec4-4818-b27c-77dc4d8529ea",
   "metadata": {},
   "outputs": [],
   "source": [
    "uds_raw = uds_data = pd.read_csv(uds_path, low_memory=False)\n",
    "mriqc_raw = mriqc_data = pd.read_csv(mriqc_path)\n",
    "mrisbm_raw = mrisbm_data = pd.read_csv(mrisbm_path)"
   ]
  },
  {
   "cell_type": "code",
   "execution_count": 4,
   "id": "9a5157aa-23d6-4a20-87fc-807681cb9100",
   "metadata": {},
   "outputs": [],
   "source": [
    "def find_matches(uds_data, mrisbm_data):\n",
    "    # Convert VISITMO, VISITDAY, and VISITYR to integers if they are not already\n",
    "    uds_data['VISITMO'] = uds_data['VISITMO'].astype(int)\n",
    "    uds_data['VISITDAY'] = uds_data['VISITDAY'].astype(int)\n",
    "    uds_data['VISITYR'] = uds_data['VISITYR'].astype(int)\n",
    "    \n",
    "    # Now convert VISITMO, VISITDAY, VISITYR to a single datetime column 'VISITDT'\n",
    "    uds_data['VISITDT'] = pd.to_datetime(uds_data[['VISITYR', 'VISITMO', 'VISITDAY']].rename(\n",
    "                                         columns={\"VISITYR\":'year', 'VISITMO':'month', 'VISITDAY':'day'}))\n",
    "    \n",
    "    # Convert SCANDT to datetime in mrisbm_data\n",
    "    mrisbm_data['SCANDT'] = pd.to_datetime(mrisbm_data['SCANDT'])\n",
    "\n",
    "    # Create an empty list to store the matches\n",
    "    matches = []\n",
    "    \n",
    "    # Loop through each scan in the mrisbm_data\n",
    "    for index, scan in mrisbm_data.iterrows():\n",
    "        subject_id = scan['NACCID']\n",
    "        scan_date = scan['SCANDT']\n",
    "    \n",
    "        # Filter uds_data for the same subject\n",
    "        subject_visits = uds_data[uds_data['NACCID'] == subject_id].copy()  # Use .copy() to avoid SettingWithCopyWarning\n",
    "        \n",
    "        # Calculate the time difference between each visit and the scan\n",
    "        subject_visits.loc[:, 'TIME_DIFF'] = (subject_visits['VISITDT'] - scan_date).abs()\n",
    "    \n",
    "        # Filter visits that are within 18 months (18 * 30 = 540 days)\n",
    "        eligible_visits = subject_visits[(subject_visits['VISITDT'] <= scan_date) & \n",
    "                                         (scan_date - subject_visits['VISITDT'] <= timedelta(days=540))]\n",
    "    \n",
    "        # If there are eligible visits, find the closest visit\n",
    "        if not eligible_visits.empty:\n",
    "            closest_visit = eligible_visits.loc[eligible_visits['TIME_DIFF'].idxmin()]\n",
    "            matches.append((closest_visit, scan))\n",
    "    \n",
    "    # Create new DataFrames for the filtered matched visits and scans\n",
    "    matched_visits = pd.DataFrame([match[0] for match in matches])\n",
    "    matched_scans = pd.DataFrame([match[1] for match in matches])\n",
    "    \n",
    "    # Ensure the rows are ordered based on subject ID and visit/scan dates\n",
    "    matched_visits = matched_visits.sort_values(by=['NACCID', 'VISITDT'])\n",
    "    matched_scans = matched_scans.sort_values(by=['NACCID', 'SCANDT'])\n",
    "    \n",
    "    # Reset index for clarity\n",
    "    matched_visits = matched_visits.reset_index(drop=True)\n",
    "    matched_scans = matched_scans.reset_index(drop=True)\n",
    "\n",
    "    return matched_visits, matched_scans"
   ]
  },
  {
   "cell_type": "code",
   "execution_count": 5,
   "id": "8f1cc5de-37e9-413a-99ea-c11ed69795fd",
   "metadata": {},
   "outputs": [],
   "source": [
    "# Find matched mri and uds data\n",
    "uds_matched_raw, mrisbm_matched_raw = find_matches(uds_data, mrisbm_data)"
   ]
  },
  {
   "cell_type": "code",
   "execution_count": 44,
   "id": "9a2a4b4e-1741-492d-b325-c67babd9212d",
   "metadata": {},
   "outputs": [],
   "source": [
    "# drop variables in uds data that has more than 10% missing data\n",
    "missing_proportion = uds_matched_raw.isna().mean()\n",
    "uds_matched = uds_matched_raw.loc[:, missing_proportion <= 0.1]\n",
    "\n",
    "# Preprocess the mri data: drop columns irrelavant to prediction such as image ID and descriptions\n",
    "columns_to_drop = ['NACCID', 'NACCADC', 'SCANDT', 'LONI_IMAGE_FLAIR', 'DESCRIPTION_FLAIR', 'LONI_IMAGE_T1', 'DESCRIPTION_T1', 'FREESURFER_VERSION']\n",
    "\n",
    "# Matched mri data still contains missing values, imputation will be done after train test splitting\n",
    "mrisbm_matched = mrisbm_matched_raw.drop(columns=columns_to_drop)"
   ]
  },
  {
   "cell_type": "code",
   "execution_count": 45,
   "id": "a4518694-03af-44fa-b55f-ace17530fa63",
   "metadata": {},
   "outputs": [
    {
     "data": {
      "text/plain": [
       "(1426, 895)"
      ]
     },
     "execution_count": 45,
     "metadata": {},
     "output_type": "execute_result"
    }
   ],
   "source": [
    "uds_matched.shape"
   ]
  },
  {
   "cell_type": "markdown",
   "id": "b95bcae3-4df6-46f5-8696-5994c9388fcf",
   "metadata": {},
   "source": [
    "## Preprocessing Version 1\n",
    "Two modalities: UDS and MRI\n",
    "\n",
    "Extract features based on Yueqi's preprocessing"
   ]
  },
  {
   "cell_type": "code",
   "execution_count": 46,
   "id": "fbe39c15-4779-4ceb-955b-976e5ee50d13",
   "metadata": {},
   "outputs": [],
   "source": [
    "# Preprocess uds data: select and encode relevant features\n",
    "cat_feats, ord_feats, num_feats, label_feat, cdr_feats = get_feature_types(uds_matched)\n",
    "all_uds_feats = cat_feats+ord_feats+num_feats+label_feat\n",
    "uds_matched = uds_matched[all_uds_feats]"
   ]
  },
  {
   "cell_type": "code",
   "execution_count": 47,
   "id": "aa62f7ff-4bdd-421a-81ec-a5a41be1c297",
   "metadata": {},
   "outputs": [
    {
     "data": {
      "text/plain": [
       "(1426, 135)"
      ]
     },
     "execution_count": 47,
     "metadata": {},
     "output_type": "execute_result"
    }
   ],
   "source": [
    "uds_matched.shape"
   ]
  },
  {
   "cell_type": "code",
   "execution_count": null,
   "id": "5085b98b-c8d7-4a6d-8766-5b3399ffc809",
   "metadata": {},
   "outputs": [],
   "source": [
    "# Encoded uds data still contains missing values, imputation will be done after train test splitting\n",
    "ordinal_preprocessor = encode_feature_types(uds_matched)\n",
    "encoded_uds = pd.DataFrame(ordinal_preprocessor.transform(uds_matched),columns=ordinal_preprocessor.get_feature_names_out(),index=uds_matched.index.values)"
   ]
  },
  {
   "cell_type": "code",
   "execution_count": 48,
   "id": "e135c8b7-91ac-4c30-b4ec-a72e72666860",
   "metadata": {
    "scrolled": true
   },
   "outputs": [],
   "source": [
    "# Save data version 1 (2 totoal modalities)\n",
    "data_dir = \"C:/Users/liang/Documents/GitHub/fusion/data/NACC/preprocessed_v1/\"\n",
    "\n",
    "encoded_uds.to_csv(data_dir+'uds_matched.csv', index=False)\n",
    "mrisbm_matched.to_csv(data_dir+'mrisbm_matched.csv', index=False)"
   ]
  },
  {
   "cell_type": "markdown",
   "id": "73fb53bc-d453-4d3c-8bd6-96b6e2bd294e",
   "metadata": {},
   "source": [
    "## Preprocessing Version 2\n",
    "Three modalities: UDS derived history modality, UDS derived survey modality and MRI.\n",
    "\n",
    "Extract features based on Yueqi's preprocessing."
   ]
  },
  {
   "cell_type": "code",
   "execution_count": null,
   "id": "d4d56051-7901-475f-acd9-658609394d9c",
   "metadata": {},
   "outputs": [],
   "source": [
    "# Preprocess uds data: select and encode relevant features\n",
    "cat_feats, ord_feats, num_feats, label_feat, cdr_feats = get_feature_types(uds_matched)\n",
    "all_uds_feats = cat_feats+ord_feats+num_feats+label_feat\n",
    "uds_matched = uds_matched[all_uds_feats]"
   ]
  },
  {
   "cell_type": "code",
   "execution_count": null,
   "id": "6d0d8510-30bd-43fb-9843-248279175539",
   "metadata": {},
   "outputs": [],
   "source": [
    "# Encoded uds data still contains missing values, imputation will be done after train test splitting\n",
    "ordinal_preprocessor = encode_feature_types(uds_matched)\n",
    "encoded_uds = pd.DataFrame(ordinal_preprocessor.transform(uds_matched),columns=ordinal_preprocessor.get_feature_names_out(),index=uds_matched.index.values)"
   ]
  },
  {
   "cell_type": "code",
   "execution_count": 89,
   "id": "47c9728a-dd15-4f10-959c-4089cb06308b",
   "metadata": {},
   "outputs": [],
   "source": [
    "mod_history, mod_survey, label_feat = get_modality_features(encoded_uds)"
   ]
  },
  {
   "cell_type": "code",
   "execution_count": 90,
   "id": "b911b84c-8646-4d20-8abe-48d28ef94ecd",
   "metadata": {},
   "outputs": [],
   "source": [
    "uds_history = encoded_uds[mod_history]\n",
    "uds_survey = encoded_uds[mod_survey]\n",
    "label = encoded_uds[label_feat]"
   ]
  },
  {
   "cell_type": "code",
   "execution_count": 79,
   "id": "7f41ed9c-edae-4269-994d-cbf32b98d959",
   "metadata": {},
   "outputs": [],
   "source": [
    "# Save data version 2 (3 total modalities)\n",
    "data_dir = \"C:/Users/liang/Documents/GitHub/fusion/data/NACC/preprocessed_v2/\"\n",
    "\n",
    "uds_history.to_csv(data_dir+'uds_history.csv', index=False)\n",
    "uds_survey.to_csv(data_dir+'uds_survey.csv', index=False)\n",
    "mrisbm_matched.to_csv(data_dir+'mrisbm.csv', index=False)\n",
    "label.to_csv(data_dir+'label.csv', index=False)"
   ]
  },
  {
   "cell_type": "markdown",
   "id": "96bb3b97-fa87-460b-bfc4-c2bc9ee334fa",
   "metadata": {},
   "source": [
    "## Preprocessing Version 3\n",
    "Four modalities: UDS derived history modality, UDS derived survey modality and UDS derived clinical/testing modalities and MRI."
   ]
  },
  {
   "cell_type": "code",
   "execution_count": 64,
   "id": "46758f23-6365-44d3-8fb6-f901d3bdbaf1",
   "metadata": {},
   "outputs": [],
   "source": [
    "# Preprocess uds data: select and encode relevant features\n",
    "cat_feats, ord_feats, num_feats, label_feat, cdr_feats = get_feature_types(uds_matched)\n",
    "all_uds_feats = cat_feats+ord_feats+num_feats+label_feat\n",
    "uds_matched = uds_matched[all_uds_feats]"
   ]
  },
  {
   "cell_type": "code",
   "execution_count": 65,
   "id": "3c6662fc-b5c5-40da-ac9a-aa28597d73a4",
   "metadata": {},
   "outputs": [],
   "source": [
    "# Encoded uds data still contains missing values, imputation will be done after train test splitting\n",
    "ordinal_preprocessor = encode_feature_types(uds_matched)\n",
    "encoded_uds = pd.DataFrame(ordinal_preprocessor.transform(uds_matched),columns=ordinal_preprocessor.get_feature_names_out(),index=uds_matched.index.values)"
   ]
  },
  {
   "cell_type": "code",
   "execution_count": 67,
   "id": "103883fb-1208-46e0-9c7f-66e78d8380ba",
   "metadata": {},
   "outputs": [],
   "source": [
    "mod_history, mod_survey, mod_testing, label_feat = get_modality_features(encoded_uds, fine_grained=True)"
   ]
  },
  {
   "cell_type": "code",
   "execution_count": 72,
   "id": "a3297036-52bb-44b1-ab4b-adb2d5ef718b",
   "metadata": {},
   "outputs": [],
   "source": [
    "uds_history = encoded_uds[mod_history]\n",
    "uds_survey = encoded_uds[mod_survey]\n",
    "uds_testing = encoded_uds[mod_testing]\n",
    "label = encoded_uds[label_feat]"
   ]
  },
  {
   "cell_type": "code",
   "execution_count": 74,
   "id": "1d87a0bf-e0e5-479a-98bd-1c042ddf05d1",
   "metadata": {},
   "outputs": [],
   "source": [
    "# Save data version 3 (4 total modalities)\n",
    "data_dir = \"C:/Users/liang/Documents/GitHub/fusion/data/NACC/preprocessed_v3/\"\n",
    "\n",
    "uds_history.to_csv(data_dir+'uds_history.csv', index=False)\n",
    "uds_survey.to_csv(data_dir+'uds_survey.csv', index=False)\n",
    "uds_testing.to_csv(data_dir+'uds_testing.csv', index=False)\n",
    "mrisbm_matched.to_csv(data_dir+'mrisbm.csv', index=False)\n",
    "label.to_csv(data_dir+'label.csv', index=False)"
   ]
  },
  {
   "cell_type": "code",
   "execution_count": null,
   "id": "7b8d58a6-e973-43d3-8316-29cc3ba5e9be",
   "metadata": {},
   "outputs": [],
   "source": []
  }
 ],
 "metadata": {
  "kernelspec": {
   "display_name": "Python 3 (ipykernel)",
   "language": "python",
   "name": "python3"
  },
  "language_info": {
   "codemirror_mode": {
    "name": "ipython",
    "version": 3
   },
   "file_extension": ".py",
   "mimetype": "text/x-python",
   "name": "python",
   "nbconvert_exporter": "python",
   "pygments_lexer": "ipython3",
   "version": "3.12.4"
  }
 },
 "nbformat": 4,
 "nbformat_minor": 5
}
